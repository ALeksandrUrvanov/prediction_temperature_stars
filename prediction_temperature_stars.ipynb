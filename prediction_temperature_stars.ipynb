{
 "cells": [
  {
   "cell_type": "markdown",
   "id": "546f4417",
   "metadata": {},
   "source": [
    "# Прогнозирование температуры звезды"
   ]
  },
  {
   "cell_type": "markdown",
   "id": "eeffd0f1",
   "metadata": {},
   "source": [
    "## Описание проекта"
   ]
  },
  {
   "cell_type": "markdown",
   "id": "c5cd6764",
   "metadata": {},
   "source": [
    "Нам пришла задача от обсерватории «Небо на ладони»: придумать, как с помощью нейросети определять температуру на поверхности обнаруженных звёзд. Обычно для расчёта температуры учёные пользуются следующими методами:\n",
    "\n",
    "- Закон смещения Вина.\n",
    "- Закон Стефана-Больцмана.\n",
    "- Спектральный анализ.\n",
    "\n",
    "Каждый из них имеет плюсы и минусы. Обсерватория хочет внедрить технологии машинного обучения для предсказания температуры звёзд, надеясь, что этот метод будет наиболее точным и удобным. В базе обсерватории есть характеристики уже изученных 240 звёзд."
   ]
  },
  {
   "cell_type": "markdown",
   "id": "caee89a4",
   "metadata": {},
   "source": [
    "## Цель проекта"
   ]
  },
  {
   "cell_type": "markdown",
   "id": "7ff071ef",
   "metadata": {},
   "source": [
    "В этом проекте нам необходимо разработать нейронную сеть, которая поможет предсказывать абсолютную температуру на поверхности звезды.\n",
    "\n"
   ]
  },
  {
   "cell_type": "markdown",
   "id": "corresponding-armstrong",
   "metadata": {
    "ExecuteTime": {
     "end_time": "2022-05-05T04:58:05.692448Z",
     "start_time": "2022-05-05T04:58:05.688565Z"
    }
   },
   "source": [
    "## Загрузка данных"
   ]
  },
  {
   "cell_type": "code",
   "execution_count": 1,
   "id": "a16cea0d",
   "metadata": {},
   "outputs": [],
   "source": [
    "import pandas as pd\n",
    "import matplotlib.pyplot as plt\n",
    "import seaborn as sns \n",
    "import numpy as np \n",
    "import random\n",
    "\n",
    "from math import ceil, sqrt\n",
    "from sklearn.model_selection import train_test_split\n",
    "from sklearn.preprocessing import OneHotEncoder, StandardScaler\n",
    "from sklearn.metrics import mean_squared_error\n",
    "\n",
    "import torch\n",
    "import torch.nn as nn\n",
    "\n",
    "random.seed(42)\n",
    "np.random.seed(42)\n",
    "torch.manual_seed(42)\n",
    "pd.options.mode.chained_assignment = None\n",
    "torch.use_deterministic_algorithms(True)\n",
    "\n",
    "RANDOM_STATE = 12345"
   ]
  },
  {
   "cell_type": "code",
   "execution_count": 2,
   "id": "e9bc16d4",
   "metadata": {},
   "outputs": [
    {
     "data": {
      "text/html": [
       "<div>\n",
       "<style scoped>\n",
       "    .dataframe tbody tr th:only-of-type {\n",
       "        vertical-align: middle;\n",
       "    }\n",
       "\n",
       "    .dataframe tbody tr th {\n",
       "        vertical-align: top;\n",
       "    }\n",
       "\n",
       "    .dataframe thead th {\n",
       "        text-align: right;\n",
       "    }\n",
       "</style>\n",
       "<table border=\"1\" class=\"dataframe\">\n",
       "  <thead>\n",
       "    <tr style=\"text-align: right;\">\n",
       "      <th></th>\n",
       "      <th>Temperature (K)</th>\n",
       "      <th>Luminosity(L/Lo)</th>\n",
       "      <th>Radius(R/Ro)</th>\n",
       "      <th>Absolute magnitude(Mv)</th>\n",
       "      <th>Star type</th>\n",
       "      <th>Star color</th>\n",
       "    </tr>\n",
       "  </thead>\n",
       "  <tbody>\n",
       "    <tr>\n",
       "      <th>0</th>\n",
       "      <td>3068</td>\n",
       "      <td>0.002400</td>\n",
       "      <td>0.1700</td>\n",
       "      <td>16.12</td>\n",
       "      <td>0</td>\n",
       "      <td>Red</td>\n",
       "    </tr>\n",
       "    <tr>\n",
       "      <th>1</th>\n",
       "      <td>3042</td>\n",
       "      <td>0.000500</td>\n",
       "      <td>0.1542</td>\n",
       "      <td>16.60</td>\n",
       "      <td>0</td>\n",
       "      <td>Red</td>\n",
       "    </tr>\n",
       "    <tr>\n",
       "      <th>2</th>\n",
       "      <td>2600</td>\n",
       "      <td>0.000300</td>\n",
       "      <td>0.1020</td>\n",
       "      <td>18.70</td>\n",
       "      <td>0</td>\n",
       "      <td>Red</td>\n",
       "    </tr>\n",
       "    <tr>\n",
       "      <th>3</th>\n",
       "      <td>2800</td>\n",
       "      <td>0.000200</td>\n",
       "      <td>0.1600</td>\n",
       "      <td>16.65</td>\n",
       "      <td>0</td>\n",
       "      <td>Red</td>\n",
       "    </tr>\n",
       "    <tr>\n",
       "      <th>4</th>\n",
       "      <td>1939</td>\n",
       "      <td>0.000138</td>\n",
       "      <td>0.1030</td>\n",
       "      <td>20.06</td>\n",
       "      <td>0</td>\n",
       "      <td>Red</td>\n",
       "    </tr>\n",
       "    <tr>\n",
       "      <th>...</th>\n",
       "      <td>...</td>\n",
       "      <td>...</td>\n",
       "      <td>...</td>\n",
       "      <td>...</td>\n",
       "      <td>...</td>\n",
       "      <td>...</td>\n",
       "    </tr>\n",
       "    <tr>\n",
       "      <th>235</th>\n",
       "      <td>38940</td>\n",
       "      <td>374830.000000</td>\n",
       "      <td>1356.0000</td>\n",
       "      <td>-9.93</td>\n",
       "      <td>5</td>\n",
       "      <td>Blue</td>\n",
       "    </tr>\n",
       "    <tr>\n",
       "      <th>236</th>\n",
       "      <td>30839</td>\n",
       "      <td>834042.000000</td>\n",
       "      <td>1194.0000</td>\n",
       "      <td>-10.63</td>\n",
       "      <td>5</td>\n",
       "      <td>Blue</td>\n",
       "    </tr>\n",
       "    <tr>\n",
       "      <th>237</th>\n",
       "      <td>8829</td>\n",
       "      <td>537493.000000</td>\n",
       "      <td>1423.0000</td>\n",
       "      <td>-10.73</td>\n",
       "      <td>5</td>\n",
       "      <td>White</td>\n",
       "    </tr>\n",
       "    <tr>\n",
       "      <th>238</th>\n",
       "      <td>9235</td>\n",
       "      <td>404940.000000</td>\n",
       "      <td>1112.0000</td>\n",
       "      <td>-11.23</td>\n",
       "      <td>5</td>\n",
       "      <td>White</td>\n",
       "    </tr>\n",
       "    <tr>\n",
       "      <th>239</th>\n",
       "      <td>37882</td>\n",
       "      <td>294903.000000</td>\n",
       "      <td>1783.0000</td>\n",
       "      <td>-7.80</td>\n",
       "      <td>5</td>\n",
       "      <td>Blue</td>\n",
       "    </tr>\n",
       "  </tbody>\n",
       "</table>\n",
       "<p>240 rows × 6 columns</p>\n",
       "</div>"
      ],
      "text/plain": [
       "     Temperature (K)  Luminosity(L/Lo)  Radius(R/Ro)  Absolute magnitude(Mv)  \\\n",
       "0               3068          0.002400        0.1700                   16.12   \n",
       "1               3042          0.000500        0.1542                   16.60   \n",
       "2               2600          0.000300        0.1020                   18.70   \n",
       "3               2800          0.000200        0.1600                   16.65   \n",
       "4               1939          0.000138        0.1030                   20.06   \n",
       "..               ...               ...           ...                     ...   \n",
       "235            38940     374830.000000     1356.0000                   -9.93   \n",
       "236            30839     834042.000000     1194.0000                  -10.63   \n",
       "237             8829     537493.000000     1423.0000                  -10.73   \n",
       "238             9235     404940.000000     1112.0000                  -11.23   \n",
       "239            37882     294903.000000     1783.0000                   -7.80   \n",
       "\n",
       "     Star type Star color  \n",
       "0            0        Red  \n",
       "1            0        Red  \n",
       "2            0        Red  \n",
       "3            0        Red  \n",
       "4            0        Red  \n",
       "..         ...        ...  \n",
       "235          5       Blue  \n",
       "236          5       Blue  \n",
       "237          5      White  \n",
       "238          5      White  \n",
       "239          5       Blue  \n",
       "\n",
       "[240 rows x 6 columns]"
      ]
     },
     "metadata": {},
     "output_type": "display_data"
    }
   ],
   "source": [
    "# выведем датафрейм\n",
    "df = pd.read_csv('/datasets/6_class.csv', index_col=0)\n",
    "display(df)"
   ]
  },
  {
   "cell_type": "code",
   "execution_count": 3,
   "id": "7c45de45",
   "metadata": {},
   "outputs": [
    {
     "name": "stdout",
     "output_type": "stream",
     "text": [
      "<class 'pandas.core.frame.DataFrame'>\n",
      "Int64Index: 240 entries, 0 to 239\n",
      "Data columns (total 6 columns):\n",
      " #   Column                  Non-Null Count  Dtype  \n",
      "---  ------                  --------------  -----  \n",
      " 0   Temperature (K)         240 non-null    int64  \n",
      " 1   Luminosity(L/Lo)        240 non-null    float64\n",
      " 2   Radius(R/Ro)            240 non-null    float64\n",
      " 3   Absolute magnitude(Mv)  240 non-null    float64\n",
      " 4   Star type               240 non-null    int64  \n",
      " 5   Star color              240 non-null    object \n",
      "dtypes: float64(3), int64(2), object(1)\n",
      "memory usage: 13.1+ KB\n"
     ]
    }
   ],
   "source": [
    "# смотрим информацию о количестве и типе данных признаков\n",
    "df.info()"
   ]
  },
  {
   "cell_type": "markdown",
   "id": "9503c23d",
   "metadata": {},
   "source": [
    "## Вывод"
   ]
  },
  {
   "cell_type": "markdown",
   "id": "11461daa",
   "metadata": {},
   "source": [
    "Датафрейм 240 на 6, названия столбцов не соответствуют PEP8."
   ]
  },
  {
   "cell_type": "markdown",
   "id": "simple-subdivision",
   "metadata": {},
   "source": [
    "## Предобработка и анализ данных"
   ]
  },
  {
   "cell_type": "code",
   "execution_count": 4,
   "id": "4f4592de",
   "metadata": {},
   "outputs": [
    {
     "data": {
      "text/html": [
       "<div>\n",
       "<style scoped>\n",
       "    .dataframe tbody tr th:only-of-type {\n",
       "        vertical-align: middle;\n",
       "    }\n",
       "\n",
       "    .dataframe tbody tr th {\n",
       "        vertical-align: top;\n",
       "    }\n",
       "\n",
       "    .dataframe thead th {\n",
       "        text-align: right;\n",
       "    }\n",
       "</style>\n",
       "<table border=\"1\" class=\"dataframe\">\n",
       "  <thead>\n",
       "    <tr style=\"text-align: right;\">\n",
       "      <th></th>\n",
       "      <th>temperature</th>\n",
       "      <th>luminosity</th>\n",
       "      <th>radius</th>\n",
       "      <th>magnitude</th>\n",
       "      <th>star_type</th>\n",
       "      <th>star_color</th>\n",
       "    </tr>\n",
       "  </thead>\n",
       "  <tbody>\n",
       "    <tr>\n",
       "      <th>0</th>\n",
       "      <td>3068</td>\n",
       "      <td>0.0024</td>\n",
       "      <td>0.1700</td>\n",
       "      <td>16.12</td>\n",
       "      <td>0</td>\n",
       "      <td>Red</td>\n",
       "    </tr>\n",
       "    <tr>\n",
       "      <th>1</th>\n",
       "      <td>3042</td>\n",
       "      <td>0.0005</td>\n",
       "      <td>0.1542</td>\n",
       "      <td>16.60</td>\n",
       "      <td>0</td>\n",
       "      <td>Red</td>\n",
       "    </tr>\n",
       "    <tr>\n",
       "      <th>2</th>\n",
       "      <td>2600</td>\n",
       "      <td>0.0003</td>\n",
       "      <td>0.1020</td>\n",
       "      <td>18.70</td>\n",
       "      <td>0</td>\n",
       "      <td>Red</td>\n",
       "    </tr>\n",
       "  </tbody>\n",
       "</table>\n",
       "</div>"
      ],
      "text/plain": [
       "   temperature  luminosity  radius  magnitude  star_type star_color\n",
       "0         3068      0.0024  0.1700      16.12          0        Red\n",
       "1         3042      0.0005  0.1542      16.60          0        Red\n",
       "2         2600      0.0003  0.1020      18.70          0        Red"
      ]
     },
     "execution_count": 4,
     "metadata": {},
     "output_type": "execute_result"
    }
   ],
   "source": [
    "# переименуем столбцы \n",
    "df.rename(columns={\n",
    "    'Temperature (K)':'temperature',\n",
    "    'Luminosity(L/Lo)':'luminosity',\n",
    "    'Radius(R/Ro)':'radius',\n",
    "    'Absolute magnitude(Mv)':'magnitude',\n",
    "    'Star type':'star_type',\n",
    "    'Star color':'star_color'\n",
    "}, inplace=True)\n",
    "df.head(3)"
   ]
  },
  {
   "cell_type": "markdown",
   "id": "8832859c",
   "metadata": {},
   "source": [
    "### Признак 'star_type'"
   ]
  },
  {
   "cell_type": "code",
   "execution_count": 5,
   "id": "1a923b94",
   "metadata": {},
   "outputs": [
    {
     "data": {
      "text/plain": [
       "array([0, 1, 2, 3, 4, 5])"
      ]
     },
     "execution_count": 5,
     "metadata": {},
     "output_type": "execute_result"
    }
   ],
   "source": [
    "# выведем уникальные значения столбца 'star_type'\n",
    "df['star_type'].unique()"
   ]
  },
  {
   "cell_type": "code",
   "execution_count": 6,
   "id": "8191f2ea",
   "metadata": {},
   "outputs": [],
   "source": [
    "# переведем признак к категориальному типу\n",
    "df.star_type = df.star_type.astype('category')\n"
   ]
  },
  {
   "cell_type": "markdown",
   "id": "23ea2344",
   "metadata": {},
   "source": [
    "### Признак 'star_color'"
   ]
  },
  {
   "cell_type": "code",
   "execution_count": 7,
   "id": "7f8acb63",
   "metadata": {},
   "outputs": [
    {
     "data": {
      "text/plain": [
       "array(['Red', 'Blue White', 'White', 'Yellowish White', 'Blue white',\n",
       "       'Pale yellow orange', 'Blue', 'Blue-white', 'Whitish',\n",
       "       'yellow-white', 'Orange', 'White-Yellow', 'white', 'Blue ',\n",
       "       'yellowish', 'Yellowish', 'Orange-Red', 'Blue white ',\n",
       "       'Blue-White'], dtype=object)"
      ]
     },
     "execution_count": 7,
     "metadata": {},
     "output_type": "execute_result"
    }
   ],
   "source": [
    "# выведем уникальные значения столбца 'star_color'\n",
    "df['star_color'].unique()"
   ]
  },
  {
   "cell_type": "code",
   "execution_count": 8,
   "id": "1ae44744",
   "metadata": {},
   "outputs": [],
   "source": [
    "# приведем столбец к нижнему регистру и уберем лишние дефисы\n",
    "df.star_color = df.star_color.str.strip()\n",
    "df.star_color = df.star_color.str.lower()\n",
    "df.star_color = df.star_color.str.replace('-', ' ')\n"
   ]
  },
  {
   "cell_type": "code",
   "execution_count": 9,
   "id": "22df10de",
   "metadata": {},
   "outputs": [
    {
     "data": {
      "text/plain": [
       "red                   112\n",
       "blue                   56\n",
       "blue white             41\n",
       "white                  10\n",
       "yellow white            8\n",
       "yellowish               3\n",
       "yellowish white         3\n",
       "orange                  2\n",
       "whitish                 2\n",
       "pale yellow orange      1\n",
       "orange red              1\n",
       "white yellow            1\n",
       "Name: star_color, dtype: int64"
      ]
     },
     "execution_count": 9,
     "metadata": {},
     "output_type": "execute_result"
    }
   ],
   "source": [
    "# выведем количество значений по цвету свечения\n",
    "df['star_color'].value_counts()"
   ]
  },
  {
   "cell_type": "code",
   "execution_count": 10,
   "id": "bd308265",
   "metadata": {},
   "outputs": [],
   "source": [
    "# уберем звезды с значениями цвета < 3 \n",
    "df = df[~df['star_color'].isin(\n",
    "    df.star_color.value_counts()[df.star_color.value_counts() < 3].index)]\n",
    "df.reset_index(drop=True, inplace=True)"
   ]
  },
  {
   "cell_type": "code",
   "execution_count": 11,
   "id": "3b834b23",
   "metadata": {},
   "outputs": [],
   "source": [
    "# поработаем с неявными дубликатами\n",
    "df.star_color = df.star_color.replace('blue white', 'blue_white')\n",
    "df.star_color = df.star_color.replace(['yellow white', 'white-yellow', 'yellowish', \n",
    "                                       'yellowish white'], 'yellow_white')\n"
   ]
  },
  {
   "cell_type": "code",
   "execution_count": 12,
   "id": "44147118",
   "metadata": {},
   "outputs": [
    {
     "data": {
      "text/plain": [
       "red             112\n",
       "blue             56\n",
       "blue_white       41\n",
       "yellow_white     14\n",
       "white            10\n",
       "Name: star_color, dtype: int64"
      ]
     },
     "execution_count": 12,
     "metadata": {},
     "output_type": "execute_result"
    }
   ],
   "source": [
    "# выводим результат \n",
    "df['star_color'].value_counts()"
   ]
  },
  {
   "cell_type": "code",
   "execution_count": 13,
   "id": "7cc05d98",
   "metadata": {},
   "outputs": [],
   "source": [
    "# переведем признак к категориальному типу\n",
    "df.star_color = df.star_color.astype('category')"
   ]
  },
  {
   "cell_type": "code",
   "execution_count": 14,
   "id": "10d09f68",
   "metadata": {},
   "outputs": [
    {
     "name": "stdout",
     "output_type": "stream",
     "text": [
      "Количество дупликатов в датафрейме:\n"
     ]
    },
    {
     "data": {
      "text/plain": [
       "0"
      ]
     },
     "execution_count": 14,
     "metadata": {},
     "output_type": "execute_result"
    }
   ],
   "source": [
    "print('Количество дупликатов в датафрейме:')\n",
    "df.duplicated().sum()"
   ]
  },
  {
   "cell_type": "code",
   "execution_count": 15,
   "id": "681fbee5",
   "metadata": {},
   "outputs": [
    {
     "name": "stdout",
     "output_type": "stream",
     "text": [
      "Количество пропусков в датафрейме:\n"
     ]
    },
    {
     "data": {
      "text/plain": [
       "temperature    0\n",
       "luminosity     0\n",
       "radius         0\n",
       "magnitude      0\n",
       "star_type      0\n",
       "star_color     0\n",
       "dtype: int64"
      ]
     },
     "metadata": {},
     "output_type": "display_data"
    }
   ],
   "source": [
    "print('Количество пропусков в датафрейме:')\n",
    "display(df.isna().sum())"
   ]
  },
  {
   "cell_type": "code",
   "execution_count": 16,
   "id": "188c3b7c",
   "metadata": {},
   "outputs": [
    {
     "data": {
      "text/html": [
       "<div>\n",
       "<style scoped>\n",
       "    .dataframe tbody tr th:only-of-type {\n",
       "        vertical-align: middle;\n",
       "    }\n",
       "\n",
       "    .dataframe tbody tr th {\n",
       "        vertical-align: top;\n",
       "    }\n",
       "\n",
       "    .dataframe thead th {\n",
       "        text-align: right;\n",
       "    }\n",
       "</style>\n",
       "<table border=\"1\" class=\"dataframe\">\n",
       "  <thead>\n",
       "    <tr style=\"text-align: right;\">\n",
       "      <th></th>\n",
       "      <th>count</th>\n",
       "      <th>mean</th>\n",
       "      <th>std</th>\n",
       "      <th>min</th>\n",
       "      <th>25%</th>\n",
       "      <th>50%</th>\n",
       "      <th>75%</th>\n",
       "      <th>max</th>\n",
       "    </tr>\n",
       "  </thead>\n",
       "  <tbody>\n",
       "    <tr>\n",
       "      <th>temperature</th>\n",
       "      <td>233.0</td>\n",
       "      <td>10618.716738</td>\n",
       "      <td>9663.094823</td>\n",
       "      <td>1939.000000</td>\n",
       "      <td>3341.00000</td>\n",
       "      <td>5752.000</td>\n",
       "      <td>15680.00</td>\n",
       "      <td>40000.00</td>\n",
       "    </tr>\n",
       "    <tr>\n",
       "      <th>luminosity</th>\n",
       "      <td>233.0</td>\n",
       "      <td>105343.877519</td>\n",
       "      <td>175764.238630</td>\n",
       "      <td>0.000085</td>\n",
       "      <td>0.00087</td>\n",
       "      <td>0.039</td>\n",
       "      <td>198000.00</td>\n",
       "      <td>849420.00</td>\n",
       "    </tr>\n",
       "    <tr>\n",
       "      <th>radius</th>\n",
       "      <td>233.0</td>\n",
       "      <td>231.541959</td>\n",
       "      <td>510.587992</td>\n",
       "      <td>0.008400</td>\n",
       "      <td>0.10300</td>\n",
       "      <td>0.675</td>\n",
       "      <td>42.00</td>\n",
       "      <td>1948.50</td>\n",
       "    </tr>\n",
       "    <tr>\n",
       "      <th>magnitude</th>\n",
       "      <td>233.0</td>\n",
       "      <td>4.436030</td>\n",
       "      <td>10.578813</td>\n",
       "      <td>-11.920000</td>\n",
       "      <td>-6.23000</td>\n",
       "      <td>10.180</td>\n",
       "      <td>13.67</td>\n",
       "      <td>20.06</td>\n",
       "    </tr>\n",
       "  </tbody>\n",
       "</table>\n",
       "</div>"
      ],
      "text/plain": [
       "             count           mean            std          min         25%  \\\n",
       "temperature  233.0   10618.716738    9663.094823  1939.000000  3341.00000   \n",
       "luminosity   233.0  105343.877519  175764.238630     0.000085     0.00087   \n",
       "radius       233.0     231.541959     510.587992     0.008400     0.10300   \n",
       "magnitude    233.0       4.436030      10.578813   -11.920000    -6.23000   \n",
       "\n",
       "                  50%        75%        max  \n",
       "temperature  5752.000   15680.00   40000.00  \n",
       "luminosity      0.039  198000.00  849420.00  \n",
       "radius          0.675      42.00    1948.50  \n",
       "magnitude      10.180      13.67      20.06  "
      ]
     },
     "execution_count": 16,
     "metadata": {},
     "output_type": "execute_result"
    }
   ],
   "source": [
    "# выводим основные данные по числовым признакам\n",
    "df.describe().T"
   ]
  },
  {
   "cell_type": "code",
   "execution_count": 17,
   "id": "8cfbc6d5",
   "metadata": {},
   "outputs": [
    {
     "data": {
      "image/png": "[encoded data removed]",
      "text/plain": [
       "<Figure size 774.5x720 with 20 Axes>"
      ]
     },
     "metadata": {
      "needs_background": "light"
     },
     "output_type": "display_data"
    }
   ],
   "source": [
    "sns.pairplot(df, hue='star_type');"
   ]
  },
  {
   "cell_type": "code",
   "execution_count": 18,
   "id": "845d2301",
   "metadata": {},
   "outputs": [],
   "source": [
    "num = ['temperature', 'luminosity', 'radius', 'magnitude']"
   ]
  },
  {
   "cell_type": "markdown",
   "id": "7e3a0f5a",
   "metadata": {},
   "source": [
    "Хорошо видны кластеры типа звезды в зависимости абсолютной звёздой величины, с увеличением температуры начинает уменьшаться абсолютная звёздная величина."
   ]
  },
  {
   "cell_type": "code",
   "execution_count": 19,
   "id": "14c04548",
   "metadata": {},
   "outputs": [
    {
     "data": {
      "image/png": "[encoded data removed]",
      "text/plain": [
       "<Figure size 1224x936 with 1 Axes>"
      ]
     },
     "metadata": {
      "needs_background": "light"
     },
     "output_type": "display_data"
    },
    {
     "data": {
      "image/png": "[encoded data removed]",
      "text/plain": [
       "<Figure size 1224x936 with 1 Axes>"
      ]
     },
     "metadata": {
      "needs_background": "light"
     },
     "output_type": "display_data"
    },
    {
     "data": {
      "image/png": "[encoded data removed]",
      "text/plain": [
       "<Figure size 1224x936 with 1 Axes>"
      ]
     },
     "metadata": {
      "needs_background": "light"
     },
     "output_type": "display_data"
    },
    {
     "data": {
      "image/png": "[encoded data removed]",
      "text/plain": [
       "<Figure size 1224x936 with 1 Axes>"
      ]
     },
     "metadata": {
      "needs_background": "light"
     },
     "output_type": "display_data"
    }
   ],
   "source": [
    "fig = plt.figure()\n",
    "for i in range(len(num)):\n",
    "    plt.subplot(len(num), 1, i+1)\n",
    "    df[num[i]].plot(kind = 'hist', bins = 15, grid = True, legend = num[i], figsize = (17,13))\n",
    "    plt.show()\n",
    "    "
   ]
  },
  {
   "cell_type": "markdown",
   "id": "770a0156",
   "metadata": {},
   "source": [
    "Есть значения похожие на выбросы, так как данных мало, думаю не стоит в это углубляться."
   ]
  },
  {
   "cell_type": "code",
   "execution_count": 20,
   "id": "fd4c520b",
   "metadata": {},
   "outputs": [
    {
     "data": {
      "text/plain": [
       "temperature    1.000000\n",
       "luminosity     0.420789\n",
       "radius         0.077383\n",
       "magnitude     -0.430818\n",
       "Name: temperature, dtype: float64"
      ]
     },
     "execution_count": 20,
     "metadata": {},
     "output_type": "execute_result"
    }
   ],
   "source": [
    "# выведем матрицу корреляций коэффициента Пирсона по целевому признаку\n",
    "df.corr()['temperature']"
   ]
  },
  {
   "cell_type": "code",
   "execution_count": 21,
   "id": "5d502a7e",
   "metadata": {},
   "outputs": [
    {
     "data": {
      "text/html": [
       "<div>\n",
       "<style scoped>\n",
       "    .dataframe tbody tr th:only-of-type {\n",
       "        vertical-align: middle;\n",
       "    }\n",
       "\n",
       "    .dataframe tbody tr th {\n",
       "        vertical-align: top;\n",
       "    }\n",
       "\n",
       "    .dataframe thead th {\n",
       "        text-align: right;\n",
       "    }\n",
       "</style>\n",
       "<table border=\"1\" class=\"dataframe\">\n",
       "  <thead>\n",
       "    <tr style=\"text-align: right;\">\n",
       "      <th></th>\n",
       "      <th>temperature</th>\n",
       "      <th>luminosity</th>\n",
       "      <th>radius</th>\n",
       "      <th>magnitude</th>\n",
       "      <th>star_type</th>\n",
       "      <th>star_color</th>\n",
       "    </tr>\n",
       "  </thead>\n",
       "  <tbody>\n",
       "    <tr>\n",
       "      <th>0</th>\n",
       "      <td>3068</td>\n",
       "      <td>0.002400</td>\n",
       "      <td>0.1700</td>\n",
       "      <td>16.12</td>\n",
       "      <td>0</td>\n",
       "      <td>red</td>\n",
       "    </tr>\n",
       "    <tr>\n",
       "      <th>1</th>\n",
       "      <td>3042</td>\n",
       "      <td>0.000500</td>\n",
       "      <td>0.1542</td>\n",
       "      <td>16.60</td>\n",
       "      <td>0</td>\n",
       "      <td>red</td>\n",
       "    </tr>\n",
       "    <tr>\n",
       "      <th>2</th>\n",
       "      <td>2600</td>\n",
       "      <td>0.000300</td>\n",
       "      <td>0.1020</td>\n",
       "      <td>18.70</td>\n",
       "      <td>0</td>\n",
       "      <td>red</td>\n",
       "    </tr>\n",
       "    <tr>\n",
       "      <th>3</th>\n",
       "      <td>2800</td>\n",
       "      <td>0.000200</td>\n",
       "      <td>0.1600</td>\n",
       "      <td>16.65</td>\n",
       "      <td>0</td>\n",
       "      <td>red</td>\n",
       "    </tr>\n",
       "    <tr>\n",
       "      <th>4</th>\n",
       "      <td>1939</td>\n",
       "      <td>0.000138</td>\n",
       "      <td>0.1030</td>\n",
       "      <td>20.06</td>\n",
       "      <td>0</td>\n",
       "      <td>red</td>\n",
       "    </tr>\n",
       "  </tbody>\n",
       "</table>\n",
       "</div>"
      ],
      "text/plain": [
       "   temperature  luminosity  radius  magnitude star_type star_color\n",
       "0         3068    0.002400  0.1700      16.12         0        red\n",
       "1         3042    0.000500  0.1542      16.60         0        red\n",
       "2         2600    0.000300  0.1020      18.70         0        red\n",
       "3         2800    0.000200  0.1600      16.65         0        red\n",
       "4         1939    0.000138  0.1030      20.06         0        red"
      ]
     },
     "metadata": {},
     "output_type": "display_data"
    }
   ],
   "source": [
    "# получили следующий датафрейм\n",
    "display(df.head(5))"
   ]
  },
  {
   "cell_type": "code",
   "execution_count": 22,
   "id": "6e3a17cd",
   "metadata": {},
   "outputs": [
    {
     "name": "stdout",
     "output_type": "stream",
     "text": [
      "<class 'pandas.core.frame.DataFrame'>\n",
      "RangeIndex: 233 entries, 0 to 232\n",
      "Data columns (total 6 columns):\n",
      " #   Column       Non-Null Count  Dtype   \n",
      "---  ------       --------------  -----   \n",
      " 0   temperature  233 non-null    int64   \n",
      " 1   luminosity   233 non-null    float64 \n",
      " 2   radius       233 non-null    float64 \n",
      " 3   magnitude    233 non-null    float64 \n",
      " 4   star_type    233 non-null    category\n",
      " 5   star_color   233 non-null    category\n",
      "dtypes: category(2), float64(3), int64(1)\n",
      "memory usage: 8.3 KB\n"
     ]
    }
   ],
   "source": [
    "df.info()"
   ]
  },
  {
   "cell_type": "code",
   "execution_count": 23,
   "id": "12283d04",
   "metadata": {},
   "outputs": [],
   "source": [
    "# выделяем целевой признак и признаки:\n",
    "target = df[\"temperature\"]\n",
    "features = df.drop(\"temperature\", axis=1)\n",
    "num_cols = ['luminosity', 'radius', 'magnitude']\n",
    "cat_cols = ['star_type', 'star_color']"
   ]
  },
  {
   "cell_type": "code",
   "execution_count": 24,
   "id": "3625ce79",
   "metadata": {},
   "outputs": [],
   "source": [
    "# выделяем 70% данных для обучающей выборки, остальные данные для тестовой\n",
    "features_train, features_test, target_train, target_test = train_test_split(\n",
    "    features, target, test_size = 0.3, shuffle=True, random_state = RANDOM_STATE)"
   ]
  },
  {
   "cell_type": "code",
   "execution_count": 25,
   "id": "a6a0988e",
   "metadata": {},
   "outputs": [],
   "source": [
    "for i in [features_train, features_test, target_train, target_test]:\n",
    "    i.reset_index(drop=True, inplace=True)"
   ]
  },
  {
   "cell_type": "code",
   "execution_count": 26,
   "id": "b573f5a4",
   "metadata": {},
   "outputs": [],
   "source": [
    "# кодируем категориальные признаки:\n",
    "ohe = OneHotEncoder(sparse=False, handle_unknown = 'error')\n",
    "\n",
    "features_train_cat = pd.DataFrame(ohe.fit_transform(features_train.loc[:,cat_cols]))\n",
    "features_train_cat.columns = ohe.get_feature_names(cat_cols)\n",
    "features_train.drop(cat_cols, axis = 1, inplace = True)\n",
    "features_train = pd.concat([features_train, features_train_cat], axis = 1)\n",
    "\n",
    "features_test_cat = pd.DataFrame(ohe.transform(features_test.loc[:,cat_cols]))\n",
    "features_test_cat.columns = ohe.get_feature_names(cat_cols)\n",
    "features_test.drop(cat_cols, axis = 1, inplace = True)\n",
    "features_test = pd.concat([features_test, features_test_cat], axis = 1)\n"
   ]
  },
  {
   "cell_type": "code",
   "execution_count": 27,
   "id": "e5187663",
   "metadata": {},
   "outputs": [],
   "source": [
    "# масштабируем числовые признаки\n",
    "scaler = StandardScaler()\n",
    "\n",
    "features_train[num_cols] = scaler.fit_transform(features_train[num_cols])\n",
    "features_test[num_cols] = scaler.transform(features_test[num_cols])"
   ]
  },
  {
   "cell_type": "code",
   "execution_count": 28,
   "id": "1cc99732",
   "metadata": {},
   "outputs": [
    {
     "data": {
      "text/html": [
       "<div>\n",
       "<style scoped>\n",
       "    .dataframe tbody tr th:only-of-type {\n",
       "        vertical-align: middle;\n",
       "    }\n",
       "\n",
       "    .dataframe tbody tr th {\n",
       "        vertical-align: top;\n",
       "    }\n",
       "\n",
       "    .dataframe thead th {\n",
       "        text-align: right;\n",
       "    }\n",
       "</style>\n",
       "<table border=\"1\" class=\"dataframe\">\n",
       "  <thead>\n",
       "    <tr style=\"text-align: right;\">\n",
       "      <th></th>\n",
       "      <th>luminosity</th>\n",
       "      <th>radius</th>\n",
       "      <th>magnitude</th>\n",
       "      <th>star_type_0</th>\n",
       "      <th>star_type_1</th>\n",
       "      <th>star_type_2</th>\n",
       "      <th>star_type_3</th>\n",
       "      <th>star_type_4</th>\n",
       "      <th>star_type_5</th>\n",
       "      <th>star_color_blue</th>\n",
       "      <th>star_color_blue_white</th>\n",
       "      <th>star_color_red</th>\n",
       "      <th>star_color_white</th>\n",
       "      <th>star_color_yellow_white</th>\n",
       "    </tr>\n",
       "  </thead>\n",
       "  <tbody>\n",
       "    <tr>\n",
       "      <th>0</th>\n",
       "      <td>-0.601107</td>\n",
       "      <td>-0.442252</td>\n",
       "      <td>0.644977</td>\n",
       "      <td>0.0</td>\n",
       "      <td>0.0</td>\n",
       "      <td>1.0</td>\n",
       "      <td>0.0</td>\n",
       "      <td>0.0</td>\n",
       "      <td>0.0</td>\n",
       "      <td>1.0</td>\n",
       "      <td>0.0</td>\n",
       "      <td>0.0</td>\n",
       "      <td>0.0</td>\n",
       "      <td>0.0</td>\n",
       "    </tr>\n",
       "    <tr>\n",
       "      <th>1</th>\n",
       "      <td>1.962052</td>\n",
       "      <td>-0.275451</td>\n",
       "      <td>-0.976110</td>\n",
       "      <td>0.0</td>\n",
       "      <td>0.0</td>\n",
       "      <td>0.0</td>\n",
       "      <td>0.0</td>\n",
       "      <td>1.0</td>\n",
       "      <td>0.0</td>\n",
       "      <td>1.0</td>\n",
       "      <td>0.0</td>\n",
       "      <td>0.0</td>\n",
       "      <td>0.0</td>\n",
       "      <td>0.0</td>\n",
       "    </tr>\n",
       "    <tr>\n",
       "      <th>2</th>\n",
       "      <td>-0.601107</td>\n",
       "      <td>-0.441789</td>\n",
       "      <td>0.627111</td>\n",
       "      <td>0.0</td>\n",
       "      <td>1.0</td>\n",
       "      <td>0.0</td>\n",
       "      <td>0.0</td>\n",
       "      <td>0.0</td>\n",
       "      <td>0.0</td>\n",
       "      <td>0.0</td>\n",
       "      <td>0.0</td>\n",
       "      <td>1.0</td>\n",
       "      <td>0.0</td>\n",
       "      <td>0.0</td>\n",
       "    </tr>\n",
       "    <tr>\n",
       "      <th>3</th>\n",
       "      <td>-0.601107</td>\n",
       "      <td>-0.442018</td>\n",
       "      <td>1.203519</td>\n",
       "      <td>1.0</td>\n",
       "      <td>0.0</td>\n",
       "      <td>0.0</td>\n",
       "      <td>0.0</td>\n",
       "      <td>0.0</td>\n",
       "      <td>0.0</td>\n",
       "      <td>0.0</td>\n",
       "      <td>0.0</td>\n",
       "      <td>1.0</td>\n",
       "      <td>0.0</td>\n",
       "      <td>0.0</td>\n",
       "    </tr>\n",
       "    <tr>\n",
       "      <th>4</th>\n",
       "      <td>-0.601107</td>\n",
       "      <td>-0.441687</td>\n",
       "      <td>0.576335</td>\n",
       "      <td>0.0</td>\n",
       "      <td>1.0</td>\n",
       "      <td>0.0</td>\n",
       "      <td>0.0</td>\n",
       "      <td>0.0</td>\n",
       "      <td>0.0</td>\n",
       "      <td>0.0</td>\n",
       "      <td>0.0</td>\n",
       "      <td>1.0</td>\n",
       "      <td>0.0</td>\n",
       "      <td>0.0</td>\n",
       "    </tr>\n",
       "  </tbody>\n",
       "</table>\n",
       "</div>"
      ],
      "text/plain": [
       "   luminosity    radius  magnitude  star_type_0  star_type_1  star_type_2  \\\n",
       "0   -0.601107 -0.442252   0.644977          0.0          0.0          1.0   \n",
       "1    1.962052 -0.275451  -0.976110          0.0          0.0          0.0   \n",
       "2   -0.601107 -0.441789   0.627111          0.0          1.0          0.0   \n",
       "3   -0.601107 -0.442018   1.203519          1.0          0.0          0.0   \n",
       "4   -0.601107 -0.441687   0.576335          0.0          1.0          0.0   \n",
       "\n",
       "   star_type_3  star_type_4  star_type_5  star_color_blue  \\\n",
       "0          0.0          0.0          0.0              1.0   \n",
       "1          0.0          1.0          0.0              1.0   \n",
       "2          0.0          0.0          0.0              0.0   \n",
       "3          0.0          0.0          0.0              0.0   \n",
       "4          0.0          0.0          0.0              0.0   \n",
       "\n",
       "   star_color_blue_white  star_color_red  star_color_white  \\\n",
       "0                    0.0             0.0               0.0   \n",
       "1                    0.0             0.0               0.0   \n",
       "2                    0.0             1.0               0.0   \n",
       "3                    0.0             1.0               0.0   \n",
       "4                    0.0             1.0               0.0   \n",
       "\n",
       "   star_color_yellow_white  \n",
       "0                      0.0  \n",
       "1                      0.0  \n",
       "2                      0.0  \n",
       "3                      0.0  \n",
       "4                      0.0  "
      ]
     },
     "execution_count": 28,
     "metadata": {},
     "output_type": "execute_result"
    }
   ],
   "source": [
    "# получили датасет готовый для построения нейросети\n",
    "features_train.head(5)"
   ]
  },
  {
   "cell_type": "markdown",
   "id": "cc6e05ae",
   "metadata": {},
   "source": [
    "## Вывод"
   ]
  },
  {
   "cell_type": "markdown",
   "id": "fdd51eb7",
   "metadata": {},
   "source": [
    "В процессе предобработки изменили названия столбцов согласно PEP8, проверили данные на явные дубликаты и пропуски, избавились от неявных дубликатов. Привели типы столбцов к правильным. При помощи корреляции Пирсона выявили корреляцию числовых признаков с целевым признаком. Данные разбили на обучающую и тестовую выборку. Категорийные признаки кодировали с помощью OneHotEncoder. Масштабировали числовые признаки с помощью  StandardScaler."
   ]
  },
  {
   "cell_type": "markdown",
   "id": "funded-electric",
   "metadata": {},
   "source": [
    "## Построение базовой нейронной сети"
   ]
  },
  {
   "cell_type": "code",
   "execution_count": 29,
   "id": "ab12718d",
   "metadata": {},
   "outputs": [],
   "source": [
    "# переведём наши данные к тензорам\n",
    "features_train = torch.FloatTensor(features_train.values)\n",
    "features_test  = torch.FloatTensor(features_test.values)\n",
    "target_train  = torch.FloatTensor(target_train.values)\n",
    "target_test = torch.FloatTensor(target_test.values)\n"
   ]
  },
  {
   "cell_type": "code",
   "execution_count": 30,
   "id": "4bc5b10c",
   "metadata": {},
   "outputs": [],
   "source": [
    "# настраиваем количество нейронов на слоях сети\n",
    "n_in_neurons = 14\n",
    "n_hidden_neurons_1 = 52\n",
    "n_hidden_neurons_2 = 20\n",
    "n_out_neurons = 1\n"
   ]
  },
  {
   "cell_type": "code",
   "execution_count": 31,
   "id": "ef54577f",
   "metadata": {},
   "outputs": [],
   "source": [
    "# строим нейроную сеть\n",
    "net = nn.Sequential(\n",
    "    nn.Linear(n_in_neurons, n_hidden_neurons_1),\n",
    "    nn.ReLU(),\n",
    "    nn.Linear(n_hidden_neurons_1, n_hidden_neurons_2),\n",
    "    nn.ReLU(),\n",
    "    nn.Linear(n_hidden_neurons_2, n_out_neurons),\n",
    "    nn.ReLU()\n",
    ")\n",
    "\n"
   ]
  },
  {
   "cell_type": "code",
   "execution_count": 32,
   "id": "cdd7dd70",
   "metadata": {},
   "outputs": [],
   "source": [
    "# применим два оптимизатора для выбора лучшего\n",
    "optimizer = torch.optim.Adam(net.parameters(), lr=1e-3)\n",
    "optimizer2 = torch.optim.Adamax(net.parameters(), lr=1e-2)\n",
    "\n",
    "loss = nn.MSELoss()\n"
   ]
  },
  {
   "cell_type": "code",
   "execution_count": 33,
   "id": "31c80bf6",
   "metadata": {},
   "outputs": [],
   "source": [
    "# функция для кросс-валидации нейронной сети\n",
    "def cross_vall_score(model, features_train, target_train, optim, num_epochs=1000, batch_size=4, k=4, loss=nn.MSELoss()):\n",
    "    # количество батчей \n",
    "    num_batches = ceil(len(features_train)/batch_size) \n",
    "    # размер валидационной выборки \n",
    "    num_val_samples = len(features_train)//k \n",
    "    all_scores = []\n",
    "    \n",
    "    for i in range(k): \n",
    "        # разбиваем на валидационную и тренировочную выборку \n",
    "        print('processing fold #', i+1, end='  ')\n",
    "        \n",
    "        # обнуляем веса нейронной сети\n",
    "        for layer in model.children():\n",
    "            if hasattr(layer, 'reset_parameters'):\n",
    "                layer.reset_parameters()\n",
    "            \n",
    "        # валидационная выборка\n",
    "        val_data = features_train[i*num_val_samples: (i+1)*num_val_samples]\n",
    "        val_targets = target_train[i*num_val_samples: (i+1)*num_val_samples]\n",
    "        \n",
    "        # тренировочная выборка\n",
    "        partial_train_data = np.concatenate([features_train[:i*num_val_samples], features_train[(i+1)*num_val_samples:]], axis = 0)\n",
    "        partial_train_targets = np.concatenate([target_train[:i*num_val_samples], target_train[(i+1)*num_val_samples:]], axis = 0)\n",
    "        \n",
    "        # приводим наши данные к формату FloatTensor\n",
    "        val_data = torch.FloatTensor(val_data)\n",
    "        val_targets = torch.FloatTensor(val_targets)\n",
    "        partial_train_data = torch.FloatTensor(partial_train_data)\n",
    "        partial_train_targets = torch.FloatTensor(partial_train_targets)\n",
    "        \n",
    "        for epoch in range(num_epochs):\n",
    "            # создаем случайную перестановку индексов для каждой эпохи\n",
    "            order = np.random.permutation(len(partial_train_data))\n",
    "            \n",
    "            for batch_idx in range(num_batches):\n",
    "                # стартовый индекс батча\n",
    "                start_index = batch_idx * batch_size\n",
    "                \n",
    "                # обнуляем градиаенты\n",
    "                optim.zero_grad() \n",
    "                \n",
    "                # извлекаем батч\n",
    "                batch_indexes = order[start_index:start_index+batch_size]\n",
    "                X_batch = partial_train_data[batch_indexes]\n",
    "                y_batch = partial_train_targets[batch_indexes]\n",
    "                \n",
    "                # получаем предсказание\n",
    "                preds = net.forward(X_batch).flatten() \n",
    "                \n",
    "                # высчитываем ошибку\n",
    "                loss_value = loss(preds, y_batch.flatten()) \n",
    "                loss_value.backward()\n",
    "                optim.step()\n",
    "                \n",
    "            if epoch == num_epochs-1:\n",
    "                model.eval()\n",
    "                val_preds = model.forward(val_data)\n",
    "                val_preds = val_preds.view(-1)\n",
    "                RMSE_loss = torch.sqrt(loss(val_targets, val_preds))\n",
    "                all_scores.append(RMSE_loss)\n",
    "                print('RMSE метрика =', float(RMSE_loss))\n",
    "    print('Средняя RMSE метрика =', int(sum(all_scores)/len(all_scores)))\n",
    "    print(' ')\n",
    "    print(' ')\n",
    "\n"
   ]
  },
  {
   "cell_type": "code",
   "execution_count": 34,
   "id": "e8791ee9",
   "metadata": {},
   "outputs": [
    {
     "name": "stdout",
     "output_type": "stream",
     "text": [
      "Adam (\n",
      "Parameter Group 0\n",
      "    amsgrad: False\n",
      "    betas: (0.9, 0.999)\n",
      "    eps: 1e-08\n",
      "    lr: 0.001\n",
      "    weight_decay: 0\n",
      ")\n",
      "processing fold # 1  RMSE метрика = 5488.97412109375\n",
      "processing fold # 2  RMSE метрика = 4063.972412109375\n",
      "processing fold # 3  RMSE метрика = 4577.11083984375\n",
      "processing fold # 4  RMSE метрика = 3204.79736328125\n",
      "Средняя RMSE метрика = 4333\n",
      " \n",
      " \n",
      "Adamax (\n",
      "Parameter Group 0\n",
      "    betas: (0.9, 0.999)\n",
      "    eps: 1e-08\n",
      "    lr: 0.01\n",
      "    weight_decay: 0\n",
      ")\n",
      "processing fold # 1  RMSE метрика = 5587.77197265625\n",
      "processing fold # 2  RMSE метрика = 3980.3544921875\n",
      "processing fold # 3  RMSE метрика = 4547.025390625\n",
      "processing fold # 4  RMSE метрика = 3572.829345703125\n",
      "Средняя RMSE метрика = 4421\n",
      " \n",
      " \n"
     ]
    }
   ],
   "source": [
    "# выведем среднее RMSE нейросети на двух оптимизаторах\n",
    "x = [optimizer, optimizer2]\n",
    "\n",
    "for i in x:\n",
    "    print(i)\n",
    "    cross_vall_score(net, features_train, target_train, i)\n",
    "    "
   ]
  },
  {
   "cell_type": "markdown",
   "id": "351457ec",
   "metadata": {},
   "source": [
    "Оптимизация Adam показала себя лучше, со средней RMSE метрика = 4333"
   ]
  },
  {
   "cell_type": "code",
   "execution_count": 35,
   "id": "0388749f",
   "metadata": {},
   "outputs": [],
   "source": [
    "# проверим нейросеть на тестовой выборке\n",
    "def neiron(model, features_train, target_train, optim, num_epochs=1000, batch_size=4, loss=nn.MSELoss()):\n",
    "    num_batches = ceil(len(features_train)/batch_size)\n",
    "    for epoch in range(num_epochs):\n",
    "        order = np.random.permutation(len(features_train))\n",
    "        for batch_idx in range(num_batches):\n",
    "            start_index = batch_idx * batch_size \n",
    "            optim.zero_grad() \n",
    "        \n",
    "            # индексы объектов текущего обатча\n",
    "            batch_indexes = order[start_index:start_index+batch_size] \n",
    "            X_batch = features_train[batch_indexes]\n",
    "            y_batch = target_train[batch_indexes]\n",
    "        \n",
    "            preds = model.forward(X_batch).flatten() \n",
    "            loss_value = loss(preds, y_batch.flatten())\n",
    "            loss_value.backward()\n",
    "            optim.step()\n",
    "    return  model\n",
    "\n"
   ]
  },
  {
   "cell_type": "code",
   "execution_count": 36,
   "id": "12071a19",
   "metadata": {},
   "outputs": [],
   "source": [
    "# обучаем нейросеть с заданными параметрами \n",
    "net = neiron(net, features_train, target_train, optimizer2)\n"
   ]
  },
  {
   "cell_type": "code",
   "execution_count": 37,
   "id": "7e046f67",
   "metadata": {},
   "outputs": [
    {
     "name": "stdout",
     "output_type": "stream",
     "text": [
      "RMSE нейронной сети на тестовой выборке =  4495\n"
     ]
    }
   ],
   "source": [
    "net.eval()\n",
    "test_preds = net.forward(features_test)\n",
    "test_preds = test_preds.view(-1)\n",
    "print('RMSE нейронной сети на тестовой выборке = ', int(torch.sqrt(loss(target_test, test_preds))))\n",
    "\n"
   ]
  },
  {
   "cell_type": "code",
   "execution_count": 38,
   "id": "83f5536d",
   "metadata": {},
   "outputs": [],
   "source": [
    "# визуализируем предсказания нейронной сети на тестовой выборке\n",
    "def vizualization(target, preds, width = 0.3):\n",
    "    y1 = target.numpy().reshape([-1])\n",
    "    y2 = preds.reshape([-1]).detach().numpy()\n",
    "    x = np.arange(len(y1))\n",
    "    \n",
    "    fig,ax = plt.subplots()\n",
    "    rects1 = ax.bar(x - width/2, y1, width, label = 'Факт')\n",
    "    rects2 = ax.bar(x + width/2, y2, width, label = 'Прогноз')\n",
    "    ax.set_title('Факт-Прогноз')\n",
    "    ax.set_xticks(x)\n",
    "    ax.set_xlabel('Номер звезды в таблице данных')\n",
    "    ax.set_ylabel('Температура звезды')\n",
    "    fig.set_figwidth(17)\n",
    "    fig.set_figheight(5)\n",
    "    ax.legend();\n",
    "    "
   ]
  },
  {
   "cell_type": "code",
   "execution_count": 39,
   "id": "c6b4939c",
   "metadata": {
    "scrolled": true
   },
   "outputs": [
    {
     "data": {
      "image/png": "[encoded data removed]",
      "text/plain": [
       "<Figure size 1224x360 with 1 Axes>"
      ]
     },
     "metadata": {
      "needs_background": "light"
     },
     "output_type": "display_data"
    }
   ],
   "source": [
    "vizualization(target_test, test_preds)"
   ]
  },
  {
   "cell_type": "markdown",
   "id": "76c6e657",
   "metadata": {},
   "source": [
    "## Вывод"
   ]
  },
  {
   "cell_type": "markdown",
   "id": "841b85dd",
   "metadata": {},
   "source": [
    "Обучили нейронную сеть, использовали два оптимизатора для сравнения. RMSE нейронной сети на тестовой выборке показал значения 4495, достигли поставленной цели. Следующим шагом улучшим метрики RMSE. \n",
    "________\n",
    "По результатам анализа графика \"Факт-Прогноз\" можно сказать что звёзды с большими абсолютными значениями температур больше 5000 градусов по Кельвину дают большую относительную ошибку, чем звёзды с малыми температурами. Для значений более 5000 градусов по Кельвину алгоритм начинает брать то выше правильного ответа, то ниже, скорее всего это связано с небольшим количеством подобных звёзд в нашей выборке, нейросеть просто не смогла правильно научиться на таком малом количестве данных."
   ]
  },
  {
   "cell_type": "markdown",
   "id": "growing-supply",
   "metadata": {},
   "source": [
    "## Улучшение нейронной сети"
   ]
  },
  {
   "cell_type": "markdown",
   "id": "721b5e46",
   "metadata": {},
   "source": [
    "Для улучшения нейронной сети применим  BatchNorm и подберем несколько вариантов Dropout. "
   ]
  },
  {
   "cell_type": "code",
   "execution_count": 40,
   "id": "acceptable-forwarding",
   "metadata": {},
   "outputs": [],
   "source": [
    "# BatchNorm и Dropout(p=0.2)\n",
    "class Model_1(nn.Module):\n",
    "    def __init__(self, n_in_neurons, n_hidden_neurons_1, n_hidden_neurons_2, n_out_neurons):\n",
    "        super(Model_1, self).__init__()\n",
    "        \n",
    "        self.fc1 = nn.Linear(n_in_neurons, n_hidden_neurons_1)\n",
    "        self.bn1 = nn.BatchNorm1d(n_hidden_neurons_1)\n",
    "        self.fc2 = nn.Linear(n_hidden_neurons_1, n_hidden_neurons_2)\n",
    "        self.dp2 = nn.Dropout(p=0.2)\n",
    "        self.fc3 = nn.Linear(n_hidden_neurons_2, n_out_neurons)\n",
    "            \n",
    "    def forward(self, x):\n",
    "        x = self.fc1(x)\n",
    "        x = self.bn1(x)\n",
    "        x = torch.relu(x)\n",
    "        x = self.fc2(x)\n",
    "        x = torch.relu(x)\n",
    "        x = self.dp2(x)\n",
    "        x = self.fc3(x)\n",
    "        \n",
    "        return x \n",
    "    "
   ]
  },
  {
   "cell_type": "code",
   "execution_count": 41,
   "id": "b2ed34ff",
   "metadata": {},
   "outputs": [],
   "source": [
    "net = Model_1(n_in_neurons, n_hidden_neurons_1, n_hidden_neurons_2, n_out_neurons)\n",
    "loss = nn.MSELoss()\n",
    "\n",
    "optimizer2 = torch.optim.Adamax(net.parameters(), lr=1e-2)\n"
   ]
  },
  {
   "cell_type": "code",
   "execution_count": 42,
   "id": "5da9e75f",
   "metadata": {},
   "outputs": [
    {
     "name": "stdout",
     "output_type": "stream",
     "text": [
      "RMSE нейронной сети на тестовой выборке =  5214\n"
     ]
    }
   ],
   "source": [
    "# обучаем модель с заданными параметрами BatchNorm и Dropout\n",
    "net = neiron(net, features_train, target_train, optimizer2)\n",
    "\n",
    "net.eval()\n",
    "test_preds = net.forward(features_test)\n",
    "test_preds = test_preds.view(-1)\n",
    "print('RMSE нейронной сети на тестовой выборке = ', int(torch.sqrt(loss(target_test, test_preds))))\n",
    "\n"
   ]
  },
  {
   "cell_type": "markdown",
   "id": "8d3c2085",
   "metadata": {},
   "source": [
    "________"
   ]
  },
  {
   "cell_type": "code",
   "execution_count": 43,
   "id": "25ab9692",
   "metadata": {},
   "outputs": [],
   "source": [
    "# BatchNorm и Dropout(p=0.1)\n",
    "class Model_2(nn.Module):\n",
    "    def __init__(self, n_in_neurons, n_hidden_neurons_1, n_hidden_neurons_2, n_out_neurons):\n",
    "        super(Model_2, self).__init__()\n",
    "        \n",
    "        self.fc1 = nn.Linear(n_in_neurons, n_hidden_neurons_1)\n",
    "        self.bn1 = nn.BatchNorm1d(n_hidden_neurons_1)\n",
    "        self.fc2 = nn.Linear(n_hidden_neurons_1, n_hidden_neurons_2)\n",
    "        self.dp2 = nn.Dropout(p=0.1)\n",
    "        self.fc3 = nn.Linear(n_hidden_neurons_2, n_out_neurons)\n",
    "            \n",
    "    def forward(self, x):\n",
    "        x = self.fc1(x)\n",
    "        x = self.bn1(x)\n",
    "        x = torch.relu(x)\n",
    "        x = self.fc2(x)\n",
    "        x = torch.relu(x)\n",
    "        x = self.dp2(x)\n",
    "        x = self.fc3(x)\n",
    "        \n",
    "        return x \n",
    "    "
   ]
  },
  {
   "cell_type": "code",
   "execution_count": 44,
   "id": "bcf9665a",
   "metadata": {},
   "outputs": [],
   "source": [
    "net = Model_2(n_in_neurons, n_hidden_neurons_1, n_hidden_neurons_2, n_out_neurons)\n",
    "loss = nn.MSELoss()\n",
    "\n",
    "optimizer2 = torch.optim.Adamax(net.parameters(), lr=1e-2)\n"
   ]
  },
  {
   "cell_type": "code",
   "execution_count": 45,
   "id": "968274ed",
   "metadata": {},
   "outputs": [
    {
     "name": "stdout",
     "output_type": "stream",
     "text": [
      "RMSE нейронной сети на тестовой выборке =  4972\n"
     ]
    }
   ],
   "source": [
    "# обучаем модель с заданными параметрами BatchNorm и Dropout\n",
    "net = neiron(net, features_train, target_train, optimizer2)\n",
    "\n",
    "net.eval()\n",
    "test_preds = net.forward(features_test)\n",
    "test_preds = test_preds.view(-1)\n",
    "print('RMSE нейронной сети на тестовой выборке = ', int(torch.sqrt(loss(target_test, test_preds))))\n",
    "\n"
   ]
  },
  {
   "cell_type": "markdown",
   "id": "86e00705",
   "metadata": {},
   "source": [
    "_____"
   ]
  },
  {
   "cell_type": "code",
   "execution_count": 46,
   "id": "07729008",
   "metadata": {},
   "outputs": [],
   "source": [
    "# BatchNorm и Dropout(p=0.5)\n",
    "class Model_3(nn.Module):\n",
    "    def __init__(self, n_in_neurons, n_hidden_neurons_1, n_hidden_neurons_2, n_out_neurons):\n",
    "        super(Model_3, self).__init__()\n",
    "        \n",
    "        self.fc1 = nn.Linear(n_in_neurons, n_hidden_neurons_1)\n",
    "        self.bn1 = nn.BatchNorm1d(n_hidden_neurons_1)\n",
    "        self.fc2 = nn.Linear(n_hidden_neurons_1, n_hidden_neurons_2)\n",
    "        self.dp2 = nn.Dropout(p=0.5)\n",
    "        self.fc3 = nn.Linear(n_hidden_neurons_2, n_out_neurons)\n",
    "            \n",
    "    def forward(self, x):\n",
    "        x = self.fc1(x)\n",
    "        x = self.bn1(x)\n",
    "        x = torch.relu(x)\n",
    "        x = self.fc2(x)\n",
    "        x = torch.relu(x)\n",
    "        x = self.dp2(x)\n",
    "        x = self.fc3(x)\n",
    "        \n",
    "        return x \n",
    "    "
   ]
  },
  {
   "cell_type": "code",
   "execution_count": 47,
   "id": "a71c243e",
   "metadata": {},
   "outputs": [],
   "source": [
    "net = Model_3(n_in_neurons, n_hidden_neurons_1, n_hidden_neurons_2, n_out_neurons)\n",
    "loss = nn.MSELoss()\n",
    "\n",
    "optimizer2 = torch.optim.Adamax(net.parameters(), lr=1e-2)\n"
   ]
  },
  {
   "cell_type": "code",
   "execution_count": 48,
   "id": "83a5bc2e",
   "metadata": {},
   "outputs": [
    {
     "name": "stdout",
     "output_type": "stream",
     "text": [
      "RMSE нейронной сети на тестовой выборке =  5035\n"
     ]
    }
   ],
   "source": [
    "# обучаем модель с заданными параметрами BatchNorm и Dropout\n",
    "net = neiron(net, features_train, target_train, optimizer2)\n",
    "\n",
    "net.eval()\n",
    "test_preds = net.forward(features_test)\n",
    "test_preds = test_preds.view(-1)\n",
    "print('RMSE нейронной сети на тестовой выборке = ', int(torch.sqrt(loss(target_test, test_preds))))\n",
    "\n",
    "\n"
   ]
  },
  {
   "cell_type": "markdown",
   "id": "1bfd210e",
   "metadata": {},
   "source": [
    "_____"
   ]
  },
  {
   "cell_type": "code",
   "execution_count": 49,
   "id": "dc721b70",
   "metadata": {},
   "outputs": [],
   "source": [
    "# без BatchNorm, но с Dropout(p=0.00001)\n",
    "class Model_4(nn.Module):\n",
    "    def __init__(self, n_in_neurons, n_hidden_neurons_1, n_hidden_neurons_2, n_out_neurons):\n",
    "        super(Model_4, self).__init__()\n",
    "        \n",
    "        self.fc1 = nn.Linear(n_in_neurons, n_hidden_neurons_1)\n",
    "        self.fc2 = nn.Linear(n_hidden_neurons_1, n_hidden_neurons_2)\n",
    "        self.dp2 = nn.Dropout(p=0.00001)\n",
    "        self.fc3 = nn.Linear(n_hidden_neurons_2, n_out_neurons)\n",
    "            \n",
    "    def forward(self, x):\n",
    "        x = self.fc1(x)\n",
    "        x = torch.relu(x)\n",
    "        x = self.fc2(x)\n",
    "        x = torch.relu(x)\n",
    "        x = self.dp2(x)\n",
    "        x = self.fc3(x)\n",
    "        \n",
    "        return x \n",
    "    "
   ]
  },
  {
   "cell_type": "code",
   "execution_count": 50,
   "id": "bcc698a8",
   "metadata": {},
   "outputs": [],
   "source": [
    "net = Model_4(n_in_neurons, n_hidden_neurons_1, n_hidden_neurons_2, n_out_neurons)\n",
    "loss = nn.MSELoss()\n",
    "\n",
    "optimizer2 = torch.optim.Adamax(net.parameters(), lr=1e-2)\n"
   ]
  },
  {
   "cell_type": "code",
   "execution_count": 51,
   "id": "2a5ed5a9",
   "metadata": {},
   "outputs": [
    {
     "name": "stdout",
     "output_type": "stream",
     "text": [
      "RMSE нейронной сети на тестовой выборке =  4534\n"
     ]
    }
   ],
   "source": [
    "# обучаем модель с заданными параметрами Dropout\n",
    "net = neiron(net, features_train, target_train, optimizer2)\n",
    "\n",
    "net.eval()\n",
    "test_preds = net.forward(features_test)\n",
    "test_preds = test_preds.view(-1)\n",
    "print('RMSE нейронной сети на тестовой выборке = ', int(torch.sqrt(loss(target_test, test_preds))))\n",
    "\n",
    "\n"
   ]
  },
  {
   "cell_type": "markdown",
   "id": "17d9ed8a",
   "metadata": {},
   "source": [
    "Переберем батчи для улучшения метрики RMSE"
   ]
  },
  {
   "cell_type": "code",
   "execution_count": 52,
   "id": "8549ac95",
   "metadata": {},
   "outputs": [],
   "source": [
    "# c 6 батчами\n",
    "def neiron_6(model, features_train, target_train, optim, num_epochs=1000, batch_size=6, loss=nn.MSELoss()):\n",
    "    num_batches = ceil(len(features_train)/batch_size)\n",
    "    for epoch in range(num_epochs):\n",
    "        order = np.random.permutation(len(features_train))\n",
    "        for batch_idx in range(num_batches):\n",
    "            start_index = batch_idx * batch_size \n",
    "            optim.zero_grad() \n",
    "        \n",
    "            # индексы объектов текущего обатча\n",
    "            batch_indexes = order[start_index:start_index+batch_size] \n",
    "            X_batch = features_train[batch_indexes]\n",
    "            y_batch = target_train[batch_indexes]\n",
    "        \n",
    "            preds = model.forward(X_batch).flatten() \n",
    "            loss_value = loss(preds, y_batch.flatten())\n",
    "            loss_value.backward()\n",
    "            optim.step()\n",
    "    return  model\n"
   ]
  },
  {
   "cell_type": "code",
   "execution_count": 53,
   "id": "2fbd2e75",
   "metadata": {},
   "outputs": [],
   "source": [
    "net = Model_4(n_in_neurons, n_hidden_neurons_1, n_hidden_neurons_2, n_out_neurons)\n",
    "loss = nn.MSELoss()\n",
    "\n",
    "optimizer2 = torch.optim.Adamax(net.parameters(), lr=1e-2)\n"
   ]
  },
  {
   "cell_type": "code",
   "execution_count": 54,
   "id": "9140d8f9",
   "metadata": {},
   "outputs": [
    {
     "name": "stdout",
     "output_type": "stream",
     "text": [
      "RMSE нейронной сети на тестовой выборке =  4663\n"
     ]
    }
   ],
   "source": [
    "# обучаем модель с заданными параметрами \n",
    "net = neiron_6(net, features_train, target_train, optimizer2)\n",
    "\n",
    "net.eval()\n",
    "test_preds = net.forward(features_test)\n",
    "test_preds = test_preds.view(-1)\n",
    "print('RMSE нейронной сети на тестовой выборке = ', int(torch.sqrt(loss(target_test, test_preds))))\n",
    "\n"
   ]
  },
  {
   "cell_type": "markdown",
   "id": "34eeee90",
   "metadata": {},
   "source": [
    "_______"
   ]
  },
  {
   "cell_type": "code",
   "execution_count": 65,
   "id": "b5dd4fef",
   "metadata": {},
   "outputs": [],
   "source": [
    "# c 2 батчами\n",
    "def neiron_2(model, features_train, target_train, optim, num_epochs=1000, \n",
    "              batch_size=2, loss=nn.MSELoss()):\n",
    "    num_batches = ceil(len(features_train)/batch_size)\n",
    "    for epoch in range(num_epochs):\n",
    "        order = np.random.permutation(len(features_train))\n",
    "        for batch_idx in range(num_batches):\n",
    "            start_index = batch_idx * batch_size \n",
    "            optim.zero_grad() \n",
    "        \n",
    "            # индексы объектов текущего обатча\n",
    "            batch_indexes = order[start_index:start_index+batch_size] \n",
    "            X_batch = features_train[batch_indexes]\n",
    "            y_batch = target_train[batch_indexes]\n",
    "        \n",
    "            preds = model.forward(X_batch).flatten() \n",
    "            loss_value = loss(preds, y_batch.flatten())\n",
    "            loss_value.backward()\n",
    "            optim.step()\n",
    "    return  model\n"
   ]
  },
  {
   "cell_type": "code",
   "execution_count": 68,
   "id": "82b4466d",
   "metadata": {},
   "outputs": [],
   "source": [
    "net = Model_4(n_in_neurons, n_hidden_neurons_1, n_hidden_neurons_2, n_out_neurons)\n",
    "loss = nn.MSELoss()\n",
    "\n",
    "optimizer2 = torch.optim.Adamax(net.parameters(), lr=1e-2)\n"
   ]
  },
  {
   "cell_type": "code",
   "execution_count": 69,
   "id": "b69245da",
   "metadata": {},
   "outputs": [
    {
     "name": "stdout",
     "output_type": "stream",
     "text": [
      "RMSE нейронной сети на тестовой выборке =  4491\n"
     ]
    }
   ],
   "source": [
    "# обучаем модель с заданными параметрами \n",
    "net = neiron_2(net, features_train, target_train, optimizer2)\n",
    "\n",
    "net.eval()\n",
    "test_preds = net.forward(features_test)\n",
    "test_preds = test_preds.view(-1)\n",
    "print('RMSE нейронной сети на тестовой выборке = ', int(torch.sqrt(loss(target_test, test_preds))))\n",
    "\n"
   ]
  },
  {
   "cell_type": "code",
   "execution_count": 58,
   "id": "e4ea5626",
   "metadata": {},
   "outputs": [
    {
     "data": {
      "image/png": "[encoded data removed]",
      "text/plain": [
       "<Figure size 1224x360 with 1 Axes>"
      ]
     },
     "metadata": {
      "needs_background": "light"
     },
     "output_type": "display_data"
    }
   ],
   "source": [
    "vizualization(target_test, test_preds)"
   ]
  },
  {
   "cell_type": "markdown",
   "id": "accurate-infrastructure",
   "metadata": {},
   "source": [
    "## Выводы"
   ]
  },
  {
   "cell_type": "markdown",
   "id": "9efba800",
   "metadata": {},
   "source": [
    "В проекте выполнили предобработку и анализ данных. Обучили нейросеть. Для финальной модели использовали num_epochs=1000, batch_size=2, функцию активации в скрытых слоях Relu, функцию потерь MSELoss. Также использовали регуляризацию весов BatchNorm и Dropout. Достигли заданной метрики RMSE < 4500, с результатом 4491. Нейросеть готова к предсказанию температуры звёзд."
   ]
  },
  {
   "cell_type": "code",
   "execution_count": null,
   "id": "ede03f14",
   "metadata": {},
   "outputs": [],
   "source": []
  }
 ],
 "metadata": {
  "ExecuteTimeLog": [
   {
    "duration": 232,
    "start_time": "2023-08-08T16:17:01.477Z"
   },
   {
    "duration": 2622,
    "start_time": "2023-08-08T16:24:11.716Z"
   },
   {
    "duration": 5,
    "start_time": "2023-08-08T16:24:48.277Z"
   },
   {
    "duration": 86,
    "start_time": "2023-08-08T17:15:23.220Z"
   },
   {
    "duration": 96,
    "start_time": "2023-08-08T17:15:49.210Z"
   },
   {
    "duration": 44,
    "start_time": "2023-08-08T17:16:09.697Z"
   },
   {
    "duration": 19,
    "start_time": "2023-08-08T17:16:32.806Z"
   },
   {
    "duration": 39,
    "start_time": "2023-08-08T17:17:36.005Z"
   },
   {
    "duration": 17,
    "start_time": "2023-08-08T17:27:31.549Z"
   },
   {
    "duration": 6,
    "start_time": "2023-08-08T17:28:13.054Z"
   },
   {
    "duration": 28,
    "start_time": "2023-08-08T17:28:22.669Z"
   },
   {
    "duration": 3,
    "start_time": "2023-08-08T17:29:24.525Z"
   },
   {
    "duration": 18,
    "start_time": "2023-08-08T17:29:38.061Z"
   },
   {
    "duration": 18,
    "start_time": "2023-08-08T17:29:52.162Z"
   },
   {
    "duration": 59,
    "start_time": "2023-08-08T19:10:54.944Z"
   },
   {
    "duration": 3521,
    "start_time": "2023-08-08T19:11:01.265Z"
   },
   {
    "duration": 94,
    "start_time": "2023-08-08T19:11:04.788Z"
   },
   {
    "duration": 15,
    "start_time": "2023-08-08T19:11:04.885Z"
   },
   {
    "duration": 22,
    "start_time": "2023-08-08T19:11:04.903Z"
   },
   {
    "duration": 10,
    "start_time": "2023-08-08T19:11:04.927Z"
   },
   {
    "duration": 5,
    "start_time": "2023-08-08T19:11:41.021Z"
   },
   {
    "duration": 6,
    "start_time": "2023-08-08T19:13:53.534Z"
   },
   {
    "duration": 157,
    "start_time": "2023-08-08T19:22:09.262Z"
   },
   {
    "duration": 8,
    "start_time": "2023-08-08T19:26:39.023Z"
   },
   {
    "duration": 14,
    "start_time": "2023-08-08T19:26:52.927Z"
   },
   {
    "duration": 8,
    "start_time": "2023-08-08T19:27:22.132Z"
   },
   {
    "duration": 7,
    "start_time": "2023-08-08T19:27:28.837Z"
   },
   {
    "duration": 2011,
    "start_time": "2023-08-08T19:28:42.615Z"
   },
   {
    "duration": 54,
    "start_time": "2023-08-08T19:28:44.629Z"
   },
   {
    "duration": 13,
    "start_time": "2023-08-08T19:28:44.685Z"
   },
   {
    "duration": 24,
    "start_time": "2023-08-08T19:28:44.700Z"
   },
   {
    "duration": 11,
    "start_time": "2023-08-08T19:28:44.726Z"
   },
   {
    "duration": 25,
    "start_time": "2023-08-08T19:28:44.739Z"
   },
   {
    "duration": 19,
    "start_time": "2023-08-08T19:28:44.768Z"
   },
   {
    "duration": 15,
    "start_time": "2023-08-08T19:28:44.789Z"
   },
   {
    "duration": 12,
    "start_time": "2023-08-08T19:28:44.806Z"
   },
   {
    "duration": 13,
    "start_time": "2023-08-08T19:28:44.821Z"
   },
   {
    "duration": 6,
    "start_time": "2023-08-08T19:36:42.641Z"
   },
   {
    "duration": 2072,
    "start_time": "2023-08-08T19:37:51.233Z"
   },
   {
    "duration": 47,
    "start_time": "2023-08-08T19:37:53.307Z"
   },
   {
    "duration": 18,
    "start_time": "2023-08-08T19:37:53.356Z"
   },
   {
    "duration": 17,
    "start_time": "2023-08-08T19:37:53.377Z"
   },
   {
    "duration": 13,
    "start_time": "2023-08-08T19:37:53.397Z"
   },
   {
    "duration": 11,
    "start_time": "2023-08-08T19:37:53.412Z"
   },
   {
    "duration": 16,
    "start_time": "2023-08-08T19:37:53.425Z"
   },
   {
    "duration": 16,
    "start_time": "2023-08-08T19:37:53.443Z"
   },
   {
    "duration": 29,
    "start_time": "2023-08-08T19:37:53.461Z"
   },
   {
    "duration": 90,
    "start_time": "2023-08-08T19:37:53.492Z"
   },
   {
    "duration": 0,
    "start_time": "2023-08-08T19:37:53.583Z"
   },
   {
    "duration": 5,
    "start_time": "2023-08-08T19:38:11.320Z"
   },
   {
    "duration": 7,
    "start_time": "2023-08-08T19:38:13.626Z"
   },
   {
    "duration": 5,
    "start_time": "2023-08-08T19:40:21.891Z"
   },
   {
    "duration": 6,
    "start_time": "2023-08-08T19:40:23.238Z"
   },
   {
    "duration": 15,
    "start_time": "2023-08-08T19:42:05.580Z"
   },
   {
    "duration": 8,
    "start_time": "2023-08-08T19:46:07.070Z"
   },
   {
    "duration": 7,
    "start_time": "2023-08-08T19:46:37.381Z"
   },
   {
    "duration": 5,
    "start_time": "2023-08-08T20:01:37.391Z"
   },
   {
    "duration": 5,
    "start_time": "2023-08-08T20:02:51.356Z"
   },
   {
    "duration": 19,
    "start_time": "2023-08-08T20:03:00.953Z"
   },
   {
    "duration": 5,
    "start_time": "2023-08-08T20:03:50.360Z"
   },
   {
    "duration": 2072,
    "start_time": "2023-08-08T20:06:09.824Z"
   },
   {
    "duration": 44,
    "start_time": "2023-08-08T20:06:11.901Z"
   },
   {
    "duration": 11,
    "start_time": "2023-08-08T20:06:11.947Z"
   },
   {
    "duration": 229,
    "start_time": "2023-08-08T20:06:11.960Z"
   },
   {
    "duration": 36,
    "start_time": "2023-08-08T20:06:12.192Z"
   },
   {
    "duration": 9,
    "start_time": "2023-08-08T20:06:12.231Z"
   },
   {
    "duration": 11,
    "start_time": "2023-08-08T20:06:12.242Z"
   },
   {
    "duration": 8,
    "start_time": "2023-08-08T20:06:12.254Z"
   },
   {
    "duration": 11,
    "start_time": "2023-08-08T20:06:12.265Z"
   },
   {
    "duration": 16,
    "start_time": "2023-08-08T20:06:12.278Z"
   },
   {
    "duration": 12,
    "start_time": "2023-08-08T20:06:12.295Z"
   },
   {
    "duration": 10,
    "start_time": "2023-08-08T20:06:12.309Z"
   },
   {
    "duration": 7,
    "start_time": "2023-08-08T20:06:12.321Z"
   },
   {
    "duration": 14,
    "start_time": "2023-08-08T20:06:12.330Z"
   },
   {
    "duration": 15,
    "start_time": "2023-08-08T20:06:12.358Z"
   },
   {
    "duration": 12,
    "start_time": "2023-08-08T20:06:12.375Z"
   },
   {
    "duration": 9,
    "start_time": "2023-08-08T20:06:12.390Z"
   },
   {
    "duration": 15,
    "start_time": "2023-08-08T20:06:48.731Z"
   },
   {
    "duration": 11,
    "start_time": "2023-08-08T20:06:54.254Z"
   },
   {
    "duration": 4,
    "start_time": "2023-08-08T20:07:37.812Z"
   },
   {
    "duration": 2043,
    "start_time": "2023-08-08T20:10:09.821Z"
   },
   {
    "duration": 46,
    "start_time": "2023-08-08T20:10:11.866Z"
   },
   {
    "duration": 12,
    "start_time": "2023-08-08T20:10:11.913Z"
   },
   {
    "duration": 20,
    "start_time": "2023-08-08T20:10:11.927Z"
   },
   {
    "duration": 13,
    "start_time": "2023-08-08T20:10:11.949Z"
   },
   {
    "duration": 17,
    "start_time": "2023-08-08T20:10:11.966Z"
   },
   {
    "duration": 8,
    "start_time": "2023-08-08T20:10:11.985Z"
   },
   {
    "duration": 58,
    "start_time": "2023-08-08T20:10:11.995Z"
   },
   {
    "duration": 23,
    "start_time": "2023-08-08T20:10:12.055Z"
   },
   {
    "duration": 12,
    "start_time": "2023-08-08T20:10:12.081Z"
   },
   {
    "duration": 8,
    "start_time": "2023-08-08T20:10:12.094Z"
   },
   {
    "duration": 14,
    "start_time": "2023-08-08T20:10:12.104Z"
   },
   {
    "duration": 23,
    "start_time": "2023-08-08T20:10:12.119Z"
   },
   {
    "duration": 150,
    "start_time": "2023-08-08T20:10:12.144Z"
   },
   {
    "duration": 0,
    "start_time": "2023-08-08T20:10:12.296Z"
   },
   {
    "duration": 0,
    "start_time": "2023-08-08T20:10:12.298Z"
   },
   {
    "duration": 3735,
    "start_time": "2023-08-08T20:13:00.812Z"
   },
   {
    "duration": 16,
    "start_time": "2023-08-08T20:16:45.545Z"
   },
   {
    "duration": 7,
    "start_time": "2023-08-08T20:19:32.124Z"
   },
   {
    "duration": 7,
    "start_time": "2023-08-08T20:19:45.543Z"
   },
   {
    "duration": 8,
    "start_time": "2023-08-08T20:19:54.479Z"
   },
   {
    "duration": 7,
    "start_time": "2023-08-08T20:20:37.643Z"
   },
   {
    "duration": 7,
    "start_time": "2023-08-08T20:20:38.996Z"
   },
   {
    "duration": 25,
    "start_time": "2023-08-08T20:24:14.949Z"
   },
   {
    "duration": 2041,
    "start_time": "2023-08-08T20:28:51.538Z"
   },
   {
    "duration": 45,
    "start_time": "2023-08-08T20:28:53.581Z"
   },
   {
    "duration": 11,
    "start_time": "2023-08-08T20:28:53.628Z"
   },
   {
    "duration": 15,
    "start_time": "2023-08-08T20:28:53.642Z"
   },
   {
    "duration": 12,
    "start_time": "2023-08-08T20:28:53.659Z"
   },
   {
    "duration": 15,
    "start_time": "2023-08-08T20:28:53.673Z"
   },
   {
    "duration": 11,
    "start_time": "2023-08-08T20:28:53.690Z"
   },
   {
    "duration": 9,
    "start_time": "2023-08-08T20:28:53.703Z"
   },
   {
    "duration": 13,
    "start_time": "2023-08-08T20:28:53.714Z"
   },
   {
    "duration": 8,
    "start_time": "2023-08-08T20:28:53.730Z"
   },
   {
    "duration": 11,
    "start_time": "2023-08-08T20:28:53.740Z"
   },
   {
    "duration": 15,
    "start_time": "2023-08-08T20:28:53.753Z"
   },
   {
    "duration": 12,
    "start_time": "2023-08-08T20:28:53.769Z"
   },
   {
    "duration": 15,
    "start_time": "2023-08-08T20:28:53.783Z"
   },
   {
    "duration": 9,
    "start_time": "2023-08-08T20:28:53.799Z"
   },
   {
    "duration": 26,
    "start_time": "2023-08-08T20:28:53.810Z"
   },
   {
    "duration": 150,
    "start_time": "2023-08-08T20:28:53.838Z"
   },
   {
    "duration": 4327,
    "start_time": "2023-08-08T20:29:59.323Z"
   },
   {
    "duration": 4438,
    "start_time": "2023-08-08T20:30:17.293Z"
   },
   {
    "duration": 105,
    "start_time": "2023-08-08T20:30:27.817Z"
   },
   {
    "duration": 4703,
    "start_time": "2023-08-08T20:30:49.408Z"
   },
   {
    "duration": 3,
    "start_time": "2023-08-08T20:32:47.186Z"
   },
   {
    "duration": 765,
    "start_time": "2023-08-08T20:32:50.030Z"
   },
   {
    "duration": 2396,
    "start_time": "2023-08-08T20:49:02.327Z"
   },
   {
    "duration": 55,
    "start_time": "2023-08-08T20:49:04.725Z"
   },
   {
    "duration": 18,
    "start_time": "2023-08-08T20:49:04.782Z"
   },
   {
    "duration": 26,
    "start_time": "2023-08-08T20:49:04.803Z"
   },
   {
    "duration": 9,
    "start_time": "2023-08-08T20:49:04.831Z"
   },
   {
    "duration": 40,
    "start_time": "2023-08-08T20:49:04.841Z"
   },
   {
    "duration": 9,
    "start_time": "2023-08-08T20:49:04.883Z"
   },
   {
    "duration": 16,
    "start_time": "2023-08-08T20:49:04.894Z"
   },
   {
    "duration": 14,
    "start_time": "2023-08-08T20:49:04.912Z"
   },
   {
    "duration": 10,
    "start_time": "2023-08-08T20:49:04.929Z"
   },
   {
    "duration": 6,
    "start_time": "2023-08-08T20:49:04.942Z"
   },
   {
    "duration": 38,
    "start_time": "2023-08-08T20:49:04.951Z"
   },
   {
    "duration": 12,
    "start_time": "2023-08-08T20:49:04.991Z"
   },
   {
    "duration": 22,
    "start_time": "2023-08-08T20:49:05.005Z"
   },
   {
    "duration": 17,
    "start_time": "2023-08-08T20:49:05.029Z"
   },
   {
    "duration": 38,
    "start_time": "2023-08-08T20:49:05.048Z"
   },
   {
    "duration": 4926,
    "start_time": "2023-08-08T20:49:05.088Z"
   },
   {
    "duration": 4,
    "start_time": "2023-08-08T20:49:10.017Z"
   },
   {
    "duration": 1045,
    "start_time": "2023-08-08T20:49:10.023Z"
   },
   {
    "duration": 169,
    "start_time": "2023-08-08T20:49:11.071Z"
   },
   {
    "duration": 1323,
    "start_time": "2023-08-08T20:49:56.575Z"
   },
   {
    "duration": 0,
    "start_time": "2023-08-08T20:49:57.901Z"
   },
   {
    "duration": 0,
    "start_time": "2023-08-08T20:49:57.902Z"
   },
   {
    "duration": 0,
    "start_time": "2023-08-08T20:49:57.903Z"
   },
   {
    "duration": 0,
    "start_time": "2023-08-08T20:49:57.905Z"
   },
   {
    "duration": 0,
    "start_time": "2023-08-08T20:49:57.907Z"
   },
   {
    "duration": 0,
    "start_time": "2023-08-08T20:49:57.908Z"
   },
   {
    "duration": 0,
    "start_time": "2023-08-08T20:49:57.910Z"
   },
   {
    "duration": 0,
    "start_time": "2023-08-08T20:49:57.911Z"
   },
   {
    "duration": 0,
    "start_time": "2023-08-08T20:49:57.913Z"
   },
   {
    "duration": 0,
    "start_time": "2023-08-08T20:49:57.914Z"
   },
   {
    "duration": 0,
    "start_time": "2023-08-08T20:49:57.916Z"
   },
   {
    "duration": 0,
    "start_time": "2023-08-08T20:49:57.918Z"
   },
   {
    "duration": 0,
    "start_time": "2023-08-08T20:49:57.919Z"
   },
   {
    "duration": 0,
    "start_time": "2023-08-08T20:49:57.921Z"
   },
   {
    "duration": 0,
    "start_time": "2023-08-08T20:49:57.922Z"
   },
   {
    "duration": 0,
    "start_time": "2023-08-08T20:49:57.924Z"
   },
   {
    "duration": 0,
    "start_time": "2023-08-08T20:49:57.959Z"
   },
   {
    "duration": 0,
    "start_time": "2023-08-08T20:49:57.960Z"
   },
   {
    "duration": 0,
    "start_time": "2023-08-08T20:49:57.963Z"
   },
   {
    "duration": 1330,
    "start_time": "2023-08-08T20:53:18.482Z"
   },
   {
    "duration": 0,
    "start_time": "2023-08-08T20:53:19.814Z"
   },
   {
    "duration": 1,
    "start_time": "2023-08-08T20:53:19.815Z"
   },
   {
    "duration": 0,
    "start_time": "2023-08-08T20:53:19.816Z"
   },
   {
    "duration": 0,
    "start_time": "2023-08-08T20:53:19.818Z"
   },
   {
    "duration": 0,
    "start_time": "2023-08-08T20:53:19.819Z"
   },
   {
    "duration": 0,
    "start_time": "2023-08-08T20:53:19.820Z"
   },
   {
    "duration": 0,
    "start_time": "2023-08-08T20:53:19.821Z"
   },
   {
    "duration": 0,
    "start_time": "2023-08-08T20:53:19.822Z"
   },
   {
    "duration": 0,
    "start_time": "2023-08-08T20:53:19.823Z"
   },
   {
    "duration": 0,
    "start_time": "2023-08-08T20:53:19.824Z"
   },
   {
    "duration": 0,
    "start_time": "2023-08-08T20:53:19.825Z"
   },
   {
    "duration": 0,
    "start_time": "2023-08-08T20:53:19.827Z"
   },
   {
    "duration": 0,
    "start_time": "2023-08-08T20:53:19.828Z"
   },
   {
    "duration": 0,
    "start_time": "2023-08-08T20:53:19.829Z"
   },
   {
    "duration": 0,
    "start_time": "2023-08-08T20:53:19.830Z"
   },
   {
    "duration": 0,
    "start_time": "2023-08-08T20:53:19.862Z"
   },
   {
    "duration": 0,
    "start_time": "2023-08-08T20:53:19.863Z"
   },
   {
    "duration": 0,
    "start_time": "2023-08-08T20:53:19.864Z"
   },
   {
    "duration": 0,
    "start_time": "2023-08-08T20:53:19.864Z"
   },
   {
    "duration": 1328,
    "start_time": "2023-08-08T20:55:36.082Z"
   },
   {
    "duration": 0,
    "start_time": "2023-08-08T20:55:37.412Z"
   },
   {
    "duration": 0,
    "start_time": "2023-08-08T20:55:37.414Z"
   },
   {
    "duration": 0,
    "start_time": "2023-08-08T20:55:37.415Z"
   },
   {
    "duration": 0,
    "start_time": "2023-08-08T20:55:37.417Z"
   },
   {
    "duration": 0,
    "start_time": "2023-08-08T20:55:37.418Z"
   },
   {
    "duration": 1,
    "start_time": "2023-08-08T20:55:37.419Z"
   },
   {
    "duration": 0,
    "start_time": "2023-08-08T20:55:37.421Z"
   },
   {
    "duration": 0,
    "start_time": "2023-08-08T20:55:37.423Z"
   },
   {
    "duration": 0,
    "start_time": "2023-08-08T20:55:37.424Z"
   },
   {
    "duration": 0,
    "start_time": "2023-08-08T20:55:37.426Z"
   },
   {
    "duration": 0,
    "start_time": "2023-08-08T20:55:37.427Z"
   },
   {
    "duration": 0,
    "start_time": "2023-08-08T20:55:37.428Z"
   },
   {
    "duration": 0,
    "start_time": "2023-08-08T20:55:37.430Z"
   },
   {
    "duration": 0,
    "start_time": "2023-08-08T20:55:37.432Z"
   },
   {
    "duration": 0,
    "start_time": "2023-08-08T20:55:37.459Z"
   },
   {
    "duration": 0,
    "start_time": "2023-08-08T20:55:37.461Z"
   },
   {
    "duration": 0,
    "start_time": "2023-08-08T20:55:37.462Z"
   },
   {
    "duration": 0,
    "start_time": "2023-08-08T20:55:37.464Z"
   },
   {
    "duration": 0,
    "start_time": "2023-08-08T20:55:37.465Z"
   },
   {
    "duration": 1381,
    "start_time": "2023-08-08T20:57:10.735Z"
   },
   {
    "duration": 0,
    "start_time": "2023-08-08T20:57:12.118Z"
   },
   {
    "duration": 0,
    "start_time": "2023-08-08T20:57:12.120Z"
   },
   {
    "duration": 0,
    "start_time": "2023-08-08T20:57:12.121Z"
   },
   {
    "duration": 0,
    "start_time": "2023-08-08T20:57:12.122Z"
   },
   {
    "duration": 0,
    "start_time": "2023-08-08T20:57:12.124Z"
   },
   {
    "duration": 0,
    "start_time": "2023-08-08T20:57:12.125Z"
   },
   {
    "duration": 0,
    "start_time": "2023-08-08T20:57:12.126Z"
   },
   {
    "duration": 0,
    "start_time": "2023-08-08T20:57:12.128Z"
   },
   {
    "duration": 0,
    "start_time": "2023-08-08T20:57:12.129Z"
   },
   {
    "duration": 0,
    "start_time": "2023-08-08T20:57:12.131Z"
   },
   {
    "duration": 0,
    "start_time": "2023-08-08T20:57:12.132Z"
   },
   {
    "duration": 0,
    "start_time": "2023-08-08T20:57:12.165Z"
   },
   {
    "duration": 0,
    "start_time": "2023-08-08T20:57:12.165Z"
   },
   {
    "duration": 0,
    "start_time": "2023-08-08T20:57:12.166Z"
   },
   {
    "duration": 0,
    "start_time": "2023-08-08T20:57:12.167Z"
   },
   {
    "duration": 0,
    "start_time": "2023-08-08T20:57:12.168Z"
   },
   {
    "duration": 0,
    "start_time": "2023-08-08T20:57:12.168Z"
   },
   {
    "duration": 0,
    "start_time": "2023-08-08T20:57:12.169Z"
   },
   {
    "duration": 0,
    "start_time": "2023-08-08T20:57:12.170Z"
   },
   {
    "duration": 915,
    "start_time": "2023-08-08T20:58:24.584Z"
   },
   {
    "duration": 62,
    "start_time": "2023-08-08T21:01:17.030Z"
   },
   {
    "duration": 1531,
    "start_time": "2023-08-08T21:04:48.249Z"
   },
   {
    "duration": 0,
    "start_time": "2023-08-08T21:04:49.798Z"
   },
   {
    "duration": 0,
    "start_time": "2023-08-08T21:04:49.800Z"
   },
   {
    "duration": 0,
    "start_time": "2023-08-08T21:04:49.802Z"
   },
   {
    "duration": 0,
    "start_time": "2023-08-08T21:04:49.804Z"
   },
   {
    "duration": 0,
    "start_time": "2023-08-08T21:04:49.806Z"
   },
   {
    "duration": 0,
    "start_time": "2023-08-08T21:04:49.807Z"
   },
   {
    "duration": 0,
    "start_time": "2023-08-08T21:04:49.809Z"
   },
   {
    "duration": 0,
    "start_time": "2023-08-08T21:04:49.810Z"
   },
   {
    "duration": 0,
    "start_time": "2023-08-08T21:04:49.812Z"
   },
   {
    "duration": 0,
    "start_time": "2023-08-08T21:04:49.813Z"
   },
   {
    "duration": 0,
    "start_time": "2023-08-08T21:04:49.815Z"
   },
   {
    "duration": 0,
    "start_time": "2023-08-08T21:04:49.820Z"
   },
   {
    "duration": 0,
    "start_time": "2023-08-08T21:04:49.822Z"
   },
   {
    "duration": 0,
    "start_time": "2023-08-08T21:04:49.823Z"
   },
   {
    "duration": 0,
    "start_time": "2023-08-08T21:04:49.825Z"
   },
   {
    "duration": 0,
    "start_time": "2023-08-08T21:04:49.826Z"
   },
   {
    "duration": 0,
    "start_time": "2023-08-08T21:04:49.828Z"
   },
   {
    "duration": 0,
    "start_time": "2023-08-08T21:04:49.833Z"
   },
   {
    "duration": 0,
    "start_time": "2023-08-08T21:04:49.835Z"
   },
   {
    "duration": 845,
    "start_time": "2023-08-08T21:07:42.257Z"
   },
   {
    "duration": 2338,
    "start_time": "2023-08-08T21:07:47.642Z"
   },
   {
    "duration": 50,
    "start_time": "2023-08-08T21:07:49.989Z"
   },
   {
    "duration": 14,
    "start_time": "2023-08-08T21:07:50.042Z"
   },
   {
    "duration": 44,
    "start_time": "2023-08-08T21:07:50.058Z"
   },
   {
    "duration": 28,
    "start_time": "2023-08-08T21:07:50.104Z"
   },
   {
    "duration": 54,
    "start_time": "2023-08-08T21:07:50.134Z"
   },
   {
    "duration": 19,
    "start_time": "2023-08-08T21:07:50.192Z"
   },
   {
    "duration": 10,
    "start_time": "2023-08-08T21:07:50.213Z"
   },
   {
    "duration": 16,
    "start_time": "2023-08-08T21:07:50.225Z"
   },
   {
    "duration": 46,
    "start_time": "2023-08-08T21:07:50.242Z"
   },
   {
    "duration": 20,
    "start_time": "2023-08-08T21:07:50.289Z"
   },
   {
    "duration": 16,
    "start_time": "2023-08-08T21:07:50.312Z"
   },
   {
    "duration": 13,
    "start_time": "2023-08-08T21:07:50.330Z"
   },
   {
    "duration": 10,
    "start_time": "2023-08-08T21:07:50.345Z"
   },
   {
    "duration": 8,
    "start_time": "2023-08-08T21:07:50.356Z"
   },
   {
    "duration": 60,
    "start_time": "2023-08-08T21:07:50.366Z"
   },
   {
    "duration": 4578,
    "start_time": "2023-08-08T21:07:50.428Z"
   },
   {
    "duration": 3,
    "start_time": "2023-08-08T21:07:55.008Z"
   },
   {
    "duration": 933,
    "start_time": "2023-08-08T21:07:55.013Z"
   },
   {
    "duration": 173,
    "start_time": "2023-08-08T21:07:55.947Z"
   },
   {
    "duration": 8,
    "start_time": "2023-08-08T21:08:20.754Z"
   },
   {
    "duration": 3,
    "start_time": "2023-08-08T21:09:57.550Z"
   },
   {
    "duration": 11,
    "start_time": "2023-08-08T21:10:17.416Z"
   },
   {
    "duration": 22,
    "start_time": "2023-08-08T21:10:30.095Z"
   },
   {
    "duration": 4,
    "start_time": "2023-08-08T21:16:25.978Z"
   },
   {
    "duration": 5,
    "start_time": "2023-08-08T21:16:59.598Z"
   },
   {
    "duration": 15,
    "start_time": "2023-08-08T21:19:37.293Z"
   },
   {
    "duration": 3,
    "start_time": "2023-08-08T21:19:41.993Z"
   },
   {
    "duration": 736,
    "start_time": "2023-08-08T21:19:42.997Z"
   },
   {
    "duration": 5,
    "start_time": "2023-08-08T21:24:27.593Z"
   },
   {
    "duration": 8,
    "start_time": "2023-08-08T21:24:28.030Z"
   },
   {
    "duration": 2029,
    "start_time": "2023-08-08T21:27:03.000Z"
   },
   {
    "duration": 50,
    "start_time": "2023-08-08T21:27:05.032Z"
   },
   {
    "duration": 13,
    "start_time": "2023-08-08T21:27:05.084Z"
   },
   {
    "duration": 22,
    "start_time": "2023-08-08T21:27:05.099Z"
   },
   {
    "duration": 13,
    "start_time": "2023-08-08T21:27:05.124Z"
   },
   {
    "duration": 24,
    "start_time": "2023-08-08T21:27:05.139Z"
   },
   {
    "duration": 26,
    "start_time": "2023-08-08T21:27:05.165Z"
   },
   {
    "duration": 13,
    "start_time": "2023-08-08T21:27:05.193Z"
   },
   {
    "duration": 24,
    "start_time": "2023-08-08T21:27:05.208Z"
   },
   {
    "duration": 32,
    "start_time": "2023-08-08T21:27:05.234Z"
   },
   {
    "duration": 11,
    "start_time": "2023-08-08T21:27:05.272Z"
   },
   {
    "duration": 19,
    "start_time": "2023-08-08T21:27:05.284Z"
   },
   {
    "duration": 16,
    "start_time": "2023-08-08T21:27:05.305Z"
   },
   {
    "duration": 13,
    "start_time": "2023-08-08T21:27:05.325Z"
   },
   {
    "duration": 19,
    "start_time": "2023-08-08T21:27:05.340Z"
   },
   {
    "duration": 68,
    "start_time": "2023-08-08T21:27:05.361Z"
   },
   {
    "duration": 4471,
    "start_time": "2023-08-08T21:27:05.431Z"
   },
   {
    "duration": 3,
    "start_time": "2023-08-08T21:27:09.904Z"
   },
   {
    "duration": 843,
    "start_time": "2023-08-08T21:27:09.909Z"
   },
   {
    "duration": 20,
    "start_time": "2023-08-08T21:27:10.753Z"
   },
   {
    "duration": 13,
    "start_time": "2023-08-08T21:27:10.776Z"
   },
   {
    "duration": 18,
    "start_time": "2023-08-08T21:27:10.790Z"
   },
   {
    "duration": 7,
    "start_time": "2023-08-08T21:27:10.810Z"
   },
   {
    "duration": 21,
    "start_time": "2023-08-08T21:27:10.819Z"
   },
   {
    "duration": 12,
    "start_time": "2023-08-08T21:27:10.841Z"
   },
   {
    "duration": 150,
    "start_time": "2023-08-08T21:30:00.898Z"
   },
   {
    "duration": 21,
    "start_time": "2023-08-08T21:32:45.821Z"
   },
   {
    "duration": 21,
    "start_time": "2023-08-08T21:32:53.683Z"
   },
   {
    "duration": 5,
    "start_time": "2023-08-08T21:40:28.495Z"
   },
   {
    "duration": 5,
    "start_time": "2023-08-08T21:40:29.147Z"
   },
   {
    "duration": 3,
    "start_time": "2023-08-08T21:40:29.795Z"
   },
   {
    "duration": 16,
    "start_time": "2023-08-08T21:40:31.194Z"
   },
   {
    "duration": 12,
    "start_time": "2023-08-08T21:40:49.307Z"
   },
   {
    "duration": 2027,
    "start_time": "2023-08-08T21:44:12.540Z"
   },
   {
    "duration": 44,
    "start_time": "2023-08-08T21:44:14.569Z"
   },
   {
    "duration": 12,
    "start_time": "2023-08-08T21:44:14.615Z"
   },
   {
    "duration": 15,
    "start_time": "2023-08-08T21:44:14.629Z"
   },
   {
    "duration": 13,
    "start_time": "2023-08-08T21:44:14.646Z"
   },
   {
    "duration": 4,
    "start_time": "2023-08-08T21:44:14.660Z"
   },
   {
    "duration": 13,
    "start_time": "2023-08-08T21:44:14.666Z"
   },
   {
    "duration": 8,
    "start_time": "2023-08-08T21:44:14.681Z"
   },
   {
    "duration": 14,
    "start_time": "2023-08-08T21:44:14.691Z"
   },
   {
    "duration": 13,
    "start_time": "2023-08-08T21:44:14.708Z"
   },
   {
    "duration": 7,
    "start_time": "2023-08-08T21:44:14.723Z"
   },
   {
    "duration": 30,
    "start_time": "2023-08-08T21:44:14.732Z"
   },
   {
    "duration": 9,
    "start_time": "2023-08-08T21:44:14.764Z"
   },
   {
    "duration": 10,
    "start_time": "2023-08-08T21:44:14.775Z"
   },
   {
    "duration": 8,
    "start_time": "2023-08-08T21:44:14.787Z"
   },
   {
    "duration": 27,
    "start_time": "2023-08-08T21:44:14.796Z"
   },
   {
    "duration": 4196,
    "start_time": "2023-08-08T21:44:14.858Z"
   },
   {
    "duration": 3,
    "start_time": "2023-08-08T21:44:19.056Z"
   },
   {
    "duration": 836,
    "start_time": "2023-08-08T21:44:19.060Z"
   },
   {
    "duration": 7,
    "start_time": "2023-08-08T21:44:19.897Z"
   },
   {
    "duration": 22,
    "start_time": "2023-08-08T21:44:19.906Z"
   },
   {
    "duration": 22,
    "start_time": "2023-08-08T21:44:19.929Z"
   },
   {
    "duration": 5,
    "start_time": "2023-08-08T21:44:19.958Z"
   },
   {
    "duration": 11,
    "start_time": "2023-08-08T21:44:19.965Z"
   },
   {
    "duration": 7,
    "start_time": "2023-08-08T21:44:19.978Z"
   },
   {
    "duration": 24,
    "start_time": "2023-08-08T21:44:19.986Z"
   },
   {
    "duration": 157,
    "start_time": "2023-08-08T21:46:31.263Z"
   },
   {
    "duration": 12,
    "start_time": "2023-08-08T21:46:45.903Z"
   },
   {
    "duration": 25,
    "start_time": "2023-08-08T21:47:04.624Z"
   },
   {
    "duration": 22,
    "start_time": "2023-08-08T21:49:47.605Z"
   },
   {
    "duration": 46,
    "start_time": "2023-08-08T21:50:12.455Z"
   },
   {
    "duration": 16,
    "start_time": "2023-08-08T21:54:22.306Z"
   },
   {
    "duration": 15,
    "start_time": "2023-08-08T21:55:44.328Z"
   },
   {
    "duration": 1965,
    "start_time": "2023-08-08T21:57:11.087Z"
   },
   {
    "duration": 45,
    "start_time": "2023-08-08T21:57:13.055Z"
   },
   {
    "duration": 13,
    "start_time": "2023-08-08T21:57:13.102Z"
   },
   {
    "duration": 57,
    "start_time": "2023-08-08T21:57:13.118Z"
   },
   {
    "duration": 9,
    "start_time": "2023-08-08T21:57:13.177Z"
   },
   {
    "duration": 16,
    "start_time": "2023-08-08T21:57:13.187Z"
   },
   {
    "duration": 9,
    "start_time": "2023-08-08T21:57:13.204Z"
   },
   {
    "duration": 14,
    "start_time": "2023-08-08T21:57:13.215Z"
   },
   {
    "duration": 10,
    "start_time": "2023-08-08T21:57:13.230Z"
   },
   {
    "duration": 8,
    "start_time": "2023-08-08T21:57:13.243Z"
   },
   {
    "duration": 14,
    "start_time": "2023-08-08T21:57:13.252Z"
   },
   {
    "duration": 12,
    "start_time": "2023-08-08T21:57:13.267Z"
   },
   {
    "duration": 8,
    "start_time": "2023-08-08T21:57:13.281Z"
   },
   {
    "duration": 12,
    "start_time": "2023-08-08T21:57:13.290Z"
   },
   {
    "duration": 10,
    "start_time": "2023-08-08T21:57:13.304Z"
   },
   {
    "duration": 32,
    "start_time": "2023-08-08T21:57:13.315Z"
   },
   {
    "duration": 4073,
    "start_time": "2023-08-08T21:57:13.349Z"
   },
   {
    "duration": 4,
    "start_time": "2023-08-08T21:57:17.423Z"
   },
   {
    "duration": 796,
    "start_time": "2023-08-08T21:57:17.429Z"
   },
   {
    "duration": 8,
    "start_time": "2023-08-08T21:57:18.227Z"
   },
   {
    "duration": 24,
    "start_time": "2023-08-08T21:57:18.237Z"
   },
   {
    "duration": 48,
    "start_time": "2023-08-08T21:57:18.263Z"
   },
   {
    "duration": 12,
    "start_time": "2023-08-08T21:57:18.313Z"
   },
   {
    "duration": 9,
    "start_time": "2023-08-08T21:57:18.327Z"
   },
   {
    "duration": 11,
    "start_time": "2023-08-08T21:57:18.338Z"
   },
   {
    "duration": 17,
    "start_time": "2023-08-08T21:57:18.352Z"
   },
   {
    "duration": 26,
    "start_time": "2023-08-08T21:57:18.372Z"
   },
   {
    "duration": 24,
    "start_time": "2023-08-08T21:57:18.402Z"
   },
   {
    "duration": 27,
    "start_time": "2023-08-08T22:10:12.739Z"
   },
   {
    "duration": 2319,
    "start_time": "2023-08-08T22:12:37.384Z"
   },
   {
    "duration": 45,
    "start_time": "2023-08-08T22:12:39.705Z"
   },
   {
    "duration": 11,
    "start_time": "2023-08-08T22:12:39.751Z"
   },
   {
    "duration": 17,
    "start_time": "2023-08-08T22:12:39.764Z"
   },
   {
    "duration": 12,
    "start_time": "2023-08-08T22:12:39.783Z"
   },
   {
    "duration": 17,
    "start_time": "2023-08-08T22:12:39.796Z"
   },
   {
    "duration": 8,
    "start_time": "2023-08-08T22:12:39.815Z"
   },
   {
    "duration": 17,
    "start_time": "2023-08-08T22:12:39.825Z"
   },
   {
    "duration": 9,
    "start_time": "2023-08-08T22:12:39.844Z"
   },
   {
    "duration": 10,
    "start_time": "2023-08-08T22:12:39.856Z"
   },
   {
    "duration": 12,
    "start_time": "2023-08-08T22:12:39.868Z"
   },
   {
    "duration": 10,
    "start_time": "2023-08-08T22:12:39.881Z"
   },
   {
    "duration": 23,
    "start_time": "2023-08-08T22:12:39.892Z"
   },
   {
    "duration": 24,
    "start_time": "2023-08-08T22:12:39.917Z"
   },
   {
    "duration": 11,
    "start_time": "2023-08-08T22:12:39.942Z"
   },
   {
    "duration": 34,
    "start_time": "2023-08-08T22:12:39.954Z"
   },
   {
    "duration": 4051,
    "start_time": "2023-08-08T22:12:39.990Z"
   },
   {
    "duration": 3,
    "start_time": "2023-08-08T22:12:44.043Z"
   },
   {
    "duration": 806,
    "start_time": "2023-08-08T22:12:44.047Z"
   },
   {
    "duration": 6,
    "start_time": "2023-08-08T22:12:44.858Z"
   },
   {
    "duration": 14,
    "start_time": "2023-08-08T22:12:44.866Z"
   },
   {
    "duration": 16,
    "start_time": "2023-08-08T22:12:44.881Z"
   },
   {
    "duration": 25,
    "start_time": "2023-08-08T22:12:44.898Z"
   },
   {
    "duration": 7,
    "start_time": "2023-08-08T22:12:44.925Z"
   },
   {
    "duration": 5,
    "start_time": "2023-08-08T22:12:44.934Z"
   },
   {
    "duration": 18,
    "start_time": "2023-08-08T22:12:44.941Z"
   },
   {
    "duration": 11,
    "start_time": "2023-08-08T22:12:44.960Z"
   },
   {
    "duration": 41,
    "start_time": "2023-08-08T22:12:44.974Z"
   },
   {
    "duration": 16,
    "start_time": "2023-08-08T22:15:33.862Z"
   },
   {
    "duration": 148,
    "start_time": "2023-08-09T06:17:27.921Z"
   },
   {
    "duration": 2004,
    "start_time": "2023-08-09T06:17:42.726Z"
   },
   {
    "duration": 45,
    "start_time": "2023-08-09T06:17:44.733Z"
   },
   {
    "duration": 12,
    "start_time": "2023-08-09T06:17:44.780Z"
   },
   {
    "duration": 17,
    "start_time": "2023-08-09T06:17:44.794Z"
   },
   {
    "duration": 7,
    "start_time": "2023-08-09T06:17:44.814Z"
   },
   {
    "duration": 13,
    "start_time": "2023-08-09T06:17:44.823Z"
   },
   {
    "duration": 21,
    "start_time": "2023-08-09T06:17:44.839Z"
   },
   {
    "duration": 7,
    "start_time": "2023-08-09T06:17:44.862Z"
   },
   {
    "duration": 9,
    "start_time": "2023-08-09T06:17:44.871Z"
   },
   {
    "duration": 14,
    "start_time": "2023-08-09T06:17:44.882Z"
   },
   {
    "duration": 5,
    "start_time": "2023-08-09T06:17:44.898Z"
   },
   {
    "duration": 9,
    "start_time": "2023-08-09T06:17:44.904Z"
   },
   {
    "duration": 10,
    "start_time": "2023-08-09T06:17:44.915Z"
   },
   {
    "duration": 26,
    "start_time": "2023-08-09T06:17:44.928Z"
   },
   {
    "duration": 8,
    "start_time": "2023-08-09T06:17:44.959Z"
   },
   {
    "duration": 26,
    "start_time": "2023-08-09T06:17:44.969Z"
   },
   {
    "duration": 4093,
    "start_time": "2023-08-09T06:17:44.997Z"
   },
   {
    "duration": 2,
    "start_time": "2023-08-09T06:17:49.092Z"
   },
   {
    "duration": 789,
    "start_time": "2023-08-09T06:17:49.096Z"
   },
   {
    "duration": 7,
    "start_time": "2023-08-09T06:17:49.886Z"
   },
   {
    "duration": 13,
    "start_time": "2023-08-09T06:17:49.895Z"
   },
   {
    "duration": 18,
    "start_time": "2023-08-09T06:17:49.909Z"
   },
   {
    "duration": 7,
    "start_time": "2023-08-09T06:17:49.928Z"
   },
   {
    "duration": 23,
    "start_time": "2023-08-09T06:17:49.936Z"
   },
   {
    "duration": 9,
    "start_time": "2023-08-09T06:17:49.961Z"
   },
   {
    "duration": 13,
    "start_time": "2023-08-09T06:17:49.972Z"
   },
   {
    "duration": 11,
    "start_time": "2023-08-09T06:17:49.987Z"
   },
   {
    "duration": 29,
    "start_time": "2023-08-09T06:17:50.000Z"
   },
   {
    "duration": 9,
    "start_time": "2023-08-09T06:17:50.031Z"
   },
   {
    "duration": 17,
    "start_time": "2023-08-09T06:17:50.042Z"
   },
   {
    "duration": 10,
    "start_time": "2023-08-09T06:17:50.061Z"
   },
   {
    "duration": 4,
    "start_time": "2023-08-09T06:28:51.700Z"
   },
   {
    "duration": 3,
    "start_time": "2023-08-09T06:28:52.366Z"
   },
   {
    "duration": 137,
    "start_time": "2023-08-09T06:28:53.232Z"
   },
   {
    "duration": 104,
    "start_time": "2023-08-09T06:29:56.942Z"
   },
   {
    "duration": 99,
    "start_time": "2023-08-09T06:34:18.300Z"
   },
   {
    "duration": 118,
    "start_time": "2023-08-09T06:36:28.616Z"
   },
   {
    "duration": 15,
    "start_time": "2023-08-09T06:38:43.614Z"
   },
   {
    "duration": 22,
    "start_time": "2023-08-09T06:38:59.887Z"
   },
   {
    "duration": 97,
    "start_time": "2023-08-09T06:39:37.286Z"
   },
   {
    "duration": 81,
    "start_time": "2023-08-09T06:40:11.142Z"
   },
   {
    "duration": 460,
    "start_time": "2023-08-09T06:47:50.399Z"
   },
   {
    "duration": 113,
    "start_time": "2023-08-09T07:01:24.145Z"
   },
   {
    "duration": 89,
    "start_time": "2023-08-09T07:02:12.761Z"
   },
   {
    "duration": 9,
    "start_time": "2023-08-09T07:02:35.522Z"
   },
   {
    "duration": 9,
    "start_time": "2023-08-09T07:02:42.663Z"
   },
   {
    "duration": 1962,
    "start_time": "2023-08-09T07:03:10.159Z"
   },
   {
    "duration": 43,
    "start_time": "2023-08-09T07:03:12.123Z"
   },
   {
    "duration": 11,
    "start_time": "2023-08-09T07:03:12.168Z"
   },
   {
    "duration": 13,
    "start_time": "2023-08-09T07:03:12.182Z"
   },
   {
    "duration": 15,
    "start_time": "2023-08-09T07:03:12.197Z"
   },
   {
    "duration": 6,
    "start_time": "2023-08-09T07:03:12.213Z"
   },
   {
    "duration": 10,
    "start_time": "2023-08-09T07:03:12.221Z"
   },
   {
    "duration": 11,
    "start_time": "2023-08-09T07:03:12.232Z"
   },
   {
    "duration": 34,
    "start_time": "2023-08-09T07:03:12.244Z"
   },
   {
    "duration": 19,
    "start_time": "2023-08-09T07:03:12.280Z"
   },
   {
    "duration": 17,
    "start_time": "2023-08-09T07:03:12.300Z"
   },
   {
    "duration": 9,
    "start_time": "2023-08-09T07:03:12.319Z"
   },
   {
    "duration": 6,
    "start_time": "2023-08-09T07:03:12.330Z"
   },
   {
    "duration": 12,
    "start_time": "2023-08-09T07:03:12.337Z"
   },
   {
    "duration": 14,
    "start_time": "2023-08-09T07:03:12.351Z"
   },
   {
    "duration": 31,
    "start_time": "2023-08-09T07:03:12.367Z"
   },
   {
    "duration": 3933,
    "start_time": "2023-08-09T07:03:12.400Z"
   },
   {
    "duration": 2,
    "start_time": "2023-08-09T07:03:16.336Z"
   },
   {
    "duration": 774,
    "start_time": "2023-08-09T07:03:16.340Z"
   },
   {
    "duration": 6,
    "start_time": "2023-08-09T07:03:17.116Z"
   },
   {
    "duration": 16,
    "start_time": "2023-08-09T07:03:17.124Z"
   },
   {
    "duration": 207,
    "start_time": "2023-08-09T07:03:17.142Z"
   },
   {
    "duration": 12,
    "start_time": "2023-08-09T07:03:17.351Z"
   },
   {
    "duration": 12,
    "start_time": "2023-08-09T07:03:17.365Z"
   },
   {
    "duration": 8,
    "start_time": "2023-08-09T07:03:17.378Z"
   },
   {
    "duration": 16,
    "start_time": "2023-08-09T07:03:17.388Z"
   },
   {
    "duration": 10,
    "start_time": "2023-08-09T07:03:17.405Z"
   },
   {
    "duration": 17,
    "start_time": "2023-08-09T07:03:17.418Z"
   },
   {
    "duration": 6,
    "start_time": "2023-08-09T07:03:17.437Z"
   },
   {
    "duration": 6,
    "start_time": "2023-08-09T07:03:17.444Z"
   },
   {
    "duration": 4,
    "start_time": "2023-08-09T07:03:17.459Z"
   },
   {
    "duration": 7,
    "start_time": "2023-08-09T07:03:17.465Z"
   },
   {
    "duration": 12,
    "start_time": "2023-08-09T07:03:17.473Z"
   },
   {
    "duration": 9,
    "start_time": "2023-08-09T07:03:59.935Z"
   },
   {
    "duration": 138,
    "start_time": "2023-08-09T07:04:06.538Z"
   },
   {
    "duration": 9,
    "start_time": "2023-08-09T07:04:22.322Z"
   },
   {
    "duration": 1968,
    "start_time": "2023-08-09T07:05:45.474Z"
   },
   {
    "duration": 45,
    "start_time": "2023-08-09T07:05:47.445Z"
   },
   {
    "duration": 12,
    "start_time": "2023-08-09T07:05:47.491Z"
   },
   {
    "duration": 26,
    "start_time": "2023-08-09T07:05:47.505Z"
   },
   {
    "duration": 23,
    "start_time": "2023-08-09T07:05:47.533Z"
   },
   {
    "duration": 11,
    "start_time": "2023-08-09T07:05:47.558Z"
   },
   {
    "duration": 9,
    "start_time": "2023-08-09T07:05:47.571Z"
   },
   {
    "duration": 11,
    "start_time": "2023-08-09T07:05:47.582Z"
   },
   {
    "duration": 18,
    "start_time": "2023-08-09T07:05:47.595Z"
   },
   {
    "duration": 19,
    "start_time": "2023-08-09T07:05:47.615Z"
   },
   {
    "duration": 12,
    "start_time": "2023-08-09T07:05:47.635Z"
   },
   {
    "duration": 18,
    "start_time": "2023-08-09T07:05:47.649Z"
   },
   {
    "duration": 61,
    "start_time": "2023-08-09T07:05:47.669Z"
   },
   {
    "duration": 19,
    "start_time": "2023-08-09T07:05:47.734Z"
   },
   {
    "duration": 12,
    "start_time": "2023-08-09T07:05:47.756Z"
   },
   {
    "duration": 28,
    "start_time": "2023-08-09T07:05:47.769Z"
   },
   {
    "duration": 4183,
    "start_time": "2023-08-09T07:05:47.799Z"
   },
   {
    "duration": 3,
    "start_time": "2023-08-09T07:05:51.984Z"
   },
   {
    "duration": 825,
    "start_time": "2023-08-09T07:05:51.989Z"
   },
   {
    "duration": 6,
    "start_time": "2023-08-09T07:05:52.815Z"
   },
   {
    "duration": 23,
    "start_time": "2023-08-09T07:05:52.823Z"
   },
   {
    "duration": 51,
    "start_time": "2023-08-09T07:05:52.848Z"
   },
   {
    "duration": 29,
    "start_time": "2023-08-09T07:05:52.901Z"
   },
   {
    "duration": 25,
    "start_time": "2023-08-09T07:05:52.932Z"
   },
   {
    "duration": 39,
    "start_time": "2023-08-09T07:05:52.959Z"
   },
   {
    "duration": 30,
    "start_time": "2023-08-09T07:05:53.000Z"
   },
   {
    "duration": 30,
    "start_time": "2023-08-09T07:05:53.032Z"
   },
   {
    "duration": 48,
    "start_time": "2023-08-09T07:05:53.064Z"
   },
   {
    "duration": 34,
    "start_time": "2023-08-09T07:05:53.114Z"
   },
   {
    "duration": 16,
    "start_time": "2023-08-09T07:05:53.149Z"
   },
   {
    "duration": 25,
    "start_time": "2023-08-09T07:05:53.167Z"
   },
   {
    "duration": 20,
    "start_time": "2023-08-09T07:05:53.194Z"
   },
   {
    "duration": 16,
    "start_time": "2023-08-09T07:05:53.216Z"
   },
   {
    "duration": 44575,
    "start_time": "2023-08-09T07:06:53.621Z"
   },
   {
    "duration": 1995,
    "start_time": "2023-08-09T07:09:01.194Z"
   },
   {
    "duration": 48,
    "start_time": "2023-08-09T07:09:03.191Z"
   },
   {
    "duration": 12,
    "start_time": "2023-08-09T07:09:03.240Z"
   },
   {
    "duration": 65,
    "start_time": "2023-08-09T07:09:03.254Z"
   },
   {
    "duration": 48,
    "start_time": "2023-08-09T07:09:03.321Z"
   },
   {
    "duration": 45,
    "start_time": "2023-08-09T07:09:03.371Z"
   },
   {
    "duration": 23,
    "start_time": "2023-08-09T07:09:03.418Z"
   },
   {
    "duration": 98,
    "start_time": "2023-08-09T07:09:03.443Z"
   },
   {
    "duration": 24,
    "start_time": "2023-08-09T07:09:03.542Z"
   },
   {
    "duration": 26,
    "start_time": "2023-08-09T07:09:03.568Z"
   },
   {
    "duration": 46,
    "start_time": "2023-08-09T07:09:03.596Z"
   },
   {
    "duration": 22,
    "start_time": "2023-08-09T07:09:03.644Z"
   },
   {
    "duration": 13,
    "start_time": "2023-08-09T07:09:03.667Z"
   },
   {
    "duration": 12,
    "start_time": "2023-08-09T07:09:03.683Z"
   },
   {
    "duration": 25,
    "start_time": "2023-08-09T07:09:03.697Z"
   },
   {
    "duration": 52,
    "start_time": "2023-08-09T07:09:03.724Z"
   },
   {
    "duration": 4176,
    "start_time": "2023-08-09T07:09:03.778Z"
   },
   {
    "duration": 3,
    "start_time": "2023-08-09T07:09:07.956Z"
   },
   {
    "duration": 846,
    "start_time": "2023-08-09T07:09:07.961Z"
   },
   {
    "duration": 7,
    "start_time": "2023-08-09T07:09:08.809Z"
   },
   {
    "duration": 26,
    "start_time": "2023-08-09T07:09:08.817Z"
   },
   {
    "duration": 48,
    "start_time": "2023-08-09T07:09:08.845Z"
   },
   {
    "duration": 19,
    "start_time": "2023-08-09T07:09:08.894Z"
   },
   {
    "duration": 15,
    "start_time": "2023-08-09T07:09:08.915Z"
   },
   {
    "duration": 29,
    "start_time": "2023-08-09T07:09:08.932Z"
   },
   {
    "duration": 34,
    "start_time": "2023-08-09T07:09:08.963Z"
   },
   {
    "duration": 23,
    "start_time": "2023-08-09T07:09:08.999Z"
   },
   {
    "duration": 32,
    "start_time": "2023-08-09T07:09:09.024Z"
   },
   {
    "duration": 18,
    "start_time": "2023-08-09T07:09:09.058Z"
   },
   {
    "duration": 15,
    "start_time": "2023-08-09T07:09:09.077Z"
   },
   {
    "duration": 10,
    "start_time": "2023-08-09T07:09:09.093Z"
   },
   {
    "duration": 8,
    "start_time": "2023-08-09T07:09:09.105Z"
   },
   {
    "duration": 9,
    "start_time": "2023-08-09T07:09:09.115Z"
   },
   {
    "duration": 45335,
    "start_time": "2023-08-09T07:09:09.126Z"
   },
   {
    "duration": 2027,
    "start_time": "2023-08-09T07:10:37.345Z"
   },
   {
    "duration": 45,
    "start_time": "2023-08-09T07:10:39.374Z"
   },
   {
    "duration": 12,
    "start_time": "2023-08-09T07:10:39.421Z"
   },
   {
    "duration": 13,
    "start_time": "2023-08-09T07:10:39.435Z"
   },
   {
    "duration": 10,
    "start_time": "2023-08-09T07:10:39.450Z"
   },
   {
    "duration": 7,
    "start_time": "2023-08-09T07:10:39.461Z"
   },
   {
    "duration": 7,
    "start_time": "2023-08-09T07:10:39.469Z"
   },
   {
    "duration": 8,
    "start_time": "2023-08-09T07:10:39.478Z"
   },
   {
    "duration": 9,
    "start_time": "2023-08-09T07:10:39.488Z"
   },
   {
    "duration": 11,
    "start_time": "2023-08-09T07:10:39.499Z"
   },
   {
    "duration": 5,
    "start_time": "2023-08-09T07:10:39.512Z"
   },
   {
    "duration": 13,
    "start_time": "2023-08-09T07:10:39.518Z"
   },
   {
    "duration": 16,
    "start_time": "2023-08-09T07:10:39.532Z"
   },
   {
    "duration": 7,
    "start_time": "2023-08-09T07:10:39.560Z"
   },
   {
    "duration": 7,
    "start_time": "2023-08-09T07:10:39.569Z"
   },
   {
    "duration": 28,
    "start_time": "2023-08-09T07:10:39.578Z"
   },
   {
    "duration": 4126,
    "start_time": "2023-08-09T07:10:39.608Z"
   },
   {
    "duration": 2,
    "start_time": "2023-08-09T07:10:43.736Z"
   },
   {
    "duration": 809,
    "start_time": "2023-08-09T07:10:43.740Z"
   },
   {
    "duration": 12,
    "start_time": "2023-08-09T07:10:44.551Z"
   },
   {
    "duration": 13,
    "start_time": "2023-08-09T07:10:44.565Z"
   },
   {
    "duration": 17,
    "start_time": "2023-08-09T07:10:44.580Z"
   },
   {
    "duration": 15,
    "start_time": "2023-08-09T07:10:44.599Z"
   },
   {
    "duration": 10,
    "start_time": "2023-08-09T07:10:44.616Z"
   },
   {
    "duration": 6,
    "start_time": "2023-08-09T07:10:44.628Z"
   },
   {
    "duration": 26,
    "start_time": "2023-08-09T07:10:44.635Z"
   },
   {
    "duration": 12,
    "start_time": "2023-08-09T07:10:44.662Z"
   },
   {
    "duration": 37,
    "start_time": "2023-08-09T07:10:44.675Z"
   },
   {
    "duration": 11,
    "start_time": "2023-08-09T07:10:44.713Z"
   },
   {
    "duration": 12,
    "start_time": "2023-08-09T07:10:44.726Z"
   },
   {
    "duration": 8,
    "start_time": "2023-08-09T07:10:44.739Z"
   },
   {
    "duration": 5,
    "start_time": "2023-08-09T07:10:44.748Z"
   },
   {
    "duration": 13,
    "start_time": "2023-08-09T07:10:44.755Z"
   },
   {
    "duration": 232,
    "start_time": "2023-08-09T07:10:44.770Z"
   },
   {
    "duration": 2021,
    "start_time": "2023-08-09T07:12:00.667Z"
   },
   {
    "duration": 45,
    "start_time": "2023-08-09T07:12:02.690Z"
   },
   {
    "duration": 13,
    "start_time": "2023-08-09T07:12:02.737Z"
   },
   {
    "duration": 40,
    "start_time": "2023-08-09T07:12:02.751Z"
   },
   {
    "duration": 28,
    "start_time": "2023-08-09T07:12:02.793Z"
   },
   {
    "duration": 15,
    "start_time": "2023-08-09T07:12:02.823Z"
   },
   {
    "duration": 29,
    "start_time": "2023-08-09T07:12:02.840Z"
   },
   {
    "duration": 39,
    "start_time": "2023-08-09T07:12:02.871Z"
   },
   {
    "duration": 34,
    "start_time": "2023-08-09T07:12:02.912Z"
   },
   {
    "duration": 43,
    "start_time": "2023-08-09T07:12:02.948Z"
   },
   {
    "duration": 178,
    "start_time": "2023-08-09T07:12:02.993Z"
   },
   {
    "duration": 92,
    "start_time": "2023-08-09T07:12:03.173Z"
   },
   {
    "duration": 17,
    "start_time": "2023-08-09T07:12:03.267Z"
   },
   {
    "duration": 12,
    "start_time": "2023-08-09T07:12:03.286Z"
   },
   {
    "duration": 66,
    "start_time": "2023-08-09T07:12:03.300Z"
   },
   {
    "duration": 74,
    "start_time": "2023-08-09T07:12:03.368Z"
   },
   {
    "duration": 4195,
    "start_time": "2023-08-09T07:12:03.443Z"
   },
   {
    "duration": 2,
    "start_time": "2023-08-09T07:12:07.640Z"
   },
   {
    "duration": 849,
    "start_time": "2023-08-09T07:12:07.644Z"
   },
   {
    "duration": 6,
    "start_time": "2023-08-09T07:12:08.494Z"
   },
   {
    "duration": 17,
    "start_time": "2023-08-09T07:12:08.502Z"
   },
   {
    "duration": 21,
    "start_time": "2023-08-09T07:12:08.520Z"
   },
   {
    "duration": 16,
    "start_time": "2023-08-09T07:12:08.544Z"
   },
   {
    "duration": 8,
    "start_time": "2023-08-09T07:12:08.562Z"
   },
   {
    "duration": 8,
    "start_time": "2023-08-09T07:12:08.572Z"
   },
   {
    "duration": 157,
    "start_time": "2023-08-09T07:12:08.581Z"
   },
   {
    "duration": 0,
    "start_time": "2023-08-09T07:12:08.740Z"
   },
   {
    "duration": 0,
    "start_time": "2023-08-09T07:12:08.741Z"
   },
   {
    "duration": 0,
    "start_time": "2023-08-09T07:12:08.742Z"
   },
   {
    "duration": 0,
    "start_time": "2023-08-09T07:12:08.743Z"
   },
   {
    "duration": 0,
    "start_time": "2023-08-09T07:12:08.744Z"
   },
   {
    "duration": 0,
    "start_time": "2023-08-09T07:12:08.745Z"
   },
   {
    "duration": 0,
    "start_time": "2023-08-09T07:12:08.758Z"
   },
   {
    "duration": 0,
    "start_time": "2023-08-09T07:12:08.760Z"
   },
   {
    "duration": 18,
    "start_time": "2023-08-09T07:12:29.788Z"
   },
   {
    "duration": 12,
    "start_time": "2023-08-09T07:12:31.021Z"
   },
   {
    "duration": 1967,
    "start_time": "2023-08-09T07:12:43.416Z"
   },
   {
    "duration": 45,
    "start_time": "2023-08-09T07:12:45.385Z"
   },
   {
    "duration": 122,
    "start_time": "2023-08-09T07:12:45.431Z"
   },
   {
    "duration": 14,
    "start_time": "2023-08-09T07:12:45.555Z"
   },
   {
    "duration": 11,
    "start_time": "2023-08-09T07:12:45.572Z"
   },
   {
    "duration": 11,
    "start_time": "2023-08-09T07:12:45.585Z"
   },
   {
    "duration": 13,
    "start_time": "2023-08-09T07:12:45.598Z"
   },
   {
    "duration": 10,
    "start_time": "2023-08-09T07:12:45.613Z"
   },
   {
    "duration": 10,
    "start_time": "2023-08-09T07:12:45.624Z"
   },
   {
    "duration": 21,
    "start_time": "2023-08-09T07:12:45.636Z"
   },
   {
    "duration": 13,
    "start_time": "2023-08-09T07:12:45.659Z"
   },
   {
    "duration": 10,
    "start_time": "2023-08-09T07:12:45.673Z"
   },
   {
    "duration": 7,
    "start_time": "2023-08-09T07:12:45.684Z"
   },
   {
    "duration": 20,
    "start_time": "2023-08-09T07:12:45.694Z"
   },
   {
    "duration": 7,
    "start_time": "2023-08-09T07:12:45.716Z"
   },
   {
    "duration": 36,
    "start_time": "2023-08-09T07:12:45.725Z"
   },
   {
    "duration": 4094,
    "start_time": "2023-08-09T07:12:45.764Z"
   },
   {
    "duration": 3,
    "start_time": "2023-08-09T07:12:49.860Z"
   },
   {
    "duration": 840,
    "start_time": "2023-08-09T07:12:49.864Z"
   },
   {
    "duration": 6,
    "start_time": "2023-08-09T07:12:50.706Z"
   },
   {
    "duration": 21,
    "start_time": "2023-08-09T07:12:50.714Z"
   },
   {
    "duration": 32,
    "start_time": "2023-08-09T07:12:50.737Z"
   },
   {
    "duration": 15,
    "start_time": "2023-08-09T07:12:50.771Z"
   },
   {
    "duration": 22,
    "start_time": "2023-08-09T07:12:50.787Z"
   },
   {
    "duration": 12,
    "start_time": "2023-08-09T07:12:50.811Z"
   },
   {
    "duration": 19,
    "start_time": "2023-08-09T07:12:50.825Z"
   },
   {
    "duration": 21,
    "start_time": "2023-08-09T07:12:50.845Z"
   },
   {
    "duration": 22,
    "start_time": "2023-08-09T07:12:50.868Z"
   },
   {
    "duration": 15,
    "start_time": "2023-08-09T07:12:50.892Z"
   },
   {
    "duration": 15,
    "start_time": "2023-08-09T07:12:50.908Z"
   },
   {
    "duration": 11,
    "start_time": "2023-08-09T07:12:50.924Z"
   },
   {
    "duration": 17,
    "start_time": "2023-08-09T07:12:50.937Z"
   },
   {
    "duration": 15,
    "start_time": "2023-08-09T07:12:50.956Z"
   },
   {
    "duration": 176,
    "start_time": "2023-08-09T07:12:50.973Z"
   },
   {
    "duration": 1984,
    "start_time": "2023-08-09T07:13:21.765Z"
   },
   {
    "duration": 44,
    "start_time": "2023-08-09T07:13:23.751Z"
   },
   {
    "duration": 11,
    "start_time": "2023-08-09T07:13:23.796Z"
   },
   {
    "duration": 26,
    "start_time": "2023-08-09T07:13:23.810Z"
   },
   {
    "duration": 16,
    "start_time": "2023-08-09T07:13:23.839Z"
   },
   {
    "duration": 7,
    "start_time": "2023-08-09T07:13:23.857Z"
   },
   {
    "duration": 10,
    "start_time": "2023-08-09T07:13:23.865Z"
   },
   {
    "duration": 13,
    "start_time": "2023-08-09T07:13:23.876Z"
   },
   {
    "duration": 16,
    "start_time": "2023-08-09T07:13:23.891Z"
   },
   {
    "duration": 11,
    "start_time": "2023-08-09T07:13:23.909Z"
   },
   {
    "duration": 7,
    "start_time": "2023-08-09T07:13:23.921Z"
   },
   {
    "duration": 11,
    "start_time": "2023-08-09T07:13:23.929Z"
   },
   {
    "duration": 8,
    "start_time": "2023-08-09T07:13:23.942Z"
   },
   {
    "duration": 10,
    "start_time": "2023-08-09T07:13:23.958Z"
   },
   {
    "duration": 7,
    "start_time": "2023-08-09T07:13:23.970Z"
   },
   {
    "duration": 31,
    "start_time": "2023-08-09T07:13:23.979Z"
   },
   {
    "duration": 4098,
    "start_time": "2023-08-09T07:13:24.012Z"
   },
   {
    "duration": 4,
    "start_time": "2023-08-09T07:13:28.112Z"
   },
   {
    "duration": 818,
    "start_time": "2023-08-09T07:13:28.118Z"
   },
   {
    "duration": 7,
    "start_time": "2023-08-09T07:13:28.938Z"
   },
   {
    "duration": 12,
    "start_time": "2023-08-09T07:13:28.959Z"
   },
   {
    "duration": 18,
    "start_time": "2023-08-09T07:13:28.973Z"
   },
   {
    "duration": 9,
    "start_time": "2023-08-09T07:13:28.993Z"
   },
   {
    "duration": 12,
    "start_time": "2023-08-09T07:13:29.004Z"
   },
   {
    "duration": 13,
    "start_time": "2023-08-09T07:13:29.017Z"
   },
   {
    "duration": 20,
    "start_time": "2023-08-09T07:13:29.032Z"
   },
   {
    "duration": 15,
    "start_time": "2023-08-09T07:13:29.059Z"
   },
   {
    "duration": 33,
    "start_time": "2023-08-09T07:13:29.076Z"
   },
   {
    "duration": 10,
    "start_time": "2023-08-09T07:13:29.111Z"
   },
   {
    "duration": 5,
    "start_time": "2023-08-09T07:13:29.123Z"
   },
   {
    "duration": 12,
    "start_time": "2023-08-09T07:13:29.130Z"
   },
   {
    "duration": 10,
    "start_time": "2023-08-09T07:13:29.144Z"
   },
   {
    "duration": 9,
    "start_time": "2023-08-09T07:13:29.156Z"
   },
   {
    "duration": 44895,
    "start_time": "2023-08-09T07:13:29.167Z"
   },
   {
    "duration": 1976,
    "start_time": "2023-08-09T07:15:49.910Z"
   },
   {
    "duration": 47,
    "start_time": "2023-08-09T07:15:51.888Z"
   },
   {
    "duration": 12,
    "start_time": "2023-08-09T07:15:51.937Z"
   },
   {
    "duration": 23,
    "start_time": "2023-08-09T07:15:51.951Z"
   },
   {
    "duration": 26,
    "start_time": "2023-08-09T07:15:51.976Z"
   },
   {
    "duration": 9,
    "start_time": "2023-08-09T07:15:52.004Z"
   },
   {
    "duration": 11,
    "start_time": "2023-08-09T07:15:52.014Z"
   },
   {
    "duration": 21,
    "start_time": "2023-08-09T07:15:52.026Z"
   },
   {
    "duration": 13,
    "start_time": "2023-08-09T07:15:52.049Z"
   },
   {
    "duration": 25,
    "start_time": "2023-08-09T07:15:52.065Z"
   },
   {
    "duration": 10,
    "start_time": "2023-08-09T07:15:52.091Z"
   },
   {
    "duration": 19,
    "start_time": "2023-08-09T07:15:52.103Z"
   },
   {
    "duration": 15,
    "start_time": "2023-08-09T07:15:52.124Z"
   },
   {
    "duration": 10,
    "start_time": "2023-08-09T07:15:52.141Z"
   },
   {
    "duration": 17,
    "start_time": "2023-08-09T07:15:52.153Z"
   },
   {
    "duration": 42,
    "start_time": "2023-08-09T07:15:52.171Z"
   },
   {
    "duration": 4171,
    "start_time": "2023-08-09T07:15:52.215Z"
   },
   {
    "duration": 4,
    "start_time": "2023-08-09T07:15:56.388Z"
   },
   {
    "duration": 815,
    "start_time": "2023-08-09T07:15:56.394Z"
   },
   {
    "duration": 7,
    "start_time": "2023-08-09T07:15:57.211Z"
   },
   {
    "duration": 13,
    "start_time": "2023-08-09T07:15:57.220Z"
   },
   {
    "duration": 36,
    "start_time": "2023-08-09T07:15:57.235Z"
   },
   {
    "duration": 8,
    "start_time": "2023-08-09T07:15:57.274Z"
   },
   {
    "duration": 28,
    "start_time": "2023-08-09T07:15:57.284Z"
   },
   {
    "duration": 12,
    "start_time": "2023-08-09T07:15:57.314Z"
   },
   {
    "duration": 25,
    "start_time": "2023-08-09T07:15:57.328Z"
   },
   {
    "duration": 13,
    "start_time": "2023-08-09T07:15:57.355Z"
   },
   {
    "duration": 58,
    "start_time": "2023-08-09T07:15:57.372Z"
   },
   {
    "duration": 17,
    "start_time": "2023-08-09T07:15:57.432Z"
   },
   {
    "duration": 20,
    "start_time": "2023-08-09T07:15:57.451Z"
   },
   {
    "duration": 35,
    "start_time": "2023-08-09T07:15:57.473Z"
   },
   {
    "duration": 16,
    "start_time": "2023-08-09T07:15:57.510Z"
   },
   {
    "duration": 12,
    "start_time": "2023-08-09T07:15:57.528Z"
   },
   {
    "duration": 44311,
    "start_time": "2023-08-09T07:15:57.541Z"
   },
   {
    "duration": 10,
    "start_time": "2023-08-09T07:25:31.918Z"
   },
   {
    "duration": 44956,
    "start_time": "2023-08-09T07:25:34.580Z"
   },
   {
    "duration": 1998,
    "start_time": "2023-08-09T07:28:16.771Z"
   },
   {
    "duration": 45,
    "start_time": "2023-08-09T07:28:18.771Z"
   },
   {
    "duration": 12,
    "start_time": "2023-08-09T07:28:18.818Z"
   },
   {
    "duration": 25,
    "start_time": "2023-08-09T07:28:18.832Z"
   },
   {
    "duration": 32,
    "start_time": "2023-08-09T07:28:18.859Z"
   },
   {
    "duration": 14,
    "start_time": "2023-08-09T07:28:18.893Z"
   },
   {
    "duration": 18,
    "start_time": "2023-08-09T07:28:18.909Z"
   },
   {
    "duration": 14,
    "start_time": "2023-08-09T07:28:18.929Z"
   },
   {
    "duration": 26,
    "start_time": "2023-08-09T07:28:18.945Z"
   },
   {
    "duration": 19,
    "start_time": "2023-08-09T07:28:18.973Z"
   },
   {
    "duration": 9,
    "start_time": "2023-08-09T07:28:18.994Z"
   },
   {
    "duration": 11,
    "start_time": "2023-08-09T07:28:19.004Z"
   },
   {
    "duration": 9,
    "start_time": "2023-08-09T07:28:19.017Z"
   },
   {
    "duration": 12,
    "start_time": "2023-08-09T07:28:19.028Z"
   },
   {
    "duration": 14,
    "start_time": "2023-08-09T07:28:19.042Z"
   },
   {
    "duration": 42,
    "start_time": "2023-08-09T07:28:19.057Z"
   },
   {
    "duration": 4130,
    "start_time": "2023-08-09T07:28:19.100Z"
   },
   {
    "duration": 3,
    "start_time": "2023-08-09T07:28:23.232Z"
   },
   {
    "duration": 806,
    "start_time": "2023-08-09T07:28:23.237Z"
   },
   {
    "duration": 14,
    "start_time": "2023-08-09T07:28:24.045Z"
   },
   {
    "duration": 15,
    "start_time": "2023-08-09T07:28:24.060Z"
   },
   {
    "duration": 18,
    "start_time": "2023-08-09T07:28:24.077Z"
   },
   {
    "duration": 8,
    "start_time": "2023-08-09T07:28:24.097Z"
   },
   {
    "duration": 10,
    "start_time": "2023-08-09T07:28:24.107Z"
   },
   {
    "duration": 8,
    "start_time": "2023-08-09T07:28:24.119Z"
   },
   {
    "duration": 38,
    "start_time": "2023-08-09T07:28:24.129Z"
   },
   {
    "duration": 15,
    "start_time": "2023-08-09T07:28:24.169Z"
   },
   {
    "duration": 22,
    "start_time": "2023-08-09T07:28:24.187Z"
   },
   {
    "duration": 6,
    "start_time": "2023-08-09T07:28:24.211Z"
   },
   {
    "duration": 6,
    "start_time": "2023-08-09T07:28:24.218Z"
   },
   {
    "duration": 10,
    "start_time": "2023-08-09T07:28:24.225Z"
   },
   {
    "duration": 6,
    "start_time": "2023-08-09T07:28:24.237Z"
   },
   {
    "duration": 20,
    "start_time": "2023-08-09T07:28:24.245Z"
   },
   {
    "duration": 42211,
    "start_time": "2023-08-09T07:28:24.266Z"
   },
   {
    "duration": 2058,
    "start_time": "2023-08-09T07:30:27.148Z"
   },
   {
    "duration": 44,
    "start_time": "2023-08-09T07:30:29.208Z"
   },
   {
    "duration": 12,
    "start_time": "2023-08-09T07:30:29.253Z"
   },
   {
    "duration": 21,
    "start_time": "2023-08-09T07:30:29.266Z"
   },
   {
    "duration": 19,
    "start_time": "2023-08-09T07:30:29.290Z"
   },
   {
    "duration": 13,
    "start_time": "2023-08-09T07:30:29.311Z"
   },
   {
    "duration": 15,
    "start_time": "2023-08-09T07:30:29.327Z"
   },
   {
    "duration": 15,
    "start_time": "2023-08-09T07:30:29.344Z"
   },
   {
    "duration": 13,
    "start_time": "2023-08-09T07:30:29.361Z"
   },
   {
    "duration": 10,
    "start_time": "2023-08-09T07:30:29.376Z"
   },
   {
    "duration": 5,
    "start_time": "2023-08-09T07:30:29.388Z"
   },
   {
    "duration": 14,
    "start_time": "2023-08-09T07:30:29.394Z"
   },
   {
    "duration": 10,
    "start_time": "2023-08-09T07:30:29.410Z"
   },
   {
    "duration": 13,
    "start_time": "2023-08-09T07:30:29.423Z"
   },
   {
    "duration": 21,
    "start_time": "2023-08-09T07:30:29.438Z"
   },
   {
    "duration": 27,
    "start_time": "2023-08-09T07:30:29.460Z"
   },
   {
    "duration": 4153,
    "start_time": "2023-08-09T07:30:29.489Z"
   },
   {
    "duration": 3,
    "start_time": "2023-08-09T07:30:33.644Z"
   },
   {
    "duration": 817,
    "start_time": "2023-08-09T07:30:33.649Z"
   },
   {
    "duration": 8,
    "start_time": "2023-08-09T07:30:34.468Z"
   },
   {
    "duration": 20,
    "start_time": "2023-08-09T07:30:34.478Z"
   },
   {
    "duration": 18,
    "start_time": "2023-08-09T07:30:34.500Z"
   },
   {
    "duration": 5,
    "start_time": "2023-08-09T07:30:34.520Z"
   },
   {
    "duration": 32,
    "start_time": "2023-08-09T07:30:34.527Z"
   },
   {
    "duration": 4,
    "start_time": "2023-08-09T07:30:34.561Z"
   },
   {
    "duration": 14,
    "start_time": "2023-08-09T07:30:34.566Z"
   },
   {
    "duration": 11,
    "start_time": "2023-08-09T07:30:34.581Z"
   },
   {
    "duration": 20,
    "start_time": "2023-08-09T07:30:34.594Z"
   },
   {
    "duration": 8,
    "start_time": "2023-08-09T07:30:34.616Z"
   },
   {
    "duration": 5,
    "start_time": "2023-08-09T07:30:34.626Z"
   },
   {
    "duration": 28,
    "start_time": "2023-08-09T07:30:34.632Z"
   },
   {
    "duration": 4,
    "start_time": "2023-08-09T07:30:34.662Z"
   },
   {
    "duration": 9,
    "start_time": "2023-08-09T07:30:34.668Z"
   },
   {
    "duration": 47622,
    "start_time": "2023-08-09T07:30:34.679Z"
   },
   {
    "duration": 2068,
    "start_time": "2023-08-09T07:31:49.346Z"
   },
   {
    "duration": 47,
    "start_time": "2023-08-09T07:31:51.416Z"
   },
   {
    "duration": 13,
    "start_time": "2023-08-09T07:31:51.464Z"
   },
   {
    "duration": 15,
    "start_time": "2023-08-09T07:31:51.479Z"
   },
   {
    "duration": 9,
    "start_time": "2023-08-09T07:31:51.497Z"
   },
   {
    "duration": 16,
    "start_time": "2023-08-09T07:31:51.508Z"
   },
   {
    "duration": 8,
    "start_time": "2023-08-09T07:31:51.526Z"
   },
   {
    "duration": 23,
    "start_time": "2023-08-09T07:31:51.536Z"
   },
   {
    "duration": 9,
    "start_time": "2023-08-09T07:31:51.561Z"
   },
   {
    "duration": 16,
    "start_time": "2023-08-09T07:31:51.572Z"
   },
   {
    "duration": 8,
    "start_time": "2023-08-09T07:31:51.590Z"
   },
   {
    "duration": 9,
    "start_time": "2023-08-09T07:31:51.600Z"
   },
   {
    "duration": 6,
    "start_time": "2023-08-09T07:31:51.611Z"
   },
   {
    "duration": 10,
    "start_time": "2023-08-09T07:31:51.621Z"
   },
   {
    "duration": 26,
    "start_time": "2023-08-09T07:31:51.634Z"
   },
   {
    "duration": 26,
    "start_time": "2023-08-09T07:31:51.662Z"
   },
   {
    "duration": 4237,
    "start_time": "2023-08-09T07:31:51.689Z"
   },
   {
    "duration": 3,
    "start_time": "2023-08-09T07:31:55.928Z"
   },
   {
    "duration": 828,
    "start_time": "2023-08-09T07:31:55.933Z"
   },
   {
    "duration": 6,
    "start_time": "2023-08-09T07:31:56.763Z"
   },
   {
    "duration": 29,
    "start_time": "2023-08-09T07:31:56.771Z"
   },
   {
    "duration": 15,
    "start_time": "2023-08-09T07:31:56.802Z"
   },
   {
    "duration": 4,
    "start_time": "2023-08-09T07:31:56.819Z"
   },
   {
    "duration": 8,
    "start_time": "2023-08-09T07:31:56.825Z"
   },
   {
    "duration": 25,
    "start_time": "2023-08-09T07:31:56.835Z"
   },
   {
    "duration": 15,
    "start_time": "2023-08-09T07:31:56.862Z"
   },
   {
    "duration": 12,
    "start_time": "2023-08-09T07:31:56.879Z"
   },
   {
    "duration": 18,
    "start_time": "2023-08-09T07:31:56.893Z"
   },
   {
    "duration": 6,
    "start_time": "2023-08-09T07:31:56.913Z"
   },
   {
    "duration": 7,
    "start_time": "2023-08-09T07:31:56.921Z"
   },
   {
    "duration": 30,
    "start_time": "2023-08-09T07:31:56.929Z"
   },
   {
    "duration": 4,
    "start_time": "2023-08-09T07:31:56.961Z"
   },
   {
    "duration": 10,
    "start_time": "2023-08-09T07:31:56.967Z"
   },
   {
    "duration": 47730,
    "start_time": "2023-08-09T07:31:56.979Z"
   },
   {
    "duration": 2113,
    "start_time": "2023-08-09T07:33:01.638Z"
   },
   {
    "duration": 50,
    "start_time": "2023-08-09T07:33:03.753Z"
   },
   {
    "duration": 14,
    "start_time": "2023-08-09T07:33:03.805Z"
   },
   {
    "duration": 19,
    "start_time": "2023-08-09T07:33:03.821Z"
   },
   {
    "duration": 46,
    "start_time": "2023-08-09T07:33:03.842Z"
   },
   {
    "duration": 40,
    "start_time": "2023-08-09T07:33:03.890Z"
   },
   {
    "duration": 27,
    "start_time": "2023-08-09T07:33:03.932Z"
   },
   {
    "duration": 30,
    "start_time": "2023-08-09T07:33:03.961Z"
   },
   {
    "duration": 21,
    "start_time": "2023-08-09T07:33:03.992Z"
   },
   {
    "duration": 25,
    "start_time": "2023-08-09T07:33:04.015Z"
   },
   {
    "duration": 10,
    "start_time": "2023-08-09T07:33:04.042Z"
   },
   {
    "duration": 11,
    "start_time": "2023-08-09T07:33:04.053Z"
   },
   {
    "duration": 23,
    "start_time": "2023-08-09T07:33:04.066Z"
   },
   {
    "duration": 19,
    "start_time": "2023-08-09T07:33:04.091Z"
   },
   {
    "duration": 15,
    "start_time": "2023-08-09T07:33:04.112Z"
   },
   {
    "duration": 26,
    "start_time": "2023-08-09T07:33:04.129Z"
   },
   {
    "duration": 4094,
    "start_time": "2023-08-09T07:33:04.156Z"
   },
   {
    "duration": 4,
    "start_time": "2023-08-09T07:33:08.253Z"
   },
   {
    "duration": 826,
    "start_time": "2023-08-09T07:33:08.259Z"
   },
   {
    "duration": 6,
    "start_time": "2023-08-09T07:33:09.087Z"
   },
   {
    "duration": 38,
    "start_time": "2023-08-09T07:33:09.095Z"
   },
   {
    "duration": 20,
    "start_time": "2023-08-09T07:33:09.135Z"
   },
   {
    "duration": 30,
    "start_time": "2023-08-09T07:33:09.157Z"
   },
   {
    "duration": 10,
    "start_time": "2023-08-09T07:33:09.189Z"
   },
   {
    "duration": 9,
    "start_time": "2023-08-09T07:33:09.201Z"
   },
   {
    "duration": 16,
    "start_time": "2023-08-09T07:33:09.212Z"
   },
   {
    "duration": 20,
    "start_time": "2023-08-09T07:33:09.230Z"
   },
   {
    "duration": 21,
    "start_time": "2023-08-09T07:33:09.253Z"
   },
   {
    "duration": 6,
    "start_time": "2023-08-09T07:33:09.276Z"
   },
   {
    "duration": 5,
    "start_time": "2023-08-09T07:33:09.284Z"
   },
   {
    "duration": 9,
    "start_time": "2023-08-09T07:33:09.290Z"
   },
   {
    "duration": 6,
    "start_time": "2023-08-09T07:33:09.300Z"
   },
   {
    "duration": 9,
    "start_time": "2023-08-09T07:33:09.308Z"
   },
   {
    "duration": 43857,
    "start_time": "2023-08-09T07:33:09.318Z"
   },
   {
    "duration": 2045,
    "start_time": "2023-08-09T07:34:05.618Z"
   },
   {
    "duration": 47,
    "start_time": "2023-08-09T07:34:07.665Z"
   },
   {
    "duration": 11,
    "start_time": "2023-08-09T07:34:07.714Z"
   },
   {
    "duration": 12,
    "start_time": "2023-08-09T07:34:07.727Z"
   },
   {
    "duration": 8,
    "start_time": "2023-08-09T07:34:07.742Z"
   },
   {
    "duration": 7,
    "start_time": "2023-08-09T07:34:07.752Z"
   },
   {
    "duration": 5,
    "start_time": "2023-08-09T07:34:07.761Z"
   },
   {
    "duration": 15,
    "start_time": "2023-08-09T07:34:07.768Z"
   },
   {
    "duration": 13,
    "start_time": "2023-08-09T07:34:07.784Z"
   },
   {
    "duration": 13,
    "start_time": "2023-08-09T07:34:07.798Z"
   },
   {
    "duration": 6,
    "start_time": "2023-08-09T07:34:07.813Z"
   },
   {
    "duration": 12,
    "start_time": "2023-08-09T07:34:07.820Z"
   },
   {
    "duration": 8,
    "start_time": "2023-08-09T07:34:07.834Z"
   },
   {
    "duration": 14,
    "start_time": "2023-08-09T07:34:07.845Z"
   },
   {
    "duration": 7,
    "start_time": "2023-08-09T07:34:07.861Z"
   },
   {
    "duration": 26,
    "start_time": "2023-08-09T07:34:07.870Z"
   },
   {
    "duration": 4104,
    "start_time": "2023-08-09T07:34:07.898Z"
   },
   {
    "duration": 3,
    "start_time": "2023-08-09T07:34:12.004Z"
   },
   {
    "duration": 791,
    "start_time": "2023-08-09T07:34:12.009Z"
   },
   {
    "duration": 6,
    "start_time": "2023-08-09T07:34:12.802Z"
   },
   {
    "duration": 13,
    "start_time": "2023-08-09T07:34:12.810Z"
   },
   {
    "duration": 17,
    "start_time": "2023-08-09T07:34:12.824Z"
   },
   {
    "duration": 26,
    "start_time": "2023-08-09T07:34:12.843Z"
   },
   {
    "duration": 15,
    "start_time": "2023-08-09T07:34:12.871Z"
   },
   {
    "duration": 15,
    "start_time": "2023-08-09T07:34:12.888Z"
   },
   {
    "duration": 21,
    "start_time": "2023-08-09T07:34:12.904Z"
   },
   {
    "duration": 12,
    "start_time": "2023-08-09T07:34:12.927Z"
   },
   {
    "duration": 24,
    "start_time": "2023-08-09T07:34:12.940Z"
   },
   {
    "duration": 13,
    "start_time": "2023-08-09T07:34:12.966Z"
   },
   {
    "duration": 8,
    "start_time": "2023-08-09T07:34:12.981Z"
   },
   {
    "duration": 10,
    "start_time": "2023-08-09T07:34:12.991Z"
   },
   {
    "duration": 8,
    "start_time": "2023-08-09T07:34:13.003Z"
   },
   {
    "duration": 14,
    "start_time": "2023-08-09T07:34:13.012Z"
   },
   {
    "duration": 44108,
    "start_time": "2023-08-09T07:34:13.028Z"
   },
   {
    "duration": 1916,
    "start_time": "2023-08-09T07:35:24.813Z"
   },
   {
    "duration": 44,
    "start_time": "2023-08-09T07:35:26.731Z"
   },
   {
    "duration": 12,
    "start_time": "2023-08-09T07:35:26.777Z"
   },
   {
    "duration": 13,
    "start_time": "2023-08-09T07:35:26.791Z"
   },
   {
    "duration": 10,
    "start_time": "2023-08-09T07:35:26.807Z"
   },
   {
    "duration": 21,
    "start_time": "2023-08-09T07:35:26.818Z"
   },
   {
    "duration": 10,
    "start_time": "2023-08-09T07:35:26.841Z"
   },
   {
    "duration": 10,
    "start_time": "2023-08-09T07:35:26.852Z"
   },
   {
    "duration": 14,
    "start_time": "2023-08-09T07:35:26.864Z"
   },
   {
    "duration": 79,
    "start_time": "2023-08-09T07:35:26.880Z"
   },
   {
    "duration": 16,
    "start_time": "2023-08-09T07:35:26.961Z"
   },
   {
    "duration": 9,
    "start_time": "2023-08-09T07:35:26.979Z"
   },
   {
    "duration": 9,
    "start_time": "2023-08-09T07:35:26.989Z"
   },
   {
    "duration": 13,
    "start_time": "2023-08-09T07:35:27.001Z"
   },
   {
    "duration": 9,
    "start_time": "2023-08-09T07:35:27.016Z"
   },
   {
    "duration": 36,
    "start_time": "2023-08-09T07:35:27.026Z"
   },
   {
    "duration": 4154,
    "start_time": "2023-08-09T07:35:27.064Z"
   },
   {
    "duration": 3,
    "start_time": "2023-08-09T07:35:31.220Z"
   },
   {
    "duration": 863,
    "start_time": "2023-08-09T07:35:31.225Z"
   },
   {
    "duration": 6,
    "start_time": "2023-08-09T07:35:32.089Z"
   },
   {
    "duration": 17,
    "start_time": "2023-08-09T07:35:32.097Z"
   },
   {
    "duration": 28,
    "start_time": "2023-08-09T07:35:32.116Z"
   },
   {
    "duration": 21,
    "start_time": "2023-08-09T07:35:32.146Z"
   },
   {
    "duration": 14,
    "start_time": "2023-08-09T07:35:32.169Z"
   },
   {
    "duration": 14,
    "start_time": "2023-08-09T07:35:32.184Z"
   },
   {
    "duration": 22,
    "start_time": "2023-08-09T07:35:32.200Z"
   },
   {
    "duration": 41,
    "start_time": "2023-08-09T07:35:32.224Z"
   },
   {
    "duration": 52,
    "start_time": "2023-08-09T07:35:32.267Z"
   },
   {
    "duration": 27,
    "start_time": "2023-08-09T07:35:32.321Z"
   },
   {
    "duration": 34,
    "start_time": "2023-08-09T07:35:32.350Z"
   },
   {
    "duration": 35,
    "start_time": "2023-08-09T07:35:32.386Z"
   },
   {
    "duration": 24,
    "start_time": "2023-08-09T07:35:32.423Z"
   },
   {
    "duration": 23,
    "start_time": "2023-08-09T07:35:32.449Z"
   },
   {
    "duration": 44591,
    "start_time": "2023-08-09T07:35:32.474Z"
   },
   {
    "duration": 4,
    "start_time": "2023-08-09T07:37:02.106Z"
   },
   {
    "duration": 2013,
    "start_time": "2023-08-09T07:37:06.944Z"
   },
   {
    "duration": 45,
    "start_time": "2023-08-09T07:37:08.959Z"
   },
   {
    "duration": 12,
    "start_time": "2023-08-09T07:37:09.005Z"
   },
   {
    "duration": 32,
    "start_time": "2023-08-09T07:37:09.019Z"
   },
   {
    "duration": 12,
    "start_time": "2023-08-09T07:37:09.053Z"
   },
   {
    "duration": 9,
    "start_time": "2023-08-09T07:37:09.067Z"
   },
   {
    "duration": 8,
    "start_time": "2023-08-09T07:37:09.077Z"
   },
   {
    "duration": 11,
    "start_time": "2023-08-09T07:37:09.086Z"
   },
   {
    "duration": 15,
    "start_time": "2023-08-09T07:37:09.099Z"
   },
   {
    "duration": 12,
    "start_time": "2023-08-09T07:37:09.117Z"
   },
   {
    "duration": 7,
    "start_time": "2023-08-09T07:37:09.132Z"
   },
   {
    "duration": 17,
    "start_time": "2023-08-09T07:37:09.140Z"
   },
   {
    "duration": 8,
    "start_time": "2023-08-09T07:37:09.159Z"
   },
   {
    "duration": 10,
    "start_time": "2023-08-09T07:37:09.169Z"
   },
   {
    "duration": 7,
    "start_time": "2023-08-09T07:37:09.181Z"
   },
   {
    "duration": 28,
    "start_time": "2023-08-09T07:37:09.189Z"
   },
   {
    "duration": 4119,
    "start_time": "2023-08-09T07:37:09.219Z"
   },
   {
    "duration": 3,
    "start_time": "2023-08-09T07:37:13.340Z"
   },
   {
    "duration": 788,
    "start_time": "2023-08-09T07:37:13.345Z"
   },
   {
    "duration": 7,
    "start_time": "2023-08-09T07:37:14.135Z"
   },
   {
    "duration": 23,
    "start_time": "2023-08-09T07:37:14.144Z"
   },
   {
    "duration": 16,
    "start_time": "2023-08-09T07:37:14.169Z"
   },
   {
    "duration": 6,
    "start_time": "2023-08-09T07:37:14.187Z"
   },
   {
    "duration": 18,
    "start_time": "2023-08-09T07:37:14.195Z"
   },
   {
    "duration": 12,
    "start_time": "2023-08-09T07:37:14.214Z"
   },
   {
    "duration": 15,
    "start_time": "2023-08-09T07:37:14.227Z"
   },
   {
    "duration": 19,
    "start_time": "2023-08-09T07:37:14.244Z"
   },
   {
    "duration": 19,
    "start_time": "2023-08-09T07:37:14.266Z"
   },
   {
    "duration": 5,
    "start_time": "2023-08-09T07:37:14.287Z"
   },
   {
    "duration": 10,
    "start_time": "2023-08-09T07:37:14.294Z"
   },
   {
    "duration": 18,
    "start_time": "2023-08-09T07:37:14.305Z"
   },
   {
    "duration": 6,
    "start_time": "2023-08-09T07:37:14.325Z"
   },
   {
    "duration": 15,
    "start_time": "2023-08-09T07:37:14.333Z"
   },
   {
    "duration": 44622,
    "start_time": "2023-08-09T07:37:14.350Z"
   },
   {
    "duration": 2021,
    "start_time": "2023-08-09T07:38:32.848Z"
   },
   {
    "duration": 48,
    "start_time": "2023-08-09T07:38:34.871Z"
   },
   {
    "duration": 11,
    "start_time": "2023-08-09T07:38:34.921Z"
   },
   {
    "duration": 21,
    "start_time": "2023-08-09T07:38:34.934Z"
   },
   {
    "duration": 12,
    "start_time": "2023-08-09T07:38:34.957Z"
   },
   {
    "duration": 18,
    "start_time": "2023-08-09T07:38:34.971Z"
   },
   {
    "duration": 13,
    "start_time": "2023-08-09T07:38:34.990Z"
   },
   {
    "duration": 18,
    "start_time": "2023-08-09T07:38:35.004Z"
   },
   {
    "duration": 16,
    "start_time": "2023-08-09T07:38:35.023Z"
   },
   {
    "duration": 26,
    "start_time": "2023-08-09T07:38:35.041Z"
   },
   {
    "duration": 11,
    "start_time": "2023-08-09T07:38:35.069Z"
   },
   {
    "duration": 16,
    "start_time": "2023-08-09T07:38:35.082Z"
   },
   {
    "duration": 12,
    "start_time": "2023-08-09T07:38:35.099Z"
   },
   {
    "duration": 19,
    "start_time": "2023-08-09T07:38:35.113Z"
   },
   {
    "duration": 12,
    "start_time": "2023-08-09T07:38:35.134Z"
   },
   {
    "duration": 30,
    "start_time": "2023-08-09T07:38:35.148Z"
   },
   {
    "duration": 4170,
    "start_time": "2023-08-09T07:38:35.180Z"
   },
   {
    "duration": 3,
    "start_time": "2023-08-09T07:38:39.352Z"
   },
   {
    "duration": 786,
    "start_time": "2023-08-09T07:38:39.356Z"
   },
   {
    "duration": 16,
    "start_time": "2023-08-09T07:38:40.144Z"
   },
   {
    "duration": 12,
    "start_time": "2023-08-09T07:38:40.162Z"
   },
   {
    "duration": 17,
    "start_time": "2023-08-09T07:38:40.176Z"
   },
   {
    "duration": 16,
    "start_time": "2023-08-09T07:38:40.195Z"
   },
   {
    "duration": 10,
    "start_time": "2023-08-09T07:38:40.213Z"
   },
   {
    "duration": 8,
    "start_time": "2023-08-09T07:38:40.225Z"
   },
   {
    "duration": 27,
    "start_time": "2023-08-09T07:38:40.234Z"
   },
   {
    "duration": 13,
    "start_time": "2023-08-09T07:38:40.263Z"
   },
   {
    "duration": 33,
    "start_time": "2023-08-09T07:38:40.279Z"
   },
   {
    "duration": 12,
    "start_time": "2023-08-09T07:38:40.314Z"
   },
   {
    "duration": 37,
    "start_time": "2023-08-09T07:38:40.328Z"
   },
   {
    "duration": 13,
    "start_time": "2023-08-09T07:38:40.367Z"
   },
   {
    "duration": 15,
    "start_time": "2023-08-09T07:38:40.382Z"
   },
   {
    "duration": 23,
    "start_time": "2023-08-09T07:38:40.399Z"
   },
   {
    "duration": 42476,
    "start_time": "2023-08-09T07:38:40.424Z"
   },
   {
    "duration": 2167,
    "start_time": "2023-08-09T07:39:38.387Z"
   },
   {
    "duration": 43,
    "start_time": "2023-08-09T07:39:40.556Z"
   },
   {
    "duration": 11,
    "start_time": "2023-08-09T07:39:40.601Z"
   },
   {
    "duration": 36,
    "start_time": "2023-08-09T07:39:40.613Z"
   },
   {
    "duration": 27,
    "start_time": "2023-08-09T07:39:40.653Z"
   },
   {
    "duration": 19,
    "start_time": "2023-08-09T07:39:40.682Z"
   },
   {
    "duration": 15,
    "start_time": "2023-08-09T07:39:40.703Z"
   },
   {
    "duration": 16,
    "start_time": "2023-08-09T07:39:40.720Z"
   },
   {
    "duration": 19,
    "start_time": "2023-08-09T07:39:40.738Z"
   },
   {
    "duration": 36,
    "start_time": "2023-08-09T07:39:40.759Z"
   },
   {
    "duration": 23,
    "start_time": "2023-08-09T07:39:40.797Z"
   },
   {
    "duration": 18,
    "start_time": "2023-08-09T07:39:40.822Z"
   },
   {
    "duration": 34,
    "start_time": "2023-08-09T07:39:40.842Z"
   },
   {
    "duration": 28,
    "start_time": "2023-08-09T07:39:40.879Z"
   },
   {
    "duration": 16,
    "start_time": "2023-08-09T07:39:40.908Z"
   },
   {
    "duration": 71,
    "start_time": "2023-08-09T07:39:40.925Z"
   },
   {
    "duration": 4073,
    "start_time": "2023-08-09T07:39:40.997Z"
   },
   {
    "duration": 4,
    "start_time": "2023-08-09T07:39:45.071Z"
   },
   {
    "duration": 843,
    "start_time": "2023-08-09T07:39:45.077Z"
   },
   {
    "duration": 6,
    "start_time": "2023-08-09T07:39:45.922Z"
   },
   {
    "duration": 30,
    "start_time": "2023-08-09T07:39:45.930Z"
   },
   {
    "duration": 38,
    "start_time": "2023-08-09T07:39:45.962Z"
   },
   {
    "duration": 21,
    "start_time": "2023-08-09T07:39:46.001Z"
   },
   {
    "duration": 32,
    "start_time": "2023-08-09T07:39:46.024Z"
   },
   {
    "duration": 18,
    "start_time": "2023-08-09T07:39:46.058Z"
   },
   {
    "duration": 27,
    "start_time": "2023-08-09T07:39:46.078Z"
   },
   {
    "duration": 21,
    "start_time": "2023-08-09T07:39:46.106Z"
   },
   {
    "duration": 53,
    "start_time": "2023-08-09T07:39:46.129Z"
   },
   {
    "duration": 38,
    "start_time": "2023-08-09T07:39:46.184Z"
   },
   {
    "duration": 31,
    "start_time": "2023-08-09T07:39:46.224Z"
   },
   {
    "duration": 31,
    "start_time": "2023-08-09T07:39:46.256Z"
   },
   {
    "duration": 20,
    "start_time": "2023-08-09T07:39:46.289Z"
   },
   {
    "duration": 20,
    "start_time": "2023-08-09T07:39:46.311Z"
   },
   {
    "duration": 43545,
    "start_time": "2023-08-09T07:39:46.333Z"
   },
   {
    "duration": 2018,
    "start_time": "2023-08-09T07:40:58.046Z"
   },
   {
    "duration": 46,
    "start_time": "2023-08-09T07:41:00.066Z"
   },
   {
    "duration": 12,
    "start_time": "2023-08-09T07:41:00.113Z"
   },
   {
    "duration": 24,
    "start_time": "2023-08-09T07:41:00.127Z"
   },
   {
    "duration": 55,
    "start_time": "2023-08-09T07:41:00.154Z"
   },
   {
    "duration": 44,
    "start_time": "2023-08-09T07:41:00.211Z"
   },
   {
    "duration": 32,
    "start_time": "2023-08-09T07:41:00.257Z"
   },
   {
    "duration": 43,
    "start_time": "2023-08-09T07:41:00.291Z"
   },
   {
    "duration": 30,
    "start_time": "2023-08-09T07:41:00.336Z"
   },
   {
    "duration": 113,
    "start_time": "2023-08-09T07:41:00.367Z"
   },
   {
    "duration": 119,
    "start_time": "2023-08-09T07:41:00.481Z"
   },
   {
    "duration": 61,
    "start_time": "2023-08-09T07:41:00.602Z"
   },
   {
    "duration": 38,
    "start_time": "2023-08-09T07:41:00.665Z"
   },
   {
    "duration": 25,
    "start_time": "2023-08-09T07:41:00.706Z"
   },
   {
    "duration": 169,
    "start_time": "2023-08-09T07:41:00.733Z"
   },
   {
    "duration": 60,
    "start_time": "2023-08-09T07:41:00.905Z"
   },
   {
    "duration": 4135,
    "start_time": "2023-08-09T07:41:00.967Z"
   },
   {
    "duration": 3,
    "start_time": "2023-08-09T07:41:05.104Z"
   },
   {
    "duration": 887,
    "start_time": "2023-08-09T07:41:05.108Z"
   },
   {
    "duration": 7,
    "start_time": "2023-08-09T07:41:05.997Z"
   },
   {
    "duration": 29,
    "start_time": "2023-08-09T07:41:06.006Z"
   },
   {
    "duration": 33,
    "start_time": "2023-08-09T07:41:06.037Z"
   },
   {
    "duration": 26,
    "start_time": "2023-08-09T07:41:06.072Z"
   },
   {
    "duration": 21,
    "start_time": "2023-08-09T07:41:06.100Z"
   },
   {
    "duration": 10,
    "start_time": "2023-08-09T07:41:06.123Z"
   },
   {
    "duration": 26,
    "start_time": "2023-08-09T07:41:06.135Z"
   },
   {
    "duration": 14,
    "start_time": "2023-08-09T07:41:06.163Z"
   },
   {
    "duration": 33,
    "start_time": "2023-08-09T07:41:06.179Z"
   },
   {
    "duration": 14,
    "start_time": "2023-08-09T07:41:06.213Z"
   },
   {
    "duration": 6,
    "start_time": "2023-08-09T07:41:06.229Z"
   },
   {
    "duration": 25,
    "start_time": "2023-08-09T07:41:06.237Z"
   },
   {
    "duration": 12,
    "start_time": "2023-08-09T07:41:06.264Z"
   },
   {
    "duration": 16,
    "start_time": "2023-08-09T07:41:06.278Z"
   },
   {
    "duration": 43267,
    "start_time": "2023-08-09T07:41:06.296Z"
   },
   {
    "duration": 2049,
    "start_time": "2023-08-09T07:42:03.582Z"
   },
   {
    "duration": 46,
    "start_time": "2023-08-09T07:42:05.633Z"
   },
   {
    "duration": 13,
    "start_time": "2023-08-09T07:42:05.680Z"
   },
   {
    "duration": 47,
    "start_time": "2023-08-09T07:42:05.694Z"
   },
   {
    "duration": 28,
    "start_time": "2023-08-09T07:42:05.743Z"
   },
   {
    "duration": 19,
    "start_time": "2023-08-09T07:42:05.773Z"
   },
   {
    "duration": 21,
    "start_time": "2023-08-09T07:42:05.794Z"
   },
   {
    "duration": 22,
    "start_time": "2023-08-09T07:42:05.817Z"
   },
   {
    "duration": 29,
    "start_time": "2023-08-09T07:42:05.841Z"
   },
   {
    "duration": 18,
    "start_time": "2023-08-09T07:42:05.872Z"
   },
   {
    "duration": 21,
    "start_time": "2023-08-09T07:42:05.892Z"
   },
   {
    "duration": 44,
    "start_time": "2023-08-09T07:42:05.914Z"
   },
   {
    "duration": 59,
    "start_time": "2023-08-09T07:42:05.960Z"
   },
   {
    "duration": 12,
    "start_time": "2023-08-09T07:42:06.022Z"
   },
   {
    "duration": 31,
    "start_time": "2023-08-09T07:42:06.035Z"
   },
   {
    "duration": 37,
    "start_time": "2023-08-09T07:42:06.068Z"
   },
   {
    "duration": 4119,
    "start_time": "2023-08-09T07:42:06.107Z"
   },
   {
    "duration": 3,
    "start_time": "2023-08-09T07:42:10.228Z"
   },
   {
    "duration": 832,
    "start_time": "2023-08-09T07:42:10.232Z"
   },
   {
    "duration": 6,
    "start_time": "2023-08-09T07:42:11.066Z"
   },
   {
    "duration": 21,
    "start_time": "2023-08-09T07:42:11.073Z"
   },
   {
    "duration": 20,
    "start_time": "2023-08-09T07:42:11.096Z"
   },
   {
    "duration": 14,
    "start_time": "2023-08-09T07:42:11.117Z"
   },
   {
    "duration": 18,
    "start_time": "2023-08-09T07:42:11.133Z"
   },
   {
    "duration": 9,
    "start_time": "2023-08-09T07:42:11.153Z"
   },
   {
    "duration": 26,
    "start_time": "2023-08-09T07:42:11.164Z"
   },
   {
    "duration": 14,
    "start_time": "2023-08-09T07:42:11.192Z"
   },
   {
    "duration": 49,
    "start_time": "2023-08-09T07:42:11.208Z"
   },
   {
    "duration": 28,
    "start_time": "2023-08-09T07:42:11.259Z"
   },
   {
    "duration": 9,
    "start_time": "2023-08-09T07:42:11.289Z"
   },
   {
    "duration": 18,
    "start_time": "2023-08-09T07:42:11.300Z"
   },
   {
    "duration": 11,
    "start_time": "2023-08-09T07:42:11.320Z"
   },
   {
    "duration": 11,
    "start_time": "2023-08-09T07:42:11.333Z"
   },
   {
    "duration": 44369,
    "start_time": "2023-08-09T07:42:11.346Z"
   },
   {
    "duration": 1959,
    "start_time": "2023-08-09T07:42:57.818Z"
   },
   {
    "duration": 44,
    "start_time": "2023-08-09T07:42:59.779Z"
   },
   {
    "duration": 12,
    "start_time": "2023-08-09T07:42:59.825Z"
   },
   {
    "duration": 18,
    "start_time": "2023-08-09T07:42:59.839Z"
   },
   {
    "duration": 19,
    "start_time": "2023-08-09T07:42:59.859Z"
   },
   {
    "duration": 233,
    "start_time": "2023-08-09T07:42:59.880Z"
   },
   {
    "duration": 97,
    "start_time": "2023-08-09T07:43:00.115Z"
   },
   {
    "duration": 30,
    "start_time": "2023-08-09T07:43:00.213Z"
   },
   {
    "duration": 15,
    "start_time": "2023-08-09T07:43:00.245Z"
   },
   {
    "duration": 18,
    "start_time": "2023-08-09T07:43:00.264Z"
   },
   {
    "duration": 19,
    "start_time": "2023-08-09T07:43:00.284Z"
   },
   {
    "duration": 24,
    "start_time": "2023-08-09T07:43:00.305Z"
   },
   {
    "duration": 36,
    "start_time": "2023-08-09T07:43:00.331Z"
   },
   {
    "duration": 50,
    "start_time": "2023-08-09T07:43:00.369Z"
   },
   {
    "duration": 35,
    "start_time": "2023-08-09T07:43:00.421Z"
   },
   {
    "duration": 55,
    "start_time": "2023-08-09T07:43:00.458Z"
   },
   {
    "duration": 4223,
    "start_time": "2023-08-09T07:43:00.515Z"
   },
   {
    "duration": 3,
    "start_time": "2023-08-09T07:43:04.740Z"
   },
   {
    "duration": 822,
    "start_time": "2023-08-09T07:43:04.744Z"
   },
   {
    "duration": 6,
    "start_time": "2023-08-09T07:43:05.568Z"
   },
   {
    "duration": 35,
    "start_time": "2023-08-09T07:43:05.576Z"
   },
   {
    "duration": 34,
    "start_time": "2023-08-09T07:43:05.613Z"
   },
   {
    "duration": 38,
    "start_time": "2023-08-09T07:43:05.649Z"
   },
   {
    "duration": 22,
    "start_time": "2023-08-09T07:43:05.689Z"
   },
   {
    "duration": 23,
    "start_time": "2023-08-09T07:43:05.713Z"
   },
   {
    "duration": 30,
    "start_time": "2023-08-09T07:43:05.738Z"
   },
   {
    "duration": 17,
    "start_time": "2023-08-09T07:43:05.770Z"
   },
   {
    "duration": 38,
    "start_time": "2023-08-09T07:43:05.790Z"
   },
   {
    "duration": 9,
    "start_time": "2023-08-09T07:43:05.830Z"
   },
   {
    "duration": 7,
    "start_time": "2023-08-09T07:43:05.841Z"
   },
   {
    "duration": 9,
    "start_time": "2023-08-09T07:43:05.849Z"
   },
   {
    "duration": 35,
    "start_time": "2023-08-09T07:43:05.859Z"
   },
   {
    "duration": 15,
    "start_time": "2023-08-09T07:43:05.896Z"
   },
   {
    "duration": 2135,
    "start_time": "2023-08-09T07:43:38.765Z"
   },
   {
    "duration": 46,
    "start_time": "2023-08-09T07:43:40.902Z"
   },
   {
    "duration": 11,
    "start_time": "2023-08-09T07:43:40.950Z"
   },
   {
    "duration": 14,
    "start_time": "2023-08-09T07:43:40.963Z"
   },
   {
    "duration": 20,
    "start_time": "2023-08-09T07:43:40.979Z"
   },
   {
    "duration": 14,
    "start_time": "2023-08-09T07:43:41.000Z"
   },
   {
    "duration": 12,
    "start_time": "2023-08-09T07:43:41.016Z"
   },
   {
    "duration": 9,
    "start_time": "2023-08-09T07:43:41.030Z"
   },
   {
    "duration": 10,
    "start_time": "2023-08-09T07:43:41.041Z"
   },
   {
    "duration": 13,
    "start_time": "2023-08-09T07:43:41.053Z"
   },
   {
    "duration": 19,
    "start_time": "2023-08-09T07:43:41.068Z"
   },
   {
    "duration": 12,
    "start_time": "2023-08-09T07:43:41.089Z"
   },
   {
    "duration": 9,
    "start_time": "2023-08-09T07:43:41.103Z"
   },
   {
    "duration": 18,
    "start_time": "2023-08-09T07:43:41.115Z"
   },
   {
    "duration": 12,
    "start_time": "2023-08-09T07:43:41.135Z"
   },
   {
    "duration": 31,
    "start_time": "2023-08-09T07:43:41.148Z"
   },
   {
    "duration": 4053,
    "start_time": "2023-08-09T07:43:41.181Z"
   },
   {
    "duration": 3,
    "start_time": "2023-08-09T07:43:45.235Z"
   },
   {
    "duration": 807,
    "start_time": "2023-08-09T07:43:45.240Z"
   },
   {
    "duration": 7,
    "start_time": "2023-08-09T07:43:46.058Z"
   },
   {
    "duration": 21,
    "start_time": "2023-08-09T07:43:46.066Z"
   },
   {
    "duration": 28,
    "start_time": "2023-08-09T07:43:46.089Z"
   },
   {
    "duration": 17,
    "start_time": "2023-08-09T07:43:46.119Z"
   },
   {
    "duration": 19,
    "start_time": "2023-08-09T07:43:46.137Z"
   },
   {
    "duration": 13,
    "start_time": "2023-08-09T07:43:46.158Z"
   },
   {
    "duration": 30,
    "start_time": "2023-08-09T07:43:46.173Z"
   },
   {
    "duration": 33,
    "start_time": "2023-08-09T07:43:46.204Z"
   },
   {
    "duration": 39,
    "start_time": "2023-08-09T07:43:46.238Z"
   },
   {
    "duration": 18,
    "start_time": "2023-08-09T07:43:46.278Z"
   },
   {
    "duration": 7,
    "start_time": "2023-08-09T07:43:46.298Z"
   },
   {
    "duration": 15,
    "start_time": "2023-08-09T07:43:46.307Z"
   },
   {
    "duration": 24,
    "start_time": "2023-08-09T07:43:46.324Z"
   },
   {
    "duration": 39,
    "start_time": "2023-08-09T07:43:46.350Z"
   },
   {
    "duration": 2041,
    "start_time": "2023-08-09T07:44:24.047Z"
   },
   {
    "duration": 46,
    "start_time": "2023-08-09T07:44:26.090Z"
   },
   {
    "duration": 12,
    "start_time": "2023-08-09T07:44:26.138Z"
   },
   {
    "duration": 16,
    "start_time": "2023-08-09T07:44:26.152Z"
   },
   {
    "duration": 17,
    "start_time": "2023-08-09T07:44:26.170Z"
   },
   {
    "duration": 7,
    "start_time": "2023-08-09T07:44:26.189Z"
   },
   {
    "duration": 19,
    "start_time": "2023-08-09T07:44:26.197Z"
   },
   {
    "duration": 20,
    "start_time": "2023-08-09T07:44:26.218Z"
   },
   {
    "duration": 12,
    "start_time": "2023-08-09T07:44:26.240Z"
   },
   {
    "duration": 17,
    "start_time": "2023-08-09T07:44:26.256Z"
   },
   {
    "duration": 16,
    "start_time": "2023-08-09T07:44:26.274Z"
   },
   {
    "duration": 9,
    "start_time": "2023-08-09T07:44:26.292Z"
   },
   {
    "duration": 11,
    "start_time": "2023-08-09T07:44:26.303Z"
   },
   {
    "duration": 11,
    "start_time": "2023-08-09T07:44:26.315Z"
   },
   {
    "duration": 10,
    "start_time": "2023-08-09T07:44:26.327Z"
   },
   {
    "duration": 27,
    "start_time": "2023-08-09T07:44:26.339Z"
   },
   {
    "duration": 4134,
    "start_time": "2023-08-09T07:44:26.368Z"
   },
   {
    "duration": 4,
    "start_time": "2023-08-09T07:44:30.504Z"
   },
   {
    "duration": 861,
    "start_time": "2023-08-09T07:44:30.509Z"
   },
   {
    "duration": 6,
    "start_time": "2023-08-09T07:44:31.372Z"
   },
   {
    "duration": 31,
    "start_time": "2023-08-09T07:44:31.379Z"
   },
   {
    "duration": 77,
    "start_time": "2023-08-09T07:44:31.412Z"
   },
   {
    "duration": 38,
    "start_time": "2023-08-09T07:44:31.491Z"
   },
   {
    "duration": 28,
    "start_time": "2023-08-09T07:44:31.531Z"
   },
   {
    "duration": 57,
    "start_time": "2023-08-09T07:44:31.561Z"
   },
   {
    "duration": 46,
    "start_time": "2023-08-09T07:44:31.620Z"
   },
   {
    "duration": 45,
    "start_time": "2023-08-09T07:44:31.668Z"
   },
   {
    "duration": 46,
    "start_time": "2023-08-09T07:44:31.716Z"
   },
   {
    "duration": 26,
    "start_time": "2023-08-09T07:44:31.764Z"
   },
   {
    "duration": 17,
    "start_time": "2023-08-09T07:44:31.792Z"
   },
   {
    "duration": 26,
    "start_time": "2023-08-09T07:44:31.811Z"
   },
   {
    "duration": 15,
    "start_time": "2023-08-09T07:44:31.839Z"
   },
   {
    "duration": 17,
    "start_time": "2023-08-09T07:44:31.855Z"
   },
   {
    "duration": 45370,
    "start_time": "2023-08-09T07:44:31.874Z"
   },
   {
    "duration": 1975,
    "start_time": "2023-08-09T07:45:47.400Z"
   },
   {
    "duration": 44,
    "start_time": "2023-08-09T07:45:49.377Z"
   },
   {
    "duration": 68,
    "start_time": "2023-08-09T07:45:49.423Z"
   },
   {
    "duration": 54,
    "start_time": "2023-08-09T07:45:49.493Z"
   },
   {
    "duration": 12,
    "start_time": "2023-08-09T07:45:49.548Z"
   },
   {
    "duration": 7,
    "start_time": "2023-08-09T07:45:49.562Z"
   },
   {
    "duration": 11,
    "start_time": "2023-08-09T07:45:49.570Z"
   },
   {
    "duration": 9,
    "start_time": "2023-08-09T07:45:49.583Z"
   },
   {
    "duration": 9,
    "start_time": "2023-08-09T07:45:49.594Z"
   },
   {
    "duration": 11,
    "start_time": "2023-08-09T07:45:49.606Z"
   },
   {
    "duration": 6,
    "start_time": "2023-08-09T07:45:49.619Z"
   },
   {
    "duration": 12,
    "start_time": "2023-08-09T07:45:49.626Z"
   },
   {
    "duration": 19,
    "start_time": "2023-08-09T07:45:49.639Z"
   },
   {
    "duration": 14,
    "start_time": "2023-08-09T07:45:49.659Z"
   },
   {
    "duration": 13,
    "start_time": "2023-08-09T07:45:49.674Z"
   },
   {
    "duration": 27,
    "start_time": "2023-08-09T07:45:49.689Z"
   },
   {
    "duration": 4113,
    "start_time": "2023-08-09T07:45:49.717Z"
   },
   {
    "duration": 3,
    "start_time": "2023-08-09T07:45:53.831Z"
   },
   {
    "duration": 800,
    "start_time": "2023-08-09T07:45:53.836Z"
   },
   {
    "duration": 6,
    "start_time": "2023-08-09T07:45:54.638Z"
   },
   {
    "duration": 13,
    "start_time": "2023-08-09T07:45:54.660Z"
   },
   {
    "duration": 25,
    "start_time": "2023-08-09T07:45:54.675Z"
   },
   {
    "duration": 31,
    "start_time": "2023-08-09T07:45:54.702Z"
   },
   {
    "duration": 18,
    "start_time": "2023-08-09T07:45:54.735Z"
   },
   {
    "duration": 24,
    "start_time": "2023-08-09T07:45:54.755Z"
   },
   {
    "duration": 22,
    "start_time": "2023-08-09T07:45:54.781Z"
   },
   {
    "duration": 12,
    "start_time": "2023-08-09T07:45:54.805Z"
   },
   {
    "duration": 54,
    "start_time": "2023-08-09T07:45:54.820Z"
   },
   {
    "duration": 18,
    "start_time": "2023-08-09T07:45:54.875Z"
   },
   {
    "duration": 22,
    "start_time": "2023-08-09T07:45:54.895Z"
   },
   {
    "duration": 27,
    "start_time": "2023-08-09T07:45:54.919Z"
   },
   {
    "duration": 7,
    "start_time": "2023-08-09T07:45:54.948Z"
   },
   {
    "duration": 11,
    "start_time": "2023-08-09T07:45:54.957Z"
   },
   {
    "duration": 2207,
    "start_time": "2023-08-09T07:46:27.165Z"
   },
   {
    "duration": 46,
    "start_time": "2023-08-09T07:46:29.374Z"
   },
   {
    "duration": 12,
    "start_time": "2023-08-09T07:46:29.422Z"
   },
   {
    "duration": 22,
    "start_time": "2023-08-09T07:46:29.436Z"
   },
   {
    "duration": 16,
    "start_time": "2023-08-09T07:46:29.460Z"
   },
   {
    "duration": 31,
    "start_time": "2023-08-09T07:46:29.478Z"
   },
   {
    "duration": 25,
    "start_time": "2023-08-09T07:46:29.511Z"
   },
   {
    "duration": 20,
    "start_time": "2023-08-09T07:46:29.537Z"
   },
   {
    "duration": 26,
    "start_time": "2023-08-09T07:46:29.559Z"
   },
   {
    "duration": 13,
    "start_time": "2023-08-09T07:46:29.587Z"
   },
   {
    "duration": 13,
    "start_time": "2023-08-09T07:46:29.601Z"
   },
   {
    "duration": 12,
    "start_time": "2023-08-09T07:46:29.616Z"
   },
   {
    "duration": 20,
    "start_time": "2023-08-09T07:46:29.630Z"
   },
   {
    "duration": 26,
    "start_time": "2023-08-09T07:46:29.653Z"
   },
   {
    "duration": 7,
    "start_time": "2023-08-09T07:46:29.681Z"
   },
   {
    "duration": 28,
    "start_time": "2023-08-09T07:46:29.690Z"
   },
   {
    "duration": 4366,
    "start_time": "2023-08-09T07:46:29.720Z"
   },
   {
    "duration": 4,
    "start_time": "2023-08-09T07:46:34.089Z"
   },
   {
    "duration": 843,
    "start_time": "2023-08-09T07:46:34.095Z"
   },
   {
    "duration": 6,
    "start_time": "2023-08-09T07:46:34.940Z"
   },
   {
    "duration": 39,
    "start_time": "2023-08-09T07:46:34.948Z"
   },
   {
    "duration": 48,
    "start_time": "2023-08-09T07:46:34.988Z"
   },
   {
    "duration": 10,
    "start_time": "2023-08-09T07:46:35.038Z"
   },
   {
    "duration": 11,
    "start_time": "2023-08-09T07:46:35.050Z"
   },
   {
    "duration": 12,
    "start_time": "2023-08-09T07:46:35.063Z"
   },
   {
    "duration": 37,
    "start_time": "2023-08-09T07:46:35.077Z"
   },
   {
    "duration": 21,
    "start_time": "2023-08-09T07:46:35.116Z"
   },
   {
    "duration": 26,
    "start_time": "2023-08-09T07:46:35.139Z"
   },
   {
    "duration": 19,
    "start_time": "2023-08-09T07:46:35.167Z"
   },
   {
    "duration": 151,
    "start_time": "2023-08-09T07:46:35.188Z"
   },
   {
    "duration": 18,
    "start_time": "2023-08-09T07:46:35.341Z"
   },
   {
    "duration": 22,
    "start_time": "2023-08-09T07:46:35.360Z"
   },
   {
    "duration": 18,
    "start_time": "2023-08-09T07:46:35.384Z"
   },
   {
    "duration": 66485,
    "start_time": "2023-08-09T07:46:35.404Z"
   },
   {
    "duration": 2072,
    "start_time": "2023-08-09T07:47:54.154Z"
   },
   {
    "duration": 45,
    "start_time": "2023-08-09T07:47:56.229Z"
   },
   {
    "duration": 13,
    "start_time": "2023-08-09T07:47:56.275Z"
   },
   {
    "duration": 33,
    "start_time": "2023-08-09T07:47:56.290Z"
   },
   {
    "duration": 18,
    "start_time": "2023-08-09T07:47:56.324Z"
   },
   {
    "duration": 30,
    "start_time": "2023-08-09T07:47:56.344Z"
   },
   {
    "duration": 16,
    "start_time": "2023-08-09T07:47:56.375Z"
   },
   {
    "duration": 24,
    "start_time": "2023-08-09T07:47:56.393Z"
   },
   {
    "duration": 15,
    "start_time": "2023-08-09T07:47:56.419Z"
   },
   {
    "duration": 24,
    "start_time": "2023-08-09T07:47:56.436Z"
   },
   {
    "duration": 27,
    "start_time": "2023-08-09T07:47:56.461Z"
   },
   {
    "duration": 10,
    "start_time": "2023-08-09T07:47:56.490Z"
   },
   {
    "duration": 8,
    "start_time": "2023-08-09T07:47:56.501Z"
   },
   {
    "duration": 17,
    "start_time": "2023-08-09T07:47:56.510Z"
   },
   {
    "duration": 9,
    "start_time": "2023-08-09T07:47:56.529Z"
   },
   {
    "duration": 34,
    "start_time": "2023-08-09T07:47:56.540Z"
   },
   {
    "duration": 4238,
    "start_time": "2023-08-09T07:47:56.576Z"
   },
   {
    "duration": 4,
    "start_time": "2023-08-09T07:48:00.816Z"
   },
   {
    "duration": 869,
    "start_time": "2023-08-09T07:48:00.821Z"
   },
   {
    "duration": 7,
    "start_time": "2023-08-09T07:48:01.691Z"
   },
   {
    "duration": 106,
    "start_time": "2023-08-09T07:48:01.700Z"
   },
   {
    "duration": 75,
    "start_time": "2023-08-09T07:48:01.808Z"
   },
   {
    "duration": 46,
    "start_time": "2023-08-09T07:48:01.885Z"
   },
   {
    "duration": 49,
    "start_time": "2023-08-09T07:48:01.933Z"
   },
   {
    "duration": 47,
    "start_time": "2023-08-09T07:48:01.984Z"
   },
   {
    "duration": 38,
    "start_time": "2023-08-09T07:48:02.033Z"
   },
   {
    "duration": 61,
    "start_time": "2023-08-09T07:48:02.073Z"
   },
   {
    "duration": 57,
    "start_time": "2023-08-09T07:48:02.138Z"
   },
   {
    "duration": 35,
    "start_time": "2023-08-09T07:48:02.197Z"
   },
   {
    "duration": 39,
    "start_time": "2023-08-09T07:48:02.234Z"
   },
   {
    "duration": 26,
    "start_time": "2023-08-09T07:48:02.274Z"
   },
   {
    "duration": 31,
    "start_time": "2023-08-09T07:48:02.302Z"
   },
   {
    "duration": 30,
    "start_time": "2023-08-09T07:48:02.335Z"
   },
   {
    "duration": 127165,
    "start_time": "2023-08-09T07:48:02.367Z"
   },
   {
    "duration": 2083,
    "start_time": "2023-08-09T07:50:26.334Z"
   },
   {
    "duration": 47,
    "start_time": "2023-08-09T07:50:28.419Z"
   },
   {
    "duration": 13,
    "start_time": "2023-08-09T07:50:28.468Z"
   },
   {
    "duration": 20,
    "start_time": "2023-08-09T07:50:28.482Z"
   },
   {
    "duration": 16,
    "start_time": "2023-08-09T07:50:28.504Z"
   },
   {
    "duration": 20,
    "start_time": "2023-08-09T07:50:28.522Z"
   },
   {
    "duration": 43,
    "start_time": "2023-08-09T07:50:28.544Z"
   },
   {
    "duration": 25,
    "start_time": "2023-08-09T07:50:28.589Z"
   },
   {
    "duration": 14,
    "start_time": "2023-08-09T07:50:28.616Z"
   },
   {
    "duration": 12,
    "start_time": "2023-08-09T07:50:28.632Z"
   },
   {
    "duration": 10,
    "start_time": "2023-08-09T07:50:28.646Z"
   },
   {
    "duration": 13,
    "start_time": "2023-08-09T07:50:28.658Z"
   },
   {
    "duration": 13,
    "start_time": "2023-08-09T07:50:28.673Z"
   },
   {
    "duration": 12,
    "start_time": "2023-08-09T07:50:28.689Z"
   },
   {
    "duration": 9,
    "start_time": "2023-08-09T07:50:28.703Z"
   },
   {
    "duration": 25,
    "start_time": "2023-08-09T07:50:28.714Z"
   },
   {
    "duration": 4241,
    "start_time": "2023-08-09T07:50:28.741Z"
   },
   {
    "duration": 3,
    "start_time": "2023-08-09T07:50:32.984Z"
   },
   {
    "duration": 882,
    "start_time": "2023-08-09T07:50:32.989Z"
   },
   {
    "duration": 6,
    "start_time": "2023-08-09T07:50:33.873Z"
   },
   {
    "duration": 19,
    "start_time": "2023-08-09T07:50:33.881Z"
   },
   {
    "duration": 21,
    "start_time": "2023-08-09T07:50:33.902Z"
   },
   {
    "duration": 31,
    "start_time": "2023-08-09T07:50:33.925Z"
   },
   {
    "duration": 10,
    "start_time": "2023-08-09T07:50:33.958Z"
   },
   {
    "duration": 12,
    "start_time": "2023-08-09T07:50:33.969Z"
   },
   {
    "duration": 16,
    "start_time": "2023-08-09T07:50:33.983Z"
   },
   {
    "duration": 28,
    "start_time": "2023-08-09T07:50:34.001Z"
   },
   {
    "duration": 47,
    "start_time": "2023-08-09T07:50:34.031Z"
   },
   {
    "duration": 14,
    "start_time": "2023-08-09T07:50:34.080Z"
   },
   {
    "duration": 12,
    "start_time": "2023-08-09T07:50:34.095Z"
   },
   {
    "duration": 6,
    "start_time": "2023-08-09T07:50:34.109Z"
   },
   {
    "duration": 11,
    "start_time": "2023-08-09T07:50:34.117Z"
   },
   {
    "duration": 13,
    "start_time": "2023-08-09T07:50:34.130Z"
   },
   {
    "duration": 1980,
    "start_time": "2023-08-09T07:50:54.268Z"
   },
   {
    "duration": 44,
    "start_time": "2023-08-09T07:50:56.250Z"
   },
   {
    "duration": 11,
    "start_time": "2023-08-09T07:50:56.296Z"
   },
   {
    "duration": 19,
    "start_time": "2023-08-09T07:50:56.310Z"
   },
   {
    "duration": 16,
    "start_time": "2023-08-09T07:50:56.330Z"
   },
   {
    "duration": 24,
    "start_time": "2023-08-09T07:50:56.348Z"
   },
   {
    "duration": 33,
    "start_time": "2023-08-09T07:50:56.373Z"
   },
   {
    "duration": 13,
    "start_time": "2023-08-09T07:50:56.409Z"
   },
   {
    "duration": 33,
    "start_time": "2023-08-09T07:50:56.423Z"
   },
   {
    "duration": 17,
    "start_time": "2023-08-09T07:50:56.459Z"
   },
   {
    "duration": 11,
    "start_time": "2023-08-09T07:50:56.478Z"
   },
   {
    "duration": 11,
    "start_time": "2023-08-09T07:50:56.491Z"
   },
   {
    "duration": 10,
    "start_time": "2023-08-09T07:50:56.503Z"
   },
   {
    "duration": 9,
    "start_time": "2023-08-09T07:50:56.515Z"
   },
   {
    "duration": 15,
    "start_time": "2023-08-09T07:50:56.525Z"
   },
   {
    "duration": 32,
    "start_time": "2023-08-09T07:50:56.542Z"
   },
   {
    "duration": 4163,
    "start_time": "2023-08-09T07:50:56.575Z"
   },
   {
    "duration": 3,
    "start_time": "2023-08-09T07:51:00.740Z"
   },
   {
    "duration": 857,
    "start_time": "2023-08-09T07:51:00.745Z"
   },
   {
    "duration": 7,
    "start_time": "2023-08-09T07:51:01.604Z"
   },
   {
    "duration": 58,
    "start_time": "2023-08-09T07:51:01.613Z"
   },
   {
    "duration": 83,
    "start_time": "2023-08-09T07:51:01.673Z"
   },
   {
    "duration": 58,
    "start_time": "2023-08-09T07:51:01.758Z"
   },
   {
    "duration": 20,
    "start_time": "2023-08-09T07:51:01.818Z"
   },
   {
    "duration": 44,
    "start_time": "2023-08-09T07:51:01.840Z"
   },
   {
    "duration": 44,
    "start_time": "2023-08-09T07:51:01.886Z"
   },
   {
    "duration": 35,
    "start_time": "2023-08-09T07:51:01.932Z"
   },
   {
    "duration": 51,
    "start_time": "2023-08-09T07:51:01.970Z"
   },
   {
    "duration": 50,
    "start_time": "2023-08-09T07:51:02.023Z"
   },
   {
    "duration": 31,
    "start_time": "2023-08-09T07:51:02.075Z"
   },
   {
    "duration": 34,
    "start_time": "2023-08-09T07:51:02.108Z"
   },
   {
    "duration": 27,
    "start_time": "2023-08-09T07:51:02.144Z"
   },
   {
    "duration": 25,
    "start_time": "2023-08-09T07:51:02.173Z"
   },
   {
    "duration": 2006,
    "start_time": "2023-08-09T07:52:00.391Z"
   },
   {
    "duration": 46,
    "start_time": "2023-08-09T07:52:02.399Z"
   },
   {
    "duration": 12,
    "start_time": "2023-08-09T07:52:02.447Z"
   },
   {
    "duration": 16,
    "start_time": "2023-08-09T07:52:02.461Z"
   },
   {
    "duration": 12,
    "start_time": "2023-08-09T07:52:02.480Z"
   },
   {
    "duration": 8,
    "start_time": "2023-08-09T07:52:02.493Z"
   },
   {
    "duration": 25,
    "start_time": "2023-08-09T07:52:02.503Z"
   },
   {
    "duration": 12,
    "start_time": "2023-08-09T07:52:02.530Z"
   },
   {
    "duration": 12,
    "start_time": "2023-08-09T07:52:02.544Z"
   },
   {
    "duration": 10,
    "start_time": "2023-08-09T07:52:02.558Z"
   },
   {
    "duration": 6,
    "start_time": "2023-08-09T07:52:02.570Z"
   },
   {
    "duration": 13,
    "start_time": "2023-08-09T07:52:02.578Z"
   },
   {
    "duration": 16,
    "start_time": "2023-08-09T07:52:02.593Z"
   },
   {
    "duration": 14,
    "start_time": "2023-08-09T07:52:02.613Z"
   },
   {
    "duration": 9,
    "start_time": "2023-08-09T07:52:02.629Z"
   },
   {
    "duration": 37,
    "start_time": "2023-08-09T07:52:02.640Z"
   },
   {
    "duration": 4159,
    "start_time": "2023-08-09T07:52:02.679Z"
   },
   {
    "duration": 3,
    "start_time": "2023-08-09T07:52:06.840Z"
   },
   {
    "duration": 798,
    "start_time": "2023-08-09T07:52:06.845Z"
   },
   {
    "duration": 15,
    "start_time": "2023-08-09T07:52:07.645Z"
   },
   {
    "duration": 11,
    "start_time": "2023-08-09T07:52:07.661Z"
   },
   {
    "duration": 17,
    "start_time": "2023-08-09T07:52:07.674Z"
   },
   {
    "duration": 10,
    "start_time": "2023-08-09T07:52:07.693Z"
   },
   {
    "duration": 8,
    "start_time": "2023-08-09T07:52:07.704Z"
   },
   {
    "duration": 5,
    "start_time": "2023-08-09T07:52:07.714Z"
   },
   {
    "duration": 13,
    "start_time": "2023-08-09T07:52:07.721Z"
   },
   {
    "duration": 30,
    "start_time": "2023-08-09T07:52:07.736Z"
   },
   {
    "duration": 17,
    "start_time": "2023-08-09T07:52:07.768Z"
   },
   {
    "duration": 10,
    "start_time": "2023-08-09T07:52:07.787Z"
   },
   {
    "duration": 14,
    "start_time": "2023-08-09T07:52:07.799Z"
   },
   {
    "duration": 8,
    "start_time": "2023-08-09T07:52:07.815Z"
   },
   {
    "duration": 8,
    "start_time": "2023-08-09T07:52:07.824Z"
   },
   {
    "duration": 10,
    "start_time": "2023-08-09T07:52:07.833Z"
   },
   {
    "duration": 105600,
    "start_time": "2023-08-09T07:52:07.844Z"
   },
   {
    "duration": 1964,
    "start_time": "2023-08-09T07:54:17.506Z"
   },
   {
    "duration": 44,
    "start_time": "2023-08-09T07:54:19.472Z"
   },
   {
    "duration": 13,
    "start_time": "2023-08-09T07:54:19.518Z"
   },
   {
    "duration": 14,
    "start_time": "2023-08-09T07:54:19.532Z"
   },
   {
    "duration": 26,
    "start_time": "2023-08-09T07:54:19.549Z"
   },
   {
    "duration": 6,
    "start_time": "2023-08-09T07:54:19.577Z"
   },
   {
    "duration": 8,
    "start_time": "2023-08-09T07:54:19.585Z"
   },
   {
    "duration": 7,
    "start_time": "2023-08-09T07:54:19.595Z"
   },
   {
    "duration": 13,
    "start_time": "2023-08-09T07:54:19.603Z"
   },
   {
    "duration": 12,
    "start_time": "2023-08-09T07:54:19.618Z"
   },
   {
    "duration": 7,
    "start_time": "2023-08-09T07:54:19.632Z"
   },
   {
    "duration": 7,
    "start_time": "2023-08-09T07:54:19.641Z"
   },
   {
    "duration": 13,
    "start_time": "2023-08-09T07:54:19.649Z"
   },
   {
    "duration": 9,
    "start_time": "2023-08-09T07:54:19.665Z"
   },
   {
    "duration": 7,
    "start_time": "2023-08-09T07:54:19.675Z"
   },
   {
    "duration": 26,
    "start_time": "2023-08-09T07:54:19.683Z"
   },
   {
    "duration": 4223,
    "start_time": "2023-08-09T07:54:19.711Z"
   },
   {
    "duration": 4,
    "start_time": "2023-08-09T07:54:23.935Z"
   },
   {
    "duration": 801,
    "start_time": "2023-08-09T07:54:23.940Z"
   },
   {
    "duration": 7,
    "start_time": "2023-08-09T07:54:24.742Z"
   },
   {
    "duration": 119,
    "start_time": "2023-08-09T07:54:24.759Z"
   },
   {
    "duration": 32,
    "start_time": "2023-08-09T07:54:24.880Z"
   },
   {
    "duration": 115,
    "start_time": "2023-08-09T07:54:24.914Z"
   },
   {
    "duration": 22,
    "start_time": "2023-08-09T07:54:25.031Z"
   },
   {
    "duration": 20,
    "start_time": "2023-08-09T07:54:25.055Z"
   },
   {
    "duration": 31,
    "start_time": "2023-08-09T07:54:25.077Z"
   },
   {
    "duration": 13,
    "start_time": "2023-08-09T07:54:25.110Z"
   },
   {
    "duration": 28,
    "start_time": "2023-08-09T07:54:25.125Z"
   },
   {
    "duration": 10,
    "start_time": "2023-08-09T07:54:25.155Z"
   },
   {
    "duration": 12,
    "start_time": "2023-08-09T07:54:25.166Z"
   },
   {
    "duration": 17,
    "start_time": "2023-08-09T07:54:25.180Z"
   },
   {
    "duration": 14,
    "start_time": "2023-08-09T07:54:25.199Z"
   },
   {
    "duration": 14,
    "start_time": "2023-08-09T07:54:25.215Z"
   },
   {
    "duration": 29742,
    "start_time": "2023-08-09T07:54:25.231Z"
   },
   {
    "duration": 1953,
    "start_time": "2023-08-09T07:55:22.499Z"
   },
   {
    "duration": 46,
    "start_time": "2023-08-09T07:55:24.454Z"
   },
   {
    "duration": 11,
    "start_time": "2023-08-09T07:55:24.502Z"
   },
   {
    "duration": 20,
    "start_time": "2023-08-09T07:55:24.516Z"
   },
   {
    "duration": 9,
    "start_time": "2023-08-09T07:55:24.539Z"
   },
   {
    "duration": 5,
    "start_time": "2023-08-09T07:55:24.550Z"
   },
   {
    "duration": 7,
    "start_time": "2023-08-09T07:55:24.557Z"
   },
   {
    "duration": 6,
    "start_time": "2023-08-09T07:55:24.566Z"
   },
   {
    "duration": 8,
    "start_time": "2023-08-09T07:55:24.574Z"
   },
   {
    "duration": 10,
    "start_time": "2023-08-09T07:55:24.584Z"
   },
   {
    "duration": 6,
    "start_time": "2023-08-09T07:55:24.595Z"
   },
   {
    "duration": 10,
    "start_time": "2023-08-09T07:55:24.603Z"
   },
   {
    "duration": 7,
    "start_time": "2023-08-09T07:55:24.615Z"
   },
   {
    "duration": 35,
    "start_time": "2023-08-09T07:55:24.626Z"
   },
   {
    "duration": 8,
    "start_time": "2023-08-09T07:55:24.662Z"
   },
   {
    "duration": 29,
    "start_time": "2023-08-09T07:55:24.672Z"
   },
   {
    "duration": 4139,
    "start_time": "2023-08-09T07:55:24.703Z"
   },
   {
    "duration": 3,
    "start_time": "2023-08-09T07:55:28.844Z"
   },
   {
    "duration": 789,
    "start_time": "2023-08-09T07:55:28.849Z"
   },
   {
    "duration": 6,
    "start_time": "2023-08-09T07:55:29.640Z"
   },
   {
    "duration": 10,
    "start_time": "2023-08-09T07:55:29.659Z"
   },
   {
    "duration": 17,
    "start_time": "2023-08-09T07:55:29.671Z"
   },
   {
    "duration": 6,
    "start_time": "2023-08-09T07:55:29.690Z"
   },
   {
    "duration": 12,
    "start_time": "2023-08-09T07:55:29.697Z"
   },
   {
    "duration": 5,
    "start_time": "2023-08-09T07:55:29.710Z"
   },
   {
    "duration": 13,
    "start_time": "2023-08-09T07:55:29.717Z"
   },
   {
    "duration": 28,
    "start_time": "2023-08-09T07:55:29.731Z"
   },
   {
    "duration": 25,
    "start_time": "2023-08-09T07:55:29.761Z"
   },
   {
    "duration": 11,
    "start_time": "2023-08-09T07:55:29.787Z"
   },
   {
    "duration": 18,
    "start_time": "2023-08-09T07:55:29.799Z"
   },
   {
    "duration": 15,
    "start_time": "2023-08-09T07:55:29.818Z"
   },
   {
    "duration": 18,
    "start_time": "2023-08-09T07:55:29.834Z"
   },
   {
    "duration": 10,
    "start_time": "2023-08-09T07:55:29.854Z"
   },
   {
    "duration": 96867,
    "start_time": "2023-08-09T07:55:29.865Z"
   },
   {
    "duration": 2029,
    "start_time": "2023-08-09T07:57:31.645Z"
   },
   {
    "duration": 44,
    "start_time": "2023-08-09T07:57:33.676Z"
   },
   {
    "duration": 11,
    "start_time": "2023-08-09T07:57:33.722Z"
   },
   {
    "duration": 19,
    "start_time": "2023-08-09T07:57:33.734Z"
   },
   {
    "duration": 44,
    "start_time": "2023-08-09T07:57:33.755Z"
   },
   {
    "duration": 18,
    "start_time": "2023-08-09T07:57:33.801Z"
   },
   {
    "duration": 17,
    "start_time": "2023-08-09T07:57:33.821Z"
   },
   {
    "duration": 12,
    "start_time": "2023-08-09T07:57:33.840Z"
   },
   {
    "duration": 17,
    "start_time": "2023-08-09T07:57:33.854Z"
   },
   {
    "duration": 35,
    "start_time": "2023-08-09T07:57:33.872Z"
   },
   {
    "duration": 28,
    "start_time": "2023-08-09T07:57:33.908Z"
   },
   {
    "duration": 30,
    "start_time": "2023-08-09T07:57:33.938Z"
   },
   {
    "duration": 19,
    "start_time": "2023-08-09T07:57:33.970Z"
   },
   {
    "duration": 14,
    "start_time": "2023-08-09T07:57:33.992Z"
   },
   {
    "duration": 34,
    "start_time": "2023-08-09T07:57:34.008Z"
   },
   {
    "duration": 88,
    "start_time": "2023-08-09T07:57:34.043Z"
   },
   {
    "duration": 4117,
    "start_time": "2023-08-09T07:57:34.133Z"
   },
   {
    "duration": 4,
    "start_time": "2023-08-09T07:57:38.253Z"
   },
   {
    "duration": 814,
    "start_time": "2023-08-09T07:57:38.259Z"
   },
   {
    "duration": 6,
    "start_time": "2023-08-09T07:57:39.074Z"
   },
   {
    "duration": 15,
    "start_time": "2023-08-09T07:57:39.082Z"
   },
   {
    "duration": 18,
    "start_time": "2023-08-09T07:57:39.098Z"
   },
   {
    "duration": 10,
    "start_time": "2023-08-09T07:57:39.118Z"
   },
   {
    "duration": 9,
    "start_time": "2023-08-09T07:57:39.130Z"
   },
   {
    "duration": 17,
    "start_time": "2023-08-09T07:57:39.141Z"
   },
   {
    "duration": 12,
    "start_time": "2023-08-09T07:57:39.161Z"
   },
   {
    "duration": 11,
    "start_time": "2023-08-09T07:57:39.175Z"
   },
   {
    "duration": 42,
    "start_time": "2023-08-09T07:57:39.188Z"
   },
   {
    "duration": 14,
    "start_time": "2023-08-09T07:57:39.232Z"
   },
   {
    "duration": 8,
    "start_time": "2023-08-09T07:57:39.248Z"
   },
   {
    "duration": 17,
    "start_time": "2023-08-09T07:57:39.258Z"
   },
   {
    "duration": 17,
    "start_time": "2023-08-09T07:57:39.276Z"
   },
   {
    "duration": 9,
    "start_time": "2023-08-09T07:57:39.295Z"
   },
   {
    "duration": 1989,
    "start_time": "2023-08-09T07:59:12.154Z"
   },
   {
    "duration": 44,
    "start_time": "2023-08-09T07:59:14.145Z"
   },
   {
    "duration": 11,
    "start_time": "2023-08-09T07:59:14.191Z"
   },
   {
    "duration": 14,
    "start_time": "2023-08-09T07:59:14.203Z"
   },
   {
    "duration": 12,
    "start_time": "2023-08-09T07:59:14.220Z"
   },
   {
    "duration": 7,
    "start_time": "2023-08-09T07:59:14.233Z"
   },
   {
    "duration": 7,
    "start_time": "2023-08-09T07:59:14.241Z"
   },
   {
    "duration": 10,
    "start_time": "2023-08-09T07:59:14.249Z"
   },
   {
    "duration": 9,
    "start_time": "2023-08-09T07:59:14.260Z"
   },
   {
    "duration": 9,
    "start_time": "2023-08-09T07:59:14.271Z"
   },
   {
    "duration": 5,
    "start_time": "2023-08-09T07:59:14.281Z"
   },
   {
    "duration": 9,
    "start_time": "2023-08-09T07:59:14.287Z"
   },
   {
    "duration": 12,
    "start_time": "2023-08-09T07:59:14.298Z"
   },
   {
    "duration": 13,
    "start_time": "2023-08-09T07:59:14.313Z"
   },
   {
    "duration": 6,
    "start_time": "2023-08-09T07:59:14.328Z"
   },
   {
    "duration": 40,
    "start_time": "2023-08-09T07:59:14.335Z"
   },
   {
    "duration": 4070,
    "start_time": "2023-08-09T07:59:14.376Z"
   },
   {
    "duration": 3,
    "start_time": "2023-08-09T07:59:18.448Z"
   },
   {
    "duration": 803,
    "start_time": "2023-08-09T07:59:18.453Z"
   },
   {
    "duration": 6,
    "start_time": "2023-08-09T07:59:19.258Z"
   },
   {
    "duration": 14,
    "start_time": "2023-08-09T07:59:19.266Z"
   },
   {
    "duration": 16,
    "start_time": "2023-08-09T07:59:19.282Z"
   },
   {
    "duration": 14,
    "start_time": "2023-08-09T07:59:19.300Z"
   },
   {
    "duration": 11,
    "start_time": "2023-08-09T07:59:19.315Z"
   },
   {
    "duration": 11,
    "start_time": "2023-08-09T07:59:19.329Z"
   },
   {
    "duration": 19,
    "start_time": "2023-08-09T07:59:19.342Z"
   },
   {
    "duration": 11,
    "start_time": "2023-08-09T07:59:19.362Z"
   },
   {
    "duration": 38,
    "start_time": "2023-08-09T07:59:19.375Z"
   },
   {
    "duration": 6,
    "start_time": "2023-08-09T07:59:19.415Z"
   },
   {
    "duration": 6,
    "start_time": "2023-08-09T07:59:19.423Z"
   },
   {
    "duration": 7,
    "start_time": "2023-08-09T07:59:19.430Z"
   },
   {
    "duration": 5,
    "start_time": "2023-08-09T07:59:19.439Z"
   },
   {
    "duration": 14,
    "start_time": "2023-08-09T07:59:19.445Z"
   },
   {
    "duration": 35956,
    "start_time": "2023-08-09T07:59:19.461Z"
   },
   {
    "duration": 2061,
    "start_time": "2023-08-09T08:01:18.683Z"
   },
   {
    "duration": 46,
    "start_time": "2023-08-09T08:01:20.746Z"
   },
   {
    "duration": 12,
    "start_time": "2023-08-09T08:01:20.794Z"
   },
   {
    "duration": 47,
    "start_time": "2023-08-09T08:01:20.808Z"
   },
   {
    "duration": 44,
    "start_time": "2023-08-09T08:01:20.859Z"
   },
   {
    "duration": 15,
    "start_time": "2023-08-09T08:01:20.905Z"
   },
   {
    "duration": 34,
    "start_time": "2023-08-09T08:01:20.921Z"
   },
   {
    "duration": 29,
    "start_time": "2023-08-09T08:01:20.958Z"
   },
   {
    "duration": 19,
    "start_time": "2023-08-09T08:01:20.989Z"
   },
   {
    "duration": 19,
    "start_time": "2023-08-09T08:01:21.010Z"
   },
   {
    "duration": 6,
    "start_time": "2023-08-09T08:01:21.031Z"
   },
   {
    "duration": 18,
    "start_time": "2023-08-09T08:01:21.039Z"
   },
   {
    "duration": 8,
    "start_time": "2023-08-09T08:01:21.059Z"
   },
   {
    "duration": 12,
    "start_time": "2023-08-09T08:01:21.071Z"
   },
   {
    "duration": 9,
    "start_time": "2023-08-09T08:01:21.086Z"
   },
   {
    "duration": 25,
    "start_time": "2023-08-09T08:01:21.097Z"
   },
   {
    "duration": 4106,
    "start_time": "2023-08-09T08:01:21.124Z"
   },
   {
    "duration": 3,
    "start_time": "2023-08-09T08:01:25.231Z"
   },
   {
    "duration": 826,
    "start_time": "2023-08-09T08:01:25.236Z"
   },
   {
    "duration": 6,
    "start_time": "2023-08-09T08:01:26.063Z"
   },
   {
    "duration": 17,
    "start_time": "2023-08-09T08:01:26.071Z"
   },
   {
    "duration": 16,
    "start_time": "2023-08-09T08:01:26.089Z"
   },
   {
    "duration": 14,
    "start_time": "2023-08-09T08:01:26.107Z"
   },
   {
    "duration": 12,
    "start_time": "2023-08-09T08:01:26.123Z"
   },
   {
    "duration": 8,
    "start_time": "2023-08-09T08:01:26.136Z"
   },
   {
    "duration": 19,
    "start_time": "2023-08-09T08:01:26.146Z"
   },
   {
    "duration": 11,
    "start_time": "2023-08-09T08:01:26.167Z"
   },
   {
    "duration": 23,
    "start_time": "2023-08-09T08:01:26.180Z"
   },
   {
    "duration": 6,
    "start_time": "2023-08-09T08:01:26.204Z"
   },
   {
    "duration": 7,
    "start_time": "2023-08-09T08:01:26.211Z"
   },
   {
    "duration": 6,
    "start_time": "2023-08-09T08:01:26.220Z"
   },
   {
    "duration": 5,
    "start_time": "2023-08-09T08:01:26.227Z"
   },
   {
    "duration": 28,
    "start_time": "2023-08-09T08:01:26.233Z"
   },
   {
    "duration": 8081,
    "start_time": "2023-08-09T08:01:26.262Z"
   },
   {
    "duration": 1965,
    "start_time": "2023-08-09T08:01:45.896Z"
   },
   {
    "duration": 44,
    "start_time": "2023-08-09T08:01:47.863Z"
   },
   {
    "duration": 12,
    "start_time": "2023-08-09T08:01:47.908Z"
   },
   {
    "duration": 19,
    "start_time": "2023-08-09T08:01:47.922Z"
   },
   {
    "duration": 20,
    "start_time": "2023-08-09T08:01:47.943Z"
   },
   {
    "duration": 29,
    "start_time": "2023-08-09T08:01:47.965Z"
   },
   {
    "duration": 18,
    "start_time": "2023-08-09T08:01:47.996Z"
   },
   {
    "duration": 28,
    "start_time": "2023-08-09T08:01:48.016Z"
   },
   {
    "duration": 18,
    "start_time": "2023-08-09T08:01:48.047Z"
   },
   {
    "duration": 9,
    "start_time": "2023-08-09T08:01:48.066Z"
   },
   {
    "duration": 20,
    "start_time": "2023-08-09T08:01:48.077Z"
   },
   {
    "duration": 17,
    "start_time": "2023-08-09T08:01:48.099Z"
   },
   {
    "duration": 22,
    "start_time": "2023-08-09T08:01:48.118Z"
   },
   {
    "duration": 9,
    "start_time": "2023-08-09T08:01:48.144Z"
   },
   {
    "duration": 9,
    "start_time": "2023-08-09T08:01:48.155Z"
   },
   {
    "duration": 39,
    "start_time": "2023-08-09T08:01:48.166Z"
   },
   {
    "duration": 4107,
    "start_time": "2023-08-09T08:01:48.207Z"
   },
   {
    "duration": 3,
    "start_time": "2023-08-09T08:01:52.316Z"
   },
   {
    "duration": 816,
    "start_time": "2023-08-09T08:01:52.321Z"
   },
   {
    "duration": 6,
    "start_time": "2023-08-09T08:01:53.139Z"
   },
   {
    "duration": 26,
    "start_time": "2023-08-09T08:01:53.147Z"
   },
   {
    "duration": 22,
    "start_time": "2023-08-09T08:01:53.175Z"
   },
   {
    "duration": 7,
    "start_time": "2023-08-09T08:01:53.199Z"
   },
   {
    "duration": 11,
    "start_time": "2023-08-09T08:01:53.208Z"
   },
   {
    "duration": 12,
    "start_time": "2023-08-09T08:01:53.221Z"
   },
   {
    "duration": 13,
    "start_time": "2023-08-09T08:01:53.235Z"
   },
   {
    "duration": 15,
    "start_time": "2023-08-09T08:01:53.250Z"
   },
   {
    "duration": 24,
    "start_time": "2023-08-09T08:01:53.267Z"
   },
   {
    "duration": 12,
    "start_time": "2023-08-09T08:01:53.293Z"
   },
   {
    "duration": 18,
    "start_time": "2023-08-09T08:01:53.307Z"
   },
   {
    "duration": 14,
    "start_time": "2023-08-09T08:01:53.327Z"
   },
   {
    "duration": 7,
    "start_time": "2023-08-09T08:01:53.343Z"
   },
   {
    "duration": 14,
    "start_time": "2023-08-09T08:01:53.352Z"
   },
   {
    "duration": 63479,
    "start_time": "2023-08-09T08:01:53.368Z"
   },
   {
    "duration": 1975,
    "start_time": "2023-08-09T08:03:16.499Z"
   },
   {
    "duration": 44,
    "start_time": "2023-08-09T08:03:18.476Z"
   },
   {
    "duration": 12,
    "start_time": "2023-08-09T08:03:18.521Z"
   },
   {
    "duration": 26,
    "start_time": "2023-08-09T08:03:18.535Z"
   },
   {
    "duration": 32,
    "start_time": "2023-08-09T08:03:18.563Z"
   },
   {
    "duration": 30,
    "start_time": "2023-08-09T08:03:18.597Z"
   },
   {
    "duration": 14,
    "start_time": "2023-08-09T08:03:18.629Z"
   },
   {
    "duration": 30,
    "start_time": "2023-08-09T08:03:18.645Z"
   },
   {
    "duration": 17,
    "start_time": "2023-08-09T08:03:18.677Z"
   },
   {
    "duration": 32,
    "start_time": "2023-08-09T08:03:18.696Z"
   },
   {
    "duration": 20,
    "start_time": "2023-08-09T08:03:18.730Z"
   },
   {
    "duration": 24,
    "start_time": "2023-08-09T08:03:18.751Z"
   },
   {
    "duration": 26,
    "start_time": "2023-08-09T08:03:18.777Z"
   },
   {
    "duration": 30,
    "start_time": "2023-08-09T08:03:18.807Z"
   },
   {
    "duration": 25,
    "start_time": "2023-08-09T08:03:18.839Z"
   },
   {
    "duration": 36,
    "start_time": "2023-08-09T08:03:18.865Z"
   },
   {
    "duration": 4131,
    "start_time": "2023-08-09T08:03:18.903Z"
   },
   {
    "duration": 4,
    "start_time": "2023-08-09T08:03:23.035Z"
   },
   {
    "duration": 810,
    "start_time": "2023-08-09T08:03:23.040Z"
   },
   {
    "duration": 10,
    "start_time": "2023-08-09T08:03:23.852Z"
   },
   {
    "duration": 21,
    "start_time": "2023-08-09T08:03:23.864Z"
   },
   {
    "duration": 23,
    "start_time": "2023-08-09T08:03:23.886Z"
   },
   {
    "duration": 18,
    "start_time": "2023-08-09T08:03:23.911Z"
   },
   {
    "duration": 20,
    "start_time": "2023-08-09T08:03:23.930Z"
   },
   {
    "duration": 15,
    "start_time": "2023-08-09T08:03:23.952Z"
   },
   {
    "duration": 22,
    "start_time": "2023-08-09T08:03:23.968Z"
   },
   {
    "duration": 20,
    "start_time": "2023-08-09T08:03:23.992Z"
   },
   {
    "duration": 41,
    "start_time": "2023-08-09T08:03:24.013Z"
   },
   {
    "duration": 7,
    "start_time": "2023-08-09T08:03:24.056Z"
   },
   {
    "duration": 21,
    "start_time": "2023-08-09T08:03:24.064Z"
   },
   {
    "duration": 14,
    "start_time": "2023-08-09T08:03:24.087Z"
   },
   {
    "duration": 18,
    "start_time": "2023-08-09T08:03:24.103Z"
   },
   {
    "duration": 22,
    "start_time": "2023-08-09T08:03:24.123Z"
   },
   {
    "duration": 63829,
    "start_time": "2023-08-09T08:03:24.147Z"
   },
   {
    "duration": 2067,
    "start_time": "2023-08-09T08:05:38.848Z"
   },
   {
    "duration": 44,
    "start_time": "2023-08-09T08:05:40.917Z"
   },
   {
    "duration": 12,
    "start_time": "2023-08-09T08:05:40.963Z"
   },
   {
    "duration": 17,
    "start_time": "2023-08-09T08:05:40.977Z"
   },
   {
    "duration": 9,
    "start_time": "2023-08-09T08:05:40.996Z"
   },
   {
    "duration": 6,
    "start_time": "2023-08-09T08:05:41.007Z"
   },
   {
    "duration": 7,
    "start_time": "2023-08-09T08:05:41.015Z"
   },
   {
    "duration": 7,
    "start_time": "2023-08-09T08:05:41.023Z"
   },
   {
    "duration": 8,
    "start_time": "2023-08-09T08:05:41.032Z"
   },
   {
    "duration": 7,
    "start_time": "2023-08-09T08:05:41.061Z"
   },
   {
    "duration": 11,
    "start_time": "2023-08-09T08:05:41.069Z"
   },
   {
    "duration": 18,
    "start_time": "2023-08-09T08:05:41.082Z"
   },
   {
    "duration": 7,
    "start_time": "2023-08-09T08:05:41.102Z"
   },
   {
    "duration": 9,
    "start_time": "2023-08-09T08:05:41.111Z"
   },
   {
    "duration": 6,
    "start_time": "2023-08-09T08:05:41.122Z"
   },
   {
    "duration": 41,
    "start_time": "2023-08-09T08:05:41.129Z"
   },
   {
    "duration": 4014,
    "start_time": "2023-08-09T08:05:41.172Z"
   },
   {
    "duration": 4,
    "start_time": "2023-08-09T08:05:45.187Z"
   },
   {
    "duration": 823,
    "start_time": "2023-08-09T08:05:45.193Z"
   },
   {
    "duration": 7,
    "start_time": "2023-08-09T08:05:46.018Z"
   },
   {
    "duration": 15,
    "start_time": "2023-08-09T08:05:46.027Z"
   },
   {
    "duration": 23,
    "start_time": "2023-08-09T08:05:46.044Z"
   },
   {
    "duration": 4,
    "start_time": "2023-08-09T08:05:46.069Z"
   },
   {
    "duration": 8,
    "start_time": "2023-08-09T08:05:46.075Z"
   },
   {
    "duration": 6,
    "start_time": "2023-08-09T08:05:46.085Z"
   },
   {
    "duration": 13,
    "start_time": "2023-08-09T08:05:46.093Z"
   },
   {
    "duration": 12,
    "start_time": "2023-08-09T08:05:46.108Z"
   },
   {
    "duration": 50,
    "start_time": "2023-08-09T08:05:46.124Z"
   },
   {
    "duration": 8,
    "start_time": "2023-08-09T08:05:46.176Z"
   },
   {
    "duration": 25,
    "start_time": "2023-08-09T08:05:46.186Z"
   },
   {
    "duration": 17,
    "start_time": "2023-08-09T08:05:46.213Z"
   },
   {
    "duration": 10,
    "start_time": "2023-08-09T08:05:46.232Z"
   },
   {
    "duration": 11,
    "start_time": "2023-08-09T08:05:46.244Z"
   },
   {
    "duration": 65524,
    "start_time": "2023-08-09T08:05:46.256Z"
   },
   {
    "duration": 1948,
    "start_time": "2023-08-09T08:07:12.282Z"
   },
   {
    "duration": 44,
    "start_time": "2023-08-09T08:07:14.232Z"
   },
   {
    "duration": 12,
    "start_time": "2023-08-09T08:07:14.277Z"
   },
   {
    "duration": 21,
    "start_time": "2023-08-09T08:07:14.291Z"
   },
   {
    "duration": 17,
    "start_time": "2023-08-09T08:07:14.314Z"
   },
   {
    "duration": 15,
    "start_time": "2023-08-09T08:07:14.333Z"
   },
   {
    "duration": 22,
    "start_time": "2023-08-09T08:07:14.350Z"
   },
   {
    "duration": 7,
    "start_time": "2023-08-09T08:07:14.373Z"
   },
   {
    "duration": 10,
    "start_time": "2023-08-09T08:07:14.381Z"
   },
   {
    "duration": 8,
    "start_time": "2023-08-09T08:07:14.394Z"
   },
   {
    "duration": 17,
    "start_time": "2023-08-09T08:07:14.403Z"
   },
   {
    "duration": 25,
    "start_time": "2023-08-09T08:07:14.421Z"
   },
   {
    "duration": 6,
    "start_time": "2023-08-09T08:07:14.448Z"
   },
   {
    "duration": 10,
    "start_time": "2023-08-09T08:07:14.456Z"
   },
   {
    "duration": 7,
    "start_time": "2023-08-09T08:07:14.467Z"
   },
   {
    "duration": 27,
    "start_time": "2023-08-09T08:07:14.475Z"
   },
   {
    "duration": 4106,
    "start_time": "2023-08-09T08:07:14.504Z"
   },
   {
    "duration": 2,
    "start_time": "2023-08-09T08:07:18.612Z"
   },
   {
    "duration": 861,
    "start_time": "2023-08-09T08:07:18.616Z"
   },
   {
    "duration": 7,
    "start_time": "2023-08-09T08:07:19.479Z"
   },
   {
    "duration": 21,
    "start_time": "2023-08-09T08:07:19.488Z"
   },
   {
    "duration": 22,
    "start_time": "2023-08-09T08:07:19.511Z"
   },
   {
    "duration": 6,
    "start_time": "2023-08-09T08:07:19.535Z"
   },
   {
    "duration": 20,
    "start_time": "2023-08-09T08:07:19.543Z"
   },
   {
    "duration": 9,
    "start_time": "2023-08-09T08:07:19.565Z"
   },
   {
    "duration": 18,
    "start_time": "2023-08-09T08:07:19.576Z"
   },
   {
    "duration": 14,
    "start_time": "2023-08-09T08:07:19.596Z"
   },
   {
    "duration": 22,
    "start_time": "2023-08-09T08:07:19.614Z"
   },
   {
    "duration": 21,
    "start_time": "2023-08-09T08:07:19.638Z"
   },
   {
    "duration": 3,
    "start_time": "2023-08-09T08:07:19.660Z"
   },
   {
    "duration": 7,
    "start_time": "2023-08-09T08:07:19.664Z"
   },
   {
    "duration": 8,
    "start_time": "2023-08-09T08:07:19.673Z"
   },
   {
    "duration": 9,
    "start_time": "2023-08-09T08:07:19.683Z"
   },
   {
    "duration": 63785,
    "start_time": "2023-08-09T08:07:19.693Z"
   },
   {
    "duration": 1992,
    "start_time": "2023-08-09T08:08:35.492Z"
   },
   {
    "duration": 44,
    "start_time": "2023-08-09T08:08:37.487Z"
   },
   {
    "duration": 12,
    "start_time": "2023-08-09T08:08:37.532Z"
   },
   {
    "duration": 20,
    "start_time": "2023-08-09T08:08:37.546Z"
   },
   {
    "duration": 18,
    "start_time": "2023-08-09T08:08:37.567Z"
   },
   {
    "duration": 9,
    "start_time": "2023-08-09T08:08:37.587Z"
   },
   {
    "duration": 10,
    "start_time": "2023-08-09T08:08:37.598Z"
   },
   {
    "duration": 10,
    "start_time": "2023-08-09T08:08:37.610Z"
   },
   {
    "duration": 8,
    "start_time": "2023-08-09T08:08:37.621Z"
   },
   {
    "duration": 12,
    "start_time": "2023-08-09T08:08:37.631Z"
   },
   {
    "duration": 8,
    "start_time": "2023-08-09T08:08:37.645Z"
   },
   {
    "duration": 9,
    "start_time": "2023-08-09T08:08:37.655Z"
   },
   {
    "duration": 7,
    "start_time": "2023-08-09T08:08:37.666Z"
   },
   {
    "duration": 10,
    "start_time": "2023-08-09T08:08:37.675Z"
   },
   {
    "duration": 8,
    "start_time": "2023-08-09T08:08:37.686Z"
   },
   {
    "duration": 33,
    "start_time": "2023-08-09T08:08:37.695Z"
   },
   {
    "duration": 4121,
    "start_time": "2023-08-09T08:08:37.729Z"
   },
   {
    "duration": 3,
    "start_time": "2023-08-09T08:08:41.851Z"
   },
   {
    "duration": 790,
    "start_time": "2023-08-09T08:08:41.856Z"
   },
   {
    "duration": 13,
    "start_time": "2023-08-09T08:08:42.647Z"
   },
   {
    "duration": 13,
    "start_time": "2023-08-09T08:08:42.662Z"
   },
   {
    "duration": 15,
    "start_time": "2023-08-09T08:08:42.677Z"
   },
   {
    "duration": 186,
    "start_time": "2023-08-09T08:08:42.694Z"
   },
   {
    "duration": 14,
    "start_time": "2023-08-09T08:08:42.882Z"
   },
   {
    "duration": 8,
    "start_time": "2023-08-09T08:08:42.897Z"
   },
   {
    "duration": 13,
    "start_time": "2023-08-09T08:08:42.907Z"
   },
   {
    "duration": 11,
    "start_time": "2023-08-09T08:08:42.922Z"
   },
   {
    "duration": 21,
    "start_time": "2023-08-09T08:08:42.936Z"
   },
   {
    "duration": 15,
    "start_time": "2023-08-09T08:08:42.959Z"
   },
   {
    "duration": 11,
    "start_time": "2023-08-09T08:08:42.976Z"
   },
   {
    "duration": 9,
    "start_time": "2023-08-09T08:08:42.989Z"
   },
   {
    "duration": 4,
    "start_time": "2023-08-09T08:08:43.000Z"
   },
   {
    "duration": 9,
    "start_time": "2023-08-09T08:08:43.006Z"
   },
   {
    "duration": 32931,
    "start_time": "2023-08-09T08:08:43.017Z"
   },
   {
    "duration": 2018,
    "start_time": "2023-08-09T08:09:44.273Z"
   },
   {
    "duration": 44,
    "start_time": "2023-08-09T08:09:46.293Z"
   },
   {
    "duration": 12,
    "start_time": "2023-08-09T08:09:46.339Z"
   },
   {
    "duration": 14,
    "start_time": "2023-08-09T08:09:46.353Z"
   },
   {
    "duration": 16,
    "start_time": "2023-08-09T08:09:46.369Z"
   },
   {
    "duration": 19,
    "start_time": "2023-08-09T08:09:46.387Z"
   },
   {
    "duration": 14,
    "start_time": "2023-08-09T08:09:46.407Z"
   },
   {
    "duration": 12,
    "start_time": "2023-08-09T08:09:46.423Z"
   },
   {
    "duration": 10,
    "start_time": "2023-08-09T08:09:46.437Z"
   },
   {
    "duration": 13,
    "start_time": "2023-08-09T08:09:46.450Z"
   },
   {
    "duration": 23,
    "start_time": "2023-08-09T08:09:46.465Z"
   },
   {
    "duration": 11,
    "start_time": "2023-08-09T08:09:46.490Z"
   },
   {
    "duration": 7,
    "start_time": "2023-08-09T08:09:46.502Z"
   },
   {
    "duration": 11,
    "start_time": "2023-08-09T08:09:46.511Z"
   },
   {
    "duration": 12,
    "start_time": "2023-08-09T08:09:46.523Z"
   },
   {
    "duration": 26,
    "start_time": "2023-08-09T08:09:46.536Z"
   },
   {
    "duration": 4082,
    "start_time": "2023-08-09T08:09:46.564Z"
   },
   {
    "duration": 4,
    "start_time": "2023-08-09T08:09:50.648Z"
   },
   {
    "duration": 840,
    "start_time": "2023-08-09T08:09:50.653Z"
   },
   {
    "duration": 6,
    "start_time": "2023-08-09T08:09:51.494Z"
   },
   {
    "duration": 31,
    "start_time": "2023-08-09T08:09:51.502Z"
   },
   {
    "duration": 17,
    "start_time": "2023-08-09T08:09:51.535Z"
   },
   {
    "duration": 9,
    "start_time": "2023-08-09T08:09:51.553Z"
   },
   {
    "duration": 13,
    "start_time": "2023-08-09T08:09:51.563Z"
   },
   {
    "duration": 18,
    "start_time": "2023-08-09T08:09:51.578Z"
   },
   {
    "duration": 29,
    "start_time": "2023-08-09T08:09:51.597Z"
   },
   {
    "duration": 21,
    "start_time": "2023-08-09T08:09:51.628Z"
   },
   {
    "duration": 36,
    "start_time": "2023-08-09T08:09:51.652Z"
   },
   {
    "duration": 27,
    "start_time": "2023-08-09T08:09:51.690Z"
   },
   {
    "duration": 7,
    "start_time": "2023-08-09T08:09:51.719Z"
   },
   {
    "duration": 7,
    "start_time": "2023-08-09T08:09:51.727Z"
   },
   {
    "duration": 11,
    "start_time": "2023-08-09T08:09:51.735Z"
   },
   {
    "duration": 9,
    "start_time": "2023-08-09T08:09:51.748Z"
   },
   {
    "duration": 43382,
    "start_time": "2023-08-09T08:09:51.759Z"
   },
   {
    "duration": 1957,
    "start_time": "2023-08-09T08:10:40.675Z"
   },
   {
    "duration": 46,
    "start_time": "2023-08-09T08:10:42.634Z"
   },
   {
    "duration": 12,
    "start_time": "2023-08-09T08:10:42.681Z"
   },
   {
    "duration": 41,
    "start_time": "2023-08-09T08:10:42.695Z"
   },
   {
    "duration": 37,
    "start_time": "2023-08-09T08:10:42.738Z"
   },
   {
    "duration": 14,
    "start_time": "2023-08-09T08:10:42.777Z"
   },
   {
    "duration": 12,
    "start_time": "2023-08-09T08:10:42.792Z"
   },
   {
    "duration": 12,
    "start_time": "2023-08-09T08:10:42.806Z"
   },
   {
    "duration": 27,
    "start_time": "2023-08-09T08:10:42.820Z"
   },
   {
    "duration": 15,
    "start_time": "2023-08-09T08:10:42.848Z"
   },
   {
    "duration": 11,
    "start_time": "2023-08-09T08:10:42.865Z"
   },
   {
    "duration": 38,
    "start_time": "2023-08-09T08:10:42.877Z"
   },
   {
    "duration": 14,
    "start_time": "2023-08-09T08:10:42.917Z"
   },
   {
    "duration": 24,
    "start_time": "2023-08-09T08:10:42.934Z"
   },
   {
    "duration": 47,
    "start_time": "2023-08-09T08:10:42.959Z"
   },
   {
    "duration": 32,
    "start_time": "2023-08-09T08:10:43.007Z"
   },
   {
    "duration": 4101,
    "start_time": "2023-08-09T08:10:43.041Z"
   },
   {
    "duration": 3,
    "start_time": "2023-08-09T08:10:47.144Z"
   },
   {
    "duration": 844,
    "start_time": "2023-08-09T08:10:47.149Z"
   },
   {
    "duration": 7,
    "start_time": "2023-08-09T08:10:47.995Z"
   },
   {
    "duration": 20,
    "start_time": "2023-08-09T08:10:48.003Z"
   },
   {
    "duration": 22,
    "start_time": "2023-08-09T08:10:48.025Z"
   },
   {
    "duration": 5,
    "start_time": "2023-08-09T08:10:48.059Z"
   },
   {
    "duration": 21,
    "start_time": "2023-08-09T08:10:48.066Z"
   },
   {
    "duration": 9,
    "start_time": "2023-08-09T08:10:48.089Z"
   },
   {
    "duration": 20,
    "start_time": "2023-08-09T08:10:48.100Z"
   },
   {
    "duration": 16,
    "start_time": "2023-08-09T08:10:48.122Z"
   },
   {
    "duration": 26,
    "start_time": "2023-08-09T08:10:48.140Z"
   },
   {
    "duration": 14,
    "start_time": "2023-08-09T08:10:48.169Z"
   },
   {
    "duration": 5,
    "start_time": "2023-08-09T08:10:48.185Z"
   },
   {
    "duration": 11,
    "start_time": "2023-08-09T08:10:48.192Z"
   },
   {
    "duration": 10,
    "start_time": "2023-08-09T08:10:48.204Z"
   },
   {
    "duration": 15,
    "start_time": "2023-08-09T08:10:48.215Z"
   },
   {
    "duration": 1982,
    "start_time": "2023-08-09T08:11:17.102Z"
   },
   {
    "duration": 45,
    "start_time": "2023-08-09T08:11:19.086Z"
   },
   {
    "duration": 11,
    "start_time": "2023-08-09T08:11:19.133Z"
   },
   {
    "duration": 22,
    "start_time": "2023-08-09T08:11:19.146Z"
   },
   {
    "duration": 11,
    "start_time": "2023-08-09T08:11:19.170Z"
   },
   {
    "duration": 25,
    "start_time": "2023-08-09T08:11:19.182Z"
   },
   {
    "duration": 12,
    "start_time": "2023-08-09T08:11:19.208Z"
   },
   {
    "duration": 8,
    "start_time": "2023-08-09T08:11:19.223Z"
   },
   {
    "duration": 9,
    "start_time": "2023-08-09T08:11:19.233Z"
   },
   {
    "duration": 15,
    "start_time": "2023-08-09T08:11:19.245Z"
   },
   {
    "duration": 7,
    "start_time": "2023-08-09T08:11:19.261Z"
   },
   {
    "duration": 12,
    "start_time": "2023-08-09T08:11:19.269Z"
   },
   {
    "duration": 8,
    "start_time": "2023-08-09T08:11:19.283Z"
   },
   {
    "duration": 15,
    "start_time": "2023-08-09T08:11:19.292Z"
   },
   {
    "duration": 9,
    "start_time": "2023-08-09T08:11:19.310Z"
   },
   {
    "duration": 44,
    "start_time": "2023-08-09T08:11:19.321Z"
   },
   {
    "duration": 4063,
    "start_time": "2023-08-09T08:11:19.367Z"
   },
   {
    "duration": 4,
    "start_time": "2023-08-09T08:11:23.432Z"
   },
   {
    "duration": 794,
    "start_time": "2023-08-09T08:11:23.438Z"
   },
   {
    "duration": 6,
    "start_time": "2023-08-09T08:11:24.234Z"
   },
   {
    "duration": 28,
    "start_time": "2023-08-09T08:11:24.242Z"
   },
   {
    "duration": 30,
    "start_time": "2023-08-09T08:11:24.272Z"
   },
   {
    "duration": 14,
    "start_time": "2023-08-09T08:11:24.304Z"
   },
   {
    "duration": 12,
    "start_time": "2023-08-09T08:11:24.320Z"
   },
   {
    "duration": 9,
    "start_time": "2023-08-09T08:11:24.334Z"
   },
   {
    "duration": 17,
    "start_time": "2023-08-09T08:11:24.345Z"
   },
   {
    "duration": 11,
    "start_time": "2023-08-09T08:11:24.364Z"
   },
   {
    "duration": 35,
    "start_time": "2023-08-09T08:11:24.378Z"
   },
   {
    "duration": 7,
    "start_time": "2023-08-09T08:11:24.415Z"
   },
   {
    "duration": 6,
    "start_time": "2023-08-09T08:11:24.424Z"
   },
   {
    "duration": 7,
    "start_time": "2023-08-09T08:11:24.432Z"
   },
   {
    "duration": 8,
    "start_time": "2023-08-09T08:11:24.440Z"
   },
   {
    "duration": 11,
    "start_time": "2023-08-09T08:11:24.450Z"
   },
   {
    "duration": 76967,
    "start_time": "2023-08-09T08:11:24.463Z"
   },
   {
    "duration": 1922,
    "start_time": "2023-08-09T08:15:24.718Z"
   },
   {
    "duration": 43,
    "start_time": "2023-08-09T08:15:26.642Z"
   },
   {
    "duration": 11,
    "start_time": "2023-08-09T08:15:26.687Z"
   },
   {
    "duration": 12,
    "start_time": "2023-08-09T08:15:26.700Z"
   },
   {
    "duration": 18,
    "start_time": "2023-08-09T08:15:26.713Z"
   },
   {
    "duration": 10,
    "start_time": "2023-08-09T08:15:26.733Z"
   },
   {
    "duration": 9,
    "start_time": "2023-08-09T08:15:26.744Z"
   },
   {
    "duration": 8,
    "start_time": "2023-08-09T08:15:26.754Z"
   },
   {
    "duration": 16,
    "start_time": "2023-08-09T08:15:26.764Z"
   },
   {
    "duration": 18,
    "start_time": "2023-08-09T08:15:26.783Z"
   },
   {
    "duration": 11,
    "start_time": "2023-08-09T08:15:26.803Z"
   },
   {
    "duration": 15,
    "start_time": "2023-08-09T08:15:26.815Z"
   },
   {
    "duration": 5,
    "start_time": "2023-08-09T08:15:26.832Z"
   },
   {
    "duration": 13,
    "start_time": "2023-08-09T08:15:26.839Z"
   },
   {
    "duration": 6,
    "start_time": "2023-08-09T08:15:26.854Z"
   },
   {
    "duration": 27,
    "start_time": "2023-08-09T08:15:26.862Z"
   },
   {
    "duration": 4071,
    "start_time": "2023-08-09T08:15:26.891Z"
   },
   {
    "duration": 3,
    "start_time": "2023-08-09T08:15:30.964Z"
   },
   {
    "duration": 871,
    "start_time": "2023-08-09T08:15:30.969Z"
   },
   {
    "duration": 19,
    "start_time": "2023-08-09T08:15:31.841Z"
   },
   {
    "duration": 36,
    "start_time": "2023-08-09T08:15:31.861Z"
   },
   {
    "duration": 44,
    "start_time": "2023-08-09T08:15:31.899Z"
   },
   {
    "duration": 28,
    "start_time": "2023-08-09T08:15:31.945Z"
   },
   {
    "duration": 28,
    "start_time": "2023-08-09T08:15:31.975Z"
   },
   {
    "duration": 8,
    "start_time": "2023-08-09T08:15:32.005Z"
   },
   {
    "duration": 22,
    "start_time": "2023-08-09T08:15:32.015Z"
   },
   {
    "duration": 18,
    "start_time": "2023-08-09T08:15:32.039Z"
   },
   {
    "duration": 37,
    "start_time": "2023-08-09T08:15:32.060Z"
   },
   {
    "duration": 33,
    "start_time": "2023-08-09T08:15:32.099Z"
   },
   {
    "duration": 23,
    "start_time": "2023-08-09T08:15:32.134Z"
   },
   {
    "duration": 8,
    "start_time": "2023-08-09T08:15:32.159Z"
   },
   {
    "duration": 8,
    "start_time": "2023-08-09T08:15:32.169Z"
   },
   {
    "duration": 12,
    "start_time": "2023-08-09T08:15:32.178Z"
   },
   {
    "duration": 2077,
    "start_time": "2023-08-09T08:16:39.325Z"
   },
   {
    "duration": 43,
    "start_time": "2023-08-09T08:16:41.404Z"
   },
   {
    "duration": 14,
    "start_time": "2023-08-09T08:16:41.451Z"
   },
   {
    "duration": 24,
    "start_time": "2023-08-09T08:16:41.468Z"
   },
   {
    "duration": 10,
    "start_time": "2023-08-09T08:16:41.494Z"
   },
   {
    "duration": 6,
    "start_time": "2023-08-09T08:16:41.505Z"
   },
   {
    "duration": 8,
    "start_time": "2023-08-09T08:16:41.513Z"
   },
   {
    "duration": 13,
    "start_time": "2023-08-09T08:16:41.523Z"
   },
   {
    "duration": 6,
    "start_time": "2023-08-09T08:16:41.539Z"
   },
   {
    "duration": 12,
    "start_time": "2023-08-09T08:16:41.547Z"
   },
   {
    "duration": 14,
    "start_time": "2023-08-09T08:16:41.569Z"
   },
   {
    "duration": 18,
    "start_time": "2023-08-09T08:16:41.585Z"
   },
   {
    "duration": 21,
    "start_time": "2023-08-09T08:16:41.605Z"
   },
   {
    "duration": 9,
    "start_time": "2023-08-09T08:16:41.628Z"
   },
   {
    "duration": 7,
    "start_time": "2023-08-09T08:16:41.638Z"
   },
   {
    "duration": 32,
    "start_time": "2023-08-09T08:16:41.647Z"
   },
   {
    "duration": 4229,
    "start_time": "2023-08-09T08:16:41.681Z"
   },
   {
    "duration": 3,
    "start_time": "2023-08-09T08:16:45.911Z"
   },
   {
    "duration": 839,
    "start_time": "2023-08-09T08:16:45.916Z"
   },
   {
    "duration": 7,
    "start_time": "2023-08-09T08:16:46.758Z"
   },
   {
    "duration": 15,
    "start_time": "2023-08-09T08:16:46.767Z"
   },
   {
    "duration": 16,
    "start_time": "2023-08-09T08:16:46.784Z"
   },
   {
    "duration": 6,
    "start_time": "2023-08-09T08:16:46.802Z"
   },
   {
    "duration": 9,
    "start_time": "2023-08-09T08:16:46.810Z"
   },
   {
    "duration": 5,
    "start_time": "2023-08-09T08:16:46.821Z"
   },
   {
    "duration": 43,
    "start_time": "2023-08-09T08:16:46.828Z"
   },
   {
    "duration": 17,
    "start_time": "2023-08-09T08:16:46.876Z"
   },
   {
    "duration": 28,
    "start_time": "2023-08-09T08:16:46.895Z"
   },
   {
    "duration": 12,
    "start_time": "2023-08-09T08:16:46.925Z"
   },
   {
    "duration": 6,
    "start_time": "2023-08-09T08:16:46.939Z"
   },
   {
    "duration": 7,
    "start_time": "2023-08-09T08:16:46.946Z"
   },
   {
    "duration": 5,
    "start_time": "2023-08-09T08:16:46.954Z"
   },
   {
    "duration": 19,
    "start_time": "2023-08-09T08:16:46.961Z"
   },
   {
    "duration": 79859,
    "start_time": "2023-08-09T08:16:46.982Z"
   },
   {
    "duration": 80991,
    "start_time": "2023-08-09T08:22:16.675Z"
   },
   {
    "duration": 5,
    "start_time": "2023-08-09T08:30:51.184Z"
   },
   {
    "duration": 10966,
    "start_time": "2023-08-09T08:30:52.850Z"
   },
   {
    "duration": 5,
    "start_time": "2023-08-09T08:31:06.933Z"
   },
   {
    "duration": 5,
    "start_time": "2023-08-09T08:33:15.435Z"
   },
   {
    "duration": 1975,
    "start_time": "2023-08-09T08:36:53.355Z"
   },
   {
    "duration": 51,
    "start_time": "2023-08-09T08:36:55.333Z"
   },
   {
    "duration": 12,
    "start_time": "2023-08-09T08:36:55.386Z"
   },
   {
    "duration": 14,
    "start_time": "2023-08-09T08:36:55.401Z"
   },
   {
    "duration": 7,
    "start_time": "2023-08-09T08:36:55.417Z"
   },
   {
    "duration": 12,
    "start_time": "2023-08-09T08:36:55.425Z"
   },
   {
    "duration": 21,
    "start_time": "2023-08-09T08:36:55.438Z"
   },
   {
    "duration": 6,
    "start_time": "2023-08-09T08:36:55.461Z"
   },
   {
    "duration": 10,
    "start_time": "2023-08-09T08:36:55.469Z"
   },
   {
    "duration": 28,
    "start_time": "2023-08-09T08:36:55.481Z"
   },
   {
    "duration": 8,
    "start_time": "2023-08-09T08:36:55.511Z"
   },
   {
    "duration": 10,
    "start_time": "2023-08-09T08:36:55.520Z"
   },
   {
    "duration": 7,
    "start_time": "2023-08-09T08:36:55.531Z"
   },
   {
    "duration": 10,
    "start_time": "2023-08-09T08:36:55.540Z"
   },
   {
    "duration": 12,
    "start_time": "2023-08-09T08:36:55.551Z"
   },
   {
    "duration": 26,
    "start_time": "2023-08-09T08:36:55.564Z"
   },
   {
    "duration": 4039,
    "start_time": "2023-08-09T08:36:55.591Z"
   },
   {
    "duration": 4,
    "start_time": "2023-08-09T08:36:59.632Z"
   },
   {
    "duration": 814,
    "start_time": "2023-08-09T08:36:59.637Z"
   },
   {
    "duration": 7,
    "start_time": "2023-08-09T08:37:00.459Z"
   },
   {
    "duration": 86,
    "start_time": "2023-08-09T08:37:00.468Z"
   },
   {
    "duration": 47,
    "start_time": "2023-08-09T08:37:00.555Z"
   },
   {
    "duration": 41,
    "start_time": "2023-08-09T08:37:00.603Z"
   },
   {
    "duration": 27,
    "start_time": "2023-08-09T08:37:00.646Z"
   },
   {
    "duration": 48,
    "start_time": "2023-08-09T08:37:00.675Z"
   },
   {
    "duration": 33,
    "start_time": "2023-08-09T08:37:00.725Z"
   },
   {
    "duration": 47,
    "start_time": "2023-08-09T08:37:00.760Z"
   },
   {
    "duration": 31,
    "start_time": "2023-08-09T08:37:00.811Z"
   },
   {
    "duration": 42,
    "start_time": "2023-08-09T08:37:00.844Z"
   },
   {
    "duration": 17,
    "start_time": "2023-08-09T08:37:00.888Z"
   },
   {
    "duration": 55,
    "start_time": "2023-08-09T08:37:00.907Z"
   },
   {
    "duration": 29,
    "start_time": "2023-08-09T08:37:00.964Z"
   },
   {
    "duration": 30,
    "start_time": "2023-08-09T08:37:00.995Z"
   },
   {
    "duration": 38071,
    "start_time": "2023-08-09T08:37:01.027Z"
   },
   {
    "duration": 0,
    "start_time": "2023-08-09T08:37:39.099Z"
   },
   {
    "duration": 0,
    "start_time": "2023-08-09T08:37:39.101Z"
   },
   {
    "duration": 0,
    "start_time": "2023-08-09T08:37:39.102Z"
   },
   {
    "duration": 1979,
    "start_time": "2023-08-09T08:38:20.922Z"
   },
   {
    "duration": 44,
    "start_time": "2023-08-09T08:38:22.903Z"
   },
   {
    "duration": 11,
    "start_time": "2023-08-09T08:38:22.949Z"
   },
   {
    "duration": 14,
    "start_time": "2023-08-09T08:38:22.961Z"
   },
   {
    "duration": 7,
    "start_time": "2023-08-09T08:38:22.977Z"
   },
   {
    "duration": 12,
    "start_time": "2023-08-09T08:38:22.986Z"
   },
   {
    "duration": 13,
    "start_time": "2023-08-09T08:38:23.000Z"
   },
   {
    "duration": 10,
    "start_time": "2023-08-09T08:38:23.015Z"
   },
   {
    "duration": 13,
    "start_time": "2023-08-09T08:38:23.027Z"
   },
   {
    "duration": 12,
    "start_time": "2023-08-09T08:38:23.042Z"
   },
   {
    "duration": 9,
    "start_time": "2023-08-09T08:38:23.055Z"
   },
   {
    "duration": 11,
    "start_time": "2023-08-09T08:38:23.065Z"
   },
   {
    "duration": 11,
    "start_time": "2023-08-09T08:38:23.078Z"
   },
   {
    "duration": 18,
    "start_time": "2023-08-09T08:38:23.091Z"
   },
   {
    "duration": 16,
    "start_time": "2023-08-09T08:38:23.110Z"
   },
   {
    "duration": 34,
    "start_time": "2023-08-09T08:38:23.127Z"
   },
   {
    "duration": 4059,
    "start_time": "2023-08-09T08:38:23.163Z"
   },
   {
    "duration": 4,
    "start_time": "2023-08-09T08:38:27.224Z"
   },
   {
    "duration": 820,
    "start_time": "2023-08-09T08:38:27.230Z"
   },
   {
    "duration": 10,
    "start_time": "2023-08-09T08:38:28.052Z"
   },
   {
    "duration": 11,
    "start_time": "2023-08-09T08:38:28.064Z"
   },
   {
    "duration": 18,
    "start_time": "2023-08-09T08:38:28.076Z"
   },
   {
    "duration": 4,
    "start_time": "2023-08-09T08:38:28.097Z"
   },
   {
    "duration": 10,
    "start_time": "2023-08-09T08:38:28.102Z"
   },
   {
    "duration": 12,
    "start_time": "2023-08-09T08:38:28.113Z"
   },
   {
    "duration": 37,
    "start_time": "2023-08-09T08:38:28.126Z"
   },
   {
    "duration": 11,
    "start_time": "2023-08-09T08:38:28.165Z"
   },
   {
    "duration": 25,
    "start_time": "2023-08-09T08:38:28.178Z"
   },
   {
    "duration": 14,
    "start_time": "2023-08-09T08:38:28.205Z"
   },
   {
    "duration": 5,
    "start_time": "2023-08-09T08:38:28.221Z"
   },
   {
    "duration": 16,
    "start_time": "2023-08-09T08:38:28.228Z"
   },
   {
    "duration": 10,
    "start_time": "2023-08-09T08:38:28.246Z"
   },
   {
    "duration": 13,
    "start_time": "2023-08-09T08:38:28.259Z"
   },
   {
    "duration": 52464,
    "start_time": "2023-08-09T08:38:28.274Z"
   },
   {
    "duration": 5,
    "start_time": "2023-08-09T08:39:20.740Z"
   },
   {
    "duration": 7178,
    "start_time": "2023-08-09T08:39:20.758Z"
   },
   {
    "duration": 5,
    "start_time": "2023-08-09T08:39:27.939Z"
   },
   {
    "duration": 2044,
    "start_time": "2023-08-09T08:40:04.181Z"
   },
   {
    "duration": 45,
    "start_time": "2023-08-09T08:40:06.227Z"
   },
   {
    "duration": 13,
    "start_time": "2023-08-09T08:40:06.273Z"
   },
   {
    "duration": 15,
    "start_time": "2023-08-09T08:40:06.288Z"
   },
   {
    "duration": 17,
    "start_time": "2023-08-09T08:40:06.305Z"
   },
   {
    "duration": 19,
    "start_time": "2023-08-09T08:40:06.323Z"
   },
   {
    "duration": 11,
    "start_time": "2023-08-09T08:40:06.344Z"
   },
   {
    "duration": 20,
    "start_time": "2023-08-09T08:40:06.357Z"
   },
   {
    "duration": 19,
    "start_time": "2023-08-09T08:40:06.379Z"
   },
   {
    "duration": 20,
    "start_time": "2023-08-09T08:40:06.401Z"
   },
   {
    "duration": 11,
    "start_time": "2023-08-09T08:40:06.422Z"
   },
   {
    "duration": 39,
    "start_time": "2023-08-09T08:40:06.434Z"
   },
   {
    "duration": 21,
    "start_time": "2023-08-09T08:40:06.475Z"
   },
   {
    "duration": 19,
    "start_time": "2023-08-09T08:40:06.498Z"
   },
   {
    "duration": 19,
    "start_time": "2023-08-09T08:40:06.519Z"
   },
   {
    "duration": 40,
    "start_time": "2023-08-09T08:40:06.540Z"
   },
   {
    "duration": 4116,
    "start_time": "2023-08-09T08:40:06.582Z"
   },
   {
    "duration": 4,
    "start_time": "2023-08-09T08:40:10.700Z"
   },
   {
    "duration": 813,
    "start_time": "2023-08-09T08:40:10.706Z"
   },
   {
    "duration": 7,
    "start_time": "2023-08-09T08:40:11.521Z"
   },
   {
    "duration": 12,
    "start_time": "2023-08-09T08:40:11.530Z"
   },
   {
    "duration": 17,
    "start_time": "2023-08-09T08:40:11.560Z"
   },
   {
    "duration": 14,
    "start_time": "2023-08-09T08:40:11.579Z"
   },
   {
    "duration": 18,
    "start_time": "2023-08-09T08:40:11.595Z"
   },
   {
    "duration": 8,
    "start_time": "2023-08-09T08:40:11.615Z"
   },
   {
    "duration": 15,
    "start_time": "2023-08-09T08:40:11.624Z"
   },
   {
    "duration": 18,
    "start_time": "2023-08-09T08:40:11.641Z"
   },
   {
    "duration": 30,
    "start_time": "2023-08-09T08:40:11.662Z"
   },
   {
    "duration": 12,
    "start_time": "2023-08-09T08:40:11.694Z"
   },
   {
    "duration": 8,
    "start_time": "2023-08-09T08:40:11.707Z"
   },
   {
    "duration": 11,
    "start_time": "2023-08-09T08:40:11.717Z"
   },
   {
    "duration": 14,
    "start_time": "2023-08-09T08:40:11.730Z"
   },
   {
    "duration": 20,
    "start_time": "2023-08-09T08:40:11.746Z"
   },
   {
    "duration": 76624,
    "start_time": "2023-08-09T08:40:11.768Z"
   },
   {
    "duration": 5,
    "start_time": "2023-08-09T08:41:28.394Z"
   },
   {
    "duration": 10188,
    "start_time": "2023-08-09T08:41:28.400Z"
   },
   {
    "duration": 6,
    "start_time": "2023-08-09T08:41:38.590Z"
   },
   {
    "duration": 6,
    "start_time": "2023-08-09T08:43:32.126Z"
   },
   {
    "duration": 11455,
    "start_time": "2023-08-09T08:43:32.876Z"
   },
   {
    "duration": 5,
    "start_time": "2023-08-09T08:43:45.226Z"
   },
   {
    "duration": 1957,
    "start_time": "2023-08-09T08:44:02.389Z"
   },
   {
    "duration": 44,
    "start_time": "2023-08-09T08:44:04.349Z"
   },
   {
    "duration": 12,
    "start_time": "2023-08-09T08:44:04.394Z"
   },
   {
    "duration": 28,
    "start_time": "2023-08-09T08:44:04.407Z"
   },
   {
    "duration": 10,
    "start_time": "2023-08-09T08:44:04.437Z"
   },
   {
    "duration": 11,
    "start_time": "2023-08-09T08:44:04.448Z"
   },
   {
    "duration": 11,
    "start_time": "2023-08-09T08:44:04.460Z"
   },
   {
    "duration": 11,
    "start_time": "2023-08-09T08:44:04.473Z"
   },
   {
    "duration": 15,
    "start_time": "2023-08-09T08:44:04.485Z"
   },
   {
    "duration": 10,
    "start_time": "2023-08-09T08:44:04.501Z"
   },
   {
    "duration": 21,
    "start_time": "2023-08-09T08:44:04.513Z"
   },
   {
    "duration": 25,
    "start_time": "2023-08-09T08:44:04.536Z"
   },
   {
    "duration": 16,
    "start_time": "2023-08-09T08:44:04.562Z"
   },
   {
    "duration": 11,
    "start_time": "2023-08-09T08:44:04.581Z"
   },
   {
    "duration": 10,
    "start_time": "2023-08-09T08:44:04.594Z"
   },
   {
    "duration": 30,
    "start_time": "2023-08-09T08:44:04.606Z"
   },
   {
    "duration": 4068,
    "start_time": "2023-08-09T08:44:04.638Z"
   },
   {
    "duration": 3,
    "start_time": "2023-08-09T08:44:08.707Z"
   },
   {
    "duration": 815,
    "start_time": "2023-08-09T08:44:08.712Z"
   },
   {
    "duration": 6,
    "start_time": "2023-08-09T08:44:09.528Z"
   },
   {
    "duration": 24,
    "start_time": "2023-08-09T08:44:09.536Z"
   },
   {
    "duration": 26,
    "start_time": "2023-08-09T08:44:09.561Z"
   },
   {
    "duration": 8,
    "start_time": "2023-08-09T08:44:09.589Z"
   },
   {
    "duration": 8,
    "start_time": "2023-08-09T08:44:09.599Z"
   },
   {
    "duration": 27,
    "start_time": "2023-08-09T08:44:09.609Z"
   },
   {
    "duration": 24,
    "start_time": "2023-08-09T08:44:09.638Z"
   },
   {
    "duration": 16,
    "start_time": "2023-08-09T08:44:09.663Z"
   },
   {
    "duration": 25,
    "start_time": "2023-08-09T08:44:09.680Z"
   },
   {
    "duration": 7,
    "start_time": "2023-08-09T08:44:09.706Z"
   },
   {
    "duration": 5,
    "start_time": "2023-08-09T08:44:09.714Z"
   },
   {
    "duration": 11,
    "start_time": "2023-08-09T08:44:09.721Z"
   },
   {
    "duration": 9,
    "start_time": "2023-08-09T08:44:09.734Z"
   },
   {
    "duration": 17,
    "start_time": "2023-08-09T08:44:09.745Z"
   },
   {
    "duration": 83602,
    "start_time": "2023-08-09T08:44:09.763Z"
   },
   {
    "duration": 5,
    "start_time": "2023-08-09T08:45:33.367Z"
   },
   {
    "duration": 11421,
    "start_time": "2023-08-09T08:45:33.373Z"
   },
   {
    "duration": 6,
    "start_time": "2023-08-09T08:45:44.796Z"
   },
   {
    "duration": 5,
    "start_time": "2023-08-09T08:51:07.599Z"
   },
   {
    "duration": 11263,
    "start_time": "2023-08-09T08:51:08.401Z"
   },
   {
    "duration": 5,
    "start_time": "2023-08-09T08:51:19.667Z"
   },
   {
    "duration": 5,
    "start_time": "2023-08-09T08:51:26.217Z"
   },
   {
    "duration": 11366,
    "start_time": "2023-08-09T08:51:26.833Z"
   },
   {
    "duration": 5,
    "start_time": "2023-08-09T08:51:38.201Z"
   },
   {
    "duration": 1995,
    "start_time": "2023-08-09T08:52:11.455Z"
   },
   {
    "duration": 44,
    "start_time": "2023-08-09T08:52:13.452Z"
   },
   {
    "duration": 11,
    "start_time": "2023-08-09T08:52:13.498Z"
   },
   {
    "duration": 12,
    "start_time": "2023-08-09T08:52:13.512Z"
   },
   {
    "duration": 9,
    "start_time": "2023-08-09T08:52:13.526Z"
   },
   {
    "duration": 7,
    "start_time": "2023-08-09T08:52:13.537Z"
   },
   {
    "duration": 8,
    "start_time": "2023-08-09T08:52:13.546Z"
   },
   {
    "duration": 5,
    "start_time": "2023-08-09T08:52:13.559Z"
   },
   {
    "duration": 12,
    "start_time": "2023-08-09T08:52:13.566Z"
   },
   {
    "duration": 14,
    "start_time": "2023-08-09T08:52:13.581Z"
   },
   {
    "duration": 13,
    "start_time": "2023-08-09T08:52:13.597Z"
   },
   {
    "duration": 8,
    "start_time": "2023-08-09T08:52:13.611Z"
   },
   {
    "duration": 5,
    "start_time": "2023-08-09T08:52:13.621Z"
   },
   {
    "duration": 9,
    "start_time": "2023-08-09T08:52:13.628Z"
   },
   {
    "duration": 25,
    "start_time": "2023-08-09T08:52:13.638Z"
   },
   {
    "duration": 25,
    "start_time": "2023-08-09T08:52:13.665Z"
   },
   {
    "duration": 4159,
    "start_time": "2023-08-09T08:52:13.691Z"
   },
   {
    "duration": 3,
    "start_time": "2023-08-09T08:52:17.852Z"
   },
   {
    "duration": 822,
    "start_time": "2023-08-09T08:52:17.857Z"
   },
   {
    "duration": 7,
    "start_time": "2023-08-09T08:52:18.680Z"
   },
   {
    "duration": 21,
    "start_time": "2023-08-09T08:52:18.689Z"
   },
   {
    "duration": 74,
    "start_time": "2023-08-09T08:52:18.712Z"
   },
   {
    "duration": 75,
    "start_time": "2023-08-09T08:52:18.789Z"
   },
   {
    "duration": 128,
    "start_time": "2023-08-09T08:52:18.866Z"
   },
   {
    "duration": 21,
    "start_time": "2023-08-09T08:52:18.996Z"
   },
   {
    "duration": 22,
    "start_time": "2023-08-09T08:52:19.019Z"
   },
   {
    "duration": 26,
    "start_time": "2023-08-09T08:52:19.043Z"
   },
   {
    "duration": 28,
    "start_time": "2023-08-09T08:52:19.073Z"
   },
   {
    "duration": 10,
    "start_time": "2023-08-09T08:52:19.103Z"
   },
   {
    "duration": 4,
    "start_time": "2023-08-09T08:52:19.115Z"
   },
   {
    "duration": 7,
    "start_time": "2023-08-09T08:52:19.121Z"
   },
   {
    "duration": 6,
    "start_time": "2023-08-09T08:52:19.130Z"
   },
   {
    "duration": 20,
    "start_time": "2023-08-09T08:52:19.138Z"
   },
   {
    "duration": 83433,
    "start_time": "2023-08-09T08:52:19.160Z"
   },
   {
    "duration": 4,
    "start_time": "2023-08-09T08:53:42.595Z"
   },
   {
    "duration": 11028,
    "start_time": "2023-08-09T08:53:42.601Z"
   },
   {
    "duration": 5,
    "start_time": "2023-08-09T08:53:53.631Z"
   },
   {
    "duration": 1970,
    "start_time": "2023-08-09T08:54:09.610Z"
   },
   {
    "duration": 45,
    "start_time": "2023-08-09T08:54:11.582Z"
   },
   {
    "duration": 12,
    "start_time": "2023-08-09T08:54:11.629Z"
   },
   {
    "duration": 21,
    "start_time": "2023-08-09T08:54:11.642Z"
   },
   {
    "duration": 20,
    "start_time": "2023-08-09T08:54:11.666Z"
   },
   {
    "duration": 21,
    "start_time": "2023-08-09T08:54:11.688Z"
   },
   {
    "duration": 15,
    "start_time": "2023-08-09T08:54:11.711Z"
   },
   {
    "duration": 7,
    "start_time": "2023-08-09T08:54:11.727Z"
   },
   {
    "duration": 11,
    "start_time": "2023-08-09T08:54:11.736Z"
   },
   {
    "duration": 17,
    "start_time": "2023-08-09T08:54:11.748Z"
   },
   {
    "duration": 10,
    "start_time": "2023-08-09T08:54:11.767Z"
   },
   {
    "duration": 12,
    "start_time": "2023-08-09T08:54:11.779Z"
   },
   {
    "duration": 7,
    "start_time": "2023-08-09T08:54:11.793Z"
   },
   {
    "duration": 8,
    "start_time": "2023-08-09T08:54:11.804Z"
   },
   {
    "duration": 10,
    "start_time": "2023-08-09T08:54:11.813Z"
   },
   {
    "duration": 50,
    "start_time": "2023-08-09T08:54:11.825Z"
   },
   {
    "duration": 4065,
    "start_time": "2023-08-09T08:54:11.877Z"
   },
   {
    "duration": 3,
    "start_time": "2023-08-09T08:54:15.944Z"
   },
   {
    "duration": 803,
    "start_time": "2023-08-09T08:54:15.949Z"
   },
   {
    "duration": 11,
    "start_time": "2023-08-09T08:54:16.754Z"
   },
   {
    "duration": 21,
    "start_time": "2023-08-09T08:54:16.767Z"
   },
   {
    "duration": 14,
    "start_time": "2023-08-09T08:54:16.790Z"
   },
   {
    "duration": 25,
    "start_time": "2023-08-09T08:54:16.806Z"
   },
   {
    "duration": 7,
    "start_time": "2023-08-09T08:54:16.833Z"
   },
   {
    "duration": 5,
    "start_time": "2023-08-09T08:54:16.842Z"
   },
   {
    "duration": 18,
    "start_time": "2023-08-09T08:54:16.849Z"
   },
   {
    "duration": 12,
    "start_time": "2023-08-09T08:54:16.869Z"
   },
   {
    "duration": 23,
    "start_time": "2023-08-09T08:54:16.883Z"
   },
   {
    "duration": 6,
    "start_time": "2023-08-09T08:54:16.908Z"
   },
   {
    "duration": 8,
    "start_time": "2023-08-09T08:54:16.915Z"
   },
   {
    "duration": 6,
    "start_time": "2023-08-09T08:54:16.924Z"
   },
   {
    "duration": 33,
    "start_time": "2023-08-09T08:54:16.931Z"
   },
   {
    "duration": 9,
    "start_time": "2023-08-09T08:54:16.966Z"
   },
   {
    "duration": 82083,
    "start_time": "2023-08-09T08:54:16.977Z"
   },
   {
    "duration": 5,
    "start_time": "2023-08-09T08:55:39.062Z"
   },
   {
    "duration": 11324,
    "start_time": "2023-08-09T08:55:39.069Z"
   },
   {
    "duration": 5,
    "start_time": "2023-08-09T08:55:50.395Z"
   },
   {
    "duration": 1978,
    "start_time": "2023-08-09T08:56:35.758Z"
   },
   {
    "duration": 44,
    "start_time": "2023-08-09T08:56:37.738Z"
   },
   {
    "duration": 11,
    "start_time": "2023-08-09T08:56:37.784Z"
   },
   {
    "duration": 22,
    "start_time": "2023-08-09T08:56:37.796Z"
   },
   {
    "duration": 8,
    "start_time": "2023-08-09T08:56:37.821Z"
   },
   {
    "duration": 8,
    "start_time": "2023-08-09T08:56:37.830Z"
   },
   {
    "duration": 8,
    "start_time": "2023-08-09T08:56:37.839Z"
   },
   {
    "duration": 14,
    "start_time": "2023-08-09T08:56:37.849Z"
   },
   {
    "duration": 11,
    "start_time": "2023-08-09T08:56:37.864Z"
   },
   {
    "duration": 10,
    "start_time": "2023-08-09T08:56:37.877Z"
   },
   {
    "duration": 13,
    "start_time": "2023-08-09T08:56:37.889Z"
   },
   {
    "duration": 9,
    "start_time": "2023-08-09T08:56:37.904Z"
   },
   {
    "duration": 8,
    "start_time": "2023-08-09T08:56:37.915Z"
   },
   {
    "duration": 12,
    "start_time": "2023-08-09T08:56:37.926Z"
   },
   {
    "duration": 11,
    "start_time": "2023-08-09T08:56:37.939Z"
   },
   {
    "duration": 25,
    "start_time": "2023-08-09T08:56:37.958Z"
   },
   {
    "duration": 4026,
    "start_time": "2023-08-09T08:56:37.984Z"
   },
   {
    "duration": 3,
    "start_time": "2023-08-09T08:56:42.012Z"
   },
   {
    "duration": 795,
    "start_time": "2023-08-09T08:56:42.017Z"
   },
   {
    "duration": 6,
    "start_time": "2023-08-09T08:56:42.814Z"
   },
   {
    "duration": 26,
    "start_time": "2023-08-09T08:56:42.821Z"
   },
   {
    "duration": 20,
    "start_time": "2023-08-09T08:56:42.849Z"
   },
   {
    "duration": 9,
    "start_time": "2023-08-09T08:56:42.871Z"
   },
   {
    "duration": 9,
    "start_time": "2023-08-09T08:56:42.882Z"
   },
   {
    "duration": 7,
    "start_time": "2023-08-09T08:56:42.892Z"
   },
   {
    "duration": 27,
    "start_time": "2023-08-09T08:56:42.900Z"
   },
   {
    "duration": 11,
    "start_time": "2023-08-09T08:56:42.928Z"
   },
   {
    "duration": 23,
    "start_time": "2023-08-09T08:56:42.941Z"
   },
   {
    "duration": 16,
    "start_time": "2023-08-09T08:56:42.965Z"
   },
   {
    "duration": 8,
    "start_time": "2023-08-09T08:56:42.983Z"
   },
   {
    "duration": 9,
    "start_time": "2023-08-09T08:56:42.992Z"
   },
   {
    "duration": 12,
    "start_time": "2023-08-09T08:56:43.002Z"
   },
   {
    "duration": 13,
    "start_time": "2023-08-09T08:56:43.016Z"
   },
   {
    "duration": 81828,
    "start_time": "2023-08-09T08:56:43.030Z"
   },
   {
    "duration": 5,
    "start_time": "2023-08-09T08:58:04.860Z"
   },
   {
    "duration": 11209,
    "start_time": "2023-08-09T08:58:04.867Z"
   },
   {
    "duration": 4,
    "start_time": "2023-08-09T08:58:16.078Z"
   },
   {
    "duration": 5,
    "start_time": "2023-08-09T08:58:28.184Z"
   },
   {
    "duration": 11975,
    "start_time": "2023-08-09T08:58:29.027Z"
   },
   {
    "duration": 6,
    "start_time": "2023-08-09T08:58:41.004Z"
   },
   {
    "duration": 6,
    "start_time": "2023-08-09T08:58:49.682Z"
   },
   {
    "duration": 14223,
    "start_time": "2023-08-09T08:58:50.120Z"
   },
   {
    "duration": 14,
    "start_time": "2023-08-09T08:59:04.345Z"
   },
   {
    "duration": 5,
    "start_time": "2023-08-09T08:59:13.015Z"
   },
   {
    "duration": 11487,
    "start_time": "2023-08-09T08:59:13.452Z"
   },
   {
    "duration": 5,
    "start_time": "2023-08-09T08:59:24.941Z"
   },
   {
    "duration": 5,
    "start_time": "2023-08-09T08:59:33.388Z"
   },
   {
    "duration": 7876,
    "start_time": "2023-08-09T08:59:34.807Z"
   },
   {
    "duration": 4,
    "start_time": "2023-08-09T08:59:42.686Z"
   },
   {
    "duration": 5,
    "start_time": "2023-08-09T08:59:52.593Z"
   },
   {
    "duration": 12416,
    "start_time": "2023-08-09T08:59:55.867Z"
   },
   {
    "duration": 5,
    "start_time": "2023-08-09T09:00:08.285Z"
   },
   {
    "duration": 5,
    "start_time": "2023-08-09T09:00:15.935Z"
   },
   {
    "duration": 5297,
    "start_time": "2023-08-09T09:00:18.759Z"
   },
   {
    "duration": 5,
    "start_time": "2023-08-09T09:00:24.059Z"
   },
   {
    "duration": 5,
    "start_time": "2023-08-09T09:01:01.230Z"
   },
   {
    "duration": 11309,
    "start_time": "2023-08-09T09:01:01.617Z"
   },
   {
    "duration": 6,
    "start_time": "2023-08-09T09:01:12.928Z"
   },
   {
    "duration": 2027,
    "start_time": "2023-08-09T09:01:23.141Z"
   },
   {
    "duration": 44,
    "start_time": "2023-08-09T09:01:25.170Z"
   },
   {
    "duration": 11,
    "start_time": "2023-08-09T09:01:25.216Z"
   },
   {
    "duration": 25,
    "start_time": "2023-08-09T09:01:25.229Z"
   },
   {
    "duration": 29,
    "start_time": "2023-08-09T09:01:25.255Z"
   },
   {
    "duration": 17,
    "start_time": "2023-08-09T09:01:25.286Z"
   },
   {
    "duration": 32,
    "start_time": "2023-08-09T09:01:25.306Z"
   },
   {
    "duration": 32,
    "start_time": "2023-08-09T09:01:25.341Z"
   },
   {
    "duration": 31,
    "start_time": "2023-08-09T09:01:25.375Z"
   },
   {
    "duration": 20,
    "start_time": "2023-08-09T09:01:25.410Z"
   },
   {
    "duration": 10,
    "start_time": "2023-08-09T09:01:25.432Z"
   },
   {
    "duration": 18,
    "start_time": "2023-08-09T09:01:25.444Z"
   },
   {
    "duration": 18,
    "start_time": "2023-08-09T09:01:25.464Z"
   },
   {
    "duration": 21,
    "start_time": "2023-08-09T09:01:25.484Z"
   },
   {
    "duration": 8,
    "start_time": "2023-08-09T09:01:25.507Z"
   },
   {
    "duration": 36,
    "start_time": "2023-08-09T09:01:25.517Z"
   },
   {
    "duration": 4122,
    "start_time": "2023-08-09T09:01:25.556Z"
   },
   {
    "duration": 3,
    "start_time": "2023-08-09T09:01:29.680Z"
   },
   {
    "duration": 847,
    "start_time": "2023-08-09T09:01:29.685Z"
   },
   {
    "duration": 8,
    "start_time": "2023-08-09T09:01:30.534Z"
   },
   {
    "duration": 98,
    "start_time": "2023-08-09T09:01:30.544Z"
   },
   {
    "duration": 45,
    "start_time": "2023-08-09T09:01:30.644Z"
   },
   {
    "duration": 48,
    "start_time": "2023-08-09T09:01:30.692Z"
   },
   {
    "duration": 46,
    "start_time": "2023-08-09T09:01:30.742Z"
   },
   {
    "duration": 81,
    "start_time": "2023-08-09T09:01:30.790Z"
   },
   {
    "duration": 63,
    "start_time": "2023-08-09T09:01:30.873Z"
   },
   {
    "duration": 41,
    "start_time": "2023-08-09T09:01:30.938Z"
   },
   {
    "duration": 77,
    "start_time": "2023-08-09T09:01:30.982Z"
   },
   {
    "duration": 41,
    "start_time": "2023-08-09T09:01:31.061Z"
   },
   {
    "duration": 108,
    "start_time": "2023-08-09T09:01:31.104Z"
   },
   {
    "duration": 53,
    "start_time": "2023-08-09T09:01:31.214Z"
   },
   {
    "duration": 59,
    "start_time": "2023-08-09T09:01:31.269Z"
   },
   {
    "duration": 58,
    "start_time": "2023-08-09T09:01:31.331Z"
   },
   {
    "duration": 1986,
    "start_time": "2023-08-09T09:02:05.596Z"
   },
   {
    "duration": 45,
    "start_time": "2023-08-09T09:02:07.584Z"
   },
   {
    "duration": 13,
    "start_time": "2023-08-09T09:02:07.631Z"
   },
   {
    "duration": 15,
    "start_time": "2023-08-09T09:02:07.646Z"
   },
   {
    "duration": 8,
    "start_time": "2023-08-09T09:02:07.664Z"
   },
   {
    "duration": 15,
    "start_time": "2023-08-09T09:02:07.674Z"
   },
   {
    "duration": 14,
    "start_time": "2023-08-09T09:02:07.691Z"
   },
   {
    "duration": 12,
    "start_time": "2023-08-09T09:02:07.707Z"
   },
   {
    "duration": 18,
    "start_time": "2023-08-09T09:02:07.720Z"
   },
   {
    "duration": 15,
    "start_time": "2023-08-09T09:02:07.740Z"
   },
   {
    "duration": 14,
    "start_time": "2023-08-09T09:02:07.756Z"
   },
   {
    "duration": 24,
    "start_time": "2023-08-09T09:02:07.772Z"
   },
   {
    "duration": 12,
    "start_time": "2023-08-09T09:02:07.798Z"
   },
   {
    "duration": 14,
    "start_time": "2023-08-09T09:02:07.813Z"
   },
   {
    "duration": 38,
    "start_time": "2023-08-09T09:02:07.829Z"
   },
   {
    "duration": 43,
    "start_time": "2023-08-09T09:02:07.869Z"
   },
   {
    "duration": 4132,
    "start_time": "2023-08-09T09:02:07.914Z"
   },
   {
    "duration": 4,
    "start_time": "2023-08-09T09:02:12.047Z"
   },
   {
    "duration": 815,
    "start_time": "2023-08-09T09:02:12.052Z"
   },
   {
    "duration": 7,
    "start_time": "2023-08-09T09:02:12.869Z"
   },
   {
    "duration": 18,
    "start_time": "2023-08-09T09:02:12.877Z"
   },
   {
    "duration": 18,
    "start_time": "2023-08-09T09:02:12.897Z"
   },
   {
    "duration": 7,
    "start_time": "2023-08-09T09:02:12.916Z"
   },
   {
    "duration": 10,
    "start_time": "2023-08-09T09:02:12.924Z"
   },
   {
    "duration": 134,
    "start_time": "2023-08-09T09:02:12.936Z"
   },
   {
    "duration": 15,
    "start_time": "2023-08-09T09:02:13.072Z"
   },
   {
    "duration": 13,
    "start_time": "2023-08-09T09:02:13.089Z"
   },
   {
    "duration": 21,
    "start_time": "2023-08-09T09:02:13.104Z"
   },
   {
    "duration": 9,
    "start_time": "2023-08-09T09:02:13.127Z"
   },
   {
    "duration": 11,
    "start_time": "2023-08-09T09:02:13.137Z"
   },
   {
    "duration": 16,
    "start_time": "2023-08-09T09:02:13.149Z"
   },
   {
    "duration": 23,
    "start_time": "2023-08-09T09:02:13.167Z"
   },
   {
    "duration": 11,
    "start_time": "2023-08-09T09:02:13.192Z"
   },
   {
    "duration": 1984,
    "start_time": "2023-08-09T09:02:17.694Z"
   },
   {
    "duration": 44,
    "start_time": "2023-08-09T09:02:19.680Z"
   },
   {
    "duration": 13,
    "start_time": "2023-08-09T09:02:19.726Z"
   },
   {
    "duration": 16,
    "start_time": "2023-08-09T09:02:19.741Z"
   },
   {
    "duration": 10,
    "start_time": "2023-08-09T09:02:19.759Z"
   },
   {
    "duration": 10,
    "start_time": "2023-08-09T09:02:19.771Z"
   },
   {
    "duration": 8,
    "start_time": "2023-08-09T09:02:19.783Z"
   },
   {
    "duration": 10,
    "start_time": "2023-08-09T09:02:19.792Z"
   },
   {
    "duration": 27,
    "start_time": "2023-08-09T09:02:19.803Z"
   },
   {
    "duration": 7,
    "start_time": "2023-08-09T09:02:19.833Z"
   },
   {
    "duration": 23,
    "start_time": "2023-08-09T09:02:19.842Z"
   },
   {
    "duration": 19,
    "start_time": "2023-08-09T09:02:19.867Z"
   },
   {
    "duration": 32,
    "start_time": "2023-08-09T09:02:19.888Z"
   },
   {
    "duration": 12,
    "start_time": "2023-08-09T09:02:19.922Z"
   },
   {
    "duration": 11,
    "start_time": "2023-08-09T09:02:19.936Z"
   },
   {
    "duration": 25,
    "start_time": "2023-08-09T09:02:19.948Z"
   },
   {
    "duration": 4180,
    "start_time": "2023-08-09T09:02:19.974Z"
   },
   {
    "duration": 3,
    "start_time": "2023-08-09T09:02:24.156Z"
   },
   {
    "duration": 814,
    "start_time": "2023-08-09T09:02:24.160Z"
   },
   {
    "duration": 7,
    "start_time": "2023-08-09T09:02:24.976Z"
   },
   {
    "duration": 19,
    "start_time": "2023-08-09T09:02:24.984Z"
   },
   {
    "duration": 18,
    "start_time": "2023-08-09T09:02:25.005Z"
   },
   {
    "duration": 20,
    "start_time": "2023-08-09T09:02:25.025Z"
   },
   {
    "duration": 14,
    "start_time": "2023-08-09T09:02:25.047Z"
   },
   {
    "duration": 19,
    "start_time": "2023-08-09T09:02:25.063Z"
   },
   {
    "duration": 20,
    "start_time": "2023-08-09T09:02:25.083Z"
   },
   {
    "duration": 34,
    "start_time": "2023-08-09T09:02:25.104Z"
   },
   {
    "duration": 29,
    "start_time": "2023-08-09T09:02:25.141Z"
   },
   {
    "duration": 25,
    "start_time": "2023-08-09T09:02:25.172Z"
   },
   {
    "duration": 20,
    "start_time": "2023-08-09T09:02:25.198Z"
   },
   {
    "duration": 14,
    "start_time": "2023-08-09T09:02:25.220Z"
   },
   {
    "duration": 14,
    "start_time": "2023-08-09T09:02:25.235Z"
   },
   {
    "duration": 23,
    "start_time": "2023-08-09T09:02:25.250Z"
   },
   {
    "duration": 86318,
    "start_time": "2023-08-09T09:02:25.275Z"
   },
   {
    "duration": 5,
    "start_time": "2023-08-09T09:03:51.595Z"
   },
   {
    "duration": 11679,
    "start_time": "2023-08-09T09:03:51.602Z"
   },
   {
    "duration": 5,
    "start_time": "2023-08-09T09:04:03.283Z"
   },
   {
    "duration": 5,
    "start_time": "2023-08-09T09:04:56.207Z"
   },
   {
    "duration": 11673,
    "start_time": "2023-08-09T09:04:57.165Z"
   },
   {
    "duration": 6,
    "start_time": "2023-08-09T09:05:08.841Z"
   },
   {
    "duration": 2014,
    "start_time": "2023-08-09T09:05:19.952Z"
   },
   {
    "duration": 44,
    "start_time": "2023-08-09T09:05:21.968Z"
   },
   {
    "duration": 12,
    "start_time": "2023-08-09T09:05:22.013Z"
   },
   {
    "duration": 25,
    "start_time": "2023-08-09T09:05:22.027Z"
   },
   {
    "duration": 25,
    "start_time": "2023-08-09T09:05:22.054Z"
   },
   {
    "duration": 14,
    "start_time": "2023-08-09T09:05:22.081Z"
   },
   {
    "duration": 12,
    "start_time": "2023-08-09T09:05:22.097Z"
   },
   {
    "duration": 22,
    "start_time": "2023-08-09T09:05:22.111Z"
   },
   {
    "duration": 20,
    "start_time": "2023-08-09T09:05:22.134Z"
   },
   {
    "duration": 22,
    "start_time": "2023-08-09T09:05:22.156Z"
   },
   {
    "duration": 5,
    "start_time": "2023-08-09T09:05:22.180Z"
   },
   {
    "duration": 12,
    "start_time": "2023-08-09T09:05:22.187Z"
   },
   {
    "duration": 23,
    "start_time": "2023-08-09T09:05:22.200Z"
   },
   {
    "duration": 13,
    "start_time": "2023-08-09T09:05:22.226Z"
   },
   {
    "duration": 8,
    "start_time": "2023-08-09T09:05:22.241Z"
   },
   {
    "duration": 33,
    "start_time": "2023-08-09T09:05:22.250Z"
   },
   {
    "duration": 4161,
    "start_time": "2023-08-09T09:05:22.285Z"
   },
   {
    "duration": 4,
    "start_time": "2023-08-09T09:05:26.447Z"
   },
   {
    "duration": 800,
    "start_time": "2023-08-09T09:05:26.453Z"
   },
   {
    "duration": 9,
    "start_time": "2023-08-09T09:05:27.254Z"
   },
   {
    "duration": 33,
    "start_time": "2023-08-09T09:05:27.265Z"
   },
   {
    "duration": 24,
    "start_time": "2023-08-09T09:05:27.300Z"
   },
   {
    "duration": 12,
    "start_time": "2023-08-09T09:05:27.326Z"
   },
   {
    "duration": 11,
    "start_time": "2023-08-09T09:05:27.340Z"
   },
   {
    "duration": 26,
    "start_time": "2023-08-09T09:05:27.353Z"
   },
   {
    "duration": 28,
    "start_time": "2023-08-09T09:05:27.381Z"
   },
   {
    "duration": 13,
    "start_time": "2023-08-09T09:05:27.411Z"
   },
   {
    "duration": 26,
    "start_time": "2023-08-09T09:05:27.426Z"
   },
   {
    "duration": 8,
    "start_time": "2023-08-09T09:05:27.454Z"
   },
   {
    "duration": 9,
    "start_time": "2023-08-09T09:05:27.464Z"
   },
   {
    "duration": 11,
    "start_time": "2023-08-09T09:05:27.474Z"
   },
   {
    "duration": 11,
    "start_time": "2023-08-09T09:05:27.486Z"
   },
   {
    "duration": 15,
    "start_time": "2023-08-09T09:05:27.499Z"
   },
   {
    "duration": 81312,
    "start_time": "2023-08-09T09:05:27.516Z"
   },
   {
    "duration": 5,
    "start_time": "2023-08-09T09:06:48.830Z"
   },
   {
    "duration": 11006,
    "start_time": "2023-08-09T09:06:48.837Z"
   },
   {
    "duration": 5,
    "start_time": "2023-08-09T09:06:59.845Z"
   },
   {
    "duration": 5,
    "start_time": "2023-08-09T09:08:23.277Z"
   },
   {
    "duration": 142,
    "start_time": "2023-08-09T09:08:38.351Z"
   },
   {
    "duration": 11,
    "start_time": "2023-08-09T09:10:46.174Z"
   },
   {
    "duration": 5,
    "start_time": "2023-08-09T09:10:49.309Z"
   },
   {
    "duration": 1128,
    "start_time": "2023-08-09T09:10:50.163Z"
   },
   {
    "duration": 6,
    "start_time": "2023-08-09T09:11:10.467Z"
   },
   {
    "duration": 1131,
    "start_time": "2023-08-09T09:11:10.857Z"
   },
   {
    "duration": 5,
    "start_time": "2023-08-09T09:11:23.278Z"
   },
   {
    "duration": 5,
    "start_time": "2023-08-09T09:11:28.083Z"
   },
   {
    "duration": 1264,
    "start_time": "2023-08-09T09:11:29.139Z"
   },
   {
    "duration": 6,
    "start_time": "2023-08-09T09:11:41.325Z"
   },
   {
    "duration": 1088,
    "start_time": "2023-08-09T09:11:41.817Z"
   },
   {
    "duration": 6,
    "start_time": "2023-08-09T09:11:48.430Z"
   },
   {
    "duration": 1098,
    "start_time": "2023-08-09T09:11:48.772Z"
   },
   {
    "duration": 5,
    "start_time": "2023-08-09T09:12:00.492Z"
   },
   {
    "duration": 1334,
    "start_time": "2023-08-09T09:12:01.324Z"
   },
   {
    "duration": 6,
    "start_time": "2023-08-09T09:13:48.367Z"
   },
   {
    "duration": 1209,
    "start_time": "2023-08-09T09:13:49.235Z"
   },
   {
    "duration": 5,
    "start_time": "2023-08-09T09:13:55.299Z"
   },
   {
    "duration": 1288,
    "start_time": "2023-08-09T09:13:56.254Z"
   },
   {
    "duration": 5,
    "start_time": "2023-08-09T09:14:04.201Z"
   },
   {
    "duration": 1481,
    "start_time": "2023-08-09T09:14:04.836Z"
   },
   {
    "duration": 5,
    "start_time": "2023-08-09T09:14:22.443Z"
   },
   {
    "duration": 1265,
    "start_time": "2023-08-09T09:14:22.747Z"
   },
   {
    "duration": 1986,
    "start_time": "2023-08-09T09:15:13.024Z"
   },
   {
    "duration": 46,
    "start_time": "2023-08-09T09:15:15.012Z"
   },
   {
    "duration": 24,
    "start_time": "2023-08-09T09:15:15.060Z"
   },
   {
    "duration": 24,
    "start_time": "2023-08-09T09:15:15.086Z"
   },
   {
    "duration": 14,
    "start_time": "2023-08-09T09:15:15.114Z"
   },
   {
    "duration": 8,
    "start_time": "2023-08-09T09:15:15.130Z"
   },
   {
    "duration": 11,
    "start_time": "2023-08-09T09:15:15.140Z"
   },
   {
    "duration": 10,
    "start_time": "2023-08-09T09:15:15.152Z"
   },
   {
    "duration": 11,
    "start_time": "2023-08-09T09:15:15.163Z"
   },
   {
    "duration": 9,
    "start_time": "2023-08-09T09:15:15.176Z"
   },
   {
    "duration": 6,
    "start_time": "2023-08-09T09:15:15.186Z"
   },
   {
    "duration": 9,
    "start_time": "2023-08-09T09:15:15.194Z"
   },
   {
    "duration": 6,
    "start_time": "2023-08-09T09:15:15.205Z"
   },
   {
    "duration": 9,
    "start_time": "2023-08-09T09:15:15.215Z"
   },
   {
    "duration": 38,
    "start_time": "2023-08-09T09:15:15.226Z"
   },
   {
    "duration": 27,
    "start_time": "2023-08-09T09:15:15.266Z"
   },
   {
    "duration": 4131,
    "start_time": "2023-08-09T09:15:15.295Z"
   },
   {
    "duration": 3,
    "start_time": "2023-08-09T09:15:19.427Z"
   },
   {
    "duration": 812,
    "start_time": "2023-08-09T09:15:19.432Z"
   },
   {
    "duration": 6,
    "start_time": "2023-08-09T09:15:20.245Z"
   },
   {
    "duration": 32,
    "start_time": "2023-08-09T09:15:20.253Z"
   },
   {
    "duration": 21,
    "start_time": "2023-08-09T09:15:20.286Z"
   },
   {
    "duration": 13,
    "start_time": "2023-08-09T09:15:20.309Z"
   },
   {
    "duration": 11,
    "start_time": "2023-08-09T09:15:20.324Z"
   },
   {
    "duration": 7,
    "start_time": "2023-08-09T09:15:20.336Z"
   },
   {
    "duration": 18,
    "start_time": "2023-08-09T09:15:20.345Z"
   },
   {
    "duration": 15,
    "start_time": "2023-08-09T09:15:20.365Z"
   },
   {
    "duration": 18,
    "start_time": "2023-08-09T09:15:20.382Z"
   },
   {
    "duration": 12,
    "start_time": "2023-08-09T09:15:20.402Z"
   },
   {
    "duration": 15,
    "start_time": "2023-08-09T09:15:20.415Z"
   },
   {
    "duration": 21,
    "start_time": "2023-08-09T09:15:20.432Z"
   },
   {
    "duration": 15,
    "start_time": "2023-08-09T09:15:20.456Z"
   },
   {
    "duration": 39,
    "start_time": "2023-08-09T09:15:20.473Z"
   },
   {
    "duration": 88064,
    "start_time": "2023-08-09T09:15:20.514Z"
   },
   {
    "duration": 5,
    "start_time": "2023-08-09T09:16:48.580Z"
   },
   {
    "duration": 12095,
    "start_time": "2023-08-09T09:16:48.587Z"
   },
   {
    "duration": 5,
    "start_time": "2023-08-09T09:17:00.684Z"
   },
   {
    "duration": 65,
    "start_time": "2023-08-09T09:17:00.690Z"
   },
   {
    "duration": 1055,
    "start_time": "2023-08-09T09:17:00.757Z"
   },
   {
    "duration": 1982,
    "start_time": "2023-08-09T09:18:18.262Z"
   },
   {
    "duration": 45,
    "start_time": "2023-08-09T09:18:20.246Z"
   },
   {
    "duration": 11,
    "start_time": "2023-08-09T09:18:20.293Z"
   },
   {
    "duration": 16,
    "start_time": "2023-08-09T09:18:20.306Z"
   },
   {
    "duration": 13,
    "start_time": "2023-08-09T09:18:20.324Z"
   },
   {
    "duration": 23,
    "start_time": "2023-08-09T09:18:20.339Z"
   },
   {
    "duration": 11,
    "start_time": "2023-08-09T09:18:20.364Z"
   },
   {
    "duration": 10,
    "start_time": "2023-08-09T09:18:20.377Z"
   },
   {
    "duration": 11,
    "start_time": "2023-08-09T09:18:20.388Z"
   },
   {
    "duration": 9,
    "start_time": "2023-08-09T09:18:20.402Z"
   },
   {
    "duration": 11,
    "start_time": "2023-08-09T09:18:20.413Z"
   },
   {
    "duration": 12,
    "start_time": "2023-08-09T09:18:20.426Z"
   },
   {
    "duration": 6,
    "start_time": "2023-08-09T09:18:20.440Z"
   },
   {
    "duration": 14,
    "start_time": "2023-08-09T09:18:20.460Z"
   },
   {
    "duration": 12,
    "start_time": "2023-08-09T09:18:20.477Z"
   },
   {
    "duration": 29,
    "start_time": "2023-08-09T09:18:20.492Z"
   },
   {
    "duration": 4103,
    "start_time": "2023-08-09T09:18:20.523Z"
   },
   {
    "duration": 2,
    "start_time": "2023-08-09T09:18:24.628Z"
   },
   {
    "duration": 835,
    "start_time": "2023-08-09T09:18:24.632Z"
   },
   {
    "duration": 6,
    "start_time": "2023-08-09T09:18:25.469Z"
   },
   {
    "duration": 23,
    "start_time": "2023-08-09T09:18:25.476Z"
   },
   {
    "duration": 22,
    "start_time": "2023-08-09T09:18:25.501Z"
   },
   {
    "duration": 13,
    "start_time": "2023-08-09T09:18:25.525Z"
   },
   {
    "duration": 18,
    "start_time": "2023-08-09T09:18:25.540Z"
   },
   {
    "duration": 14,
    "start_time": "2023-08-09T09:18:25.561Z"
   },
   {
    "duration": 31,
    "start_time": "2023-08-09T09:18:25.577Z"
   },
   {
    "duration": 21,
    "start_time": "2023-08-09T09:18:25.609Z"
   },
   {
    "duration": 19,
    "start_time": "2023-08-09T09:18:25.633Z"
   },
   {
    "duration": 11,
    "start_time": "2023-08-09T09:18:25.654Z"
   },
   {
    "duration": 10,
    "start_time": "2023-08-09T09:18:25.666Z"
   },
   {
    "duration": 20,
    "start_time": "2023-08-09T09:18:25.678Z"
   },
   {
    "duration": 7,
    "start_time": "2023-08-09T09:18:25.699Z"
   },
   {
    "duration": 21,
    "start_time": "2023-08-09T09:18:25.708Z"
   },
   {
    "duration": 76580,
    "start_time": "2023-08-09T09:18:25.731Z"
   },
   {
    "duration": 5,
    "start_time": "2023-08-09T09:19:42.314Z"
   },
   {
    "duration": 10332,
    "start_time": "2023-08-09T09:19:42.321Z"
   },
   {
    "duration": 7,
    "start_time": "2023-08-09T09:19:52.655Z"
   },
   {
    "duration": 15,
    "start_time": "2023-08-09T09:19:52.664Z"
   },
   {
    "duration": 1305,
    "start_time": "2023-08-09T09:19:52.681Z"
   },
   {
    "duration": 2034,
    "start_time": "2023-08-09T09:21:12.844Z"
   },
   {
    "duration": 44,
    "start_time": "2023-08-09T09:21:14.881Z"
   },
   {
    "duration": 12,
    "start_time": "2023-08-09T09:21:14.927Z"
   },
   {
    "duration": 12,
    "start_time": "2023-08-09T09:21:14.941Z"
   },
   {
    "duration": 5,
    "start_time": "2023-08-09T09:21:14.958Z"
   },
   {
    "duration": 7,
    "start_time": "2023-08-09T09:21:14.964Z"
   },
   {
    "duration": 7,
    "start_time": "2023-08-09T09:21:14.973Z"
   },
   {
    "duration": 7,
    "start_time": "2023-08-09T09:21:14.981Z"
   },
   {
    "duration": 35,
    "start_time": "2023-08-09T09:21:14.989Z"
   },
   {
    "duration": 31,
    "start_time": "2023-08-09T09:21:15.026Z"
   },
   {
    "duration": 48,
    "start_time": "2023-08-09T09:21:15.059Z"
   },
   {
    "duration": 22,
    "start_time": "2023-08-09T09:21:15.109Z"
   },
   {
    "duration": 22,
    "start_time": "2023-08-09T09:21:15.133Z"
   },
   {
    "duration": 17,
    "start_time": "2023-08-09T09:21:15.159Z"
   },
   {
    "duration": 12,
    "start_time": "2023-08-09T09:21:15.178Z"
   },
   {
    "duration": 28,
    "start_time": "2023-08-09T09:21:15.191Z"
   },
   {
    "duration": 4158,
    "start_time": "2023-08-09T09:21:15.220Z"
   },
   {
    "duration": 3,
    "start_time": "2023-08-09T09:21:19.380Z"
   },
   {
    "duration": 842,
    "start_time": "2023-08-09T09:21:19.384Z"
   },
   {
    "duration": 7,
    "start_time": "2023-08-09T09:21:20.228Z"
   },
   {
    "duration": 28,
    "start_time": "2023-08-09T09:21:20.237Z"
   },
   {
    "duration": 24,
    "start_time": "2023-08-09T09:21:20.267Z"
   },
   {
    "duration": 20,
    "start_time": "2023-08-09T09:21:20.293Z"
   },
   {
    "duration": 28,
    "start_time": "2023-08-09T09:21:20.315Z"
   },
   {
    "duration": 38,
    "start_time": "2023-08-09T09:21:20.345Z"
   },
   {
    "duration": 29,
    "start_time": "2023-08-09T09:21:20.385Z"
   },
   {
    "duration": 40,
    "start_time": "2023-08-09T09:21:20.416Z"
   },
   {
    "duration": 45,
    "start_time": "2023-08-09T09:21:20.458Z"
   },
   {
    "duration": 21,
    "start_time": "2023-08-09T09:21:20.505Z"
   },
   {
    "duration": 16,
    "start_time": "2023-08-09T09:21:20.528Z"
   },
   {
    "duration": 18,
    "start_time": "2023-08-09T09:21:20.546Z"
   },
   {
    "duration": 19,
    "start_time": "2023-08-09T09:21:20.566Z"
   },
   {
    "duration": 23,
    "start_time": "2023-08-09T09:21:20.587Z"
   },
   {
    "duration": 82376,
    "start_time": "2023-08-09T09:21:20.612Z"
   },
   {
    "duration": 5,
    "start_time": "2023-08-09T09:22:42.990Z"
   },
   {
    "duration": 11096,
    "start_time": "2023-08-09T09:22:42.997Z"
   },
   {
    "duration": 4,
    "start_time": "2023-08-09T09:22:54.095Z"
   },
   {
    "duration": 12,
    "start_time": "2023-08-09T09:22:54.101Z"
   },
   {
    "duration": 1149,
    "start_time": "2023-08-09T09:22:54.115Z"
   },
   {
    "duration": 2086,
    "start_time": "2023-08-09T09:23:26.630Z"
   },
   {
    "duration": 45,
    "start_time": "2023-08-09T09:23:28.718Z"
   },
   {
    "duration": 12,
    "start_time": "2023-08-09T09:23:28.765Z"
   },
   {
    "duration": 16,
    "start_time": "2023-08-09T09:23:28.778Z"
   },
   {
    "duration": 7,
    "start_time": "2023-08-09T09:23:28.796Z"
   },
   {
    "duration": 11,
    "start_time": "2023-08-09T09:23:28.805Z"
   },
   {
    "duration": 10,
    "start_time": "2023-08-09T09:23:28.818Z"
   },
   {
    "duration": 7,
    "start_time": "2023-08-09T09:23:28.830Z"
   },
   {
    "duration": 28,
    "start_time": "2023-08-09T09:23:28.838Z"
   },
   {
    "duration": 13,
    "start_time": "2023-08-09T09:23:28.868Z"
   },
   {
    "duration": 8,
    "start_time": "2023-08-09T09:23:28.882Z"
   },
   {
    "duration": 16,
    "start_time": "2023-08-09T09:23:28.891Z"
   },
   {
    "duration": 5,
    "start_time": "2023-08-09T09:23:28.909Z"
   },
   {
    "duration": 10,
    "start_time": "2023-08-09T09:23:28.918Z"
   },
   {
    "duration": 8,
    "start_time": "2023-08-09T09:23:28.930Z"
   },
   {
    "duration": 88,
    "start_time": "2023-08-09T09:23:28.939Z"
   },
   {
    "duration": 4264,
    "start_time": "2023-08-09T09:23:29.030Z"
   },
   {
    "duration": 4,
    "start_time": "2023-08-09T09:23:33.295Z"
   },
   {
    "duration": 808,
    "start_time": "2023-08-09T09:23:33.301Z"
   },
   {
    "duration": 6,
    "start_time": "2023-08-09T09:23:34.111Z"
   },
   {
    "duration": 21,
    "start_time": "2023-08-09T09:23:34.119Z"
   },
   {
    "duration": 31,
    "start_time": "2023-08-09T09:23:34.142Z"
   },
   {
    "duration": 23,
    "start_time": "2023-08-09T09:23:34.175Z"
   },
   {
    "duration": 10,
    "start_time": "2023-08-09T09:23:34.199Z"
   },
   {
    "duration": 11,
    "start_time": "2023-08-09T09:23:34.211Z"
   },
   {
    "duration": 34,
    "start_time": "2023-08-09T09:23:34.224Z"
   },
   {
    "duration": 16,
    "start_time": "2023-08-09T09:23:34.260Z"
   },
   {
    "duration": 25,
    "start_time": "2023-08-09T09:23:34.278Z"
   },
   {
    "duration": 8,
    "start_time": "2023-08-09T09:23:34.305Z"
   },
   {
    "duration": 20,
    "start_time": "2023-08-09T09:23:34.315Z"
   },
   {
    "duration": 8,
    "start_time": "2023-08-09T09:23:34.337Z"
   },
   {
    "duration": 6,
    "start_time": "2023-08-09T09:23:34.347Z"
   },
   {
    "duration": 16,
    "start_time": "2023-08-09T09:23:34.355Z"
   },
   {
    "duration": 83242,
    "start_time": "2023-08-09T09:23:34.373Z"
   },
   {
    "duration": 5,
    "start_time": "2023-08-09T09:24:57.617Z"
   },
   {
    "duration": 11409,
    "start_time": "2023-08-09T09:24:57.624Z"
   },
   {
    "duration": 5,
    "start_time": "2023-08-09T09:25:09.035Z"
   },
   {
    "duration": 17,
    "start_time": "2023-08-09T09:25:09.042Z"
   },
   {
    "duration": 1161,
    "start_time": "2023-08-09T09:25:09.061Z"
   },
   {
    "duration": 7,
    "start_time": "2023-08-09T09:32:48.330Z"
   },
   {
    "duration": 1140,
    "start_time": "2023-08-09T09:32:48.655Z"
   },
   {
    "duration": 5,
    "start_time": "2023-08-09T09:32:58.781Z"
   },
   {
    "duration": 1296,
    "start_time": "2023-08-09T09:32:59.364Z"
   },
   {
    "duration": 2037,
    "start_time": "2023-08-09T09:39:41.794Z"
   },
   {
    "duration": 46,
    "start_time": "2023-08-09T09:39:43.833Z"
   },
   {
    "duration": 16,
    "start_time": "2023-08-09T09:39:43.881Z"
   },
   {
    "duration": 13,
    "start_time": "2023-08-09T09:39:43.900Z"
   },
   {
    "duration": 15,
    "start_time": "2023-08-09T09:39:43.914Z"
   },
   {
    "duration": 38,
    "start_time": "2023-08-09T09:39:43.931Z"
   },
   {
    "duration": 9,
    "start_time": "2023-08-09T09:39:43.971Z"
   },
   {
    "duration": 9,
    "start_time": "2023-08-09T09:39:43.981Z"
   },
   {
    "duration": 13,
    "start_time": "2023-08-09T09:39:43.992Z"
   },
   {
    "duration": 19,
    "start_time": "2023-08-09T09:39:44.008Z"
   },
   {
    "duration": 6,
    "start_time": "2023-08-09T09:39:44.028Z"
   },
   {
    "duration": 8,
    "start_time": "2023-08-09T09:39:44.036Z"
   },
   {
    "duration": 5,
    "start_time": "2023-08-09T09:39:44.046Z"
   },
   {
    "duration": 11,
    "start_time": "2023-08-09T09:39:44.053Z"
   },
   {
    "duration": 9,
    "start_time": "2023-08-09T09:39:44.066Z"
   },
   {
    "duration": 29,
    "start_time": "2023-08-09T09:39:44.076Z"
   },
   {
    "duration": 4223,
    "start_time": "2023-08-09T09:39:44.107Z"
   },
   {
    "duration": 3,
    "start_time": "2023-08-09T09:39:48.332Z"
   },
   {
    "duration": 838,
    "start_time": "2023-08-09T09:39:48.337Z"
   },
   {
    "duration": 7,
    "start_time": "2023-08-09T09:39:49.177Z"
   },
   {
    "duration": 19,
    "start_time": "2023-08-09T09:39:49.185Z"
   },
   {
    "duration": 24,
    "start_time": "2023-08-09T09:39:49.206Z"
   },
   {
    "duration": 15,
    "start_time": "2023-08-09T09:39:49.232Z"
   },
   {
    "duration": 16,
    "start_time": "2023-08-09T09:39:49.249Z"
   },
   {
    "duration": 7,
    "start_time": "2023-08-09T09:39:49.267Z"
   },
   {
    "duration": 13,
    "start_time": "2023-08-09T09:39:49.276Z"
   },
   {
    "duration": 22,
    "start_time": "2023-08-09T09:39:49.291Z"
   },
   {
    "duration": 24,
    "start_time": "2023-08-09T09:39:49.316Z"
   },
   {
    "duration": 24,
    "start_time": "2023-08-09T09:39:49.342Z"
   },
   {
    "duration": 33,
    "start_time": "2023-08-09T09:39:49.368Z"
   },
   {
    "duration": 9,
    "start_time": "2023-08-09T09:39:49.403Z"
   },
   {
    "duration": 8,
    "start_time": "2023-08-09T09:39:49.414Z"
   },
   {
    "duration": 27,
    "start_time": "2023-08-09T09:39:49.424Z"
   },
   {
    "duration": 152121,
    "start_time": "2023-08-09T09:39:49.453Z"
   },
   {
    "duration": 5,
    "start_time": "2023-08-09T09:42:21.576Z"
   },
   {
    "duration": 10797,
    "start_time": "2023-08-09T09:42:21.583Z"
   },
   {
    "duration": 5,
    "start_time": "2023-08-09T09:42:32.382Z"
   },
   {
    "duration": 20,
    "start_time": "2023-08-09T09:42:32.388Z"
   },
   {
    "duration": 1155,
    "start_time": "2023-08-09T09:42:32.410Z"
   },
   {
    "duration": 90,
    "start_time": "2023-08-09T09:42:33.567Z"
   },
   {
    "duration": 0,
    "start_time": "2023-08-09T09:42:33.659Z"
   },
   {
    "duration": 0,
    "start_time": "2023-08-09T09:42:33.660Z"
   },
   {
    "duration": 0,
    "start_time": "2023-08-09T09:42:33.661Z"
   },
   {
    "duration": 0,
    "start_time": "2023-08-09T09:42:33.662Z"
   },
   {
    "duration": 2139,
    "start_time": "2023-08-09T09:43:15.462Z"
   },
   {
    "duration": 49,
    "start_time": "2023-08-09T09:43:17.603Z"
   },
   {
    "duration": 13,
    "start_time": "2023-08-09T09:43:17.653Z"
   },
   {
    "duration": 32,
    "start_time": "2023-08-09T09:43:17.668Z"
   },
   {
    "duration": 17,
    "start_time": "2023-08-09T09:43:17.702Z"
   },
   {
    "duration": 19,
    "start_time": "2023-08-09T09:43:17.721Z"
   },
   {
    "duration": 21,
    "start_time": "2023-08-09T09:43:17.742Z"
   },
   {
    "duration": 16,
    "start_time": "2023-08-09T09:43:17.765Z"
   },
   {
    "duration": 18,
    "start_time": "2023-08-09T09:43:17.783Z"
   },
   {
    "duration": 8,
    "start_time": "2023-08-09T09:43:17.804Z"
   },
   {
    "duration": 12,
    "start_time": "2023-08-09T09:43:17.814Z"
   },
   {
    "duration": 16,
    "start_time": "2023-08-09T09:43:17.831Z"
   },
   {
    "duration": 12,
    "start_time": "2023-08-09T09:43:17.849Z"
   },
   {
    "duration": 16,
    "start_time": "2023-08-09T09:43:17.863Z"
   },
   {
    "duration": 12,
    "start_time": "2023-08-09T09:43:17.881Z"
   },
   {
    "duration": 32,
    "start_time": "2023-08-09T09:43:17.895Z"
   },
   {
    "duration": 4285,
    "start_time": "2023-08-09T09:43:17.929Z"
   },
   {
    "duration": 3,
    "start_time": "2023-08-09T09:43:22.216Z"
   },
   {
    "duration": 861,
    "start_time": "2023-08-09T09:43:22.220Z"
   },
   {
    "duration": 8,
    "start_time": "2023-08-09T09:43:23.082Z"
   },
   {
    "duration": 24,
    "start_time": "2023-08-09T09:43:23.092Z"
   },
   {
    "duration": 20,
    "start_time": "2023-08-09T09:43:23.118Z"
   },
   {
    "duration": 20,
    "start_time": "2023-08-09T09:43:23.139Z"
   },
   {
    "duration": 16,
    "start_time": "2023-08-09T09:43:23.161Z"
   },
   {
    "duration": 14,
    "start_time": "2023-08-09T09:43:23.179Z"
   },
   {
    "duration": 21,
    "start_time": "2023-08-09T09:43:23.195Z"
   },
   {
    "duration": 28,
    "start_time": "2023-08-09T09:43:23.218Z"
   },
   {
    "duration": 29,
    "start_time": "2023-08-09T09:43:23.250Z"
   },
   {
    "duration": 9,
    "start_time": "2023-08-09T09:43:23.280Z"
   },
   {
    "duration": 5,
    "start_time": "2023-08-09T09:43:23.291Z"
   },
   {
    "duration": 8,
    "start_time": "2023-08-09T09:43:23.298Z"
   },
   {
    "duration": 11,
    "start_time": "2023-08-09T09:43:23.307Z"
   },
   {
    "duration": 12,
    "start_time": "2023-08-09T09:43:23.320Z"
   },
   {
    "duration": 117983,
    "start_time": "2023-08-09T09:43:23.334Z"
   },
   {
    "duration": 5,
    "start_time": "2023-08-09T09:45:21.319Z"
   },
   {
    "duration": 10623,
    "start_time": "2023-08-09T09:45:21.326Z"
   },
   {
    "duration": 9,
    "start_time": "2023-08-09T09:45:31.952Z"
   },
   {
    "duration": 10,
    "start_time": "2023-08-09T09:45:31.963Z"
   },
   {
    "duration": 1169,
    "start_time": "2023-08-09T09:45:31.974Z"
   },
   {
    "duration": 15,
    "start_time": "2023-08-09T09:45:33.145Z"
   },
   {
    "duration": 74,
    "start_time": "2023-08-09T09:45:33.162Z"
   },
   {
    "duration": 2071,
    "start_time": "2023-08-09T09:46:20.218Z"
   },
   {
    "duration": 48,
    "start_time": "2023-08-09T09:46:22.291Z"
   },
   {
    "duration": 12,
    "start_time": "2023-08-09T09:46:22.341Z"
   },
   {
    "duration": 16,
    "start_time": "2023-08-09T09:46:22.355Z"
   },
   {
    "duration": 13,
    "start_time": "2023-08-09T09:46:22.374Z"
   },
   {
    "duration": 9,
    "start_time": "2023-08-09T09:46:22.389Z"
   },
   {
    "duration": 19,
    "start_time": "2023-08-09T09:46:22.400Z"
   },
   {
    "duration": 12,
    "start_time": "2023-08-09T09:46:22.421Z"
   },
   {
    "duration": 10,
    "start_time": "2023-08-09T09:46:22.435Z"
   },
   {
    "duration": 9,
    "start_time": "2023-08-09T09:46:22.447Z"
   },
   {
    "duration": 10,
    "start_time": "2023-08-09T09:46:22.458Z"
   },
   {
    "duration": 13,
    "start_time": "2023-08-09T09:46:22.470Z"
   },
   {
    "duration": 12,
    "start_time": "2023-08-09T09:46:22.485Z"
   },
   {
    "duration": 13,
    "start_time": "2023-08-09T09:46:22.501Z"
   },
   {
    "duration": 8,
    "start_time": "2023-08-09T09:46:22.516Z"
   },
   {
    "duration": 52,
    "start_time": "2023-08-09T09:46:22.526Z"
   },
   {
    "duration": 4234,
    "start_time": "2023-08-09T09:46:22.580Z"
   },
   {
    "duration": 3,
    "start_time": "2023-08-09T09:46:26.816Z"
   },
   {
    "duration": 831,
    "start_time": "2023-08-09T09:46:26.820Z"
   },
   {
    "duration": 7,
    "start_time": "2023-08-09T09:46:27.659Z"
   },
   {
    "duration": 17,
    "start_time": "2023-08-09T09:46:27.668Z"
   },
   {
    "duration": 18,
    "start_time": "2023-08-09T09:46:27.687Z"
   },
   {
    "duration": 22,
    "start_time": "2023-08-09T09:46:27.707Z"
   },
   {
    "duration": 12,
    "start_time": "2023-08-09T09:46:27.731Z"
   },
   {
    "duration": 24,
    "start_time": "2023-08-09T09:46:27.745Z"
   },
   {
    "duration": 20,
    "start_time": "2023-08-09T09:46:27.771Z"
   },
   {
    "duration": 15,
    "start_time": "2023-08-09T09:46:27.793Z"
   },
   {
    "duration": 29,
    "start_time": "2023-08-09T09:46:27.810Z"
   },
   {
    "duration": 9,
    "start_time": "2023-08-09T09:46:27.841Z"
   },
   {
    "duration": 11,
    "start_time": "2023-08-09T09:46:27.852Z"
   },
   {
    "duration": 11,
    "start_time": "2023-08-09T09:46:27.864Z"
   },
   {
    "duration": 13,
    "start_time": "2023-08-09T09:46:27.877Z"
   },
   {
    "duration": 16,
    "start_time": "2023-08-09T09:46:27.892Z"
   },
   {
    "duration": 116676,
    "start_time": "2023-08-09T09:46:27.910Z"
   },
   {
    "duration": 5,
    "start_time": "2023-08-09T09:48:24.588Z"
   },
   {
    "duration": 11172,
    "start_time": "2023-08-09T09:48:24.595Z"
   },
   {
    "duration": 7,
    "start_time": "2023-08-09T09:48:35.771Z"
   },
   {
    "duration": 6,
    "start_time": "2023-08-09T09:48:35.780Z"
   },
   {
    "duration": 1121,
    "start_time": "2023-08-09T09:48:35.788Z"
   },
   {
    "duration": 6,
    "start_time": "2023-08-09T09:48:36.910Z"
   },
   {
    "duration": 12,
    "start_time": "2023-08-09T09:48:36.920Z"
   },
   {
    "duration": 7,
    "start_time": "2023-08-09T10:00:26.985Z"
   },
   {
    "duration": 7,
    "start_time": "2023-08-09T10:00:27.060Z"
   },
   {
    "duration": 707499,
    "start_time": "2023-08-09T10:00:27.069Z"
   },
   {
    "duration": 1968,
    "start_time": "2023-08-09T11:24:47.768Z"
   },
   {
    "duration": 45,
    "start_time": "2023-08-09T11:24:49.738Z"
   },
   {
    "duration": 11,
    "start_time": "2023-08-09T11:24:49.785Z"
   },
   {
    "duration": 55,
    "start_time": "2023-08-09T11:24:49.798Z"
   },
   {
    "duration": 68,
    "start_time": "2023-08-09T11:24:49.855Z"
   },
   {
    "duration": 16,
    "start_time": "2023-08-09T11:24:49.925Z"
   },
   {
    "duration": 8,
    "start_time": "2023-08-09T11:24:49.943Z"
   },
   {
    "duration": 10,
    "start_time": "2023-08-09T11:24:49.952Z"
   },
   {
    "duration": 10,
    "start_time": "2023-08-09T11:24:49.963Z"
   },
   {
    "duration": 10,
    "start_time": "2023-08-09T11:24:49.974Z"
   },
   {
    "duration": 8,
    "start_time": "2023-08-09T11:24:49.986Z"
   },
   {
    "duration": 23,
    "start_time": "2023-08-09T11:24:49.996Z"
   },
   {
    "duration": 43,
    "start_time": "2023-08-09T11:24:50.021Z"
   },
   {
    "duration": 14,
    "start_time": "2023-08-09T11:24:50.067Z"
   },
   {
    "duration": 16,
    "start_time": "2023-08-09T11:24:50.083Z"
   },
   {
    "duration": 44,
    "start_time": "2023-08-09T11:24:50.101Z"
   },
   {
    "duration": 4083,
    "start_time": "2023-08-09T11:24:50.147Z"
   },
   {
    "duration": 4,
    "start_time": "2023-08-09T11:24:54.231Z"
   },
   {
    "duration": 813,
    "start_time": "2023-08-09T11:24:54.236Z"
   },
   {
    "duration": 13,
    "start_time": "2023-08-09T11:24:55.051Z"
   },
   {
    "duration": 33,
    "start_time": "2023-08-09T11:24:55.066Z"
   },
   {
    "duration": 22,
    "start_time": "2023-08-09T11:24:55.102Z"
   },
   {
    "duration": 17,
    "start_time": "2023-08-09T11:24:55.126Z"
   },
   {
    "duration": 17,
    "start_time": "2023-08-09T11:24:55.145Z"
   },
   {
    "duration": 17,
    "start_time": "2023-08-09T11:24:55.164Z"
   },
   {
    "duration": 33,
    "start_time": "2023-08-09T11:24:55.183Z"
   },
   {
    "duration": 33,
    "start_time": "2023-08-09T11:24:55.218Z"
   },
   {
    "duration": 64,
    "start_time": "2023-08-09T11:24:55.253Z"
   },
   {
    "duration": 22,
    "start_time": "2023-08-09T11:24:55.319Z"
   },
   {
    "duration": 16,
    "start_time": "2023-08-09T11:24:55.342Z"
   },
   {
    "duration": 53,
    "start_time": "2023-08-09T11:24:55.360Z"
   },
   {
    "duration": 25,
    "start_time": "2023-08-09T11:24:55.415Z"
   },
   {
    "duration": 15,
    "start_time": "2023-08-09T11:24:55.441Z"
   },
   {
    "duration": 82341,
    "start_time": "2023-08-09T11:24:55.458Z"
   },
   {
    "duration": 4,
    "start_time": "2023-08-09T11:26:17.801Z"
   },
   {
    "duration": 0,
    "start_time": "2023-08-09T11:26:17.964Z"
   },
   {
    "duration": 0,
    "start_time": "2023-08-09T11:26:17.965Z"
   },
   {
    "duration": 0,
    "start_time": "2023-08-09T11:26:17.966Z"
   },
   {
    "duration": 0,
    "start_time": "2023-08-09T11:26:17.967Z"
   },
   {
    "duration": 0,
    "start_time": "2023-08-09T11:26:17.968Z"
   },
   {
    "duration": 0,
    "start_time": "2023-08-09T11:26:17.969Z"
   },
   {
    "duration": 0,
    "start_time": "2023-08-09T11:26:17.971Z"
   },
   {
    "duration": 11337,
    "start_time": "2023-08-09T11:26:36.981Z"
   },
   {
    "duration": 6,
    "start_time": "2023-08-09T11:26:48.321Z"
   },
   {
    "duration": 11,
    "start_time": "2023-08-09T11:26:48.329Z"
   },
   {
    "duration": 1140,
    "start_time": "2023-08-09T11:26:48.344Z"
   },
   {
    "duration": 5,
    "start_time": "2023-08-09T11:26:49.486Z"
   },
   {
    "duration": 36,
    "start_time": "2023-08-09T11:26:49.493Z"
   },
   {
    "duration": 492041,
    "start_time": "2023-08-09T11:26:49.531Z"
   },
   {
    "duration": 6,
    "start_time": "2023-08-09T11:36:56.711Z"
   },
   {
    "duration": 5,
    "start_time": "2023-08-09T11:36:58.511Z"
   },
   {
    "duration": 487714,
    "start_time": "2023-08-09T11:37:02.145Z"
   },
   {
    "duration": 5,
    "start_time": "2023-08-09T11:53:43.809Z"
   },
   {
    "duration": 5,
    "start_time": "2023-08-09T11:53:44.793Z"
   },
   {
    "duration": 89985,
    "start_time": "2023-08-09T11:53:45.942Z"
   },
   {
    "duration": 5,
    "start_time": "2023-08-09T11:55:48.027Z"
   },
   {
    "duration": 4,
    "start_time": "2023-08-09T11:55:48.395Z"
   },
   {
    "duration": 87306,
    "start_time": "2023-08-09T11:55:48.708Z"
   },
   {
    "duration": 5,
    "start_time": "2023-08-09T11:57:35.745Z"
   },
   {
    "duration": 5,
    "start_time": "2023-08-09T11:57:36.227Z"
   },
   {
    "duration": 87415,
    "start_time": "2023-08-09T11:57:36.593Z"
   },
   {
    "duration": 5,
    "start_time": "2023-08-09T12:30:34.248Z"
   },
   {
    "duration": 5,
    "start_time": "2023-08-09T12:30:34.555Z"
   },
   {
    "duration": 88045,
    "start_time": "2023-08-09T12:30:34.760Z"
   },
   {
    "duration": 5,
    "start_time": "2023-08-09T12:35:28.674Z"
   },
   {
    "duration": 4,
    "start_time": "2023-08-09T12:35:51.356Z"
   },
   {
    "duration": 1969,
    "start_time": "2023-08-09T12:36:54.087Z"
   },
   {
    "duration": 45,
    "start_time": "2023-08-09T12:36:56.058Z"
   },
   {
    "duration": 12,
    "start_time": "2023-08-09T12:36:56.105Z"
   },
   {
    "duration": 16,
    "start_time": "2023-08-09T12:36:56.119Z"
   },
   {
    "duration": 9,
    "start_time": "2023-08-09T12:36:56.137Z"
   },
   {
    "duration": 6,
    "start_time": "2023-08-09T12:36:56.148Z"
   },
   {
    "duration": 7,
    "start_time": "2023-08-09T12:36:56.156Z"
   },
   {
    "duration": 11,
    "start_time": "2023-08-09T12:36:56.165Z"
   },
   {
    "duration": 8,
    "start_time": "2023-08-09T12:36:56.177Z"
   },
   {
    "duration": 20,
    "start_time": "2023-08-09T12:36:56.189Z"
   },
   {
    "duration": 12,
    "start_time": "2023-08-09T12:36:56.211Z"
   },
   {
    "duration": 13,
    "start_time": "2023-08-09T12:36:56.224Z"
   },
   {
    "duration": 12,
    "start_time": "2023-08-09T12:36:56.238Z"
   },
   {
    "duration": 16,
    "start_time": "2023-08-09T12:36:56.251Z"
   },
   {
    "duration": 7,
    "start_time": "2023-08-09T12:36:56.269Z"
   },
   {
    "duration": 24,
    "start_time": "2023-08-09T12:36:56.277Z"
   },
   {
    "duration": 4283,
    "start_time": "2023-08-09T12:36:56.303Z"
   },
   {
    "duration": 3,
    "start_time": "2023-08-09T12:37:00.588Z"
   },
   {
    "duration": 849,
    "start_time": "2023-08-09T12:37:00.593Z"
   },
   {
    "duration": 15,
    "start_time": "2023-08-09T12:37:01.444Z"
   },
   {
    "duration": 41,
    "start_time": "2023-08-09T12:37:01.460Z"
   },
   {
    "duration": 43,
    "start_time": "2023-08-09T12:37:01.502Z"
   },
   {
    "duration": 32,
    "start_time": "2023-08-09T12:37:01.547Z"
   },
   {
    "duration": 31,
    "start_time": "2023-08-09T12:37:01.581Z"
   },
   {
    "duration": 27,
    "start_time": "2023-08-09T12:37:01.615Z"
   },
   {
    "duration": 37,
    "start_time": "2023-08-09T12:37:01.644Z"
   },
   {
    "duration": 76,
    "start_time": "2023-08-09T12:37:01.683Z"
   },
   {
    "duration": 67,
    "start_time": "2023-08-09T12:37:01.763Z"
   },
   {
    "duration": 24,
    "start_time": "2023-08-09T12:37:01.832Z"
   },
   {
    "duration": 41,
    "start_time": "2023-08-09T12:37:01.857Z"
   },
   {
    "duration": 27,
    "start_time": "2023-08-09T12:37:01.900Z"
   },
   {
    "duration": 12,
    "start_time": "2023-08-09T12:37:01.929Z"
   },
   {
    "duration": 12,
    "start_time": "2023-08-09T12:37:01.943Z"
   },
   {
    "duration": 85861,
    "start_time": "2023-08-09T12:37:01.957Z"
   },
   {
    "duration": 6,
    "start_time": "2023-08-09T12:38:27.820Z"
   },
   {
    "duration": 11802,
    "start_time": "2023-08-09T12:38:27.828Z"
   },
   {
    "duration": 5,
    "start_time": "2023-08-09T12:38:39.632Z"
   },
   {
    "duration": 7,
    "start_time": "2023-08-09T12:38:39.639Z"
   },
   {
    "duration": 1126,
    "start_time": "2023-08-09T12:38:39.659Z"
   },
   {
    "duration": 84,
    "start_time": "2023-08-09T12:38:40.786Z"
   },
   {
    "duration": 0,
    "start_time": "2023-08-09T12:38:40.871Z"
   },
   {
    "duration": 0,
    "start_time": "2023-08-09T12:38:40.873Z"
   },
   {
    "duration": 8,
    "start_time": "2023-08-09T12:39:18.466Z"
   },
   {
    "duration": 5,
    "start_time": "2023-08-09T12:39:20.675Z"
   },
   {
    "duration": 465331,
    "start_time": "2023-08-09T12:39:23.744Z"
   },
   {
    "duration": 5,
    "start_time": "2023-08-09T12:47:19.860Z"
   },
   {
    "duration": 451180,
    "start_time": "2023-08-09T12:47:21.010Z"
   },
   {
    "duration": 1968,
    "start_time": "2023-08-09T12:54:55.267Z"
   },
   {
    "duration": 44,
    "start_time": "2023-08-09T12:54:57.237Z"
   },
   {
    "duration": 11,
    "start_time": "2023-08-09T12:54:57.284Z"
   },
   {
    "duration": 13,
    "start_time": "2023-08-09T12:54:57.298Z"
   },
   {
    "duration": 14,
    "start_time": "2023-08-09T12:54:57.313Z"
   },
   {
    "duration": 18,
    "start_time": "2023-08-09T12:54:57.330Z"
   },
   {
    "duration": 12,
    "start_time": "2023-08-09T12:54:57.350Z"
   },
   {
    "duration": 15,
    "start_time": "2023-08-09T12:54:57.364Z"
   },
   {
    "duration": 7,
    "start_time": "2023-08-09T12:54:57.381Z"
   },
   {
    "duration": 10,
    "start_time": "2023-08-09T12:54:57.392Z"
   },
   {
    "duration": 12,
    "start_time": "2023-08-09T12:54:57.404Z"
   },
   {
    "duration": 12,
    "start_time": "2023-08-09T12:54:57.418Z"
   },
   {
    "duration": 5,
    "start_time": "2023-08-09T12:54:57.432Z"
   },
   {
    "duration": 25,
    "start_time": "2023-08-09T12:54:57.439Z"
   },
   {
    "duration": 8,
    "start_time": "2023-08-09T12:54:57.466Z"
   },
   {
    "duration": 26,
    "start_time": "2023-08-09T12:54:57.476Z"
   },
   {
    "duration": 4274,
    "start_time": "2023-08-09T12:54:57.504Z"
   },
   {
    "duration": 3,
    "start_time": "2023-08-09T12:55:01.780Z"
   },
   {
    "duration": 912,
    "start_time": "2023-08-09T12:55:01.785Z"
   },
   {
    "duration": 6,
    "start_time": "2023-08-09T12:55:02.699Z"
   },
   {
    "duration": 24,
    "start_time": "2023-08-09T12:55:02.707Z"
   },
   {
    "duration": 37,
    "start_time": "2023-08-09T12:55:02.733Z"
   },
   {
    "duration": 649,
    "start_time": "2023-08-09T12:55:02.771Z"
   },
   {
    "duration": 80,
    "start_time": "2023-08-09T12:55:03.422Z"
   },
   {
    "duration": 75,
    "start_time": "2023-08-09T12:55:03.504Z"
   },
   {
    "duration": 77,
    "start_time": "2023-08-09T12:55:03.581Z"
   },
   {
    "duration": 139,
    "start_time": "2023-08-09T12:55:03.660Z"
   },
   {
    "duration": 30,
    "start_time": "2023-08-09T12:55:03.804Z"
   },
   {
    "duration": 9,
    "start_time": "2023-08-09T12:55:03.836Z"
   },
   {
    "duration": 14,
    "start_time": "2023-08-09T12:55:03.847Z"
   },
   {
    "duration": 47,
    "start_time": "2023-08-09T12:55:03.862Z"
   },
   {
    "duration": 21,
    "start_time": "2023-08-09T12:55:03.911Z"
   },
   {
    "duration": 15,
    "start_time": "2023-08-09T12:55:03.934Z"
   },
   {
    "duration": 302581,
    "start_time": "2023-08-09T12:55:03.950Z"
   },
   {
    "duration": 2116,
    "start_time": "2023-08-09T13:01:12.450Z"
   },
   {
    "duration": 47,
    "start_time": "2023-08-09T13:01:14.569Z"
   },
   {
    "duration": 12,
    "start_time": "2023-08-09T13:01:14.618Z"
   },
   {
    "duration": 46,
    "start_time": "2023-08-09T13:01:14.631Z"
   },
   {
    "duration": 47,
    "start_time": "2023-08-09T13:01:14.679Z"
   },
   {
    "duration": 20,
    "start_time": "2023-08-09T13:01:14.728Z"
   },
   {
    "duration": 30,
    "start_time": "2023-08-09T13:01:14.750Z"
   },
   {
    "duration": 39,
    "start_time": "2023-08-09T13:01:14.782Z"
   },
   {
    "duration": 19,
    "start_time": "2023-08-09T13:01:14.823Z"
   },
   {
    "duration": 18,
    "start_time": "2023-08-09T13:01:14.843Z"
   },
   {
    "duration": 23,
    "start_time": "2023-08-09T13:01:14.862Z"
   },
   {
    "duration": 16,
    "start_time": "2023-08-09T13:01:14.887Z"
   },
   {
    "duration": 23,
    "start_time": "2023-08-09T13:01:14.905Z"
   },
   {
    "duration": 25,
    "start_time": "2023-08-09T13:01:14.931Z"
   },
   {
    "duration": 9,
    "start_time": "2023-08-09T13:01:14.958Z"
   },
   {
    "duration": 35,
    "start_time": "2023-08-09T13:01:14.969Z"
   },
   {
    "duration": 4337,
    "start_time": "2023-08-09T13:01:15.005Z"
   },
   {
    "duration": 3,
    "start_time": "2023-08-09T13:01:19.344Z"
   },
   {
    "duration": 830,
    "start_time": "2023-08-09T13:01:19.349Z"
   },
   {
    "duration": 7,
    "start_time": "2023-08-09T13:01:20.182Z"
   },
   {
    "duration": 69,
    "start_time": "2023-08-09T13:01:20.191Z"
   },
   {
    "duration": 71,
    "start_time": "2023-08-09T13:01:20.263Z"
   },
   {
    "duration": 18,
    "start_time": "2023-08-09T13:01:20.336Z"
   },
   {
    "duration": 12,
    "start_time": "2023-08-09T13:01:20.356Z"
   },
   {
    "duration": 8,
    "start_time": "2023-08-09T13:01:20.369Z"
   },
   {
    "duration": 16,
    "start_time": "2023-08-09T13:01:20.378Z"
   },
   {
    "duration": 12,
    "start_time": "2023-08-09T13:01:20.396Z"
   },
   {
    "duration": 33,
    "start_time": "2023-08-09T13:01:20.410Z"
   },
   {
    "duration": 17,
    "start_time": "2023-08-09T13:01:20.445Z"
   },
   {
    "duration": 17,
    "start_time": "2023-08-09T13:01:20.464Z"
   },
   {
    "duration": 14,
    "start_time": "2023-08-09T13:01:20.483Z"
   },
   {
    "duration": 13,
    "start_time": "2023-08-09T13:01:20.499Z"
   },
   {
    "duration": 22,
    "start_time": "2023-08-09T13:01:20.514Z"
   },
   {
    "duration": 2097,
    "start_time": "2023-08-09T13:09:16.969Z"
   },
   {
    "duration": 47,
    "start_time": "2023-08-09T13:09:19.068Z"
   },
   {
    "duration": 12,
    "start_time": "2023-08-09T13:09:19.117Z"
   },
   {
    "duration": 24,
    "start_time": "2023-08-09T13:09:19.131Z"
   },
   {
    "duration": 20,
    "start_time": "2023-08-09T13:09:19.157Z"
   },
   {
    "duration": 10,
    "start_time": "2023-08-09T13:09:19.179Z"
   },
   {
    "duration": 14,
    "start_time": "2023-08-09T13:09:19.191Z"
   },
   {
    "duration": 15,
    "start_time": "2023-08-09T13:09:19.207Z"
   },
   {
    "duration": 23,
    "start_time": "2023-08-09T13:09:19.224Z"
   },
   {
    "duration": 23,
    "start_time": "2023-08-09T13:09:19.250Z"
   },
   {
    "duration": 7,
    "start_time": "2023-08-09T13:09:19.275Z"
   },
   {
    "duration": 46,
    "start_time": "2023-08-09T13:09:19.284Z"
   },
   {
    "duration": 185,
    "start_time": "2023-08-09T13:09:19.332Z"
   },
   {
    "duration": 15,
    "start_time": "2023-08-09T13:09:19.519Z"
   },
   {
    "duration": 25,
    "start_time": "2023-08-09T13:09:19.536Z"
   },
   {
    "duration": 38,
    "start_time": "2023-08-09T13:09:19.563Z"
   },
   {
    "duration": 4155,
    "start_time": "2023-08-09T13:09:19.603Z"
   },
   {
    "duration": 3,
    "start_time": "2023-08-09T13:09:23.760Z"
   },
   {
    "duration": 817,
    "start_time": "2023-08-09T13:09:23.765Z"
   },
   {
    "duration": 7,
    "start_time": "2023-08-09T13:09:24.584Z"
   },
   {
    "duration": 16,
    "start_time": "2023-08-09T13:09:24.592Z"
   },
   {
    "duration": 15,
    "start_time": "2023-08-09T13:09:24.610Z"
   },
   {
    "duration": 10,
    "start_time": "2023-08-09T13:09:24.627Z"
   },
   {
    "duration": 26,
    "start_time": "2023-08-09T13:09:24.639Z"
   },
   {
    "duration": 15,
    "start_time": "2023-08-09T13:09:24.667Z"
   },
   {
    "duration": 25,
    "start_time": "2023-08-09T13:09:24.684Z"
   },
   {
    "duration": 11,
    "start_time": "2023-08-09T13:09:24.711Z"
   },
   {
    "duration": 62,
    "start_time": "2023-08-09T13:09:24.725Z"
   },
   {
    "duration": 14,
    "start_time": "2023-08-09T13:09:24.789Z"
   },
   {
    "duration": 15,
    "start_time": "2023-08-09T13:09:24.804Z"
   },
   {
    "duration": 12,
    "start_time": "2023-08-09T13:09:24.821Z"
   },
   {
    "duration": 16,
    "start_time": "2023-08-09T13:09:24.835Z"
   },
   {
    "duration": 17,
    "start_time": "2023-08-09T13:09:24.854Z"
   },
   {
    "duration": 57842,
    "start_time": "2023-08-09T13:09:24.874Z"
   },
   {
    "duration": 6,
    "start_time": "2023-08-09T13:10:22.718Z"
   },
   {
    "duration": 7830,
    "start_time": "2023-08-09T13:10:22.726Z"
   },
   {
    "duration": 5,
    "start_time": "2023-08-09T13:10:30.558Z"
   },
   {
    "duration": 31,
    "start_time": "2023-08-09T13:10:30.565Z"
   },
   {
    "duration": 1180,
    "start_time": "2023-08-09T13:10:30.598Z"
   },
   {
    "duration": 5,
    "start_time": "2023-08-09T13:10:31.780Z"
   },
   {
    "duration": 47,
    "start_time": "2023-08-09T13:10:31.787Z"
   },
   {
    "duration": 299336,
    "start_time": "2023-08-09T13:10:31.837Z"
   },
   {
    "duration": 1986,
    "start_time": "2023-08-09T13:15:33.694Z"
   },
   {
    "duration": 49,
    "start_time": "2023-08-09T13:15:35.682Z"
   },
   {
    "duration": 13,
    "start_time": "2023-08-09T13:15:35.733Z"
   },
   {
    "duration": 36,
    "start_time": "2023-08-09T13:15:35.748Z"
   },
   {
    "duration": 35,
    "start_time": "2023-08-09T13:15:35.785Z"
   },
   {
    "duration": 31,
    "start_time": "2023-08-09T13:15:35.822Z"
   },
   {
    "duration": 55,
    "start_time": "2023-08-09T13:15:35.855Z"
   },
   {
    "duration": 35,
    "start_time": "2023-08-09T13:15:35.912Z"
   },
   {
    "duration": 29,
    "start_time": "2023-08-09T13:15:35.949Z"
   },
   {
    "duration": 25,
    "start_time": "2023-08-09T13:15:35.981Z"
   },
   {
    "duration": 44,
    "start_time": "2023-08-09T13:15:36.007Z"
   },
   {
    "duration": 22,
    "start_time": "2023-08-09T13:15:36.053Z"
   },
   {
    "duration": 24,
    "start_time": "2023-08-09T13:15:36.077Z"
   },
   {
    "duration": 36,
    "start_time": "2023-08-09T13:15:36.102Z"
   },
   {
    "duration": 10,
    "start_time": "2023-08-09T13:15:36.140Z"
   },
   {
    "duration": 43,
    "start_time": "2023-08-09T13:15:36.151Z"
   },
   {
    "duration": 4151,
    "start_time": "2023-08-09T13:15:36.195Z"
   },
   {
    "duration": 3,
    "start_time": "2023-08-09T13:15:40.348Z"
   },
   {
    "duration": 819,
    "start_time": "2023-08-09T13:15:40.353Z"
   },
   {
    "duration": 7,
    "start_time": "2023-08-09T13:15:41.174Z"
   },
   {
    "duration": 22,
    "start_time": "2023-08-09T13:15:41.182Z"
   },
   {
    "duration": 150,
    "start_time": "2023-08-09T13:15:41.206Z"
   },
   {
    "duration": 51,
    "start_time": "2023-08-09T13:15:41.358Z"
   },
   {
    "duration": 17,
    "start_time": "2023-08-09T13:15:41.410Z"
   },
   {
    "duration": 9,
    "start_time": "2023-08-09T13:15:41.428Z"
   },
   {
    "duration": 21,
    "start_time": "2023-08-09T13:15:41.438Z"
   },
   {
    "duration": 17,
    "start_time": "2023-08-09T13:15:41.460Z"
   },
   {
    "duration": 21,
    "start_time": "2023-08-09T13:15:41.480Z"
   },
   {
    "duration": 9,
    "start_time": "2023-08-09T13:15:41.502Z"
   },
   {
    "duration": 9,
    "start_time": "2023-08-09T13:15:41.513Z"
   },
   {
    "duration": 10,
    "start_time": "2023-08-09T13:15:41.523Z"
   },
   {
    "duration": 5,
    "start_time": "2023-08-09T13:15:41.535Z"
   },
   {
    "duration": 25,
    "start_time": "2023-08-09T13:15:41.542Z"
   },
   {
    "duration": 31484,
    "start_time": "2023-08-09T13:15:41.568Z"
   },
   {
    "duration": 6,
    "start_time": "2023-08-09T13:16:13.054Z"
   },
   {
    "duration": 5880,
    "start_time": "2023-08-09T13:16:13.062Z"
   },
   {
    "duration": 5,
    "start_time": "2023-08-09T13:16:18.944Z"
   },
   {
    "duration": 25,
    "start_time": "2023-08-09T13:16:18.950Z"
   },
   {
    "duration": 1157,
    "start_time": "2023-08-09T13:16:18.977Z"
   },
   {
    "duration": 6,
    "start_time": "2023-08-09T13:16:20.136Z"
   },
   {
    "duration": 24,
    "start_time": "2023-08-09T13:16:20.144Z"
   },
   {
    "duration": 241,
    "start_time": "2023-08-09T13:16:20.169Z"
   },
   {
    "duration": 2075,
    "start_time": "2023-08-09T13:19:37.560Z"
   },
   {
    "duration": 46,
    "start_time": "2023-08-09T13:19:39.637Z"
   },
   {
    "duration": 12,
    "start_time": "2023-08-09T13:19:39.685Z"
   },
   {
    "duration": 25,
    "start_time": "2023-08-09T13:19:39.700Z"
   },
   {
    "duration": 22,
    "start_time": "2023-08-09T13:19:39.727Z"
   },
   {
    "duration": 17,
    "start_time": "2023-08-09T13:19:39.751Z"
   },
   {
    "duration": 39,
    "start_time": "2023-08-09T13:19:39.770Z"
   },
   {
    "duration": 29,
    "start_time": "2023-08-09T13:19:39.811Z"
   },
   {
    "duration": 15,
    "start_time": "2023-08-09T13:19:39.842Z"
   },
   {
    "duration": 16,
    "start_time": "2023-08-09T13:19:39.861Z"
   },
   {
    "duration": 18,
    "start_time": "2023-08-09T13:19:39.879Z"
   },
   {
    "duration": 34,
    "start_time": "2023-08-09T13:19:39.899Z"
   },
   {
    "duration": 13,
    "start_time": "2023-08-09T13:19:39.935Z"
   },
   {
    "duration": 12,
    "start_time": "2023-08-09T13:19:39.950Z"
   },
   {
    "duration": 24,
    "start_time": "2023-08-09T13:19:39.964Z"
   },
   {
    "duration": 32,
    "start_time": "2023-08-09T13:19:39.990Z"
   },
   {
    "duration": 4246,
    "start_time": "2023-08-09T13:19:40.024Z"
   },
   {
    "duration": 4,
    "start_time": "2023-08-09T13:19:44.272Z"
   },
   {
    "duration": 853,
    "start_time": "2023-08-09T13:19:44.277Z"
   },
   {
    "duration": 7,
    "start_time": "2023-08-09T13:19:45.132Z"
   },
   {
    "duration": 32,
    "start_time": "2023-08-09T13:19:45.140Z"
   },
   {
    "duration": 24,
    "start_time": "2023-08-09T13:19:45.175Z"
   },
   {
    "duration": 8,
    "start_time": "2023-08-09T13:19:45.201Z"
   },
   {
    "duration": 24,
    "start_time": "2023-08-09T13:19:45.211Z"
   },
   {
    "duration": 18,
    "start_time": "2023-08-09T13:19:45.237Z"
   },
   {
    "duration": 43,
    "start_time": "2023-08-09T13:19:45.257Z"
   },
   {
    "duration": 150,
    "start_time": "2023-08-09T13:19:45.302Z"
   },
   {
    "duration": 47,
    "start_time": "2023-08-09T13:19:45.456Z"
   },
   {
    "duration": 12,
    "start_time": "2023-08-09T13:19:45.505Z"
   },
   {
    "duration": 21,
    "start_time": "2023-08-09T13:19:45.519Z"
   },
   {
    "duration": 26,
    "start_time": "2023-08-09T13:19:45.542Z"
   },
   {
    "duration": 17,
    "start_time": "2023-08-09T13:19:45.570Z"
   },
   {
    "duration": 18,
    "start_time": "2023-08-09T13:19:45.589Z"
   },
   {
    "duration": 58814,
    "start_time": "2023-08-09T13:19:45.608Z"
   },
   {
    "duration": 5,
    "start_time": "2023-08-09T13:20:44.424Z"
   },
   {
    "duration": 6404,
    "start_time": "2023-08-09T13:20:44.431Z"
   },
   {
    "duration": 5,
    "start_time": "2023-08-09T13:20:50.837Z"
   },
   {
    "duration": 22,
    "start_time": "2023-08-09T13:20:50.844Z"
   },
   {
    "duration": 1210,
    "start_time": "2023-08-09T13:20:50.868Z"
   },
   {
    "duration": 5,
    "start_time": "2023-08-09T13:20:52.080Z"
   },
   {
    "duration": 81,
    "start_time": "2023-08-09T13:20:52.087Z"
   },
   {
    "duration": 313001,
    "start_time": "2023-08-09T13:20:52.170Z"
   },
   {
    "duration": 2173,
    "start_time": "2023-08-09T13:30:14.125Z"
   },
   {
    "duration": 50,
    "start_time": "2023-08-09T13:30:16.300Z"
   },
   {
    "duration": 15,
    "start_time": "2023-08-09T13:30:16.352Z"
   },
   {
    "duration": 19,
    "start_time": "2023-08-09T13:30:16.371Z"
   },
   {
    "duration": 21,
    "start_time": "2023-08-09T13:30:16.392Z"
   },
   {
    "duration": 41,
    "start_time": "2023-08-09T13:30:16.414Z"
   },
   {
    "duration": 12,
    "start_time": "2023-08-09T13:30:16.457Z"
   },
   {
    "duration": 12,
    "start_time": "2023-08-09T13:30:16.471Z"
   },
   {
    "duration": 14,
    "start_time": "2023-08-09T13:30:16.485Z"
   },
   {
    "duration": 10,
    "start_time": "2023-08-09T13:30:16.503Z"
   },
   {
    "duration": 12,
    "start_time": "2023-08-09T13:30:16.515Z"
   },
   {
    "duration": 17,
    "start_time": "2023-08-09T13:30:16.528Z"
   },
   {
    "duration": 11,
    "start_time": "2023-08-09T13:30:16.547Z"
   },
   {
    "duration": 13,
    "start_time": "2023-08-09T13:30:16.560Z"
   },
   {
    "duration": 15,
    "start_time": "2023-08-09T13:30:16.575Z"
   },
   {
    "duration": 32,
    "start_time": "2023-08-09T13:30:16.593Z"
   },
   {
    "duration": 4250,
    "start_time": "2023-08-09T13:30:16.628Z"
   },
   {
    "duration": 3,
    "start_time": "2023-08-09T13:30:20.880Z"
   },
   {
    "duration": 878,
    "start_time": "2023-08-09T13:30:20.885Z"
   },
   {
    "duration": 8,
    "start_time": "2023-08-09T13:30:21.765Z"
   },
   {
    "duration": 16,
    "start_time": "2023-08-09T13:30:21.774Z"
   },
   {
    "duration": 25,
    "start_time": "2023-08-09T13:30:21.792Z"
   },
   {
    "duration": 13,
    "start_time": "2023-08-09T13:30:21.819Z"
   },
   {
    "duration": 28,
    "start_time": "2023-08-09T13:30:21.834Z"
   },
   {
    "duration": 6,
    "start_time": "2023-08-09T13:30:21.863Z"
   },
   {
    "duration": 14,
    "start_time": "2023-08-09T13:30:21.871Z"
   },
   {
    "duration": 13,
    "start_time": "2023-08-09T13:30:21.886Z"
   },
   {
    "duration": 22,
    "start_time": "2023-08-09T13:30:21.903Z"
   },
   {
    "duration": 7,
    "start_time": "2023-08-09T13:30:21.927Z"
   },
   {
    "duration": 5,
    "start_time": "2023-08-09T13:30:21.936Z"
   },
   {
    "duration": 4,
    "start_time": "2023-08-09T13:30:21.959Z"
   },
   {
    "duration": 10,
    "start_time": "2023-08-09T13:30:21.965Z"
   },
   {
    "duration": 9,
    "start_time": "2023-08-09T13:30:21.977Z"
   },
   {
    "duration": 85986,
    "start_time": "2023-08-09T13:30:21.988Z"
   },
   {
    "duration": 4,
    "start_time": "2023-08-09T13:31:47.976Z"
   },
   {
    "duration": 11658,
    "start_time": "2023-08-09T13:31:47.982Z"
   },
   {
    "duration": 5,
    "start_time": "2023-08-09T13:31:59.642Z"
   },
   {
    "duration": 6,
    "start_time": "2023-08-09T13:31:59.659Z"
   },
   {
    "duration": 1176,
    "start_time": "2023-08-09T13:31:59.666Z"
   },
   {
    "duration": 5,
    "start_time": "2023-08-09T13:32:00.844Z"
   },
   {
    "duration": 85,
    "start_time": "2023-08-09T13:32:00.859Z"
   },
   {
    "duration": 434330,
    "start_time": "2023-08-09T13:32:00.945Z"
   },
   {
    "duration": 8,
    "start_time": "2023-08-09T13:43:45.775Z"
   },
   {
    "duration": 5,
    "start_time": "2023-08-09T13:43:48.075Z"
   },
   {
    "duration": 150,
    "start_time": "2023-08-09T13:43:49.709Z"
   },
   {
    "duration": 6,
    "start_time": "2023-08-09T13:44:17.957Z"
   },
   {
    "duration": 5,
    "start_time": "2023-08-09T13:44:18.542Z"
   },
   {
    "duration": 24,
    "start_time": "2023-08-09T13:44:19.475Z"
   },
   {
    "duration": 6,
    "start_time": "2023-08-09T13:44:30.607Z"
   },
   {
    "duration": 6,
    "start_time": "2023-08-09T13:44:30.941Z"
   },
   {
    "duration": 2185,
    "start_time": "2023-08-09T13:46:53.747Z"
   },
   {
    "duration": 49,
    "start_time": "2023-08-09T13:46:55.934Z"
   },
   {
    "duration": 12,
    "start_time": "2023-08-09T13:46:55.985Z"
   },
   {
    "duration": 20,
    "start_time": "2023-08-09T13:46:56.000Z"
   },
   {
    "duration": 24,
    "start_time": "2023-08-09T13:46:56.022Z"
   },
   {
    "duration": 81,
    "start_time": "2023-08-09T13:46:56.047Z"
   },
   {
    "duration": 14,
    "start_time": "2023-08-09T13:46:56.130Z"
   },
   {
    "duration": 16,
    "start_time": "2023-08-09T13:46:56.145Z"
   },
   {
    "duration": 15,
    "start_time": "2023-08-09T13:46:56.162Z"
   },
   {
    "duration": 15,
    "start_time": "2023-08-09T13:46:56.180Z"
   },
   {
    "duration": 8,
    "start_time": "2023-08-09T13:46:56.197Z"
   },
   {
    "duration": 11,
    "start_time": "2023-08-09T13:46:56.207Z"
   },
   {
    "duration": 14,
    "start_time": "2023-08-09T13:46:56.220Z"
   },
   {
    "duration": 14,
    "start_time": "2023-08-09T13:46:56.236Z"
   },
   {
    "duration": 18,
    "start_time": "2023-08-09T13:46:56.252Z"
   },
   {
    "duration": 29,
    "start_time": "2023-08-09T13:46:56.273Z"
   },
   {
    "duration": 4434,
    "start_time": "2023-08-09T13:46:56.304Z"
   },
   {
    "duration": 3,
    "start_time": "2023-08-09T13:47:00.741Z"
   },
   {
    "duration": 984,
    "start_time": "2023-08-09T13:47:00.746Z"
   },
   {
    "duration": 7,
    "start_time": "2023-08-09T13:47:01.732Z"
   },
   {
    "duration": 70,
    "start_time": "2023-08-09T13:47:01.740Z"
   },
   {
    "duration": 84,
    "start_time": "2023-08-09T13:47:01.812Z"
   },
   {
    "duration": 36,
    "start_time": "2023-08-09T13:47:01.898Z"
   },
   {
    "duration": 24,
    "start_time": "2023-08-09T13:47:01.936Z"
   },
   {
    "duration": 50,
    "start_time": "2023-08-09T13:47:01.962Z"
   },
   {
    "duration": 45,
    "start_time": "2023-08-09T13:47:02.014Z"
   },
   {
    "duration": 30,
    "start_time": "2023-08-09T13:47:02.061Z"
   },
   {
    "duration": 50,
    "start_time": "2023-08-09T13:47:02.095Z"
   },
   {
    "duration": 35,
    "start_time": "2023-08-09T13:47:02.147Z"
   },
   {
    "duration": 33,
    "start_time": "2023-08-09T13:47:02.184Z"
   },
   {
    "duration": 28,
    "start_time": "2023-08-09T13:47:02.218Z"
   },
   {
    "duration": 32,
    "start_time": "2023-08-09T13:47:02.248Z"
   },
   {
    "duration": 37,
    "start_time": "2023-08-09T13:47:02.282Z"
   },
   {
    "duration": 87658,
    "start_time": "2023-08-09T13:47:02.321Z"
   },
   {
    "duration": 6,
    "start_time": "2023-08-09T13:48:29.980Z"
   },
   {
    "duration": 12520,
    "start_time": "2023-08-09T13:48:29.988Z"
   },
   {
    "duration": 5,
    "start_time": "2023-08-09T13:48:42.510Z"
   },
   {
    "duration": 18,
    "start_time": "2023-08-09T13:48:42.517Z"
   },
   {
    "duration": 1178,
    "start_time": "2023-08-09T13:48:42.537Z"
   },
   {
    "duration": 5,
    "start_time": "2023-08-09T13:48:43.717Z"
   },
   {
    "duration": 98,
    "start_time": "2023-08-09T13:48:43.724Z"
   },
   {
    "duration": 2000,
    "start_time": "2023-08-09T13:52:15.511Z"
   },
   {
    "duration": 46,
    "start_time": "2023-08-09T13:52:17.513Z"
   },
   {
    "duration": 12,
    "start_time": "2023-08-09T13:52:17.561Z"
   },
   {
    "duration": 21,
    "start_time": "2023-08-09T13:52:17.575Z"
   },
   {
    "duration": 16,
    "start_time": "2023-08-09T13:52:17.598Z"
   },
   {
    "duration": 17,
    "start_time": "2023-08-09T13:52:17.616Z"
   },
   {
    "duration": 11,
    "start_time": "2023-08-09T13:52:17.635Z"
   },
   {
    "duration": 14,
    "start_time": "2023-08-09T13:52:17.648Z"
   },
   {
    "duration": 21,
    "start_time": "2023-08-09T13:52:17.664Z"
   },
   {
    "duration": 31,
    "start_time": "2023-08-09T13:52:17.688Z"
   },
   {
    "duration": 28,
    "start_time": "2023-08-09T13:52:17.721Z"
   },
   {
    "duration": 28,
    "start_time": "2023-08-09T13:52:17.751Z"
   },
   {
    "duration": 28,
    "start_time": "2023-08-09T13:52:17.781Z"
   },
   {
    "duration": 19,
    "start_time": "2023-08-09T13:52:17.812Z"
   },
   {
    "duration": 16,
    "start_time": "2023-08-09T13:52:17.833Z"
   },
   {
    "duration": 49,
    "start_time": "2023-08-09T13:52:17.852Z"
   },
   {
    "duration": 4607,
    "start_time": "2023-08-09T13:52:17.903Z"
   },
   {
    "duration": 3,
    "start_time": "2023-08-09T13:52:22.512Z"
   },
   {
    "duration": 870,
    "start_time": "2023-08-09T13:52:22.517Z"
   },
   {
    "duration": 7,
    "start_time": "2023-08-09T13:52:23.390Z"
   },
   {
    "duration": 25,
    "start_time": "2023-08-09T13:52:23.398Z"
   },
   {
    "duration": 42,
    "start_time": "2023-08-09T13:52:23.425Z"
   },
   {
    "duration": 21,
    "start_time": "2023-08-09T13:52:23.469Z"
   },
   {
    "duration": 16,
    "start_time": "2023-08-09T13:52:23.491Z"
   },
   {
    "duration": 29,
    "start_time": "2023-08-09T13:52:23.510Z"
   },
   {
    "duration": 33,
    "start_time": "2023-08-09T13:52:23.541Z"
   },
   {
    "duration": 34,
    "start_time": "2023-08-09T13:52:23.576Z"
   },
   {
    "duration": 46,
    "start_time": "2023-08-09T13:52:23.613Z"
   },
   {
    "duration": 22,
    "start_time": "2023-08-09T13:52:23.661Z"
   },
   {
    "duration": 18,
    "start_time": "2023-08-09T13:52:23.685Z"
   },
   {
    "duration": 12,
    "start_time": "2023-08-09T13:52:23.705Z"
   },
   {
    "duration": 27,
    "start_time": "2023-08-09T13:52:23.718Z"
   },
   {
    "duration": 10,
    "start_time": "2023-08-09T13:52:23.747Z"
   },
   {
    "duration": 2115,
    "start_time": "2023-08-09T13:53:37.806Z"
   },
   {
    "duration": 47,
    "start_time": "2023-08-09T13:53:39.923Z"
   },
   {
    "duration": 12,
    "start_time": "2023-08-09T13:53:39.971Z"
   },
   {
    "duration": 33,
    "start_time": "2023-08-09T13:53:39.985Z"
   },
   {
    "duration": 29,
    "start_time": "2023-08-09T13:53:40.021Z"
   },
   {
    "duration": 30,
    "start_time": "2023-08-09T13:53:40.052Z"
   },
   {
    "duration": 38,
    "start_time": "2023-08-09T13:53:40.084Z"
   },
   {
    "duration": 10,
    "start_time": "2023-08-09T13:53:40.123Z"
   },
   {
    "duration": 16,
    "start_time": "2023-08-09T13:53:40.135Z"
   },
   {
    "duration": 19,
    "start_time": "2023-08-09T13:53:40.155Z"
   },
   {
    "duration": 14,
    "start_time": "2023-08-09T13:53:40.177Z"
   },
   {
    "duration": 14,
    "start_time": "2023-08-09T13:53:40.194Z"
   },
   {
    "duration": 15,
    "start_time": "2023-08-09T13:53:40.210Z"
   },
   {
    "duration": 15,
    "start_time": "2023-08-09T13:53:40.227Z"
   },
   {
    "duration": 25,
    "start_time": "2023-08-09T13:53:40.244Z"
   },
   {
    "duration": 31,
    "start_time": "2023-08-09T13:53:40.271Z"
   },
   {
    "duration": 4299,
    "start_time": "2023-08-09T13:53:40.303Z"
   },
   {
    "duration": 3,
    "start_time": "2023-08-09T13:53:44.604Z"
   },
   {
    "duration": 894,
    "start_time": "2023-08-09T13:53:44.609Z"
   },
   {
    "duration": 6,
    "start_time": "2023-08-09T13:53:45.506Z"
   },
   {
    "duration": 18,
    "start_time": "2023-08-09T13:53:45.514Z"
   },
   {
    "duration": 27,
    "start_time": "2023-08-09T13:53:45.533Z"
   },
   {
    "duration": 15,
    "start_time": "2023-08-09T13:53:45.562Z"
   },
   {
    "duration": 8,
    "start_time": "2023-08-09T13:53:45.579Z"
   },
   {
    "duration": 10,
    "start_time": "2023-08-09T13:53:45.589Z"
   },
   {
    "duration": 16,
    "start_time": "2023-08-09T13:53:45.601Z"
   },
   {
    "duration": 17,
    "start_time": "2023-08-09T13:53:45.619Z"
   },
   {
    "duration": 28,
    "start_time": "2023-08-09T13:53:45.640Z"
   },
   {
    "duration": 4,
    "start_time": "2023-08-09T13:53:45.670Z"
   },
   {
    "duration": 10,
    "start_time": "2023-08-09T13:53:45.676Z"
   },
   {
    "duration": 11,
    "start_time": "2023-08-09T13:53:45.688Z"
   },
   {
    "duration": 23,
    "start_time": "2023-08-09T13:53:45.700Z"
   },
   {
    "duration": 17,
    "start_time": "2023-08-09T13:53:45.724Z"
   },
   {
    "duration": 2073,
    "start_time": "2023-08-09T13:54:49.008Z"
   },
   {
    "duration": 48,
    "start_time": "2023-08-09T13:54:51.084Z"
   },
   {
    "duration": 21,
    "start_time": "2023-08-09T13:54:51.134Z"
   },
   {
    "duration": 75,
    "start_time": "2023-08-09T13:54:51.157Z"
   },
   {
    "duration": 31,
    "start_time": "2023-08-09T13:54:51.235Z"
   },
   {
    "duration": 26,
    "start_time": "2023-08-09T13:54:51.268Z"
   },
   {
    "duration": 30,
    "start_time": "2023-08-09T13:54:51.295Z"
   },
   {
    "duration": 38,
    "start_time": "2023-08-09T13:54:51.328Z"
   },
   {
    "duration": 35,
    "start_time": "2023-08-09T13:54:51.368Z"
   },
   {
    "duration": 36,
    "start_time": "2023-08-09T13:54:51.405Z"
   },
   {
    "duration": 11,
    "start_time": "2023-08-09T13:54:51.443Z"
   },
   {
    "duration": 30,
    "start_time": "2023-08-09T13:54:51.456Z"
   },
   {
    "duration": 11,
    "start_time": "2023-08-09T13:54:51.488Z"
   },
   {
    "duration": 28,
    "start_time": "2023-08-09T13:54:51.503Z"
   },
   {
    "duration": 35,
    "start_time": "2023-08-09T13:54:51.533Z"
   },
   {
    "duration": 40,
    "start_time": "2023-08-09T13:54:51.570Z"
   },
   {
    "duration": 4357,
    "start_time": "2023-08-09T13:54:51.613Z"
   },
   {
    "duration": 3,
    "start_time": "2023-08-09T13:54:55.972Z"
   },
   {
    "duration": 857,
    "start_time": "2023-08-09T13:54:55.976Z"
   },
   {
    "duration": 6,
    "start_time": "2023-08-09T13:54:56.835Z"
   },
   {
    "duration": 24,
    "start_time": "2023-08-09T13:54:56.844Z"
   },
   {
    "duration": 39,
    "start_time": "2023-08-09T13:54:56.870Z"
   },
   {
    "duration": 16,
    "start_time": "2023-08-09T13:54:56.911Z"
   },
   {
    "duration": 17,
    "start_time": "2023-08-09T13:54:56.929Z"
   },
   {
    "duration": 16,
    "start_time": "2023-08-09T13:54:56.947Z"
   },
   {
    "duration": 26,
    "start_time": "2023-08-09T13:54:56.965Z"
   },
   {
    "duration": 16,
    "start_time": "2023-08-09T13:54:56.993Z"
   },
   {
    "duration": 19,
    "start_time": "2023-08-09T13:54:57.012Z"
   },
   {
    "duration": 10,
    "start_time": "2023-08-09T13:54:57.033Z"
   },
   {
    "duration": 14,
    "start_time": "2023-08-09T13:54:57.045Z"
   },
   {
    "duration": 8,
    "start_time": "2023-08-09T13:54:57.061Z"
   },
   {
    "duration": 27,
    "start_time": "2023-08-09T13:54:57.071Z"
   },
   {
    "duration": 10,
    "start_time": "2023-08-09T13:54:57.100Z"
   },
   {
    "duration": 2033,
    "start_time": "2023-08-09T13:56:44.698Z"
   },
   {
    "duration": 49,
    "start_time": "2023-08-09T13:56:46.733Z"
   },
   {
    "duration": 40,
    "start_time": "2023-08-09T13:56:46.784Z"
   },
   {
    "duration": 70,
    "start_time": "2023-08-09T13:56:46.826Z"
   },
   {
    "duration": 27,
    "start_time": "2023-08-09T13:56:46.898Z"
   },
   {
    "duration": 11,
    "start_time": "2023-08-09T13:56:46.926Z"
   },
   {
    "duration": 78,
    "start_time": "2023-08-09T13:56:46.939Z"
   },
   {
    "duration": 49,
    "start_time": "2023-08-09T13:56:47.019Z"
   },
   {
    "duration": 27,
    "start_time": "2023-08-09T13:56:47.070Z"
   },
   {
    "duration": 61,
    "start_time": "2023-08-09T13:56:47.100Z"
   },
   {
    "duration": 39,
    "start_time": "2023-08-09T13:56:47.163Z"
   },
   {
    "duration": 11,
    "start_time": "2023-08-09T13:56:47.204Z"
   },
   {
    "duration": 23,
    "start_time": "2023-08-09T13:56:47.217Z"
   },
   {
    "duration": 74,
    "start_time": "2023-08-09T13:56:47.242Z"
   },
   {
    "duration": 60,
    "start_time": "2023-08-09T13:56:47.318Z"
   },
   {
    "duration": 66,
    "start_time": "2023-08-09T13:56:47.380Z"
   },
   {
    "duration": 4487,
    "start_time": "2023-08-09T13:56:47.447Z"
   },
   {
    "duration": 3,
    "start_time": "2023-08-09T13:56:51.936Z"
   },
   {
    "duration": 872,
    "start_time": "2023-08-09T13:56:51.941Z"
   },
   {
    "duration": 7,
    "start_time": "2023-08-09T13:56:52.815Z"
   },
   {
    "duration": 20,
    "start_time": "2023-08-09T13:56:52.823Z"
   },
   {
    "duration": 46,
    "start_time": "2023-08-09T13:56:52.845Z"
   },
   {
    "duration": 24,
    "start_time": "2023-08-09T13:56:52.893Z"
   },
   {
    "duration": 17,
    "start_time": "2023-08-09T13:56:52.919Z"
   },
   {
    "duration": 27,
    "start_time": "2023-08-09T13:56:52.937Z"
   },
   {
    "duration": 21,
    "start_time": "2023-08-09T13:56:52.966Z"
   },
   {
    "duration": 48,
    "start_time": "2023-08-09T13:56:52.988Z"
   },
   {
    "duration": 26,
    "start_time": "2023-08-09T13:56:53.040Z"
   },
   {
    "duration": 26,
    "start_time": "2023-08-09T13:56:53.068Z"
   },
   {
    "duration": 23,
    "start_time": "2023-08-09T13:56:53.096Z"
   },
   {
    "duration": 17,
    "start_time": "2023-08-09T13:56:53.120Z"
   },
   {
    "duration": 13,
    "start_time": "2023-08-09T13:56:53.138Z"
   },
   {
    "duration": 13,
    "start_time": "2023-08-09T13:56:53.154Z"
   },
   {
    "duration": 95497,
    "start_time": "2023-08-09T13:56:53.169Z"
   },
   {
    "duration": 147,
    "start_time": "2023-08-09T13:58:28.669Z"
   },
   {
    "duration": 0,
    "start_time": "2023-08-09T13:58:28.818Z"
   },
   {
    "duration": 0,
    "start_time": "2023-08-09T13:58:28.820Z"
   },
   {
    "duration": 0,
    "start_time": "2023-08-09T13:58:28.821Z"
   },
   {
    "duration": 0,
    "start_time": "2023-08-09T13:58:28.823Z"
   },
   {
    "duration": 0,
    "start_time": "2023-08-09T13:58:28.824Z"
   },
   {
    "duration": 0,
    "start_time": "2023-08-09T13:58:28.825Z"
   },
   {
    "duration": 0,
    "start_time": "2023-08-09T13:58:28.826Z"
   },
   {
    "duration": 0,
    "start_time": "2023-08-09T13:58:28.827Z"
   },
   {
    "duration": 13,
    "start_time": "2023-08-09T13:58:41.215Z"
   },
   {
    "duration": 5,
    "start_time": "2023-08-09T13:58:42.375Z"
   },
   {
    "duration": 13288,
    "start_time": "2023-08-09T13:58:43.747Z"
   },
   {
    "duration": 6,
    "start_time": "2023-08-09T13:58:57.038Z"
   },
   {
    "duration": 5,
    "start_time": "2023-08-09T13:59:00.165Z"
   },
   {
    "duration": 1050,
    "start_time": "2023-08-09T13:59:02.329Z"
   },
   {
    "duration": 9,
    "start_time": "2023-08-09T13:59:04.863Z"
   },
   {
    "duration": 2226,
    "start_time": "2023-08-09T13:59:43.350Z"
   },
   {
    "duration": 53,
    "start_time": "2023-08-09T13:59:45.579Z"
   },
   {
    "duration": 15,
    "start_time": "2023-08-09T13:59:45.634Z"
   },
   {
    "duration": 26,
    "start_time": "2023-08-09T13:59:45.651Z"
   },
   {
    "duration": 8,
    "start_time": "2023-08-09T13:59:45.679Z"
   },
   {
    "duration": 8,
    "start_time": "2023-08-09T13:59:45.689Z"
   },
   {
    "duration": 17,
    "start_time": "2023-08-09T13:59:45.700Z"
   },
   {
    "duration": 11,
    "start_time": "2023-08-09T13:59:45.719Z"
   },
   {
    "duration": 20,
    "start_time": "2023-08-09T13:59:45.733Z"
   },
   {
    "duration": 17,
    "start_time": "2023-08-09T13:59:45.758Z"
   },
   {
    "duration": 21,
    "start_time": "2023-08-09T13:59:45.777Z"
   },
   {
    "duration": 23,
    "start_time": "2023-08-09T13:59:45.800Z"
   },
   {
    "duration": 14,
    "start_time": "2023-08-09T13:59:45.826Z"
   },
   {
    "duration": 23,
    "start_time": "2023-08-09T13:59:45.844Z"
   },
   {
    "duration": 17,
    "start_time": "2023-08-09T13:59:45.870Z"
   },
   {
    "duration": 63,
    "start_time": "2023-08-09T13:59:45.889Z"
   },
   {
    "duration": 4512,
    "start_time": "2023-08-09T13:59:45.954Z"
   },
   {
    "duration": 4,
    "start_time": "2023-08-09T13:59:50.468Z"
   },
   {
    "duration": 1025,
    "start_time": "2023-08-09T13:59:50.474Z"
   },
   {
    "duration": 7,
    "start_time": "2023-08-09T13:59:51.502Z"
   },
   {
    "duration": 49,
    "start_time": "2023-08-09T13:59:51.511Z"
   },
   {
    "duration": 55,
    "start_time": "2023-08-09T13:59:51.562Z"
   },
   {
    "duration": 29,
    "start_time": "2023-08-09T13:59:51.619Z"
   },
   {
    "duration": 19,
    "start_time": "2023-08-09T13:59:51.650Z"
   },
   {
    "duration": 37,
    "start_time": "2023-08-09T13:59:51.670Z"
   },
   {
    "duration": 24,
    "start_time": "2023-08-09T13:59:51.709Z"
   },
   {
    "duration": 25,
    "start_time": "2023-08-09T13:59:51.734Z"
   },
   {
    "duration": 50,
    "start_time": "2023-08-09T13:59:51.761Z"
   },
   {
    "duration": 26,
    "start_time": "2023-08-09T13:59:51.812Z"
   },
   {
    "duration": 23,
    "start_time": "2023-08-09T13:59:51.840Z"
   },
   {
    "duration": 158,
    "start_time": "2023-08-09T13:59:51.866Z"
   },
   {
    "duration": 177,
    "start_time": "2023-08-09T13:59:52.026Z"
   },
   {
    "duration": 46,
    "start_time": "2023-08-09T13:59:52.205Z"
   },
   {
    "duration": 104527,
    "start_time": "2023-08-09T13:59:52.253Z"
   },
   {
    "duration": 148,
    "start_time": "2023-08-09T14:01:36.782Z"
   },
   {
    "duration": 0,
    "start_time": "2023-08-09T14:01:36.932Z"
   },
   {
    "duration": 0,
    "start_time": "2023-08-09T14:01:36.934Z"
   },
   {
    "duration": 0,
    "start_time": "2023-08-09T14:01:36.935Z"
   },
   {
    "duration": 0,
    "start_time": "2023-08-09T14:01:36.937Z"
   },
   {
    "duration": 0,
    "start_time": "2023-08-09T14:01:36.938Z"
   },
   {
    "duration": 0,
    "start_time": "2023-08-09T14:01:36.940Z"
   },
   {
    "duration": 0,
    "start_time": "2023-08-09T14:01:36.959Z"
   },
   {
    "duration": 0,
    "start_time": "2023-08-09T14:01:36.961Z"
   },
   {
    "duration": 2220,
    "start_time": "2023-08-09T14:02:27.418Z"
   },
   {
    "duration": 48,
    "start_time": "2023-08-09T14:02:29.640Z"
   },
   {
    "duration": 12,
    "start_time": "2023-08-09T14:02:29.690Z"
   },
   {
    "duration": 23,
    "start_time": "2023-08-09T14:02:29.705Z"
   },
   {
    "duration": 15,
    "start_time": "2023-08-09T14:02:29.730Z"
   },
   {
    "duration": 18,
    "start_time": "2023-08-09T14:02:29.746Z"
   },
   {
    "duration": 13,
    "start_time": "2023-08-09T14:02:29.766Z"
   },
   {
    "duration": 22,
    "start_time": "2023-08-09T14:02:29.781Z"
   },
   {
    "duration": 15,
    "start_time": "2023-08-09T14:02:29.805Z"
   },
   {
    "duration": 11,
    "start_time": "2023-08-09T14:02:29.824Z"
   },
   {
    "duration": 11,
    "start_time": "2023-08-09T14:02:29.837Z"
   },
   {
    "duration": 13,
    "start_time": "2023-08-09T14:02:29.850Z"
   },
   {
    "duration": 12,
    "start_time": "2023-08-09T14:02:29.865Z"
   },
   {
    "duration": 15,
    "start_time": "2023-08-09T14:02:29.879Z"
   },
   {
    "duration": 17,
    "start_time": "2023-08-09T14:02:29.896Z"
   },
   {
    "duration": 39,
    "start_time": "2023-08-09T14:02:29.915Z"
   },
   {
    "duration": 4556,
    "start_time": "2023-08-09T14:02:29.958Z"
   },
   {
    "duration": 5,
    "start_time": "2023-08-09T14:02:34.516Z"
   },
   {
    "duration": 946,
    "start_time": "2023-08-09T14:02:34.523Z"
   },
   {
    "duration": 6,
    "start_time": "2023-08-09T14:02:35.471Z"
   },
   {
    "duration": 51,
    "start_time": "2023-08-09T14:02:35.479Z"
   },
   {
    "duration": 46,
    "start_time": "2023-08-09T14:02:35.532Z"
   },
   {
    "duration": 48,
    "start_time": "2023-08-09T14:02:35.581Z"
   },
   {
    "duration": 12,
    "start_time": "2023-08-09T14:02:35.631Z"
   },
   {
    "duration": 28,
    "start_time": "2023-08-09T14:02:35.646Z"
   },
   {
    "duration": 42,
    "start_time": "2023-08-09T14:02:35.676Z"
   },
   {
    "duration": 92,
    "start_time": "2023-08-09T14:02:35.720Z"
   },
   {
    "duration": 32,
    "start_time": "2023-08-09T14:02:35.816Z"
   },
   {
    "duration": 37,
    "start_time": "2023-08-09T14:02:35.851Z"
   },
   {
    "duration": 21,
    "start_time": "2023-08-09T14:02:35.890Z"
   },
   {
    "duration": 33,
    "start_time": "2023-08-09T14:02:35.914Z"
   },
   {
    "duration": 45,
    "start_time": "2023-08-09T14:02:35.949Z"
   },
   {
    "duration": 35,
    "start_time": "2023-08-09T14:02:35.996Z"
   },
   {
    "duration": 93254,
    "start_time": "2023-08-09T14:02:36.033Z"
   },
   {
    "duration": 181,
    "start_time": "2023-08-09T14:04:09.289Z"
   },
   {
    "duration": 0,
    "start_time": "2023-08-09T14:04:09.480Z"
   },
   {
    "duration": 0,
    "start_time": "2023-08-09T14:04:09.482Z"
   },
   {
    "duration": 0,
    "start_time": "2023-08-09T14:04:09.483Z"
   },
   {
    "duration": 0,
    "start_time": "2023-08-09T14:04:09.485Z"
   },
   {
    "duration": 0,
    "start_time": "2023-08-09T14:04:09.486Z"
   },
   {
    "duration": 0,
    "start_time": "2023-08-09T14:04:09.488Z"
   },
   {
    "duration": 0,
    "start_time": "2023-08-09T14:04:09.489Z"
   },
   {
    "duration": 0,
    "start_time": "2023-08-09T14:04:09.491Z"
   },
   {
    "duration": 2213,
    "start_time": "2023-08-09T14:04:15.910Z"
   },
   {
    "duration": 48,
    "start_time": "2023-08-09T14:04:18.125Z"
   },
   {
    "duration": 14,
    "start_time": "2023-08-09T14:04:18.175Z"
   },
   {
    "duration": 30,
    "start_time": "2023-08-09T14:04:18.192Z"
   },
   {
    "duration": 14,
    "start_time": "2023-08-09T14:04:18.225Z"
   },
   {
    "duration": 22,
    "start_time": "2023-08-09T14:04:18.241Z"
   },
   {
    "duration": 36,
    "start_time": "2023-08-09T14:04:18.265Z"
   },
   {
    "duration": 46,
    "start_time": "2023-08-09T14:04:18.304Z"
   },
   {
    "duration": 22,
    "start_time": "2023-08-09T14:04:18.353Z"
   },
   {
    "duration": 14,
    "start_time": "2023-08-09T14:04:18.380Z"
   },
   {
    "duration": 48,
    "start_time": "2023-08-09T14:04:18.396Z"
   },
   {
    "duration": 17,
    "start_time": "2023-08-09T14:04:18.446Z"
   },
   {
    "duration": 33,
    "start_time": "2023-08-09T14:04:18.466Z"
   },
   {
    "duration": 36,
    "start_time": "2023-08-09T14:04:18.501Z"
   },
   {
    "duration": 23,
    "start_time": "2023-08-09T14:04:18.539Z"
   },
   {
    "duration": 54,
    "start_time": "2023-08-09T14:04:18.565Z"
   },
   {
    "duration": 5093,
    "start_time": "2023-08-09T14:04:18.621Z"
   },
   {
    "duration": 4,
    "start_time": "2023-08-09T14:04:23.716Z"
   },
   {
    "duration": 934,
    "start_time": "2023-08-09T14:04:23.721Z"
   },
   {
    "duration": 7,
    "start_time": "2023-08-09T14:04:24.660Z"
   },
   {
    "duration": 95,
    "start_time": "2023-08-09T14:04:24.670Z"
   },
   {
    "duration": 184,
    "start_time": "2023-08-09T14:04:24.768Z"
   },
   {
    "duration": 17,
    "start_time": "2023-08-09T14:04:24.954Z"
   },
   {
    "duration": 32,
    "start_time": "2023-08-09T14:04:24.974Z"
   },
   {
    "duration": 30,
    "start_time": "2023-08-09T14:04:25.008Z"
   },
   {
    "duration": 20,
    "start_time": "2023-08-09T14:04:25.040Z"
   },
   {
    "duration": 34,
    "start_time": "2023-08-09T14:04:25.062Z"
   },
   {
    "duration": 28,
    "start_time": "2023-08-09T14:04:25.100Z"
   },
   {
    "duration": 10,
    "start_time": "2023-08-09T14:04:25.131Z"
   },
   {
    "duration": 39,
    "start_time": "2023-08-09T14:04:25.143Z"
   },
   {
    "duration": 20,
    "start_time": "2023-08-09T14:04:25.184Z"
   },
   {
    "duration": 22,
    "start_time": "2023-08-09T14:04:25.206Z"
   },
   {
    "duration": 14,
    "start_time": "2023-08-09T14:04:25.230Z"
   },
   {
    "duration": 2496,
    "start_time": "2023-08-09T14:05:28.463Z"
   },
   {
    "duration": 49,
    "start_time": "2023-08-09T14:05:30.961Z"
   },
   {
    "duration": 55,
    "start_time": "2023-08-09T14:05:31.012Z"
   },
   {
    "duration": 62,
    "start_time": "2023-08-09T14:05:31.070Z"
   },
   {
    "duration": 44,
    "start_time": "2023-08-09T14:05:31.136Z"
   },
   {
    "duration": 51,
    "start_time": "2023-08-09T14:05:31.182Z"
   },
   {
    "duration": 65,
    "start_time": "2023-08-09T14:05:31.235Z"
   },
   {
    "duration": 46,
    "start_time": "2023-08-09T14:05:31.303Z"
   },
   {
    "duration": 99,
    "start_time": "2023-08-09T14:05:31.352Z"
   },
   {
    "duration": 123,
    "start_time": "2023-08-09T14:05:31.453Z"
   },
   {
    "duration": 89,
    "start_time": "2023-08-09T14:05:31.579Z"
   },
   {
    "duration": 188,
    "start_time": "2023-08-09T14:05:31.670Z"
   },
   {
    "duration": 61,
    "start_time": "2023-08-09T14:05:31.860Z"
   },
   {
    "duration": 57,
    "start_time": "2023-08-09T14:05:31.924Z"
   },
   {
    "duration": 60,
    "start_time": "2023-08-09T14:05:31.984Z"
   },
   {
    "duration": 56,
    "start_time": "2023-08-09T14:05:32.046Z"
   },
   {
    "duration": 4722,
    "start_time": "2023-08-09T14:05:32.104Z"
   },
   {
    "duration": 4,
    "start_time": "2023-08-09T14:05:36.829Z"
   },
   {
    "duration": 960,
    "start_time": "2023-08-09T14:05:36.835Z"
   },
   {
    "duration": 7,
    "start_time": "2023-08-09T14:05:37.797Z"
   },
   {
    "duration": 30,
    "start_time": "2023-08-09T14:05:37.807Z"
   },
   {
    "duration": 91,
    "start_time": "2023-08-09T14:05:37.840Z"
   },
   {
    "duration": 15,
    "start_time": "2023-08-09T14:05:37.934Z"
   },
   {
    "duration": 9,
    "start_time": "2023-08-09T14:05:37.951Z"
   },
   {
    "duration": 11,
    "start_time": "2023-08-09T14:05:37.962Z"
   },
   {
    "duration": 15,
    "start_time": "2023-08-09T14:05:37.975Z"
   },
   {
    "duration": 17,
    "start_time": "2023-08-09T14:05:37.992Z"
   },
   {
    "duration": 33,
    "start_time": "2023-08-09T14:05:38.011Z"
   },
   {
    "duration": 14,
    "start_time": "2023-08-09T14:05:38.046Z"
   },
   {
    "duration": 14,
    "start_time": "2023-08-09T14:05:38.062Z"
   },
   {
    "duration": 17,
    "start_time": "2023-08-09T14:05:38.079Z"
   },
   {
    "duration": 6,
    "start_time": "2023-08-09T14:05:38.098Z"
   },
   {
    "duration": 14,
    "start_time": "2023-08-09T14:05:38.107Z"
   },
   {
    "duration": 93778,
    "start_time": "2023-08-09T14:05:38.123Z"
   },
   {
    "duration": 5,
    "start_time": "2023-08-09T14:07:11.903Z"
   },
   {
    "duration": 12417,
    "start_time": "2023-08-09T14:07:11.910Z"
   },
   {
    "duration": 6,
    "start_time": "2023-08-09T14:07:24.329Z"
   },
   {
    "duration": 24,
    "start_time": "2023-08-09T14:07:24.336Z"
   },
   {
    "duration": 1227,
    "start_time": "2023-08-09T14:07:24.362Z"
   },
   {
    "duration": 6,
    "start_time": "2023-08-09T14:07:25.590Z"
   },
   {
    "duration": 24,
    "start_time": "2023-08-09T14:07:25.599Z"
   },
   {
    "duration": 459650,
    "start_time": "2023-08-09T14:07:25.625Z"
   },
   {
    "duration": 166,
    "start_time": "2023-08-09T14:16:48.379Z"
   },
   {
    "duration": 70455,
    "start_time": "2023-08-09T14:17:09.314Z"
   },
   {
    "duration": 6,
    "start_time": "2023-08-09T14:18:19.772Z"
   },
   {
    "duration": 13,
    "start_time": "2023-08-09T14:19:01.090Z"
   },
   {
    "duration": 1177,
    "start_time": "2023-08-09T14:19:12.929Z"
   },
   {
    "duration": 5,
    "start_time": "2023-08-09T14:26:05.257Z"
   },
   {
    "duration": 1283,
    "start_time": "2023-08-09T14:26:06.425Z"
   },
   {
    "duration": 5,
    "start_time": "2023-08-09T14:26:15.290Z"
   },
   {
    "duration": 1183,
    "start_time": "2023-08-09T14:26:16.001Z"
   },
   {
    "duration": 2270,
    "start_time": "2023-08-09T14:35:36.305Z"
   },
   {
    "duration": 55,
    "start_time": "2023-08-09T14:35:38.582Z"
   },
   {
    "duration": 14,
    "start_time": "2023-08-09T14:35:38.639Z"
   },
   {
    "duration": 33,
    "start_time": "2023-08-09T14:35:38.656Z"
   },
   {
    "duration": 10,
    "start_time": "2023-08-09T14:35:38.691Z"
   },
   {
    "duration": 37,
    "start_time": "2023-08-09T14:35:38.703Z"
   },
   {
    "duration": 22,
    "start_time": "2023-08-09T14:35:38.742Z"
   },
   {
    "duration": 25,
    "start_time": "2023-08-09T14:35:38.767Z"
   },
   {
    "duration": 11,
    "start_time": "2023-08-09T14:35:38.794Z"
   },
   {
    "duration": 23,
    "start_time": "2023-08-09T14:35:38.807Z"
   },
   {
    "duration": 8,
    "start_time": "2023-08-09T14:35:38.832Z"
   },
   {
    "duration": 15,
    "start_time": "2023-08-09T14:35:38.842Z"
   },
   {
    "duration": 53,
    "start_time": "2023-08-09T14:35:38.872Z"
   },
   {
    "duration": 37,
    "start_time": "2023-08-09T14:35:38.927Z"
   },
   {
    "duration": 34,
    "start_time": "2023-08-09T14:35:38.966Z"
   },
   {
    "duration": 29,
    "start_time": "2023-08-09T14:35:39.002Z"
   },
   {
    "duration": 4462,
    "start_time": "2023-08-09T14:35:39.032Z"
   },
   {
    "duration": 4,
    "start_time": "2023-08-09T14:35:43.496Z"
   },
   {
    "duration": 875,
    "start_time": "2023-08-09T14:35:43.501Z"
   },
   {
    "duration": 7,
    "start_time": "2023-08-09T14:35:44.378Z"
   },
   {
    "duration": 13,
    "start_time": "2023-08-09T14:35:44.387Z"
   },
   {
    "duration": 18,
    "start_time": "2023-08-09T14:35:44.401Z"
   },
   {
    "duration": 9,
    "start_time": "2023-08-09T14:35:44.421Z"
   },
   {
    "duration": 31,
    "start_time": "2023-08-09T14:35:44.432Z"
   },
   {
    "duration": 28,
    "start_time": "2023-08-09T14:35:44.468Z"
   },
   {
    "duration": 20,
    "start_time": "2023-08-09T14:35:44.498Z"
   },
   {
    "duration": 29,
    "start_time": "2023-08-09T14:35:44.520Z"
   },
   {
    "duration": 32,
    "start_time": "2023-08-09T14:35:44.551Z"
   },
   {
    "duration": 4,
    "start_time": "2023-08-09T14:35:44.586Z"
   },
   {
    "duration": 14,
    "start_time": "2023-08-09T14:35:44.592Z"
   },
   {
    "duration": 14,
    "start_time": "2023-08-09T14:35:44.608Z"
   },
   {
    "duration": 20,
    "start_time": "2023-08-09T14:35:44.624Z"
   },
   {
    "duration": 33,
    "start_time": "2023-08-09T14:35:44.646Z"
   },
   {
    "duration": 90501,
    "start_time": "2023-08-09T14:35:44.682Z"
   },
   {
    "duration": 6,
    "start_time": "2023-08-09T14:37:15.184Z"
   },
   {
    "duration": 12182,
    "start_time": "2023-08-09T14:37:15.191Z"
   },
   {
    "duration": 5,
    "start_time": "2023-08-09T14:37:27.375Z"
   },
   {
    "duration": 18,
    "start_time": "2023-08-09T14:37:27.381Z"
   },
   {
    "duration": 1227,
    "start_time": "2023-08-09T14:37:27.401Z"
   },
   {
    "duration": 5,
    "start_time": "2023-08-09T14:37:28.632Z"
   },
   {
    "duration": 19,
    "start_time": "2023-08-09T14:37:28.638Z"
   },
   {
    "duration": 2124,
    "start_time": "2023-08-09T14:38:38.221Z"
   },
   {
    "duration": 55,
    "start_time": "2023-08-09T14:38:40.347Z"
   },
   {
    "duration": 15,
    "start_time": "2023-08-09T14:38:40.405Z"
   },
   {
    "duration": 25,
    "start_time": "2023-08-09T14:38:40.422Z"
   },
   {
    "duration": 46,
    "start_time": "2023-08-09T14:38:40.449Z"
   },
   {
    "duration": 5,
    "start_time": "2023-08-09T14:38:40.500Z"
   },
   {
    "duration": 9,
    "start_time": "2023-08-09T14:38:40.507Z"
   },
   {
    "duration": 12,
    "start_time": "2023-08-09T14:38:40.517Z"
   },
   {
    "duration": 11,
    "start_time": "2023-08-09T14:38:40.530Z"
   },
   {
    "duration": 11,
    "start_time": "2023-08-09T14:38:40.543Z"
   },
   {
    "duration": 23,
    "start_time": "2023-08-09T14:38:40.556Z"
   },
   {
    "duration": 12,
    "start_time": "2023-08-09T14:38:40.581Z"
   },
   {
    "duration": 8,
    "start_time": "2023-08-09T14:38:40.594Z"
   },
   {
    "duration": 11,
    "start_time": "2023-08-09T14:38:40.605Z"
   },
   {
    "duration": 8,
    "start_time": "2023-08-09T14:38:40.617Z"
   },
   {
    "duration": 41,
    "start_time": "2023-08-09T14:38:40.627Z"
   },
   {
    "duration": 4410,
    "start_time": "2023-08-09T14:38:40.672Z"
   },
   {
    "duration": 3,
    "start_time": "2023-08-09T14:38:45.084Z"
   },
   {
    "duration": 1051,
    "start_time": "2023-08-09T14:38:45.088Z"
   },
   {
    "duration": 6,
    "start_time": "2023-08-09T14:38:46.141Z"
   },
   {
    "duration": 17,
    "start_time": "2023-08-09T14:38:46.159Z"
   },
   {
    "duration": 15,
    "start_time": "2023-08-09T14:38:46.177Z"
   },
   {
    "duration": 5,
    "start_time": "2023-08-09T14:38:46.194Z"
   },
   {
    "duration": 8,
    "start_time": "2023-08-09T14:38:46.200Z"
   },
   {
    "duration": 6,
    "start_time": "2023-08-09T14:38:46.210Z"
   },
   {
    "duration": 15,
    "start_time": "2023-08-09T14:38:46.217Z"
   },
   {
    "duration": 37,
    "start_time": "2023-08-09T14:38:46.234Z"
   },
   {
    "duration": 27,
    "start_time": "2023-08-09T14:38:46.272Z"
   },
   {
    "duration": 7,
    "start_time": "2023-08-09T14:38:46.301Z"
   },
   {
    "duration": 10,
    "start_time": "2023-08-09T14:38:46.310Z"
   },
   {
    "duration": 9,
    "start_time": "2023-08-09T14:38:46.321Z"
   },
   {
    "duration": 8,
    "start_time": "2023-08-09T14:38:46.332Z"
   },
   {
    "duration": 10,
    "start_time": "2023-08-09T14:38:46.342Z"
   },
   {
    "duration": 87774,
    "start_time": "2023-08-09T14:38:46.354Z"
   },
   {
    "duration": 4,
    "start_time": "2023-08-09T14:40:14.130Z"
   },
   {
    "duration": 11968,
    "start_time": "2023-08-09T14:40:14.136Z"
   },
   {
    "duration": 5,
    "start_time": "2023-08-09T14:40:26.106Z"
   },
   {
    "duration": 79,
    "start_time": "2023-08-09T14:40:26.113Z"
   },
   {
    "duration": 1303,
    "start_time": "2023-08-09T14:40:26.194Z"
   },
   {
    "duration": 6,
    "start_time": "2023-08-09T14:40:27.499Z"
   },
   {
    "duration": 34,
    "start_time": "2023-08-09T14:40:27.509Z"
   },
   {
    "duration": 502215,
    "start_time": "2023-08-09T14:40:27.545Z"
   },
   {
    "duration": 81908,
    "start_time": "2023-08-09T14:48:49.772Z"
   },
   {
    "duration": 5,
    "start_time": "2023-08-09T14:50:11.683Z"
   },
   {
    "duration": 1205,
    "start_time": "2023-08-09T14:50:11.760Z"
   },
   {
    "duration": 152,
    "start_time": "2023-08-10T12:39:57.843Z"
   },
   {
    "duration": 2920,
    "start_time": "2023-08-10T16:14:08.076Z"
   },
   {
    "duration": 136,
    "start_time": "2023-08-10T16:14:10.998Z"
   },
   {
    "duration": 19,
    "start_time": "2023-08-10T16:14:11.136Z"
   },
   {
    "duration": 35,
    "start_time": "2023-08-10T16:14:11.157Z"
   },
   {
    "duration": 72,
    "start_time": "2023-08-10T16:14:11.194Z"
   },
   {
    "duration": 23,
    "start_time": "2023-08-10T16:14:11.268Z"
   },
   {
    "duration": 78,
    "start_time": "2023-08-10T16:14:11.294Z"
   },
   {
    "duration": 32,
    "start_time": "2023-08-10T16:14:11.375Z"
   },
   {
    "duration": 71,
    "start_time": "2023-08-10T16:14:11.411Z"
   },
   {
    "duration": 13,
    "start_time": "2023-08-10T16:14:11.484Z"
   },
   {
    "duration": 88,
    "start_time": "2023-08-10T16:14:11.499Z"
   },
   {
    "duration": 49,
    "start_time": "2023-08-10T16:14:11.589Z"
   },
   {
    "duration": 40,
    "start_time": "2023-08-10T16:14:11.640Z"
   },
   {
    "duration": 17,
    "start_time": "2023-08-10T16:14:11.687Z"
   },
   {
    "duration": 70,
    "start_time": "2023-08-10T16:14:11.707Z"
   },
   {
    "duration": 49,
    "start_time": "2023-08-10T16:14:11.780Z"
   },
   {
    "duration": 5632,
    "start_time": "2023-08-10T16:14:11.832Z"
   },
   {
    "duration": 3,
    "start_time": "2023-08-10T16:14:17.467Z"
   },
   {
    "duration": 1332,
    "start_time": "2023-08-10T16:14:17.472Z"
   },
   {
    "duration": 9,
    "start_time": "2023-08-10T16:14:18.810Z"
   },
   {
    "duration": 64,
    "start_time": "2023-08-10T16:14:18.821Z"
   },
   {
    "duration": 34,
    "start_time": "2023-08-10T16:14:18.890Z"
   },
   {
    "duration": 43,
    "start_time": "2023-08-10T16:14:18.926Z"
   },
   {
    "duration": 24,
    "start_time": "2023-08-10T16:14:18.970Z"
   },
   {
    "duration": 91,
    "start_time": "2023-08-10T16:14:18.995Z"
   },
   {
    "duration": 64,
    "start_time": "2023-08-10T16:14:19.087Z"
   },
   {
    "duration": 52,
    "start_time": "2023-08-10T16:14:19.155Z"
   },
   {
    "duration": 75,
    "start_time": "2023-08-10T16:14:19.210Z"
   },
   {
    "duration": 7,
    "start_time": "2023-08-10T16:14:19.287Z"
   },
   {
    "duration": 7,
    "start_time": "2023-08-10T16:14:19.296Z"
   },
   {
    "duration": 93,
    "start_time": "2023-08-10T16:14:19.305Z"
   },
   {
    "duration": 34,
    "start_time": "2023-08-10T16:14:19.401Z"
   },
   {
    "duration": 48,
    "start_time": "2023-08-10T16:14:19.437Z"
   },
   {
    "duration": 103439,
    "start_time": "2023-08-10T16:14:19.488Z"
   },
   {
    "duration": 9,
    "start_time": "2023-08-10T16:16:02.934Z"
   },
   {
    "duration": 13273,
    "start_time": "2023-08-10T16:16:02.950Z"
   },
   {
    "duration": 5,
    "start_time": "2023-08-10T16:16:16.227Z"
   },
   {
    "duration": 60,
    "start_time": "2023-08-10T16:16:16.235Z"
   },
   {
    "duration": 1395,
    "start_time": "2023-08-10T16:16:16.297Z"
   },
   {
    "duration": 5,
    "start_time": "2023-08-10T16:16:17.694Z"
   },
   {
    "duration": 253,
    "start_time": "2023-08-10T16:16:17.711Z"
   },
   {
    "duration": 0,
    "start_time": "2023-08-10T16:16:17.966Z"
   },
   {
    "duration": 0,
    "start_time": "2023-08-10T16:16:17.968Z"
   },
   {
    "duration": 0,
    "start_time": "2023-08-10T16:16:17.969Z"
   },
   {
    "duration": 0,
    "start_time": "2023-08-10T16:16:17.970Z"
   },
   {
    "duration": 13,
    "start_time": "2023-08-10T16:16:51.152Z"
   },
   {
    "duration": 5,
    "start_time": "2023-08-10T16:18:38.785Z"
   },
   {
    "duration": 50,
    "start_time": "2023-08-10T16:18:43.205Z"
   },
   {
    "duration": 4,
    "start_time": "2023-08-10T16:19:32.983Z"
   },
   {
    "duration": 13,
    "start_time": "2023-08-10T16:19:33.571Z"
   },
   {
    "duration": 2379150,
    "start_time": "2023-08-10T16:19:53.988Z"
   },
   {
    "duration": 318035,
    "start_time": "2023-08-10T16:59:33.140Z"
   },
   {
    "duration": 51,
    "start_time": "2023-08-10T17:04:51.178Z"
   },
   {
    "duration": 1719,
    "start_time": "2023-08-10T17:04:51.238Z"
   },
   {
    "duration": 3,
    "start_time": "2023-08-10T17:15:21.405Z"
   },
   {
    "duration": 5,
    "start_time": "2023-08-10T17:15:24.089Z"
   },
   {
    "duration": 116,
    "start_time": "2023-08-10T17:15:51.575Z"
   },
   {
    "duration": 6,
    "start_time": "2023-08-10T17:16:01.088Z"
   },
   {
    "duration": 22,
    "start_time": "2023-08-10T17:17:10.226Z"
   },
   {
    "duration": 7,
    "start_time": "2023-08-10T17:17:25.080Z"
   },
   {
    "duration": 15596,
    "start_time": "2023-08-10T17:17:26.142Z"
   },
   {
    "duration": 3,
    "start_time": "2023-08-10T17:18:18.583Z"
   },
   {
    "duration": 25,
    "start_time": "2023-08-10T17:18:36.331Z"
   },
   {
    "duration": 60264,
    "start_time": "2023-08-10T17:18:56.095Z"
   },
   {
    "duration": 9,
    "start_time": "2023-08-10T17:21:38.506Z"
   },
   {
    "duration": 35,
    "start_time": "2023-08-10T17:21:39.404Z"
   },
   {
    "duration": 128,
    "start_time": "2023-08-10T18:08:29.879Z"
   },
   {
    "duration": 113,
    "start_time": "2023-08-10T18:08:39.624Z"
   },
   {
    "duration": 6,
    "start_time": "2023-08-10T18:08:47.086Z"
   },
   {
    "duration": 25,
    "start_time": "2023-08-10T18:11:37.836Z"
   },
   {
    "duration": 185,
    "start_time": "2023-08-10T18:12:08.986Z"
   },
   {
    "duration": 1378,
    "start_time": "2023-08-10T18:12:10.408Z"
   },
   {
    "duration": 6,
    "start_time": "2023-08-10T18:14:45.480Z"
   },
   {
    "duration": 22,
    "start_time": "2023-08-10T18:14:46.102Z"
   },
   {
    "duration": 514680,
    "start_time": "2023-08-10T18:14:47.079Z"
   },
   {
    "duration": 5,
    "start_time": "2023-08-10T18:23:21.762Z"
   },
   {
    "duration": 2521,
    "start_time": "2023-08-10T18:31:10.667Z"
   },
   {
    "duration": 112,
    "start_time": "2023-08-10T18:31:13.191Z"
   },
   {
    "duration": 35,
    "start_time": "2023-08-10T18:31:13.305Z"
   },
   {
    "duration": 60,
    "start_time": "2023-08-10T18:31:13.345Z"
   },
   {
    "duration": 78,
    "start_time": "2023-08-10T18:31:13.408Z"
   },
   {
    "duration": 80,
    "start_time": "2023-08-10T18:31:13.488Z"
   },
   {
    "duration": 35,
    "start_time": "2023-08-10T18:31:13.570Z"
   },
   {
    "duration": 82,
    "start_time": "2023-08-10T18:31:13.608Z"
   },
   {
    "duration": 97,
    "start_time": "2023-08-10T18:31:13.691Z"
   },
   {
    "duration": 81,
    "start_time": "2023-08-10T18:31:13.790Z"
   },
   {
    "duration": 110,
    "start_time": "2023-08-10T18:31:13.873Z"
   },
   {
    "duration": 181,
    "start_time": "2023-08-10T18:31:13.985Z"
   },
   {
    "duration": 78,
    "start_time": "2023-08-10T18:31:14.168Z"
   },
   {
    "duration": 57,
    "start_time": "2023-08-10T18:31:14.249Z"
   },
   {
    "duration": 96,
    "start_time": "2023-08-10T18:31:14.308Z"
   },
   {
    "duration": 179,
    "start_time": "2023-08-10T18:31:14.406Z"
   },
   {
    "duration": 5724,
    "start_time": "2023-08-10T18:31:14.587Z"
   },
   {
    "duration": 4,
    "start_time": "2023-08-10T18:31:20.316Z"
   },
   {
    "duration": 1205,
    "start_time": "2023-08-10T18:31:20.321Z"
   },
   {
    "duration": 14,
    "start_time": "2023-08-10T18:31:21.528Z"
   },
   {
    "duration": 83,
    "start_time": "2023-08-10T18:31:21.544Z"
   },
   {
    "duration": 49,
    "start_time": "2023-08-10T18:31:21.631Z"
   },
   {
    "duration": 23,
    "start_time": "2023-08-10T18:31:21.682Z"
   },
   {
    "duration": 83,
    "start_time": "2023-08-10T18:31:21.707Z"
   },
   {
    "duration": 22,
    "start_time": "2023-08-10T18:31:21.793Z"
   },
   {
    "duration": 74,
    "start_time": "2023-08-10T18:31:21.817Z"
   },
   {
    "duration": 84,
    "start_time": "2023-08-10T18:31:21.893Z"
   },
   {
    "duration": 102,
    "start_time": "2023-08-10T18:31:21.979Z"
   },
   {
    "duration": 39,
    "start_time": "2023-08-10T18:31:22.083Z"
   },
   {
    "duration": 46,
    "start_time": "2023-08-10T18:31:22.125Z"
   },
   {
    "duration": 24,
    "start_time": "2023-08-10T18:31:22.173Z"
   },
   {
    "duration": 68,
    "start_time": "2023-08-10T18:31:22.199Z"
   },
   {
    "duration": 22,
    "start_time": "2023-08-10T18:31:22.269Z"
   },
   {
    "duration": 106537,
    "start_time": "2023-08-10T18:31:22.293Z"
   },
   {
    "duration": 6,
    "start_time": "2023-08-10T18:33:08.832Z"
   },
   {
    "duration": 14389,
    "start_time": "2023-08-10T18:33:08.840Z"
   },
   {
    "duration": 12,
    "start_time": "2023-08-10T18:33:23.232Z"
   },
   {
    "duration": 56,
    "start_time": "2023-08-10T18:33:23.246Z"
   },
   {
    "duration": 1890,
    "start_time": "2023-08-10T18:33:23.304Z"
   },
   {
    "duration": 28,
    "start_time": "2023-08-10T18:33:25.197Z"
   },
   {
    "duration": 557383,
    "start_time": "2023-08-10T18:33:25.234Z"
   },
   {
    "duration": 24,
    "start_time": "2023-08-10T18:42:42.631Z"
   },
   {
    "duration": 540515,
    "start_time": "2023-08-10T18:42:42.664Z"
   },
   {
    "duration": 191,
    "start_time": "2023-08-10T18:51:43.180Z"
   },
   {
    "duration": 0,
    "start_time": "2023-08-10T18:51:43.373Z"
   },
   {
    "duration": 0,
    "start_time": "2023-08-10T18:51:43.375Z"
   },
   {
    "duration": 0,
    "start_time": "2023-08-10T18:51:43.376Z"
   },
   {
    "duration": 0,
    "start_time": "2023-08-10T18:51:43.377Z"
   },
   {
    "duration": 0,
    "start_time": "2023-08-10T18:51:43.379Z"
   },
   {
    "duration": 0,
    "start_time": "2023-08-10T18:51:43.380Z"
   },
   {
    "duration": 0,
    "start_time": "2023-08-10T18:51:43.381Z"
   },
   {
    "duration": 0,
    "start_time": "2023-08-10T18:51:43.383Z"
   },
   {
    "duration": 0,
    "start_time": "2023-08-10T18:51:43.384Z"
   },
   {
    "duration": 5,
    "start_time": "2023-08-10T18:53:24.499Z"
   },
   {
    "duration": 635254,
    "start_time": "2023-08-10T18:53:25.573Z"
   },
   {
    "duration": 15,
    "start_time": "2023-08-10T19:05:14.827Z"
   },
   {
    "duration": 12,
    "start_time": "2023-08-10T19:05:15.945Z"
   },
   {
    "duration": 2496,
    "start_time": "2023-08-10T19:07:37.690Z"
   },
   {
    "duration": 79,
    "start_time": "2023-08-10T19:07:40.189Z"
   },
   {
    "duration": 13,
    "start_time": "2023-08-10T19:07:40.270Z"
   },
   {
    "duration": 76,
    "start_time": "2023-08-10T19:07:40.286Z"
   },
   {
    "duration": 18,
    "start_time": "2023-08-10T19:07:40.364Z"
   },
   {
    "duration": 20,
    "start_time": "2023-08-10T19:07:40.384Z"
   },
   {
    "duration": 54,
    "start_time": "2023-08-10T19:07:40.405Z"
   },
   {
    "duration": 91,
    "start_time": "2023-08-10T19:07:40.461Z"
   },
   {
    "duration": 34,
    "start_time": "2023-08-10T19:07:40.557Z"
   },
   {
    "duration": 44,
    "start_time": "2023-08-10T19:07:40.594Z"
   },
   {
    "duration": 52,
    "start_time": "2023-08-10T19:07:40.641Z"
   },
   {
    "duration": 68,
    "start_time": "2023-08-10T19:07:40.694Z"
   },
   {
    "duration": 15,
    "start_time": "2023-08-10T19:07:40.764Z"
   },
   {
    "duration": 18,
    "start_time": "2023-08-10T19:07:40.781Z"
   },
   {
    "duration": 54,
    "start_time": "2023-08-10T19:07:40.801Z"
   },
   {
    "duration": 47,
    "start_time": "2023-08-10T19:07:40.857Z"
   },
   {
    "duration": 4989,
    "start_time": "2023-08-10T19:07:40.906Z"
   },
   {
    "duration": 3,
    "start_time": "2023-08-10T19:07:45.897Z"
   },
   {
    "duration": 1213,
    "start_time": "2023-08-10T19:07:45.901Z"
   },
   {
    "duration": 11,
    "start_time": "2023-08-10T19:07:47.117Z"
   },
   {
    "duration": 28,
    "start_time": "2023-08-10T19:07:47.129Z"
   },
   {
    "duration": 34,
    "start_time": "2023-08-10T19:07:47.159Z"
   },
   {
    "duration": 12,
    "start_time": "2023-08-10T19:07:47.195Z"
   },
   {
    "duration": 47,
    "start_time": "2023-08-10T19:07:47.219Z"
   },
   {
    "duration": 7,
    "start_time": "2023-08-10T19:07:47.269Z"
   },
   {
    "duration": 43,
    "start_time": "2023-08-10T19:07:47.278Z"
   },
   {
    "duration": 45,
    "start_time": "2023-08-10T19:07:47.331Z"
   },
   {
    "duration": 44,
    "start_time": "2023-08-10T19:07:47.381Z"
   },
   {
    "duration": 51,
    "start_time": "2023-08-10T19:07:47.427Z"
   },
   {
    "duration": 15,
    "start_time": "2023-08-10T19:07:47.479Z"
   },
   {
    "duration": 78,
    "start_time": "2023-08-10T19:07:47.496Z"
   },
   {
    "duration": 17,
    "start_time": "2023-08-10T19:07:47.575Z"
   },
   {
    "duration": 21,
    "start_time": "2023-08-10T19:07:47.594Z"
   },
   {
    "duration": 99997,
    "start_time": "2023-08-10T19:07:47.617Z"
   },
   {
    "duration": 10,
    "start_time": "2023-08-10T19:09:27.628Z"
   },
   {
    "duration": 12905,
    "start_time": "2023-08-10T19:09:27.640Z"
   },
   {
    "duration": 7,
    "start_time": "2023-08-10T19:09:40.547Z"
   },
   {
    "duration": 26,
    "start_time": "2023-08-10T19:09:40.556Z"
   },
   {
    "duration": 1383,
    "start_time": "2023-08-10T19:09:40.584Z"
   },
   {
    "duration": 7,
    "start_time": "2023-08-10T19:09:41.970Z"
   },
   {
    "duration": 27,
    "start_time": "2023-08-10T19:09:41.979Z"
   },
   {
    "duration": 573464,
    "start_time": "2023-08-10T19:09:42.008Z"
   },
   {
    "duration": 40,
    "start_time": "2023-08-10T19:19:15.474Z"
   },
   {
    "duration": 50,
    "start_time": "2023-08-10T19:19:15.520Z"
   },
   {
    "duration": 595585,
    "start_time": "2023-08-10T19:19:15.572Z"
   },
   {
    "duration": 6,
    "start_time": "2023-08-10T19:29:11.158Z"
   },
   {
    "duration": 100,
    "start_time": "2023-08-10T19:29:11.178Z"
   },
   {
    "duration": 658475,
    "start_time": "2023-08-10T19:29:11.280Z"
   },
   {
    "duration": 190,
    "start_time": "2023-08-10T19:40:09.767Z"
   },
   {
    "duration": 0,
    "start_time": "2023-08-10T19:40:09.962Z"
   },
   {
    "duration": 0,
    "start_time": "2023-08-10T19:40:09.966Z"
   },
   {
    "duration": 0,
    "start_time": "2023-08-10T19:40:09.968Z"
   },
   {
    "duration": 0,
    "start_time": "2023-08-10T19:40:09.969Z"
   },
   {
    "duration": 0,
    "start_time": "2023-08-10T19:40:09.970Z"
   },
   {
    "duration": 0,
    "start_time": "2023-08-10T19:40:09.971Z"
   },
   {
    "duration": 0,
    "start_time": "2023-08-10T19:40:09.972Z"
   },
   {
    "duration": 0,
    "start_time": "2023-08-10T19:40:09.973Z"
   },
   {
    "duration": 17,
    "start_time": "2023-08-10T20:07:10.655Z"
   },
   {
    "duration": 5,
    "start_time": "2023-08-10T20:07:11.276Z"
   },
   {
    "duration": 411490,
    "start_time": "2023-08-10T20:07:11.976Z"
   },
   {
    "duration": 16,
    "start_time": "2023-08-10T20:14:03.517Z"
   },
   {
    "duration": 29,
    "start_time": "2023-08-10T20:14:03.535Z"
   },
   {
    "duration": 379752,
    "start_time": "2023-08-10T20:14:03.567Z"
   },
   {
    "duration": 29,
    "start_time": "2023-08-10T20:20:23.329Z"
   },
   {
    "duration": 25,
    "start_time": "2023-08-10T20:20:23.365Z"
   },
   {
    "duration": 360551,
    "start_time": "2023-08-10T20:20:23.392Z"
   },
   {
    "duration": 19,
    "start_time": "2023-08-10T20:26:23.945Z"
   },
   {
    "duration": 10,
    "start_time": "2023-08-10T20:28:14.135Z"
   },
   {
    "duration": 6,
    "start_time": "2023-08-10T20:28:15.745Z"
   },
   {
    "duration": 129843,
    "start_time": "2023-08-10T20:28:16.195Z"
   },
   {
    "duration": 5,
    "start_time": "2023-08-10T20:36:55.383Z"
   },
   {
    "duration": 17,
    "start_time": "2023-08-10T20:37:03.928Z"
   },
   {
    "duration": 5,
    "start_time": "2023-08-10T20:37:04.485Z"
   },
   {
    "duration": 29989,
    "start_time": "2023-08-10T20:37:06.974Z"
   },
   {
    "duration": 15,
    "start_time": "2023-08-11T06:56:48.872Z"
   },
   {
    "duration": 16,
    "start_time": "2023-08-11T07:02:24.578Z"
   },
   {
    "duration": 15,
    "start_time": "2023-08-11T07:02:34.430Z"
   },
   {
    "duration": 6,
    "start_time": "2023-08-11T07:59:25.865Z"
   },
   {
    "duration": 5,
    "start_time": "2023-08-11T08:00:32.398Z"
   },
   {
    "duration": 279489,
    "start_time": "2023-08-11T08:00:36.946Z"
   },
   {
    "duration": 88999,
    "start_time": "2023-08-11T08:05:16.436Z"
   },
   {
    "duration": 5,
    "start_time": "2023-08-11T08:06:45.436Z"
   },
   {
    "duration": 4,
    "start_time": "2023-08-11T08:08:50.365Z"
   },
   {
    "duration": 16,
    "start_time": "2023-08-11T08:08:51.264Z"
   },
   {
    "duration": 11,
    "start_time": "2023-08-11T08:09:30.018Z"
   },
   {
    "duration": 5,
    "start_time": "2023-08-11T08:09:30.879Z"
   },
   {
    "duration": 2106,
    "start_time": "2023-08-11T08:12:35.573Z"
   },
   {
    "duration": 49,
    "start_time": "2023-08-11T08:12:37.681Z"
   },
   {
    "duration": 49,
    "start_time": "2023-08-11T08:12:37.731Z"
   },
   {
    "duration": 93,
    "start_time": "2023-08-11T08:12:37.783Z"
   },
   {
    "duration": 214,
    "start_time": "2023-08-11T08:12:37.878Z"
   },
   {
    "duration": 103,
    "start_time": "2023-08-11T08:12:38.094Z"
   },
   {
    "duration": 175,
    "start_time": "2023-08-11T08:12:38.199Z"
   },
   {
    "duration": 188,
    "start_time": "2023-08-11T08:12:38.375Z"
   },
   {
    "duration": 20,
    "start_time": "2023-08-11T08:12:38.565Z"
   },
   {
    "duration": 14,
    "start_time": "2023-08-11T08:12:38.589Z"
   },
   {
    "duration": 23,
    "start_time": "2023-08-11T08:12:38.605Z"
   },
   {
    "duration": 9,
    "start_time": "2023-08-11T08:12:38.629Z"
   },
   {
    "duration": 10,
    "start_time": "2023-08-11T08:12:38.640Z"
   },
   {
    "duration": 19,
    "start_time": "2023-08-11T08:12:38.652Z"
   },
   {
    "duration": 20,
    "start_time": "2023-08-11T08:12:38.672Z"
   },
   {
    "duration": 31,
    "start_time": "2023-08-11T08:12:38.694Z"
   },
   {
    "duration": 4048,
    "start_time": "2023-08-11T08:12:38.727Z"
   },
   {
    "duration": 3,
    "start_time": "2023-08-11T08:12:42.776Z"
   },
   {
    "duration": 926,
    "start_time": "2023-08-11T08:12:42.781Z"
   },
   {
    "duration": 20,
    "start_time": "2023-08-11T08:12:43.709Z"
   },
   {
    "duration": 23,
    "start_time": "2023-08-11T08:12:43.731Z"
   },
   {
    "duration": 46,
    "start_time": "2023-08-11T08:12:43.755Z"
   },
   {
    "duration": 37,
    "start_time": "2023-08-11T08:12:43.803Z"
   },
   {
    "duration": 8,
    "start_time": "2023-08-11T08:12:43.843Z"
   },
   {
    "duration": 5,
    "start_time": "2023-08-11T08:12:43.854Z"
   },
   {
    "duration": 16,
    "start_time": "2023-08-11T08:12:43.861Z"
   },
   {
    "duration": 14,
    "start_time": "2023-08-11T08:12:43.879Z"
   },
   {
    "duration": 66,
    "start_time": "2023-08-11T08:12:43.899Z"
   },
   {
    "duration": 7,
    "start_time": "2023-08-11T08:12:43.967Z"
   },
   {
    "duration": 12,
    "start_time": "2023-08-11T08:12:43.976Z"
   },
   {
    "duration": 23,
    "start_time": "2023-08-11T08:12:43.990Z"
   },
   {
    "duration": 24,
    "start_time": "2023-08-11T08:12:44.016Z"
   },
   {
    "duration": 12,
    "start_time": "2023-08-11T08:12:44.043Z"
   },
   {
    "duration": 84149,
    "start_time": "2023-08-11T08:12:44.057Z"
   },
   {
    "duration": 9,
    "start_time": "2023-08-11T08:14:08.210Z"
   },
   {
    "duration": 11239,
    "start_time": "2023-08-11T08:14:08.223Z"
   },
   {
    "duration": 7,
    "start_time": "2023-08-11T08:14:19.465Z"
   },
   {
    "duration": 159,
    "start_time": "2023-08-11T08:14:19.476Z"
   },
   {
    "duration": 1287,
    "start_time": "2023-08-11T08:14:19.636Z"
   },
   {
    "duration": 5,
    "start_time": "2023-08-11T08:14:20.926Z"
   },
   {
    "duration": 131,
    "start_time": "2023-08-11T08:14:20.932Z"
   },
   {
    "duration": 99264,
    "start_time": "2023-08-11T08:14:21.065Z"
   },
   {
    "duration": 5,
    "start_time": "2023-08-11T08:16:00.332Z"
   },
   {
    "duration": 26,
    "start_time": "2023-08-11T08:16:00.339Z"
   },
   {
    "duration": 109750,
    "start_time": "2023-08-11T08:16:00.367Z"
   },
   {
    "duration": 7,
    "start_time": "2023-08-11T08:17:50.124Z"
   },
   {
    "duration": 23,
    "start_time": "2023-08-11T08:17:50.133Z"
   },
   {
    "duration": 2216,
    "start_time": "2023-08-11T08:24:11.586Z"
   },
   {
    "duration": 52,
    "start_time": "2023-08-11T08:24:13.804Z"
   },
   {
    "duration": 12,
    "start_time": "2023-08-11T08:24:13.858Z"
   },
   {
    "duration": 14,
    "start_time": "2023-08-11T08:24:13.872Z"
   },
   {
    "duration": 13,
    "start_time": "2023-08-11T08:24:13.888Z"
   },
   {
    "duration": 25,
    "start_time": "2023-08-11T08:24:13.902Z"
   },
   {
    "duration": 24,
    "start_time": "2023-08-11T08:24:13.930Z"
   },
   {
    "duration": 18,
    "start_time": "2023-08-11T08:24:13.956Z"
   },
   {
    "duration": 36,
    "start_time": "2023-08-11T08:24:13.977Z"
   },
   {
    "duration": 26,
    "start_time": "2023-08-11T08:24:14.015Z"
   },
   {
    "duration": 11,
    "start_time": "2023-08-11T08:24:14.043Z"
   },
   {
    "duration": 20,
    "start_time": "2023-08-11T08:24:14.056Z"
   },
   {
    "duration": 9,
    "start_time": "2023-08-11T08:24:14.078Z"
   },
   {
    "duration": 27,
    "start_time": "2023-08-11T08:24:14.090Z"
   },
   {
    "duration": 24,
    "start_time": "2023-08-11T08:24:14.118Z"
   },
   {
    "duration": 26,
    "start_time": "2023-08-11T08:24:14.144Z"
   },
   {
    "duration": 4419,
    "start_time": "2023-08-11T08:24:14.172Z"
   },
   {
    "duration": 3,
    "start_time": "2023-08-11T08:24:18.593Z"
   },
   {
    "duration": 862,
    "start_time": "2023-08-11T08:24:18.597Z"
   },
   {
    "duration": 8,
    "start_time": "2023-08-11T08:24:19.462Z"
   },
   {
    "duration": 17,
    "start_time": "2023-08-11T08:24:19.473Z"
   },
   {
    "duration": 33,
    "start_time": "2023-08-11T08:24:19.494Z"
   },
   {
    "duration": 7,
    "start_time": "2023-08-11T08:24:19.529Z"
   },
   {
    "duration": 16,
    "start_time": "2023-08-11T08:24:19.538Z"
   },
   {
    "duration": 6,
    "start_time": "2023-08-11T08:24:19.556Z"
   },
   {
    "duration": 20,
    "start_time": "2023-08-11T08:24:19.563Z"
   },
   {
    "duration": 39,
    "start_time": "2023-08-11T08:24:19.585Z"
   },
   {
    "duration": 22,
    "start_time": "2023-08-11T08:24:19.627Z"
   },
   {
    "duration": 6,
    "start_time": "2023-08-11T08:24:19.651Z"
   },
   {
    "duration": 5,
    "start_time": "2023-08-11T08:24:19.659Z"
   },
   {
    "duration": 6,
    "start_time": "2023-08-11T08:24:19.666Z"
   },
   {
    "duration": 7,
    "start_time": "2023-08-11T08:24:19.674Z"
   },
   {
    "duration": 38,
    "start_time": "2023-08-11T08:24:19.683Z"
   },
   {
    "duration": 85081,
    "start_time": "2023-08-11T08:24:19.724Z"
   },
   {
    "duration": 18,
    "start_time": "2023-08-11T08:25:44.807Z"
   },
   {
    "duration": 12628,
    "start_time": "2023-08-11T08:25:44.827Z"
   },
   {
    "duration": 5,
    "start_time": "2023-08-11T08:25:57.458Z"
   },
   {
    "duration": 42,
    "start_time": "2023-08-11T08:25:57.465Z"
   },
   {
    "duration": 1376,
    "start_time": "2023-08-11T08:25:57.516Z"
   },
   {
    "duration": 5,
    "start_time": "2023-08-11T08:25:58.894Z"
   },
   {
    "duration": 34,
    "start_time": "2023-08-11T08:25:58.910Z"
   },
   {
    "duration": 133302,
    "start_time": "2023-08-11T08:25:58.947Z"
   },
   {
    "duration": 5,
    "start_time": "2023-08-11T08:28:12.251Z"
   },
   {
    "duration": 57,
    "start_time": "2023-08-11T08:28:12.257Z"
   },
   {
    "duration": 121195,
    "start_time": "2023-08-11T08:28:12.316Z"
   },
   {
    "duration": 12,
    "start_time": "2023-08-11T08:30:13.515Z"
   },
   {
    "duration": 30,
    "start_time": "2023-08-11T08:30:13.530Z"
   },
   {
    "duration": 114264,
    "start_time": "2023-08-11T08:30:13.562Z"
   },
   {
    "duration": 5,
    "start_time": "2023-08-11T08:32:07.828Z"
   },
   {
    "duration": 11,
    "start_time": "2023-08-11T08:32:07.835Z"
   },
   {
    "duration": 118173,
    "start_time": "2023-08-11T08:32:07.848Z"
   },
   {
    "duration": 1151,
    "start_time": "2023-08-11T08:34:06.022Z"
   },
   {
    "duration": 5,
    "start_time": "2023-08-11T08:35:24.821Z"
   },
   {
    "duration": 6,
    "start_time": "2023-08-11T08:35:26.248Z"
   },
   {
    "duration": 112836,
    "start_time": "2023-08-11T08:35:26.877Z"
   },
   {
    "duration": 5,
    "start_time": "2023-08-11T08:37:53.064Z"
   },
   {
    "duration": 4,
    "start_time": "2023-08-11T08:37:53.862Z"
   },
   {
    "duration": 12321,
    "start_time": "2023-08-11T08:37:54.320Z"
   },
   {
    "duration": 6,
    "start_time": "2023-08-11T08:38:14.945Z"
   },
   {
    "duration": 5,
    "start_time": "2023-08-11T08:38:15.629Z"
   },
   {
    "duration": 12675,
    "start_time": "2023-08-11T08:38:16.045Z"
   },
   {
    "duration": 5,
    "start_time": "2023-08-11T08:38:34.162Z"
   },
   {
    "duration": 5,
    "start_time": "2023-08-11T08:38:36.380Z"
   },
   {
    "duration": 12239,
    "start_time": "2023-08-11T08:38:36.797Z"
   },
   {
    "duration": 8,
    "start_time": "2023-08-11T08:39:07.778Z"
   },
   {
    "duration": 4,
    "start_time": "2023-08-11T08:39:08.231Z"
   },
   {
    "duration": 11978,
    "start_time": "2023-08-11T08:39:08.546Z"
   },
   {
    "duration": 5,
    "start_time": "2023-08-11T08:39:26.595Z"
   },
   {
    "duration": 5,
    "start_time": "2023-08-11T08:39:26.945Z"
   },
   {
    "duration": 12239,
    "start_time": "2023-08-11T08:39:27.361Z"
   },
   {
    "duration": 6,
    "start_time": "2023-08-11T08:39:43.400Z"
   },
   {
    "duration": 4,
    "start_time": "2023-08-11T08:39:43.728Z"
   },
   {
    "duration": 12149,
    "start_time": "2023-08-11T08:39:44.025Z"
   },
   {
    "duration": 6,
    "start_time": "2023-08-11T08:40:02.747Z"
   },
   {
    "duration": 5,
    "start_time": "2023-08-11T08:40:03.195Z"
   },
   {
    "duration": 11873,
    "start_time": "2023-08-11T08:40:03.532Z"
   },
   {
    "duration": 4,
    "start_time": "2023-08-11T08:40:26.346Z"
   },
   {
    "duration": 4,
    "start_time": "2023-08-11T08:40:26.696Z"
   },
   {
    "duration": 12293,
    "start_time": "2023-08-11T08:40:27.028Z"
   },
   {
    "duration": 6,
    "start_time": "2023-08-11T08:40:46.546Z"
   },
   {
    "duration": 5,
    "start_time": "2023-08-11T08:40:46.979Z"
   },
   {
    "duration": 12258,
    "start_time": "2023-08-11T08:40:47.397Z"
   },
   {
    "duration": 5,
    "start_time": "2023-08-11T08:41:05.497Z"
   },
   {
    "duration": 5,
    "start_time": "2023-08-11T08:41:05.846Z"
   },
   {
    "duration": 12066,
    "start_time": "2023-08-11T08:41:06.516Z"
   },
   {
    "duration": 5,
    "start_time": "2023-08-11T08:41:27.329Z"
   },
   {
    "duration": 5,
    "start_time": "2023-08-11T08:41:27.862Z"
   },
   {
    "duration": 12144,
    "start_time": "2023-08-11T08:41:28.296Z"
   },
   {
    "duration": 6,
    "start_time": "2023-08-11T08:41:46.600Z"
   },
   {
    "duration": 4,
    "start_time": "2023-08-11T08:41:46.931Z"
   },
   {
    "duration": 11913,
    "start_time": "2023-08-11T08:41:47.185Z"
   },
   {
    "duration": 5,
    "start_time": "2023-08-11T08:42:08.924Z"
   },
   {
    "duration": 5,
    "start_time": "2023-08-11T08:42:09.321Z"
   },
   {
    "duration": 12257,
    "start_time": "2023-08-11T08:42:09.628Z"
   },
   {
    "duration": 9,
    "start_time": "2023-08-11T08:42:26.923Z"
   },
   {
    "duration": 6,
    "start_time": "2023-08-11T08:42:27.289Z"
   },
   {
    "duration": 12144,
    "start_time": "2023-08-11T08:42:27.628Z"
   },
   {
    "duration": 153,
    "start_time": "2023-08-11T08:44:40.945Z"
   },
   {
    "duration": 6,
    "start_time": "2023-08-11T08:45:17.896Z"
   },
   {
    "duration": 5,
    "start_time": "2023-08-11T08:45:19.547Z"
   },
   {
    "duration": 8473,
    "start_time": "2023-08-11T08:45:21.829Z"
   },
   {
    "duration": 5,
    "start_time": "2023-08-11T08:46:43.747Z"
   },
   {
    "duration": 5,
    "start_time": "2023-08-11T08:46:44.466Z"
   },
   {
    "duration": 5067,
    "start_time": "2023-08-11T08:46:45.029Z"
   },
   {
    "duration": 6,
    "start_time": "2023-08-11T08:47:05.579Z"
   },
   {
    "duration": 6,
    "start_time": "2023-08-11T08:47:10.546Z"
   },
   {
    "duration": 5,
    "start_time": "2023-08-11T08:47:11.146Z"
   },
   {
    "duration": 3086,
    "start_time": "2023-08-11T08:47:11.723Z"
   },
   {
    "duration": 6,
    "start_time": "2023-08-11T08:47:31.630Z"
   },
   {
    "duration": 6,
    "start_time": "2023-08-11T08:47:32.220Z"
   },
   {
    "duration": 1855,
    "start_time": "2023-08-11T08:47:32.648Z"
   },
   {
    "duration": 6,
    "start_time": "2023-08-11T08:47:44.227Z"
   },
   {
    "duration": 4,
    "start_time": "2023-08-11T08:47:46.561Z"
   },
   {
    "duration": 4691,
    "start_time": "2023-08-11T08:47:47.931Z"
   },
   {
    "duration": 5,
    "start_time": "2023-08-11T08:47:59.159Z"
   },
   {
    "duration": 4,
    "start_time": "2023-08-11T08:47:59.623Z"
   },
   {
    "duration": 4395,
    "start_time": "2023-08-11T08:48:00.122Z"
   },
   {
    "duration": 5,
    "start_time": "2023-08-11T08:48:11.129Z"
   },
   {
    "duration": 5,
    "start_time": "2023-08-11T08:48:12.379Z"
   },
   {
    "duration": 11980,
    "start_time": "2023-08-11T08:48:12.918Z"
   },
   {
    "duration": 5,
    "start_time": "2023-08-11T08:48:37.945Z"
   },
   {
    "duration": 5,
    "start_time": "2023-08-11T08:48:38.362Z"
   },
   {
    "duration": 6255,
    "start_time": "2023-08-11T08:48:38.779Z"
   },
   {
    "duration": 5,
    "start_time": "2023-08-11T08:48:49.864Z"
   },
   {
    "duration": 8,
    "start_time": "2023-08-11T08:48:50.313Z"
   },
   {
    "duration": 24552,
    "start_time": "2023-08-11T08:48:50.718Z"
   },
   {
    "duration": 6,
    "start_time": "2023-08-11T08:49:28.299Z"
   },
   {
    "duration": 8,
    "start_time": "2023-08-11T08:49:28.817Z"
   },
   {
    "duration": 18670,
    "start_time": "2023-08-11T08:49:29.215Z"
   },
   {
    "duration": 4,
    "start_time": "2023-08-11T08:49:56.787Z"
   },
   {
    "duration": 5,
    "start_time": "2023-08-11T08:49:57.203Z"
   },
   {
    "duration": 751,
    "start_time": "2023-08-11T08:49:57.542Z"
   },
   {
    "duration": 5,
    "start_time": "2023-08-11T08:50:03.244Z"
   },
   {
    "duration": 8,
    "start_time": "2023-08-11T08:50:03.706Z"
   },
   {
    "duration": 7410,
    "start_time": "2023-08-11T08:50:04.054Z"
   },
   {
    "duration": 5,
    "start_time": "2023-08-11T08:50:14.888Z"
   },
   {
    "duration": 4,
    "start_time": "2023-08-11T08:50:15.404Z"
   },
   {
    "duration": 8605,
    "start_time": "2023-08-11T08:50:15.755Z"
   },
   {
    "duration": 5,
    "start_time": "2023-08-11T08:50:28.992Z"
   },
   {
    "duration": 4,
    "start_time": "2023-08-11T08:50:29.668Z"
   },
   {
    "duration": 10101,
    "start_time": "2023-08-11T08:50:30.022Z"
   },
   {
    "duration": 5,
    "start_time": "2023-08-11T08:50:43.834Z"
   },
   {
    "duration": 4,
    "start_time": "2023-08-11T08:50:44.203Z"
   },
   {
    "duration": 11408,
    "start_time": "2023-08-11T08:50:44.543Z"
   },
   {
    "duration": 5,
    "start_time": "2023-08-11T08:51:01.260Z"
   },
   {
    "duration": 4,
    "start_time": "2023-08-11T08:51:01.565Z"
   },
   {
    "duration": 13074,
    "start_time": "2023-08-11T08:51:02.330Z"
   },
   {
    "duration": 6,
    "start_time": "2023-08-11T08:51:20.105Z"
   },
   {
    "duration": 5,
    "start_time": "2023-08-11T08:51:20.541Z"
   },
   {
    "duration": 14915,
    "start_time": "2023-08-11T08:51:21.105Z"
   },
   {
    "duration": 5,
    "start_time": "2023-08-11T08:51:40.455Z"
   },
   {
    "duration": 5,
    "start_time": "2023-08-11T08:51:40.938Z"
   },
   {
    "duration": 16239,
    "start_time": "2023-08-11T08:51:41.400Z"
   },
   {
    "duration": 5,
    "start_time": "2023-08-11T08:52:03.056Z"
   },
   {
    "duration": 9,
    "start_time": "2023-08-11T08:52:03.504Z"
   },
   {
    "duration": 17426,
    "start_time": "2023-08-11T08:52:03.927Z"
   },
   {
    "duration": 5,
    "start_time": "2023-08-11T08:52:26.873Z"
   },
   {
    "duration": 4,
    "start_time": "2023-08-11T08:52:27.380Z"
   },
   {
    "duration": 18933,
    "start_time": "2023-08-11T08:52:27.798Z"
   },
   {
    "duration": 6,
    "start_time": "2023-08-11T08:52:51.454Z"
   },
   {
    "duration": 4,
    "start_time": "2023-08-11T08:52:51.848Z"
   },
   {
    "duration": 20893,
    "start_time": "2023-08-11T08:52:52.219Z"
   },
   {
    "duration": 5,
    "start_time": "2023-08-11T08:53:19.563Z"
   },
   {
    "duration": 3,
    "start_time": "2023-08-11T08:53:20.355Z"
   },
   {
    "duration": 22161,
    "start_time": "2023-08-11T08:53:20.939Z"
   },
   {
    "duration": 5,
    "start_time": "2023-08-11T08:53:48.597Z"
   },
   {
    "duration": 4,
    "start_time": "2023-08-11T08:53:49.066Z"
   },
   {
    "duration": 23384,
    "start_time": "2023-08-11T08:53:49.458Z"
   },
   {
    "duration": 5,
    "start_time": "2023-08-11T08:54:18.787Z"
   },
   {
    "duration": 4,
    "start_time": "2023-08-11T08:54:19.236Z"
   },
   {
    "duration": 24925,
    "start_time": "2023-08-11T08:54:19.634Z"
   },
   {
    "duration": 5,
    "start_time": "2023-08-11T08:54:53.765Z"
   },
   {
    "duration": 4,
    "start_time": "2023-08-11T08:54:55.586Z"
   },
   {
    "duration": 29239,
    "start_time": "2023-08-11T08:54:55.982Z"
   },
   {
    "duration": 5,
    "start_time": "2023-08-11T08:55:38.750Z"
   },
   {
    "duration": 5,
    "start_time": "2023-08-11T08:55:43.185Z"
   },
   {
    "duration": 630,
    "start_time": "2023-08-11T08:55:44.307Z"
   },
   {
    "duration": 5,
    "start_time": "2023-08-11T08:56:08.480Z"
   },
   {
    "duration": 6,
    "start_time": "2023-08-11T08:56:09.383Z"
   },
   {
    "duration": 499,
    "start_time": "2023-08-11T08:56:10.333Z"
   },
   {
    "duration": 4,
    "start_time": "2023-08-11T08:56:53.925Z"
   },
   {
    "duration": 29310,
    "start_time": "2023-08-11T08:56:54.611Z"
   },
   {
    "duration": 5,
    "start_time": "2023-08-11T08:57:29.530Z"
   },
   {
    "duration": 4,
    "start_time": "2023-08-11T08:57:30.454Z"
   },
   {
    "duration": 37005,
    "start_time": "2023-08-11T08:57:30.882Z"
   },
   {
    "duration": 8,
    "start_time": "2023-08-11T08:58:16.023Z"
   },
   {
    "duration": 5,
    "start_time": "2023-08-11T08:58:16.455Z"
   },
   {
    "duration": 43992,
    "start_time": "2023-08-11T08:58:16.805Z"
   },
   {
    "duration": 4,
    "start_time": "2023-08-11T08:59:11.603Z"
   },
   {
    "duration": 6,
    "start_time": "2023-08-11T08:59:12.122Z"
   },
   {
    "duration": 22197,
    "start_time": "2023-08-11T08:59:12.580Z"
   },
   {
    "duration": 5,
    "start_time": "2023-08-11T08:59:40.889Z"
   },
   {
    "duration": 4,
    "start_time": "2023-08-11T08:59:41.304Z"
   },
   {
    "duration": 18374,
    "start_time": "2023-08-11T08:59:41.697Z"
   },
   {
    "duration": 5,
    "start_time": "2023-08-11T09:00:05.623Z"
   },
   {
    "duration": 5,
    "start_time": "2023-08-11T09:00:06.022Z"
   },
   {
    "duration": 36844,
    "start_time": "2023-08-11T09:00:06.391Z"
   },
   {
    "duration": 4,
    "start_time": "2023-08-11T09:00:58.400Z"
   },
   {
    "duration": 4,
    "start_time": "2023-08-11T09:00:58.819Z"
   },
   {
    "duration": 32240,
    "start_time": "2023-08-11T09:00:59.199Z"
   },
   {
    "duration": 5,
    "start_time": "2023-08-11T09:01:36.828Z"
   },
   {
    "duration": 5,
    "start_time": "2023-08-11T09:01:37.153Z"
   },
   {
    "duration": 32646,
    "start_time": "2023-08-11T09:01:37.560Z"
   },
   {
    "duration": 5,
    "start_time": "2023-08-11T09:02:17.803Z"
   },
   {
    "duration": 4,
    "start_time": "2023-08-11T09:02:18.151Z"
   },
   {
    "duration": 33443,
    "start_time": "2023-08-11T09:02:18.546Z"
   },
   {
    "duration": 5,
    "start_time": "2023-08-11T09:02:59.394Z"
   },
   {
    "duration": 4,
    "start_time": "2023-08-11T09:02:59.831Z"
   },
   {
    "duration": 35295,
    "start_time": "2023-08-11T09:03:00.180Z"
   },
   {
    "duration": 5,
    "start_time": "2023-08-11T09:03:44.989Z"
   },
   {
    "duration": 4,
    "start_time": "2023-08-11T09:03:46.028Z"
   },
   {
    "duration": 36193,
    "start_time": "2023-08-11T09:03:46.034Z"
   },
   {
    "duration": 4,
    "start_time": "2023-08-11T09:04:46.750Z"
   },
   {
    "duration": 4,
    "start_time": "2023-08-11T09:04:47.328Z"
   },
   {
    "duration": 36949,
    "start_time": "2023-08-11T09:04:49.253Z"
   },
   {
    "duration": 7,
    "start_time": "2023-08-11T09:05:34.052Z"
   },
   {
    "duration": 5,
    "start_time": "2023-08-11T09:05:34.521Z"
   },
   {
    "duration": 36128,
    "start_time": "2023-08-11T09:05:36.128Z"
   },
   {
    "duration": 4,
    "start_time": "2023-08-11T09:06:16.928Z"
   },
   {
    "duration": 5,
    "start_time": "2023-08-11T09:06:17.327Z"
   },
   {
    "duration": 35772,
    "start_time": "2023-08-11T09:06:17.650Z"
   },
   {
    "duration": 5,
    "start_time": "2023-08-11T09:07:03.924Z"
   },
   {
    "duration": 5,
    "start_time": "2023-08-11T09:07:04.239Z"
   },
   {
    "duration": 36515,
    "start_time": "2023-08-11T09:07:04.721Z"
   },
   {
    "duration": 6,
    "start_time": "2023-08-11T09:07:52.210Z"
   },
   {
    "duration": 4,
    "start_time": "2023-08-11T09:07:53.066Z"
   },
   {
    "duration": 37267,
    "start_time": "2023-08-11T09:07:53.908Z"
   },
   {
    "duration": 6,
    "start_time": "2023-08-11T09:08:46.075Z"
   },
   {
    "duration": 5,
    "start_time": "2023-08-11T09:08:55.298Z"
   },
   {
    "duration": 13,
    "start_time": "2023-08-11T09:09:08.552Z"
   },
   {
    "duration": 5,
    "start_time": "2023-08-11T09:09:13.367Z"
   },
   {
    "duration": 6,
    "start_time": "2023-08-11T09:09:19.723Z"
   },
   {
    "duration": 35509,
    "start_time": "2023-08-11T09:09:20.319Z"
   },
   {
    "duration": 13,
    "start_time": "2023-08-11T09:10:11.306Z"
   },
   {
    "duration": 5,
    "start_time": "2023-08-11T09:10:19.994Z"
   },
   {
    "duration": 4,
    "start_time": "2023-08-11T09:10:20.601Z"
   },
   {
    "duration": 35900,
    "start_time": "2023-08-11T09:10:21.396Z"
   },
   {
    "duration": 7,
    "start_time": "2023-08-11T09:11:10.524Z"
   },
   {
    "duration": 6,
    "start_time": "2023-08-11T09:11:14.230Z"
   },
   {
    "duration": 5,
    "start_time": "2023-08-11T09:11:14.482Z"
   },
   {
    "duration": 35982,
    "start_time": "2023-08-11T09:11:14.800Z"
   },
   {
    "duration": 5,
    "start_time": "2023-08-11T09:12:12.135Z"
   },
   {
    "duration": 5,
    "start_time": "2023-08-11T09:12:18.164Z"
   },
   {
    "duration": 4,
    "start_time": "2023-08-11T09:12:18.567Z"
   },
   {
    "duration": 35654,
    "start_time": "2023-08-11T09:12:19.063Z"
   },
   {
    "duration": 5,
    "start_time": "2023-08-11T09:13:05.586Z"
   },
   {
    "duration": 5,
    "start_time": "2023-08-11T09:13:10.051Z"
   },
   {
    "duration": 5,
    "start_time": "2023-08-11T09:13:10.323Z"
   },
   {
    "duration": 35912,
    "start_time": "2023-08-11T09:13:10.750Z"
   },
   {
    "duration": 5,
    "start_time": "2023-08-11T09:14:04.181Z"
   },
   {
    "duration": 6,
    "start_time": "2023-08-11T09:14:08.551Z"
   },
   {
    "duration": 4,
    "start_time": "2023-08-11T09:14:08.869Z"
   },
   {
    "duration": 36275,
    "start_time": "2023-08-11T09:14:09.382Z"
   },
   {
    "duration": 6,
    "start_time": "2023-08-11T09:15:02.919Z"
   },
   {
    "duration": 5,
    "start_time": "2023-08-11T09:15:06.467Z"
   },
   {
    "duration": 5,
    "start_time": "2023-08-11T09:15:06.800Z"
   },
   {
    "duration": 35609,
    "start_time": "2023-08-11T09:15:07.219Z"
   },
   {
    "duration": 6,
    "start_time": "2023-08-11T09:16:02.383Z"
   },
   {
    "duration": 4,
    "start_time": "2023-08-11T09:16:03.003Z"
   },
   {
    "duration": 35902,
    "start_time": "2023-08-11T09:16:03.587Z"
   },
   {
    "duration": 5,
    "start_time": "2023-08-11T09:16:44.743Z"
   },
   {
    "duration": 36365,
    "start_time": "2023-08-11T09:16:45.966Z"
   },
   {
    "duration": 4,
    "start_time": "2023-08-11T09:17:25.466Z"
   },
   {
    "duration": 35893,
    "start_time": "2023-08-11T09:17:25.820Z"
   },
   {
    "duration": 5,
    "start_time": "2023-08-11T09:18:11.233Z"
   },
   {
    "duration": 4,
    "start_time": "2023-08-11T09:18:12.170Z"
   },
   {
    "duration": 10929,
    "start_time": "2023-08-11T09:18:15.800Z"
   },
   {
    "duration": 7,
    "start_time": "2023-08-11T09:18:35.867Z"
   },
   {
    "duration": 4,
    "start_time": "2023-08-11T09:18:36.369Z"
   },
   {
    "duration": 7525,
    "start_time": "2023-08-11T09:18:36.820Z"
   },
   {
    "duration": 5,
    "start_time": "2023-08-11T09:18:48.761Z"
   },
   {
    "duration": 5,
    "start_time": "2023-08-11T09:18:49.198Z"
   },
   {
    "duration": 5282,
    "start_time": "2023-08-11T09:18:49.559Z"
   },
   {
    "duration": 5,
    "start_time": "2023-08-11T09:18:59.569Z"
   },
   {
    "duration": 5,
    "start_time": "2023-08-11T09:18:59.975Z"
   },
   {
    "duration": 3846,
    "start_time": "2023-08-11T09:19:00.302Z"
   },
   {
    "duration": 5,
    "start_time": "2023-08-11T09:19:09.740Z"
   },
   {
    "duration": 4,
    "start_time": "2023-08-11T09:19:10.166Z"
   },
   {
    "duration": 2730,
    "start_time": "2023-08-11T09:19:10.514Z"
   },
   {
    "duration": 7,
    "start_time": "2023-08-11T09:19:18.120Z"
   },
   {
    "duration": 4,
    "start_time": "2023-08-11T09:19:18.447Z"
   },
   {
    "duration": 2368,
    "start_time": "2023-08-11T09:19:18.807Z"
   },
   {
    "duration": 11,
    "start_time": "2023-08-11T09:19:25.604Z"
   },
   {
    "duration": 5,
    "start_time": "2023-08-11T09:19:25.953Z"
   },
   {
    "duration": 10900,
    "start_time": "2023-08-11T09:19:26.245Z"
   },
   {
    "duration": 7,
    "start_time": "2023-08-11T09:19:41.804Z"
   },
   {
    "duration": 5,
    "start_time": "2023-08-11T09:19:42.224Z"
   },
   {
    "duration": 11324,
    "start_time": "2023-08-11T09:19:42.602Z"
   },
   {
    "duration": 5,
    "start_time": "2023-08-11T09:20:13.221Z"
   },
   {
    "duration": 5,
    "start_time": "2023-08-11T09:20:13.652Z"
   },
   {
    "duration": 6542,
    "start_time": "2023-08-11T09:20:13.993Z"
   },
   {
    "duration": 6,
    "start_time": "2023-08-11T09:20:30.225Z"
   },
   {
    "duration": 4,
    "start_time": "2023-08-11T09:20:30.585Z"
   },
   {
    "duration": 3714,
    "start_time": "2023-08-11T09:20:31.020Z"
   },
   {
    "duration": 5,
    "start_time": "2023-08-11T09:20:42.275Z"
   },
   {
    "duration": 6,
    "start_time": "2023-08-11T09:20:42.703Z"
   },
   {
    "duration": 2997,
    "start_time": "2023-08-11T09:20:43.027Z"
   },
   {
    "duration": 5,
    "start_time": "2023-08-11T09:20:54.570Z"
   },
   {
    "duration": 5,
    "start_time": "2023-08-11T09:20:54.964Z"
   },
   {
    "duration": 4205,
    "start_time": "2023-08-11T09:20:55.326Z"
   },
   {
    "duration": 5,
    "start_time": "2023-08-11T09:21:07.486Z"
   },
   {
    "duration": 5,
    "start_time": "2023-08-11T09:21:07.920Z"
   },
   {
    "duration": 9538,
    "start_time": "2023-08-11T09:21:08.439Z"
   },
   {
    "duration": 5,
    "start_time": "2023-08-11T09:21:22.836Z"
   },
   {
    "duration": 5,
    "start_time": "2023-08-11T09:21:23.223Z"
   },
   {
    "duration": 6257,
    "start_time": "2023-08-11T09:21:23.537Z"
   },
   {
    "duration": 5,
    "start_time": "2023-08-11T09:21:36.787Z"
   },
   {
    "duration": 5,
    "start_time": "2023-08-11T09:21:37.140Z"
   },
   {
    "duration": 5034,
    "start_time": "2023-08-11T09:21:37.457Z"
   },
   {
    "duration": 5,
    "start_time": "2023-08-11T09:22:10.523Z"
   },
   {
    "duration": 4,
    "start_time": "2023-08-11T09:22:10.867Z"
   },
   {
    "duration": 16363,
    "start_time": "2023-08-11T09:22:11.167Z"
   },
   {
    "duration": 5,
    "start_time": "2023-08-11T09:22:36.867Z"
   },
   {
    "duration": 4,
    "start_time": "2023-08-11T09:22:38.334Z"
   },
   {
    "duration": 158772,
    "start_time": "2023-08-11T09:22:38.765Z"
   },
   {
    "duration": 5,
    "start_time": "2023-08-11T09:25:17.539Z"
   },
   {
    "duration": 8,
    "start_time": "2023-08-11T09:25:39.004Z"
   },
   {
    "duration": 4,
    "start_time": "2023-08-11T09:25:39.985Z"
   },
   {
    "duration": 105989,
    "start_time": "2023-08-11T09:25:40.534Z"
   },
   {
    "duration": 5,
    "start_time": "2023-08-11T09:27:43.273Z"
   },
   {
    "duration": 7,
    "start_time": "2023-08-11T09:27:48.484Z"
   },
   {
    "duration": 5,
    "start_time": "2023-08-11T09:27:48.831Z"
   },
   {
    "duration": 114241,
    "start_time": "2023-08-11T09:27:49.487Z"
   },
   {
    "duration": 7,
    "start_time": "2023-08-11T09:30:22.738Z"
   },
   {
    "duration": 5,
    "start_time": "2023-08-11T09:30:28.573Z"
   },
   {
    "duration": 7,
    "start_time": "2023-08-11T09:30:33.508Z"
   },
   {
    "duration": 5,
    "start_time": "2023-08-11T09:30:34.150Z"
   },
   {
    "duration": 156437,
    "start_time": "2023-08-11T09:30:34.784Z"
   },
   {
    "duration": 5,
    "start_time": "2023-08-11T09:36:03.548Z"
   },
   {
    "duration": 4,
    "start_time": "2023-08-11T09:36:09.122Z"
   },
   {
    "duration": 5,
    "start_time": "2023-08-11T09:36:12.446Z"
   },
   {
    "duration": 6,
    "start_time": "2023-08-11T09:36:12.780Z"
   },
   {
    "duration": 161500,
    "start_time": "2023-08-11T09:36:13.150Z"
   },
   {
    "duration": 6,
    "start_time": "2023-08-11T09:39:22.449Z"
   },
   {
    "duration": 4,
    "start_time": "2023-08-11T09:39:22.837Z"
   },
   {
    "duration": 102804,
    "start_time": "2023-08-11T09:39:23.331Z"
   },
   {
    "duration": 5,
    "start_time": "2023-08-11T09:41:31.181Z"
   },
   {
    "duration": 4,
    "start_time": "2023-08-11T09:41:31.532Z"
   },
   {
    "duration": 2167,
    "start_time": "2023-08-11T09:42:23.979Z"
   },
   {
    "duration": 47,
    "start_time": "2023-08-11T09:42:26.148Z"
   },
   {
    "duration": 13,
    "start_time": "2023-08-11T09:42:26.197Z"
   },
   {
    "duration": 36,
    "start_time": "2023-08-11T09:42:26.224Z"
   },
   {
    "duration": 17,
    "start_time": "2023-08-11T09:42:26.262Z"
   },
   {
    "duration": 9,
    "start_time": "2023-08-11T09:42:26.281Z"
   },
   {
    "duration": 30,
    "start_time": "2023-08-11T09:42:26.292Z"
   },
   {
    "duration": 12,
    "start_time": "2023-08-11T09:42:26.324Z"
   },
   {
    "duration": 31,
    "start_time": "2023-08-11T09:42:26.338Z"
   },
   {
    "duration": 19,
    "start_time": "2023-08-11T09:42:26.370Z"
   },
   {
    "duration": 26,
    "start_time": "2023-08-11T09:42:26.391Z"
   },
   {
    "duration": 33,
    "start_time": "2023-08-11T09:42:26.421Z"
   },
   {
    "duration": 14,
    "start_time": "2023-08-11T09:42:26.455Z"
   },
   {
    "duration": 34,
    "start_time": "2023-08-11T09:42:26.472Z"
   },
   {
    "duration": 17,
    "start_time": "2023-08-11T09:42:26.507Z"
   },
   {
    "duration": 48,
    "start_time": "2023-08-11T09:42:26.526Z"
   },
   {
    "duration": 4059,
    "start_time": "2023-08-11T09:42:26.576Z"
   },
   {
    "duration": 3,
    "start_time": "2023-08-11T09:42:30.637Z"
   },
   {
    "duration": 901,
    "start_time": "2023-08-11T09:42:30.641Z"
   },
   {
    "duration": 7,
    "start_time": "2023-08-11T09:42:31.544Z"
   },
   {
    "duration": 420,
    "start_time": "2023-08-11T09:42:31.553Z"
   },
   {
    "duration": 394,
    "start_time": "2023-08-11T09:42:31.975Z"
   },
   {
    "duration": 291,
    "start_time": "2023-08-11T09:42:32.371Z"
   },
   {
    "duration": 101,
    "start_time": "2023-08-11T09:42:32.664Z"
   },
   {
    "duration": 53,
    "start_time": "2023-08-11T09:42:32.767Z"
   },
   {
    "duration": 73,
    "start_time": "2023-08-11T09:42:32.822Z"
   },
   {
    "duration": 107,
    "start_time": "2023-08-11T09:42:32.897Z"
   },
   {
    "duration": 99,
    "start_time": "2023-08-11T09:42:33.005Z"
   },
   {
    "duration": 103,
    "start_time": "2023-08-11T09:42:33.106Z"
   },
   {
    "duration": 66,
    "start_time": "2023-08-11T09:42:33.218Z"
   },
   {
    "duration": 78,
    "start_time": "2023-08-11T09:42:33.286Z"
   },
   {
    "duration": 80,
    "start_time": "2023-08-11T09:42:33.366Z"
   },
   {
    "duration": 110,
    "start_time": "2023-08-11T09:42:33.449Z"
   },
   {
    "duration": 83299,
    "start_time": "2023-08-11T09:42:33.561Z"
   },
   {
    "duration": 7,
    "start_time": "2023-08-11T09:43:56.861Z"
   },
   {
    "duration": 11141,
    "start_time": "2023-08-11T09:43:56.869Z"
   },
   {
    "duration": 6,
    "start_time": "2023-08-11T09:44:08.013Z"
   },
   {
    "duration": 36,
    "start_time": "2023-08-11T09:44:08.021Z"
   },
   {
    "duration": 1078,
    "start_time": "2023-08-11T09:44:08.058Z"
   },
   {
    "duration": 5,
    "start_time": "2023-08-11T09:44:09.138Z"
   },
   {
    "duration": 5,
    "start_time": "2023-08-11T09:44:09.147Z"
   },
   {
    "duration": 85881,
    "start_time": "2023-08-11T09:44:09.154Z"
   },
   {
    "duration": 6,
    "start_time": "2023-08-11T09:45:35.037Z"
   },
   {
    "duration": 19,
    "start_time": "2023-08-11T09:45:35.110Z"
   },
   {
    "duration": 91683,
    "start_time": "2023-08-11T09:45:35.130Z"
   },
   {
    "duration": 6,
    "start_time": "2023-08-11T09:47:06.815Z"
   },
   {
    "duration": 23,
    "start_time": "2023-08-11T09:47:06.823Z"
   },
   {
    "duration": 80979,
    "start_time": "2023-08-11T09:47:06.848Z"
   },
   {
    "duration": 5,
    "start_time": "2023-08-11T09:48:27.829Z"
   },
   {
    "duration": 13,
    "start_time": "2023-08-11T09:48:27.835Z"
   },
   {
    "duration": 11605,
    "start_time": "2023-08-11T09:48:27.850Z"
   },
   {
    "duration": 5,
    "start_time": "2023-08-11T09:48:39.456Z"
   },
   {
    "duration": 21,
    "start_time": "2023-08-11T09:48:39.463Z"
   },
   {
    "duration": 8005,
    "start_time": "2023-08-11T09:48:39.486Z"
   },
   {
    "duration": 6,
    "start_time": "2023-08-11T09:48:47.492Z"
   },
   {
    "duration": 18,
    "start_time": "2023-08-11T09:48:47.499Z"
   },
   {
    "duration": 63423,
    "start_time": "2023-08-11T09:48:47.518Z"
   },
   {
    "duration": 1171,
    "start_time": "2023-08-11T09:49:50.943Z"
   },
   {
    "duration": 5,
    "start_time": "2023-08-11T10:31:53.310Z"
   },
   {
    "duration": 4,
    "start_time": "2023-08-11T10:31:53.560Z"
   },
   {
    "duration": 25475,
    "start_time": "2023-08-11T10:31:54.054Z"
   },
   {
    "duration": 4,
    "start_time": "2023-08-11T10:32:33.050Z"
   },
   {
    "duration": 5,
    "start_time": "2023-08-11T10:32:33.423Z"
   },
   {
    "duration": 17273,
    "start_time": "2023-08-11T10:32:34.059Z"
   },
   {
    "duration": 5,
    "start_time": "2023-08-11T10:32:59.825Z"
   },
   {
    "duration": 4,
    "start_time": "2023-08-11T10:33:00.274Z"
   },
   {
    "duration": 32270,
    "start_time": "2023-08-11T10:33:00.650Z"
   },
   {
    "duration": 5,
    "start_time": "2023-08-11T10:33:39.920Z"
   },
   {
    "duration": 4,
    "start_time": "2023-08-11T10:33:40.259Z"
   },
   {
    "duration": 49259,
    "start_time": "2023-08-11T10:33:40.558Z"
   },
   {
    "duration": 4,
    "start_time": "2023-08-11T10:34:39.658Z"
   },
   {
    "duration": 4,
    "start_time": "2023-08-11T10:34:39.996Z"
   },
   {
    "duration": 39708,
    "start_time": "2023-08-11T10:34:40.301Z"
   },
   {
    "duration": 5,
    "start_time": "2023-08-11T10:35:28.787Z"
   },
   {
    "duration": 4,
    "start_time": "2023-08-11T10:35:29.203Z"
   },
   {
    "duration": 39216,
    "start_time": "2023-08-11T10:35:29.497Z"
   },
   {
    "duration": 5,
    "start_time": "2023-08-11T10:36:18.196Z"
   },
   {
    "duration": 4,
    "start_time": "2023-08-11T10:36:18.521Z"
   },
   {
    "duration": 50146,
    "start_time": "2023-08-11T10:36:18.784Z"
   },
   {
    "duration": 5,
    "start_time": "2023-08-11T10:43:17.011Z"
   },
   {
    "duration": 4,
    "start_time": "2023-08-11T10:43:17.468Z"
   },
   {
    "duration": 49536,
    "start_time": "2023-08-11T10:43:17.896Z"
   },
   {
    "duration": 5,
    "start_time": "2023-08-11T10:55:25.669Z"
   },
   {
    "duration": 6,
    "start_time": "2023-08-11T10:55:25.997Z"
   },
   {
    "duration": 36436,
    "start_time": "2023-08-11T10:55:26.297Z"
   },
   {
    "duration": 5,
    "start_time": "2023-08-11T13:36:05.161Z"
   },
   {
    "duration": 8,
    "start_time": "2023-08-11T13:36:08.984Z"
   },
   {
    "duration": 6,
    "start_time": "2023-08-11T13:36:09.354Z"
   },
   {
    "duration": 49467,
    "start_time": "2023-08-11T13:36:09.683Z"
   },
   {
    "duration": 5,
    "start_time": "2023-08-11T13:37:07.646Z"
   },
   {
    "duration": 7,
    "start_time": "2023-08-11T13:37:23.437Z"
   },
   {
    "duration": 5,
    "start_time": "2023-08-11T13:37:24.058Z"
   },
   {
    "duration": 83061,
    "start_time": "2023-08-11T13:37:24.560Z"
   },
   {
    "duration": 5,
    "start_time": "2023-08-11T13:39:04.872Z"
   },
   {
    "duration": 5,
    "start_time": "2023-08-11T13:39:05.286Z"
   },
   {
    "duration": 504,
    "start_time": "2023-08-11T13:39:05.587Z"
   },
   {
    "duration": 5,
    "start_time": "2023-08-11T13:39:15.536Z"
   },
   {
    "duration": 9,
    "start_time": "2023-08-11T13:39:16.223Z"
   },
   {
    "duration": 588,
    "start_time": "2023-08-11T13:39:16.827Z"
   },
   {
    "duration": 6,
    "start_time": "2023-08-11T13:39:22.675Z"
   },
   {
    "duration": 5,
    "start_time": "2023-08-11T13:39:23.564Z"
   },
   {
    "duration": 913,
    "start_time": "2023-08-11T13:39:23.910Z"
   },
   {
    "duration": 6,
    "start_time": "2023-08-11T13:39:31.560Z"
   },
   {
    "duration": 4,
    "start_time": "2023-08-11T13:39:31.927Z"
   },
   {
    "duration": 1239,
    "start_time": "2023-08-11T13:39:32.227Z"
   },
   {
    "duration": 6,
    "start_time": "2023-08-11T13:39:37.965Z"
   },
   {
    "duration": 5,
    "start_time": "2023-08-11T13:39:38.324Z"
   },
   {
    "duration": 1420,
    "start_time": "2023-08-11T13:39:38.623Z"
   },
   {
    "duration": 5,
    "start_time": "2023-08-11T13:39:44.164Z"
   },
   {
    "duration": 5,
    "start_time": "2023-08-11T13:39:44.477Z"
   },
   {
    "duration": 1968,
    "start_time": "2023-08-11T13:39:44.772Z"
   },
   {
    "duration": 6,
    "start_time": "2023-08-11T13:39:50.286Z"
   },
   {
    "duration": 4,
    "start_time": "2023-08-11T13:39:50.576Z"
   },
   {
    "duration": 1686,
    "start_time": "2023-08-11T13:39:50.880Z"
   },
   {
    "duration": 10,
    "start_time": "2023-08-11T13:39:56.010Z"
   },
   {
    "duration": 5,
    "start_time": "2023-08-11T13:39:56.323Z"
   },
   {
    "duration": 1792,
    "start_time": "2023-08-11T13:39:56.623Z"
   },
   {
    "duration": 5,
    "start_time": "2023-08-11T13:40:01.296Z"
   },
   {
    "duration": 5,
    "start_time": "2023-08-11T13:40:01.588Z"
   },
   {
    "duration": 1950,
    "start_time": "2023-08-11T13:40:01.860Z"
   },
   {
    "duration": 5,
    "start_time": "2023-08-11T13:40:06.665Z"
   },
   {
    "duration": 5,
    "start_time": "2023-08-11T13:40:06.956Z"
   },
   {
    "duration": 2007,
    "start_time": "2023-08-11T13:40:07.224Z"
   },
   {
    "duration": 5,
    "start_time": "2023-08-11T13:40:12.996Z"
   },
   {
    "duration": 5,
    "start_time": "2023-08-11T13:40:13.275Z"
   },
   {
    "duration": 2261,
    "start_time": "2023-08-11T13:40:13.526Z"
   },
   {
    "duration": 5,
    "start_time": "2023-08-11T13:40:19.185Z"
   },
   {
    "duration": 5,
    "start_time": "2023-08-11T13:40:19.499Z"
   },
   {
    "duration": 2362,
    "start_time": "2023-08-11T13:40:19.795Z"
   },
   {
    "duration": 5,
    "start_time": "2023-08-11T13:40:25.283Z"
   },
   {
    "duration": 4,
    "start_time": "2023-08-11T13:40:25.576Z"
   },
   {
    "duration": 2588,
    "start_time": "2023-08-11T13:40:25.853Z"
   },
   {
    "duration": 6,
    "start_time": "2023-08-11T13:40:32.560Z"
   },
   {
    "duration": 5,
    "start_time": "2023-08-11T13:40:32.839Z"
   },
   {
    "duration": 2817,
    "start_time": "2023-08-11T13:40:33.123Z"
   },
   {
    "duration": 6,
    "start_time": "2023-08-11T13:40:40.026Z"
   },
   {
    "duration": 6,
    "start_time": "2023-08-11T13:40:40.326Z"
   },
   {
    "duration": 2825,
    "start_time": "2023-08-11T13:40:40.606Z"
   },
   {
    "duration": 9,
    "start_time": "2023-08-11T13:40:47.479Z"
   },
   {
    "duration": 5,
    "start_time": "2023-08-11T13:40:47.781Z"
   },
   {
    "duration": 3172,
    "start_time": "2023-08-11T13:40:48.056Z"
   },
   {
    "duration": 6,
    "start_time": "2023-08-11T13:40:59.338Z"
   },
   {
    "duration": 5,
    "start_time": "2023-08-11T13:41:00.674Z"
   },
   {
    "duration": 3412,
    "start_time": "2023-08-11T13:41:02.126Z"
   },
   {
    "duration": 6,
    "start_time": "2023-08-11T13:41:09.160Z"
   },
   {
    "duration": 6,
    "start_time": "2023-08-11T13:41:09.450Z"
   },
   {
    "duration": 3454,
    "start_time": "2023-08-11T13:41:09.723Z"
   },
   {
    "duration": 5,
    "start_time": "2023-08-11T13:41:17.078Z"
   },
   {
    "duration": 6,
    "start_time": "2023-08-11T13:41:17.429Z"
   },
   {
    "duration": 3906,
    "start_time": "2023-08-11T13:41:17.731Z"
   },
   {
    "duration": 6,
    "start_time": "2023-08-11T13:41:25.153Z"
   },
   {
    "duration": 5,
    "start_time": "2023-08-11T13:41:25.436Z"
   },
   {
    "duration": 4325,
    "start_time": "2023-08-11T13:41:25.697Z"
   },
   {
    "duration": 5,
    "start_time": "2023-08-11T13:41:33.985Z"
   },
   {
    "duration": 5,
    "start_time": "2023-08-11T13:41:34.279Z"
   },
   {
    "duration": 4597,
    "start_time": "2023-08-11T13:41:34.598Z"
   },
   {
    "duration": 6,
    "start_time": "2023-08-11T13:41:43.319Z"
   },
   {
    "duration": 5,
    "start_time": "2023-08-11T13:41:43.720Z"
   },
   {
    "duration": 5848,
    "start_time": "2023-08-11T13:41:44.833Z"
   },
   {
    "duration": 6,
    "start_time": "2023-08-11T13:41:54.762Z"
   },
   {
    "duration": 4,
    "start_time": "2023-08-11T13:41:55.082Z"
   },
   {
    "duration": 6259,
    "start_time": "2023-08-11T13:41:55.372Z"
   },
   {
    "duration": 6,
    "start_time": "2023-08-11T13:42:06.430Z"
   },
   {
    "duration": 4,
    "start_time": "2023-08-11T13:42:06.767Z"
   },
   {
    "duration": 6698,
    "start_time": "2023-08-11T13:42:07.071Z"
   },
   {
    "duration": 6,
    "start_time": "2023-08-11T13:42:17.898Z"
   },
   {
    "duration": 5,
    "start_time": "2023-08-11T13:42:18.164Z"
   },
   {
    "duration": 7502,
    "start_time": "2023-08-11T13:42:18.455Z"
   },
   {
    "duration": 7,
    "start_time": "2023-08-11T13:42:31.180Z"
   },
   {
    "duration": 6,
    "start_time": "2023-08-11T13:42:31.462Z"
   },
   {
    "duration": 7612,
    "start_time": "2023-08-11T13:42:31.708Z"
   },
   {
    "duration": 5,
    "start_time": "2023-08-11T13:42:44.984Z"
   },
   {
    "duration": 5,
    "start_time": "2023-08-11T13:42:45.290Z"
   },
   {
    "duration": 8106,
    "start_time": "2023-08-11T13:42:45.593Z"
   },
   {
    "duration": 7,
    "start_time": "2023-08-11T13:43:00.261Z"
   },
   {
    "duration": 5,
    "start_time": "2023-08-11T13:43:00.582Z"
   },
   {
    "duration": 8315,
    "start_time": "2023-08-11T13:43:00.924Z"
   },
   {
    "duration": 5,
    "start_time": "2023-08-11T13:43:14.956Z"
   },
   {
    "duration": 4,
    "start_time": "2023-08-11T13:43:15.291Z"
   },
   {
    "duration": 9184,
    "start_time": "2023-08-11T13:43:15.631Z"
   },
   {
    "duration": 5,
    "start_time": "2023-08-11T13:43:29.165Z"
   },
   {
    "duration": 5,
    "start_time": "2023-08-11T13:43:29.466Z"
   },
   {
    "duration": 11823,
    "start_time": "2023-08-11T13:43:29.809Z"
   },
   {
    "duration": 6,
    "start_time": "2023-08-11T13:43:47.866Z"
   },
   {
    "duration": 5,
    "start_time": "2023-08-11T13:43:48.214Z"
   },
   {
    "duration": 11975,
    "start_time": "2023-08-11T13:43:49.625Z"
   },
   {
    "duration": 11,
    "start_time": "2023-08-11T13:45:11.507Z"
   },
   {
    "duration": 5,
    "start_time": "2023-08-11T13:45:11.779Z"
   },
   {
    "duration": 13605,
    "start_time": "2023-08-11T13:45:12.072Z"
   },
   {
    "duration": 13,
    "start_time": "2023-08-11T13:46:21.704Z"
   },
   {
    "duration": 168,
    "start_time": "2023-08-11T13:46:22.104Z"
   },
   {
    "duration": 14254,
    "start_time": "2023-08-11T13:46:22.904Z"
   },
   {
    "duration": 177,
    "start_time": "2023-08-11T13:46:37.161Z"
   },
   {
    "duration": 5,
    "start_time": "2023-08-11T13:46:50.064Z"
   },
   {
    "duration": 14156,
    "start_time": "2023-08-11T13:46:51.272Z"
   },
   {
    "duration": 154,
    "start_time": "2023-08-11T13:47:13.693Z"
   },
   {
    "duration": 5,
    "start_time": "2023-08-11T13:47:14.027Z"
   },
   {
    "duration": 14941,
    "start_time": "2023-08-11T13:47:14.390Z"
   },
   {
    "duration": 6,
    "start_time": "2023-08-11T13:48:02.233Z"
   },
   {
    "duration": 10,
    "start_time": "2023-08-11T13:48:02.547Z"
   },
   {
    "duration": 15035,
    "start_time": "2023-08-11T13:48:02.868Z"
   },
   {
    "duration": 8,
    "start_time": "2023-08-11T13:48:21.933Z"
   },
   {
    "duration": 8,
    "start_time": "2023-08-11T13:48:22.218Z"
   },
   {
    "duration": 16605,
    "start_time": "2023-08-11T13:48:22.526Z"
   },
   {
    "duration": 5,
    "start_time": "2023-08-11T13:48:45.323Z"
   },
   {
    "duration": 5,
    "start_time": "2023-08-11T13:48:45.600Z"
   },
   {
    "duration": 16754,
    "start_time": "2023-08-11T13:48:45.885Z"
   },
   {
    "duration": 10,
    "start_time": "2023-08-11T13:49:06.707Z"
   },
   {
    "duration": 5,
    "start_time": "2023-08-11T13:49:06.989Z"
   },
   {
    "duration": 17000,
    "start_time": "2023-08-11T13:49:07.264Z"
   },
   {
    "duration": 7,
    "start_time": "2023-08-11T13:49:30.431Z"
   },
   {
    "duration": 6,
    "start_time": "2023-08-11T13:49:30.783Z"
   },
   {
    "duration": 17949,
    "start_time": "2023-08-11T13:49:31.141Z"
   },
   {
    "duration": 5,
    "start_time": "2023-08-11T13:49:54.742Z"
   },
   {
    "duration": 8,
    "start_time": "2023-08-11T13:49:55.014Z"
   },
   {
    "duration": 18274,
    "start_time": "2023-08-11T13:49:55.269Z"
   },
   {
    "duration": 5,
    "start_time": "2023-08-11T13:50:18.491Z"
   },
   {
    "duration": 5,
    "start_time": "2023-08-11T13:50:18.764Z"
   },
   {
    "duration": 18775,
    "start_time": "2023-08-11T13:50:19.009Z"
   },
   {
    "duration": 4,
    "start_time": "2023-08-11T13:50:43.795Z"
   },
   {
    "duration": 4,
    "start_time": "2023-08-11T13:50:44.163Z"
   },
   {
    "duration": 18761,
    "start_time": "2023-08-11T13:50:44.493Z"
   },
   {
    "duration": 6,
    "start_time": "2023-08-11T13:51:09.026Z"
   },
   {
    "duration": 5,
    "start_time": "2023-08-11T13:51:09.320Z"
   },
   {
    "duration": 19341,
    "start_time": "2023-08-11T13:51:10.435Z"
   },
   {
    "duration": 6,
    "start_time": "2023-08-11T13:51:41.965Z"
   },
   {
    "duration": 5,
    "start_time": "2023-08-11T13:51:42.281Z"
   },
   {
    "duration": 19560,
    "start_time": "2023-08-11T13:51:42.628Z"
   },
   {
    "duration": 5,
    "start_time": "2023-08-11T13:52:07.103Z"
   },
   {
    "duration": 6,
    "start_time": "2023-08-11T13:52:07.505Z"
   },
   {
    "duration": 20162,
    "start_time": "2023-08-11T13:52:07.930Z"
   },
   {
    "duration": 5,
    "start_time": "2023-08-11T13:52:41.332Z"
   },
   {
    "duration": 5,
    "start_time": "2023-08-11T13:52:41.662Z"
   },
   {
    "duration": 20731,
    "start_time": "2023-08-11T13:52:41.996Z"
   },
   {
    "duration": 5,
    "start_time": "2023-08-11T13:53:54.567Z"
   },
   {
    "duration": 5,
    "start_time": "2023-08-11T13:53:54.860Z"
   },
   {
    "duration": 21680,
    "start_time": "2023-08-11T13:53:55.133Z"
   },
   {
    "duration": 6,
    "start_time": "2023-08-11T13:54:26.385Z"
   },
   {
    "duration": 4,
    "start_time": "2023-08-11T13:54:26.761Z"
   },
   {
    "duration": 21694,
    "start_time": "2023-08-11T13:54:27.061Z"
   },
   {
    "duration": 17,
    "start_time": "2023-08-11T13:54:55.736Z"
   },
   {
    "duration": 6,
    "start_time": "2023-08-11T13:54:56.018Z"
   },
   {
    "duration": 22645,
    "start_time": "2023-08-11T13:54:56.324Z"
   },
   {
    "duration": 6,
    "start_time": "2023-08-11T13:55:27.787Z"
   },
   {
    "duration": 5,
    "start_time": "2023-08-11T13:55:28.069Z"
   },
   {
    "duration": 22445,
    "start_time": "2023-08-11T13:55:28.395Z"
   },
   {
    "duration": 5,
    "start_time": "2023-08-11T13:55:56.262Z"
   },
   {
    "duration": 6,
    "start_time": "2023-08-11T13:55:57.173Z"
   },
   {
    "duration": 22658,
    "start_time": "2023-08-11T13:55:57.620Z"
   },
   {
    "duration": 9,
    "start_time": "2023-08-11T13:56:26.402Z"
   },
   {
    "duration": 12,
    "start_time": "2023-08-11T13:56:26.705Z"
   },
   {
    "duration": 22626,
    "start_time": "2023-08-11T13:56:27.000Z"
   },
   {
    "duration": 17,
    "start_time": "2023-08-11T13:56:53.606Z"
   },
   {
    "duration": 4,
    "start_time": "2023-08-11T13:56:53.884Z"
   },
   {
    "duration": 23121,
    "start_time": "2023-08-11T13:56:54.132Z"
   },
   {
    "duration": 5,
    "start_time": "2023-08-11T13:57:23.867Z"
   },
   {
    "duration": 6,
    "start_time": "2023-08-11T13:57:24.123Z"
   },
   {
    "duration": 22946,
    "start_time": "2023-08-11T13:57:24.479Z"
   },
   {
    "duration": 5,
    "start_time": "2023-08-11T13:57:53.970Z"
   },
   {
    "duration": 4,
    "start_time": "2023-08-11T13:57:54.274Z"
   },
   {
    "duration": 23180,
    "start_time": "2023-08-11T13:57:54.593Z"
   },
   {
    "duration": 6,
    "start_time": "2023-08-11T13:58:22.207Z"
   },
   {
    "duration": 5,
    "start_time": "2023-08-11T13:58:22.525Z"
   },
   {
    "duration": 24033,
    "start_time": "2023-08-11T13:58:22.858Z"
   },
   {
    "duration": 13,
    "start_time": "2023-08-11T13:59:52.702Z"
   },
   {
    "duration": 5,
    "start_time": "2023-08-11T13:59:52.985Z"
   },
   {
    "duration": 24196,
    "start_time": "2023-08-11T13:59:53.290Z"
   },
   {
    "duration": 14,
    "start_time": "2023-08-11T14:00:23.706Z"
   },
   {
    "duration": 4,
    "start_time": "2023-08-11T14:00:24.031Z"
   },
   {
    "duration": 25216,
    "start_time": "2023-08-11T14:00:24.293Z"
   },
   {
    "duration": 5,
    "start_time": "2023-08-11T14:00:55.389Z"
   },
   {
    "duration": 4,
    "start_time": "2023-08-11T14:00:55.691Z"
   },
   {
    "duration": 26629,
    "start_time": "2023-08-11T14:00:55.982Z"
   },
   {
    "duration": 6,
    "start_time": "2023-08-11T14:01:29.462Z"
   },
   {
    "duration": 5,
    "start_time": "2023-08-11T14:01:29.801Z"
   },
   {
    "duration": 28057,
    "start_time": "2023-08-11T14:01:30.071Z"
   },
   {
    "duration": 5,
    "start_time": "2023-08-11T14:02:04.670Z"
   },
   {
    "duration": 5,
    "start_time": "2023-08-11T14:02:04.979Z"
   },
   {
    "duration": 28436,
    "start_time": "2023-08-11T14:02:05.256Z"
   },
   {
    "duration": 6,
    "start_time": "2023-08-11T14:02:47.251Z"
   },
   {
    "duration": 6,
    "start_time": "2023-08-11T14:02:47.623Z"
   },
   {
    "duration": 29643,
    "start_time": "2023-08-11T14:02:47.933Z"
   },
   {
    "duration": 5,
    "start_time": "2023-08-11T14:03:27.383Z"
   },
   {
    "duration": 5,
    "start_time": "2023-08-11T14:03:27.767Z"
   },
   {
    "duration": 31232,
    "start_time": "2023-08-11T14:03:28.193Z"
   },
   {
    "duration": 5,
    "start_time": "2023-08-11T14:04:10.140Z"
   },
   {
    "duration": 5,
    "start_time": "2023-08-11T14:04:10.437Z"
   },
   {
    "duration": 32217,
    "start_time": "2023-08-11T14:04:10.734Z"
   },
   {
    "duration": 7,
    "start_time": "2023-08-11T14:04:56.698Z"
   },
   {
    "duration": 9,
    "start_time": "2023-08-11T14:04:57.029Z"
   },
   {
    "duration": 32372,
    "start_time": "2023-08-11T14:04:57.360Z"
   },
   {
    "duration": 6,
    "start_time": "2023-08-11T14:05:38.930Z"
   },
   {
    "duration": 4,
    "start_time": "2023-08-11T14:05:39.277Z"
   },
   {
    "duration": 33114,
    "start_time": "2023-08-11T14:05:40.542Z"
   },
   {
    "duration": 5,
    "start_time": "2023-08-11T14:06:19.677Z"
   },
   {
    "duration": 5,
    "start_time": "2023-08-11T14:06:19.994Z"
   },
   {
    "duration": 33821,
    "start_time": "2023-08-11T14:06:20.285Z"
   },
   {
    "duration": 7,
    "start_time": "2023-08-11T14:07:02.751Z"
   },
   {
    "duration": 5,
    "start_time": "2023-08-11T14:07:03.245Z"
   },
   {
    "duration": 35275,
    "start_time": "2023-08-11T14:07:03.550Z"
   },
   {
    "duration": 5,
    "start_time": "2023-08-11T14:07:49.597Z"
   },
   {
    "duration": 5,
    "start_time": "2023-08-11T14:07:49.937Z"
   },
   {
    "duration": 35368,
    "start_time": "2023-08-11T14:07:50.239Z"
   },
   {
    "duration": 5,
    "start_time": "2023-08-11T14:08:34.640Z"
   },
   {
    "duration": 5,
    "start_time": "2023-08-11T14:08:34.941Z"
   },
   {
    "duration": 36368,
    "start_time": "2023-08-11T14:08:35.338Z"
   },
   {
    "duration": 5,
    "start_time": "2023-08-11T14:09:19.363Z"
   },
   {
    "duration": 10,
    "start_time": "2023-08-11T14:09:19.709Z"
   },
   {
    "duration": 37859,
    "start_time": "2023-08-11T14:09:20.008Z"
   },
   {
    "duration": 6,
    "start_time": "2023-08-11T14:10:07.060Z"
   },
   {
    "duration": 5,
    "start_time": "2023-08-11T14:10:07.371Z"
   },
   {
    "duration": 37077,
    "start_time": "2023-08-11T14:10:07.688Z"
   },
   {
    "duration": 5,
    "start_time": "2023-08-11T14:10:58.474Z"
   },
   {
    "duration": 6,
    "start_time": "2023-08-11T14:10:58.808Z"
   },
   {
    "duration": 37292,
    "start_time": "2023-08-11T14:10:59.099Z"
   },
   {
    "duration": 9,
    "start_time": "2023-08-11T14:11:43.605Z"
   },
   {
    "duration": 5,
    "start_time": "2023-08-11T14:11:43.886Z"
   },
   {
    "duration": 38273,
    "start_time": "2023-08-11T14:11:44.166Z"
   },
   {
    "duration": 6,
    "start_time": "2023-08-11T14:12:34.451Z"
   },
   {
    "duration": 5,
    "start_time": "2023-08-11T14:12:34.761Z"
   },
   {
    "duration": 37638,
    "start_time": "2023-08-11T14:12:35.143Z"
   },
   {
    "duration": 5,
    "start_time": "2023-08-11T14:13:22.475Z"
   },
   {
    "duration": 5,
    "start_time": "2023-08-11T14:13:22.774Z"
   },
   {
    "duration": 37827,
    "start_time": "2023-08-11T14:13:23.037Z"
   },
   {
    "duration": 6,
    "start_time": "2023-08-11T14:14:17.483Z"
   },
   {
    "duration": 5,
    "start_time": "2023-08-11T14:14:17.775Z"
   },
   {
    "duration": 38435,
    "start_time": "2023-08-11T14:14:18.079Z"
   },
   {
    "duration": 5,
    "start_time": "2023-08-11T14:15:10.632Z"
   },
   {
    "duration": 15,
    "start_time": "2023-08-11T14:15:10.911Z"
   },
   {
    "duration": 38775,
    "start_time": "2023-08-11T14:15:11.164Z"
   },
   {
    "duration": 5,
    "start_time": "2023-08-11T14:15:57.888Z"
   },
   {
    "duration": 6,
    "start_time": "2023-08-11T14:15:58.159Z"
   },
   {
    "duration": 40339,
    "start_time": "2023-08-11T14:15:58.433Z"
   },
   {
    "duration": 16,
    "start_time": "2023-08-11T14:16:55.307Z"
   },
   {
    "duration": 4,
    "start_time": "2023-08-11T14:16:55.574Z"
   },
   {
    "duration": 41429,
    "start_time": "2023-08-11T14:16:55.846Z"
   },
   {
    "duration": 5,
    "start_time": "2023-08-11T14:18:14.637Z"
   },
   {
    "duration": 5,
    "start_time": "2023-08-11T14:18:15.058Z"
   },
   {
    "duration": 41812,
    "start_time": "2023-08-11T14:18:15.466Z"
   },
   {
    "duration": 5,
    "start_time": "2023-08-11T14:19:15.965Z"
   },
   {
    "duration": 5,
    "start_time": "2023-08-11T14:19:16.337Z"
   },
   {
    "duration": 42713,
    "start_time": "2023-08-11T14:19:16.675Z"
   },
   {
    "duration": 16,
    "start_time": "2023-08-11T14:20:16.107Z"
   },
   {
    "duration": 13,
    "start_time": "2023-08-11T14:20:16.408Z"
   },
   {
    "duration": 43165,
    "start_time": "2023-08-11T14:20:16.658Z"
   },
   {
    "duration": 5,
    "start_time": "2023-08-11T14:22:07.460Z"
   },
   {
    "duration": 5,
    "start_time": "2023-08-11T14:22:08.406Z"
   },
   {
    "duration": 45340,
    "start_time": "2023-08-11T14:22:08.711Z"
   },
   {
    "duration": 7,
    "start_time": "2023-08-11T14:23:33.435Z"
   },
   {
    "duration": 5,
    "start_time": "2023-08-11T14:23:33.738Z"
   },
   {
    "duration": 44134,
    "start_time": "2023-08-11T14:23:34.398Z"
   },
   {
    "duration": 5,
    "start_time": "2023-08-11T14:30:16.797Z"
   },
   {
    "duration": 5,
    "start_time": "2023-08-11T14:30:17.168Z"
   },
   {
    "duration": 44668,
    "start_time": "2023-08-11T14:30:17.495Z"
   },
   {
    "duration": 6,
    "start_time": "2023-08-11T14:31:40.140Z"
   },
   {
    "duration": 6,
    "start_time": "2023-08-11T14:31:40.463Z"
   },
   {
    "duration": 44728,
    "start_time": "2023-08-11T14:31:40.906Z"
   },
   {
    "duration": 8,
    "start_time": "2023-08-11T14:32:35.547Z"
   },
   {
    "duration": 6,
    "start_time": "2023-08-11T14:32:35.860Z"
   },
   {
    "duration": 46722,
    "start_time": "2023-08-11T14:32:36.199Z"
   },
   {
    "duration": 6,
    "start_time": "2023-08-11T14:33:32.561Z"
   },
   {
    "duration": 5,
    "start_time": "2023-08-11T14:33:32.843Z"
   },
   {
    "duration": 47706,
    "start_time": "2023-08-11T14:33:33.137Z"
   },
   {
    "duration": 6,
    "start_time": "2023-08-11T14:34:28.739Z"
   },
   {
    "duration": 5,
    "start_time": "2023-08-11T14:34:29.000Z"
   },
   {
    "duration": 47794,
    "start_time": "2023-08-11T14:34:29.263Z"
   },
   {
    "duration": 7,
    "start_time": "2023-08-11T14:35:34.634Z"
   },
   {
    "duration": 7,
    "start_time": "2023-08-11T14:35:35.048Z"
   },
   {
    "duration": 48674,
    "start_time": "2023-08-11T14:35:35.354Z"
   },
   {
    "duration": 5,
    "start_time": "2023-08-11T14:36:36.983Z"
   },
   {
    "duration": 4,
    "start_time": "2023-08-11T14:36:37.455Z"
   },
   {
    "duration": 52121,
    "start_time": "2023-08-11T14:36:37.942Z"
   },
   {
    "duration": 5,
    "start_time": "2023-08-11T14:37:39.882Z"
   },
   {
    "duration": 5,
    "start_time": "2023-08-11T14:37:40.236Z"
   },
   {
    "duration": 49735,
    "start_time": "2023-08-11T14:37:40.508Z"
   },
   {
    "duration": 5,
    "start_time": "2023-08-11T14:38:50.344Z"
   },
   {
    "duration": 5,
    "start_time": "2023-08-11T14:38:50.647Z"
   },
   {
    "duration": 50967,
    "start_time": "2023-08-11T14:38:50.959Z"
   },
   {
    "duration": 4,
    "start_time": "2023-08-11T14:40:00.858Z"
   },
   {
    "duration": 5,
    "start_time": "2023-08-11T14:40:01.151Z"
   },
   {
    "duration": 53254,
    "start_time": "2023-08-11T14:40:01.440Z"
   },
   {
    "duration": 5,
    "start_time": "2023-08-11T14:41:20.395Z"
   },
   {
    "duration": 6,
    "start_time": "2023-08-11T14:41:20.734Z"
   },
   {
    "duration": 60557,
    "start_time": "2023-08-11T14:41:21.094Z"
   },
   {
    "duration": 5,
    "start_time": "2023-08-11T14:42:38.834Z"
   },
   {
    "duration": 6,
    "start_time": "2023-08-11T14:42:39.157Z"
   },
   {
    "duration": 68370,
    "start_time": "2023-08-11T14:42:39.463Z"
   },
   {
    "duration": 6,
    "start_time": "2023-08-11T14:44:09.549Z"
   },
   {
    "duration": 7,
    "start_time": "2023-08-11T14:44:13.433Z"
   },
   {
    "duration": 5,
    "start_time": "2023-08-11T14:44:13.836Z"
   },
   {
    "duration": 71597,
    "start_time": "2023-08-11T14:44:14.155Z"
   },
   {
    "duration": 5,
    "start_time": "2023-08-11T14:46:01.060Z"
   },
   {
    "duration": 6,
    "start_time": "2023-08-11T14:46:01.551Z"
   },
   {
    "duration": 78004,
    "start_time": "2023-08-11T14:46:01.955Z"
   },
   {
    "duration": 7,
    "start_time": "2023-08-11T14:47:32.196Z"
   },
   {
    "duration": 6,
    "start_time": "2023-08-11T14:47:32.660Z"
   },
   {
    "duration": 83524,
    "start_time": "2023-08-11T14:47:33.362Z"
   },
   {
    "duration": 7,
    "start_time": "2023-08-11T14:49:06.634Z"
   },
   {
    "duration": 6,
    "start_time": "2023-08-11T14:49:06.936Z"
   },
   {
    "duration": 101690,
    "start_time": "2023-08-11T14:49:07.273Z"
   },
   {
    "duration": 10,
    "start_time": "2023-08-11T14:50:57.412Z"
   },
   {
    "duration": 5,
    "start_time": "2023-08-11T14:50:57.761Z"
   },
   {
    "duration": 92541,
    "start_time": "2023-08-11T14:50:58.276Z"
   },
   {
    "duration": 12,
    "start_time": "2023-08-11T15:04:23.023Z"
   },
   {
    "duration": 5,
    "start_time": "2023-08-11T15:04:23.339Z"
   },
   {
    "duration": 80690,
    "start_time": "2023-08-11T15:04:23.654Z"
   },
   {
    "duration": 15,
    "start_time": "2023-08-11T15:05:49.206Z"
   },
   {
    "duration": 7,
    "start_time": "2023-08-11T15:05:52.980Z"
   },
   {
    "duration": 6,
    "start_time": "2023-08-11T15:05:53.324Z"
   },
   {
    "duration": 74482,
    "start_time": "2023-08-11T15:05:53.623Z"
   },
   {
    "duration": 5,
    "start_time": "2023-08-11T15:07:18.469Z"
   },
   {
    "duration": 5,
    "start_time": "2023-08-11T15:07:18.823Z"
   },
   {
    "duration": 85010,
    "start_time": "2023-08-11T15:07:19.043Z"
   },
   {
    "duration": 7,
    "start_time": "2023-08-11T15:26:12.444Z"
   },
   {
    "duration": 6,
    "start_time": "2023-08-11T15:26:12.839Z"
   },
   {
    "duration": 79516,
    "start_time": "2023-08-11T15:26:13.174Z"
   },
   {
    "duration": 7,
    "start_time": "2023-08-11T15:30:57.908Z"
   },
   {
    "duration": 6,
    "start_time": "2023-08-11T15:30:58.232Z"
   },
   {
    "duration": 84616,
    "start_time": "2023-08-11T15:30:58.527Z"
   },
   {
    "duration": 5,
    "start_time": "2023-08-11T15:38:00.246Z"
   },
   {
    "duration": 6,
    "start_time": "2023-08-11T15:38:00.562Z"
   },
   {
    "duration": 89019,
    "start_time": "2023-08-11T15:38:00.859Z"
   },
   {
    "duration": 7,
    "start_time": "2023-08-11T15:39:56.197Z"
   },
   {
    "duration": 7,
    "start_time": "2023-08-11T15:39:56.641Z"
   },
   {
    "duration": 82650,
    "start_time": "2023-08-11T15:39:57.046Z"
   },
   {
    "duration": 2213,
    "start_time": "2023-08-11T15:43:32.945Z"
   },
   {
    "duration": 64,
    "start_time": "2023-08-11T15:43:35.161Z"
   },
   {
    "duration": 19,
    "start_time": "2023-08-11T15:43:35.227Z"
   },
   {
    "duration": 13,
    "start_time": "2023-08-11T15:43:35.248Z"
   },
   {
    "duration": 9,
    "start_time": "2023-08-11T15:43:35.262Z"
   },
   {
    "duration": 11,
    "start_time": "2023-08-11T15:43:35.272Z"
   },
   {
    "duration": 8,
    "start_time": "2023-08-11T15:43:35.285Z"
   },
   {
    "duration": 15,
    "start_time": "2023-08-11T15:43:35.295Z"
   },
   {
    "duration": 35,
    "start_time": "2023-08-11T15:43:35.312Z"
   },
   {
    "duration": 7,
    "start_time": "2023-08-11T15:43:35.350Z"
   },
   {
    "duration": 5,
    "start_time": "2023-08-11T15:43:35.359Z"
   },
   {
    "duration": 14,
    "start_time": "2023-08-11T15:43:35.365Z"
   },
   {
    "duration": 10,
    "start_time": "2023-08-11T15:43:35.381Z"
   },
   {
    "duration": 11,
    "start_time": "2023-08-11T15:43:35.393Z"
   },
   {
    "duration": 48,
    "start_time": "2023-08-11T15:43:35.406Z"
   },
   {
    "duration": 30,
    "start_time": "2023-08-11T15:43:35.456Z"
   },
   {
    "duration": 4745,
    "start_time": "2023-08-11T15:43:35.488Z"
   },
   {
    "duration": 4,
    "start_time": "2023-08-11T15:43:40.238Z"
   },
   {
    "duration": 932,
    "start_time": "2023-08-11T15:43:40.244Z"
   },
   {
    "duration": 7,
    "start_time": "2023-08-11T15:43:41.177Z"
   },
   {
    "duration": 24,
    "start_time": "2023-08-11T15:43:41.186Z"
   },
   {
    "duration": 53,
    "start_time": "2023-08-11T15:43:41.211Z"
   },
   {
    "duration": 25,
    "start_time": "2023-08-11T15:43:41.266Z"
   },
   {
    "duration": 8,
    "start_time": "2023-08-11T15:43:41.293Z"
   },
   {
    "duration": 10,
    "start_time": "2023-08-11T15:43:41.302Z"
   },
   {
    "duration": 45,
    "start_time": "2023-08-11T15:43:41.313Z"
   },
   {
    "duration": 23,
    "start_time": "2023-08-11T15:43:41.360Z"
   },
   {
    "duration": 20,
    "start_time": "2023-08-11T15:43:41.387Z"
   },
   {
    "duration": 32,
    "start_time": "2023-08-11T15:43:41.416Z"
   },
   {
    "duration": 5,
    "start_time": "2023-08-11T15:43:41.450Z"
   },
   {
    "duration": 8,
    "start_time": "2023-08-11T15:43:41.457Z"
   },
   {
    "duration": 13,
    "start_time": "2023-08-11T15:43:41.466Z"
   },
   {
    "duration": 11,
    "start_time": "2023-08-11T15:43:41.481Z"
   },
   {
    "duration": 282607,
    "start_time": "2023-08-11T15:43:41.493Z"
   },
   {
    "duration": 19,
    "start_time": "2023-08-11T15:48:24.110Z"
   },
   {
    "duration": 39838,
    "start_time": "2023-08-11T15:48:24.137Z"
   },
   {
    "duration": 7,
    "start_time": "2023-08-11T15:49:03.978Z"
   },
   {
    "duration": 110,
    "start_time": "2023-08-11T15:49:03.987Z"
   },
   {
    "duration": 1352,
    "start_time": "2023-08-11T15:49:04.100Z"
   },
   {
    "duration": 8,
    "start_time": "2023-08-11T15:49:05.454Z"
   },
   {
    "duration": 38,
    "start_time": "2023-08-11T15:49:05.464Z"
   },
   {
    "duration": 2233,
    "start_time": "2023-08-11T16:02:08.050Z"
   },
   {
    "duration": 62,
    "start_time": "2023-08-11T16:02:10.286Z"
   },
   {
    "duration": 24,
    "start_time": "2023-08-11T16:02:10.350Z"
   },
   {
    "duration": 37,
    "start_time": "2023-08-11T16:02:10.376Z"
   },
   {
    "duration": 84,
    "start_time": "2023-08-11T16:02:10.415Z"
   },
   {
    "duration": 74,
    "start_time": "2023-08-11T16:02:10.502Z"
   },
   {
    "duration": 69,
    "start_time": "2023-08-11T16:02:10.579Z"
   },
   {
    "duration": 35,
    "start_time": "2023-08-11T16:02:10.651Z"
   },
   {
    "duration": 58,
    "start_time": "2023-08-11T16:02:10.688Z"
   },
   {
    "duration": 26,
    "start_time": "2023-08-11T16:02:10.749Z"
   },
   {
    "duration": 42,
    "start_time": "2023-08-11T16:02:10.777Z"
   },
   {
    "duration": 54,
    "start_time": "2023-08-11T16:02:10.823Z"
   },
   {
    "duration": 28,
    "start_time": "2023-08-11T16:02:10.879Z"
   },
   {
    "duration": 48,
    "start_time": "2023-08-11T16:02:10.919Z"
   },
   {
    "duration": 18,
    "start_time": "2023-08-11T16:02:10.969Z"
   },
   {
    "duration": 57,
    "start_time": "2023-08-11T16:02:10.989Z"
   },
   {
    "duration": 4851,
    "start_time": "2023-08-11T16:02:11.048Z"
   },
   {
    "duration": 4,
    "start_time": "2023-08-11T16:02:15.901Z"
   },
   {
    "duration": 1301,
    "start_time": "2023-08-11T16:02:15.907Z"
   },
   {
    "duration": 11,
    "start_time": "2023-08-11T16:02:17.224Z"
   },
   {
    "duration": 91,
    "start_time": "2023-08-11T16:02:17.237Z"
   },
   {
    "duration": 91,
    "start_time": "2023-08-11T16:02:17.333Z"
   },
   {
    "duration": 64,
    "start_time": "2023-08-11T16:02:17.426Z"
   },
   {
    "duration": 83,
    "start_time": "2023-08-11T16:02:17.492Z"
   },
   {
    "duration": 79,
    "start_time": "2023-08-11T16:02:17.578Z"
   },
   {
    "duration": 101,
    "start_time": "2023-08-11T16:02:17.659Z"
   },
   {
    "duration": 57,
    "start_time": "2023-08-11T16:02:17.762Z"
   },
   {
    "duration": 171,
    "start_time": "2023-08-11T16:02:17.821Z"
   },
   {
    "duration": 82,
    "start_time": "2023-08-11T16:02:17.994Z"
   },
   {
    "duration": 24,
    "start_time": "2023-08-11T16:02:18.078Z"
   },
   {
    "duration": 64,
    "start_time": "2023-08-11T16:02:18.104Z"
   },
   {
    "duration": 27,
    "start_time": "2023-08-11T16:02:18.171Z"
   },
   {
    "duration": 66,
    "start_time": "2023-08-11T16:02:18.201Z"
   },
   {
    "duration": 288352,
    "start_time": "2023-08-11T16:02:18.269Z"
   },
   {
    "duration": 11,
    "start_time": "2023-08-11T16:07:06.623Z"
   },
   {
    "duration": 37426,
    "start_time": "2023-08-11T16:07:06.639Z"
   },
   {
    "duration": 6,
    "start_time": "2023-08-11T16:07:44.067Z"
   },
   {
    "duration": 21,
    "start_time": "2023-08-11T16:07:44.075Z"
   },
   {
    "duration": 1262,
    "start_time": "2023-08-11T16:07:44.098Z"
   },
   {
    "duration": 16,
    "start_time": "2023-08-11T16:07:45.366Z"
   },
   {
    "duration": 393,
    "start_time": "2023-08-11T16:07:45.390Z"
   },
   {
    "duration": 2329,
    "start_time": "2023-08-11T16:12:27.557Z"
   },
   {
    "duration": 68,
    "start_time": "2023-08-11T16:12:29.891Z"
   },
   {
    "duration": 88,
    "start_time": "2023-08-11T16:12:29.961Z"
   },
   {
    "duration": 56,
    "start_time": "2023-08-11T16:12:30.052Z"
   },
   {
    "duration": 80,
    "start_time": "2023-08-11T16:12:30.110Z"
   },
   {
    "duration": 59,
    "start_time": "2023-08-11T16:12:30.193Z"
   },
   {
    "duration": 89,
    "start_time": "2023-08-11T16:12:30.255Z"
   },
   {
    "duration": 49,
    "start_time": "2023-08-11T16:12:30.346Z"
   },
   {
    "duration": 59,
    "start_time": "2023-08-11T16:12:30.397Z"
   },
   {
    "duration": 59,
    "start_time": "2023-08-11T16:12:30.459Z"
   },
   {
    "duration": 127,
    "start_time": "2023-08-11T16:12:30.520Z"
   },
   {
    "duration": 98,
    "start_time": "2023-08-11T16:12:30.650Z"
   },
   {
    "duration": 40,
    "start_time": "2023-08-11T16:12:30.750Z"
   },
   {
    "duration": 54,
    "start_time": "2023-08-11T16:12:30.792Z"
   },
   {
    "duration": 96,
    "start_time": "2023-08-11T16:12:30.849Z"
   },
   {
    "duration": 90,
    "start_time": "2023-08-11T16:12:30.947Z"
   },
   {
    "duration": 5060,
    "start_time": "2023-08-11T16:12:31.038Z"
   },
   {
    "duration": 4,
    "start_time": "2023-08-11T16:12:36.100Z"
   },
   {
    "duration": 1017,
    "start_time": "2023-08-11T16:12:36.106Z"
   },
   {
    "duration": 18,
    "start_time": "2023-08-11T16:12:37.128Z"
   },
   {
    "duration": 68,
    "start_time": "2023-08-11T16:12:37.154Z"
   },
   {
    "duration": 70,
    "start_time": "2023-08-11T16:12:37.224Z"
   },
   {
    "duration": 89,
    "start_time": "2023-08-11T16:12:37.296Z"
   },
   {
    "duration": 58,
    "start_time": "2023-08-11T16:12:37.387Z"
   },
   {
    "duration": 30,
    "start_time": "2023-08-11T16:12:37.447Z"
   },
   {
    "duration": 78,
    "start_time": "2023-08-11T16:12:37.480Z"
   },
   {
    "duration": 124,
    "start_time": "2023-08-11T16:12:37.560Z"
   },
   {
    "duration": 167,
    "start_time": "2023-08-11T16:12:37.688Z"
   },
   {
    "duration": 111,
    "start_time": "2023-08-11T16:12:37.857Z"
   },
   {
    "duration": 78,
    "start_time": "2023-08-11T16:12:37.970Z"
   },
   {
    "duration": 55,
    "start_time": "2023-08-11T16:12:38.051Z"
   },
   {
    "duration": 160,
    "start_time": "2023-08-11T16:12:38.108Z"
   },
   {
    "duration": 45,
    "start_time": "2023-08-11T16:12:38.270Z"
   },
   {
    "duration": 302844,
    "start_time": "2023-08-11T16:12:38.319Z"
   },
   {
    "duration": 7,
    "start_time": "2023-08-11T16:17:41.165Z"
   },
   {
    "duration": 37973,
    "start_time": "2023-08-11T16:17:41.173Z"
   },
   {
    "duration": 5,
    "start_time": "2023-08-11T16:18:19.150Z"
   },
   {
    "duration": 94,
    "start_time": "2023-08-11T16:18:19.157Z"
   },
   {
    "duration": 1312,
    "start_time": "2023-08-11T16:18:19.253Z"
   },
   {
    "duration": 5,
    "start_time": "2023-08-11T16:18:20.567Z"
   },
   {
    "duration": 121,
    "start_time": "2023-08-11T16:18:20.574Z"
   },
   {
    "duration": 1086157,
    "start_time": "2023-08-11T16:18:20.696Z"
   },
   {
    "duration": 65,
    "start_time": "2023-08-11T16:36:26.855Z"
   },
   {
    "duration": 37,
    "start_time": "2023-08-11T16:36:26.922Z"
   },
   {
    "duration": 690878,
    "start_time": "2023-08-11T16:36:26.960Z"
   },
   {
    "duration": 6,
    "start_time": "2023-08-11T16:47:57.842Z"
   },
   {
    "duration": 63,
    "start_time": "2023-08-11T16:47:57.851Z"
   },
   {
    "duration": 717227,
    "start_time": "2023-08-11T16:47:57.916Z"
   },
   {
    "duration": 8,
    "start_time": "2023-08-11T16:59:55.145Z"
   },
   {
    "duration": 19,
    "start_time": "2023-08-11T16:59:55.155Z"
   },
   {
    "duration": 42232,
    "start_time": "2023-08-11T16:59:55.176Z"
   },
   {
    "duration": 12,
    "start_time": "2023-08-11T17:00:37.417Z"
   },
   {
    "duration": 31,
    "start_time": "2023-08-11T17:00:37.435Z"
   },
   {
    "duration": 30749,
    "start_time": "2023-08-11T17:00:37.472Z"
   },
   {
    "duration": 8,
    "start_time": "2023-08-11T17:01:08.223Z"
   },
   {
    "duration": 218,
    "start_time": "2023-08-11T17:01:08.237Z"
   },
   {
    "duration": 85357,
    "start_time": "2023-08-11T17:01:08.458Z"
   },
   {
    "duration": 1527,
    "start_time": "2023-08-11T17:02:33.821Z"
   },
   {
    "duration": 13,
    "start_time": "2023-08-11T17:30:07.563Z"
   },
   {
    "duration": 11,
    "start_time": "2023-08-11T17:30:07.955Z"
   },
   {
    "duration": 92951,
    "start_time": "2023-08-11T17:30:08.289Z"
   },
   {
    "duration": 12,
    "start_time": "2023-08-11T17:32:12.029Z"
   },
   {
    "duration": 4,
    "start_time": "2023-08-11T17:32:12.402Z"
   },
   {
    "duration": 88855,
    "start_time": "2023-08-11T17:32:12.782Z"
   },
   {
    "duration": 6,
    "start_time": "2023-08-11T17:33:57.577Z"
   },
   {
    "duration": 22,
    "start_time": "2023-08-11T17:33:57.946Z"
   },
   {
    "duration": 91924,
    "start_time": "2023-08-11T17:33:58.451Z"
   },
   {
    "duration": 4,
    "start_time": "2023-08-11T17:35:50.547Z"
   },
   {
    "duration": 99965,
    "start_time": "2023-08-11T17:35:50.856Z"
   }
  ],
  "kernelspec": {
   "display_name": "Python 3 (ipykernel)",
   "language": "python",
   "name": "python3"
  },
  "language_info": {
   "codemirror_mode": {
    "name": "ipython",
    "version": 3
   },
   "file_extension": ".py",
   "mimetype": "text/x-python",
   "name": "python",
   "nbconvert_exporter": "python",
   "pygments_lexer": "ipython3",
   "version": "3.11.6"
  },
  "toc": {
   "base_numbering": 1,
   "nav_menu": {},
   "number_sections": false,
   "sideBar": true,
   "skip_h1_title": false,
   "title_cell": "Table of Contents",
   "title_sidebar": "Contents",
   "toc_cell": false,
   "toc_position": {},
   "toc_section_display": true,
   "toc_window_display": false
  },
  "varInspector": {
   "cols": {
    "lenName": 16,
    "lenType": 16,
    "lenVar": 40
   },
   "kernels_config": {
    "python": {
     "delete_cmd_postfix": "",
     "delete_cmd_prefix": "del ",
     "library": "var_list.py",
     "varRefreshCmd": "print(var_dic_list())"
    },
    "r": {
     "delete_cmd_postfix": ") ",
     "delete_cmd_prefix": "rm(",
     "library": "var_list.r",
     "varRefreshCmd": "cat(var_dic_list()) "
    }
   },
   "types_to_exclude": [
    "module",
    "function",
    "builtin_function_or_method",
    "instance",
    "_Feature"
   ],
   "window_display": false
  }
 },
 "nbformat": 4,
 "nbformat_minor": 5
}
